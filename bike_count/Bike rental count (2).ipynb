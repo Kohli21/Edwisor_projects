{
 "cells": [
  {
   "cell_type": "markdown",
   "metadata": {},
   "source": [
    "# BIKE RENTING COUNT"
   ]
  },
  {
   "cell_type": "code",
   "execution_count": 2,
   "metadata": {},
   "outputs": [],
   "source": [
    "#Load libraries\n",
    "import os\n",
    "import pandas as pd\n",
    "import numpy as np\n",
    "import matplotlib.pyplot as plt\n",
    "from scipy.stats import chi2_contingency\n",
    "import seaborn as sns\n",
    "from random import randrange, uniform"
   ]
  },
  {
   "cell_type": "code",
   "execution_count": 3,
   "metadata": {},
   "outputs": [
    {
     "data": {
      "text/plain": [
       "'D:\\\\gaggi'"
      ]
     },
     "execution_count": 3,
     "metadata": {},
     "output_type": "execute_result"
    }
   ],
   "source": [
    "#changing the directory\n",
    "os.chdir(\"D:\\gaggi\")\n",
    "os.getcwd()"
   ]
  },
  {
   "cell_type": "code",
   "execution_count": 4,
   "metadata": {},
   "outputs": [
    {
     "data": {
      "text/html": [
       "<div>\n",
       "<style scoped>\n",
       "    .dataframe tbody tr th:only-of-type {\n",
       "        vertical-align: middle;\n",
       "    }\n",
       "\n",
       "    .dataframe tbody tr th {\n",
       "        vertical-align: top;\n",
       "    }\n",
       "\n",
       "    .dataframe thead th {\n",
       "        text-align: right;\n",
       "    }\n",
       "</style>\n",
       "<table border=\"1\" class=\"dataframe\">\n",
       "  <thead>\n",
       "    <tr style=\"text-align: right;\">\n",
       "      <th></th>\n",
       "      <th>instant</th>\n",
       "      <th>dteday</th>\n",
       "      <th>season</th>\n",
       "      <th>yr</th>\n",
       "      <th>mnth</th>\n",
       "      <th>holiday</th>\n",
       "      <th>weekday</th>\n",
       "      <th>workingday</th>\n",
       "      <th>weathersit</th>\n",
       "      <th>temp</th>\n",
       "      <th>atemp</th>\n",
       "      <th>hum</th>\n",
       "      <th>windspeed</th>\n",
       "      <th>casual</th>\n",
       "      <th>registered</th>\n",
       "      <th>cnt</th>\n",
       "    </tr>\n",
       "  </thead>\n",
       "  <tbody>\n",
       "    <tr>\n",
       "      <th>0</th>\n",
       "      <td>1</td>\n",
       "      <td>2011-01-01</td>\n",
       "      <td>1</td>\n",
       "      <td>0</td>\n",
       "      <td>1</td>\n",
       "      <td>0</td>\n",
       "      <td>6</td>\n",
       "      <td>0</td>\n",
       "      <td>2</td>\n",
       "      <td>0.344167</td>\n",
       "      <td>0.363625</td>\n",
       "      <td>0.805833</td>\n",
       "      <td>0.160446</td>\n",
       "      <td>331</td>\n",
       "      <td>654</td>\n",
       "      <td>985</td>\n",
       "    </tr>\n",
       "    <tr>\n",
       "      <th>1</th>\n",
       "      <td>2</td>\n",
       "      <td>2011-01-02</td>\n",
       "      <td>1</td>\n",
       "      <td>0</td>\n",
       "      <td>1</td>\n",
       "      <td>0</td>\n",
       "      <td>0</td>\n",
       "      <td>0</td>\n",
       "      <td>2</td>\n",
       "      <td>0.363478</td>\n",
       "      <td>0.353739</td>\n",
       "      <td>0.696087</td>\n",
       "      <td>0.248539</td>\n",
       "      <td>131</td>\n",
       "      <td>670</td>\n",
       "      <td>801</td>\n",
       "    </tr>\n",
       "    <tr>\n",
       "      <th>2</th>\n",
       "      <td>3</td>\n",
       "      <td>2011-01-03</td>\n",
       "      <td>1</td>\n",
       "      <td>0</td>\n",
       "      <td>1</td>\n",
       "      <td>0</td>\n",
       "      <td>1</td>\n",
       "      <td>1</td>\n",
       "      <td>1</td>\n",
       "      <td>0.196364</td>\n",
       "      <td>0.189405</td>\n",
       "      <td>0.437273</td>\n",
       "      <td>0.248309</td>\n",
       "      <td>120</td>\n",
       "      <td>1229</td>\n",
       "      <td>1349</td>\n",
       "    </tr>\n",
       "    <tr>\n",
       "      <th>3</th>\n",
       "      <td>4</td>\n",
       "      <td>2011-01-04</td>\n",
       "      <td>1</td>\n",
       "      <td>0</td>\n",
       "      <td>1</td>\n",
       "      <td>0</td>\n",
       "      <td>2</td>\n",
       "      <td>1</td>\n",
       "      <td>1</td>\n",
       "      <td>0.200000</td>\n",
       "      <td>0.212122</td>\n",
       "      <td>0.590435</td>\n",
       "      <td>0.160296</td>\n",
       "      <td>108</td>\n",
       "      <td>1454</td>\n",
       "      <td>1562</td>\n",
       "    </tr>\n",
       "    <tr>\n",
       "      <th>4</th>\n",
       "      <td>5</td>\n",
       "      <td>2011-01-05</td>\n",
       "      <td>1</td>\n",
       "      <td>0</td>\n",
       "      <td>1</td>\n",
       "      <td>0</td>\n",
       "      <td>3</td>\n",
       "      <td>1</td>\n",
       "      <td>1</td>\n",
       "      <td>0.226957</td>\n",
       "      <td>0.229270</td>\n",
       "      <td>0.436957</td>\n",
       "      <td>0.186900</td>\n",
       "      <td>82</td>\n",
       "      <td>1518</td>\n",
       "      <td>1600</td>\n",
       "    </tr>\n",
       "  </tbody>\n",
       "</table>\n",
       "</div>"
      ],
      "text/plain": [
       "   instant      dteday  season  yr  mnth  holiday  weekday  workingday  \\\n",
       "0        1  2011-01-01       1   0     1        0        6           0   \n",
       "1        2  2011-01-02       1   0     1        0        0           0   \n",
       "2        3  2011-01-03       1   0     1        0        1           1   \n",
       "3        4  2011-01-04       1   0     1        0        2           1   \n",
       "4        5  2011-01-05       1   0     1        0        3           1   \n",
       "\n",
       "   weathersit      temp     atemp       hum  windspeed  casual  registered  \\\n",
       "0           2  0.344167  0.363625  0.805833   0.160446     331         654   \n",
       "1           2  0.363478  0.353739  0.696087   0.248539     131         670   \n",
       "2           1  0.196364  0.189405  0.437273   0.248309     120        1229   \n",
       "3           1  0.200000  0.212122  0.590435   0.160296     108        1454   \n",
       "4           1  0.226957  0.229270  0.436957   0.186900      82        1518   \n",
       "\n",
       "    cnt  \n",
       "0   985  \n",
       "1   801  \n",
       "2  1349  \n",
       "3  1562  \n",
       "4  1600  "
      ]
     },
     "execution_count": 4,
     "metadata": {},
     "output_type": "execute_result"
    }
   ],
   "source": [
    "#uploading the data set.\n",
    "original=pd.read_csv(\"day.csv\")\n",
    "original.head()"
   ]
  },
  {
   "cell_type": "markdown",
   "metadata": {},
   "source": [
    "# EDA"
   ]
  },
  {
   "cell_type": "code",
   "execution_count": 5,
   "metadata": {},
   "outputs": [],
   "source": [
    "#crating a copy of orignal data for further use \n",
    "bike_data=pd.DataFrame(original)"
   ]
  },
  {
   "cell_type": "code",
   "execution_count": 6,
   "metadata": {},
   "outputs": [
    {
     "data": {
      "text/plain": [
       "pandas.core.frame.DataFrame"
      ]
     },
     "execution_count": 6,
     "metadata": {},
     "output_type": "execute_result"
    }
   ],
   "source": [
    "type(bike_data)"
   ]
  },
  {
   "cell_type": "code",
   "execution_count": 7,
   "metadata": {},
   "outputs": [
    {
     "data": {
      "text/html": [
       "<div>\n",
       "<style scoped>\n",
       "    .dataframe tbody tr th:only-of-type {\n",
       "        vertical-align: middle;\n",
       "    }\n",
       "\n",
       "    .dataframe tbody tr th {\n",
       "        vertical-align: top;\n",
       "    }\n",
       "\n",
       "    .dataframe thead th {\n",
       "        text-align: right;\n",
       "    }\n",
       "</style>\n",
       "<table border=\"1\" class=\"dataframe\">\n",
       "  <thead>\n",
       "    <tr style=\"text-align: right;\">\n",
       "      <th></th>\n",
       "      <th>instant</th>\n",
       "      <th>dteday</th>\n",
       "      <th>season</th>\n",
       "      <th>yr</th>\n",
       "      <th>mnth</th>\n",
       "      <th>holiday</th>\n",
       "      <th>weekday</th>\n",
       "      <th>workingday</th>\n",
       "      <th>weathersit</th>\n",
       "      <th>temp</th>\n",
       "      <th>atemp</th>\n",
       "      <th>hum</th>\n",
       "      <th>windspeed</th>\n",
       "      <th>casual</th>\n",
       "      <th>registered</th>\n",
       "      <th>cnt</th>\n",
       "    </tr>\n",
       "  </thead>\n",
       "  <tbody>\n",
       "    <tr>\n",
       "      <th>0</th>\n",
       "      <td>1</td>\n",
       "      <td>2011-01-01</td>\n",
       "      <td>1</td>\n",
       "      <td>0</td>\n",
       "      <td>1</td>\n",
       "      <td>0</td>\n",
       "      <td>6</td>\n",
       "      <td>0</td>\n",
       "      <td>2</td>\n",
       "      <td>0.344167</td>\n",
       "      <td>0.363625</td>\n",
       "      <td>0.805833</td>\n",
       "      <td>0.160446</td>\n",
       "      <td>331</td>\n",
       "      <td>654</td>\n",
       "      <td>985</td>\n",
       "    </tr>\n",
       "    <tr>\n",
       "      <th>1</th>\n",
       "      <td>2</td>\n",
       "      <td>2011-01-02</td>\n",
       "      <td>1</td>\n",
       "      <td>0</td>\n",
       "      <td>1</td>\n",
       "      <td>0</td>\n",
       "      <td>0</td>\n",
       "      <td>0</td>\n",
       "      <td>2</td>\n",
       "      <td>0.363478</td>\n",
       "      <td>0.353739</td>\n",
       "      <td>0.696087</td>\n",
       "      <td>0.248539</td>\n",
       "      <td>131</td>\n",
       "      <td>670</td>\n",
       "      <td>801</td>\n",
       "    </tr>\n",
       "    <tr>\n",
       "      <th>2</th>\n",
       "      <td>3</td>\n",
       "      <td>2011-01-03</td>\n",
       "      <td>1</td>\n",
       "      <td>0</td>\n",
       "      <td>1</td>\n",
       "      <td>0</td>\n",
       "      <td>1</td>\n",
       "      <td>1</td>\n",
       "      <td>1</td>\n",
       "      <td>0.196364</td>\n",
       "      <td>0.189405</td>\n",
       "      <td>0.437273</td>\n",
       "      <td>0.248309</td>\n",
       "      <td>120</td>\n",
       "      <td>1229</td>\n",
       "      <td>1349</td>\n",
       "    </tr>\n",
       "    <tr>\n",
       "      <th>3</th>\n",
       "      <td>4</td>\n",
       "      <td>2011-01-04</td>\n",
       "      <td>1</td>\n",
       "      <td>0</td>\n",
       "      <td>1</td>\n",
       "      <td>0</td>\n",
       "      <td>2</td>\n",
       "      <td>1</td>\n",
       "      <td>1</td>\n",
       "      <td>0.200000</td>\n",
       "      <td>0.212122</td>\n",
       "      <td>0.590435</td>\n",
       "      <td>0.160296</td>\n",
       "      <td>108</td>\n",
       "      <td>1454</td>\n",
       "      <td>1562</td>\n",
       "    </tr>\n",
       "    <tr>\n",
       "      <th>4</th>\n",
       "      <td>5</td>\n",
       "      <td>2011-01-05</td>\n",
       "      <td>1</td>\n",
       "      <td>0</td>\n",
       "      <td>1</td>\n",
       "      <td>0</td>\n",
       "      <td>3</td>\n",
       "      <td>1</td>\n",
       "      <td>1</td>\n",
       "      <td>0.226957</td>\n",
       "      <td>0.229270</td>\n",
       "      <td>0.436957</td>\n",
       "      <td>0.186900</td>\n",
       "      <td>82</td>\n",
       "      <td>1518</td>\n",
       "      <td>1600</td>\n",
       "    </tr>\n",
       "  </tbody>\n",
       "</table>\n",
       "</div>"
      ],
      "text/plain": [
       "   instant      dteday  season  yr  mnth  holiday  weekday  workingday  \\\n",
       "0        1  2011-01-01       1   0     1        0        6           0   \n",
       "1        2  2011-01-02       1   0     1        0        0           0   \n",
       "2        3  2011-01-03       1   0     1        0        1           1   \n",
       "3        4  2011-01-04       1   0     1        0        2           1   \n",
       "4        5  2011-01-05       1   0     1        0        3           1   \n",
       "\n",
       "   weathersit      temp     atemp       hum  windspeed  casual  registered  \\\n",
       "0           2  0.344167  0.363625  0.805833   0.160446     331         654   \n",
       "1           2  0.363478  0.353739  0.696087   0.248539     131         670   \n",
       "2           1  0.196364  0.189405  0.437273   0.248309     120        1229   \n",
       "3           1  0.200000  0.212122  0.590435   0.160296     108        1454   \n",
       "4           1  0.226957  0.229270  0.436957   0.186900      82        1518   \n",
       "\n",
       "    cnt  \n",
       "0   985  \n",
       "1   801  \n",
       "2  1349  \n",
       "3  1562  \n",
       "4  1600  "
      ]
     },
     "execution_count": 7,
     "metadata": {},
     "output_type": "execute_result"
    }
   ],
   "source": [
    "bike_data.head()"
   ]
  },
  {
   "cell_type": "code",
   "execution_count": 8,
   "metadata": {},
   "outputs": [
    {
     "data": {
      "text/plain": [
       "(731, 16)"
      ]
     },
     "execution_count": 8,
     "metadata": {},
     "output_type": "execute_result"
    }
   ],
   "source": [
    "bike_data.shape"
   ]
  },
  {
   "cell_type": "code",
   "execution_count": 9,
   "metadata": {},
   "outputs": [
    {
     "data": {
      "text/plain": [
       "Index(['instant', 'dteday', 'season', 'yr', 'mnth', 'holiday', 'weekday',\n",
       "       'workingday', 'weathersit', 'temp', 'atemp', 'hum', 'windspeed',\n",
       "       'casual', 'registered', 'cnt'],\n",
       "      dtype='object')"
      ]
     },
     "execution_count": 9,
     "metadata": {},
     "output_type": "execute_result"
    }
   ],
   "source": [
    "bike_data.columns"
   ]
  },
  {
   "cell_type": "code",
   "execution_count": 10,
   "metadata": {},
   "outputs": [
    {
     "data": {
      "text/plain": [
       "instant         int64\n",
       "dteday         object\n",
       "season          int64\n",
       "yr              int64\n",
       "mnth            int64\n",
       "holiday         int64\n",
       "weekday         int64\n",
       "workingday      int64\n",
       "weathersit      int64\n",
       "temp          float64\n",
       "atemp         float64\n",
       "hum           float64\n",
       "windspeed     float64\n",
       "casual          int64\n",
       "registered      int64\n",
       "cnt             int64\n",
       "dtype: object"
      ]
     },
     "execution_count": 10,
     "metadata": {},
     "output_type": "execute_result"
    }
   ],
   "source": [
    "bike_data.dtypes"
   ]
  },
  {
   "cell_type": "code",
   "execution_count": 11,
   "metadata": {},
   "outputs": [
    {
     "data": {
      "text/html": [
       "<div>\n",
       "<style scoped>\n",
       "    .dataframe tbody tr th:only-of-type {\n",
       "        vertical-align: middle;\n",
       "    }\n",
       "\n",
       "    .dataframe tbody tr th {\n",
       "        vertical-align: top;\n",
       "    }\n",
       "\n",
       "    .dataframe thead th {\n",
       "        text-align: right;\n",
       "    }\n",
       "</style>\n",
       "<table border=\"1\" class=\"dataframe\">\n",
       "  <thead>\n",
       "    <tr style=\"text-align: right;\">\n",
       "      <th></th>\n",
       "      <th>instant</th>\n",
       "      <th>season</th>\n",
       "      <th>yr</th>\n",
       "      <th>mnth</th>\n",
       "      <th>holiday</th>\n",
       "      <th>weekday</th>\n",
       "      <th>workingday</th>\n",
       "      <th>weathersit</th>\n",
       "      <th>temp</th>\n",
       "      <th>atemp</th>\n",
       "      <th>hum</th>\n",
       "      <th>windspeed</th>\n",
       "      <th>casual</th>\n",
       "      <th>registered</th>\n",
       "      <th>cnt</th>\n",
       "    </tr>\n",
       "  </thead>\n",
       "  <tbody>\n",
       "    <tr>\n",
       "      <th>count</th>\n",
       "      <td>731.000000</td>\n",
       "      <td>731.000000</td>\n",
       "      <td>731.000000</td>\n",
       "      <td>731.000000</td>\n",
       "      <td>731.000000</td>\n",
       "      <td>731.000000</td>\n",
       "      <td>731.000000</td>\n",
       "      <td>731.000000</td>\n",
       "      <td>731.000000</td>\n",
       "      <td>731.000000</td>\n",
       "      <td>731.000000</td>\n",
       "      <td>731.000000</td>\n",
       "      <td>731.000000</td>\n",
       "      <td>731.000000</td>\n",
       "      <td>731.000000</td>\n",
       "    </tr>\n",
       "    <tr>\n",
       "      <th>mean</th>\n",
       "      <td>366.000000</td>\n",
       "      <td>2.496580</td>\n",
       "      <td>0.500684</td>\n",
       "      <td>6.519836</td>\n",
       "      <td>0.028728</td>\n",
       "      <td>2.997264</td>\n",
       "      <td>0.683995</td>\n",
       "      <td>1.395349</td>\n",
       "      <td>0.495385</td>\n",
       "      <td>0.474354</td>\n",
       "      <td>0.627894</td>\n",
       "      <td>0.190486</td>\n",
       "      <td>848.176471</td>\n",
       "      <td>3656.172367</td>\n",
       "      <td>4504.348837</td>\n",
       "    </tr>\n",
       "    <tr>\n",
       "      <th>std</th>\n",
       "      <td>211.165812</td>\n",
       "      <td>1.110807</td>\n",
       "      <td>0.500342</td>\n",
       "      <td>3.451913</td>\n",
       "      <td>0.167155</td>\n",
       "      <td>2.004787</td>\n",
       "      <td>0.465233</td>\n",
       "      <td>0.544894</td>\n",
       "      <td>0.183051</td>\n",
       "      <td>0.162961</td>\n",
       "      <td>0.142429</td>\n",
       "      <td>0.077498</td>\n",
       "      <td>686.622488</td>\n",
       "      <td>1560.256377</td>\n",
       "      <td>1937.211452</td>\n",
       "    </tr>\n",
       "    <tr>\n",
       "      <th>min</th>\n",
       "      <td>1.000000</td>\n",
       "      <td>1.000000</td>\n",
       "      <td>0.000000</td>\n",
       "      <td>1.000000</td>\n",
       "      <td>0.000000</td>\n",
       "      <td>0.000000</td>\n",
       "      <td>0.000000</td>\n",
       "      <td>1.000000</td>\n",
       "      <td>0.059130</td>\n",
       "      <td>0.079070</td>\n",
       "      <td>0.000000</td>\n",
       "      <td>0.022392</td>\n",
       "      <td>2.000000</td>\n",
       "      <td>20.000000</td>\n",
       "      <td>22.000000</td>\n",
       "    </tr>\n",
       "    <tr>\n",
       "      <th>25%</th>\n",
       "      <td>183.500000</td>\n",
       "      <td>2.000000</td>\n",
       "      <td>0.000000</td>\n",
       "      <td>4.000000</td>\n",
       "      <td>0.000000</td>\n",
       "      <td>1.000000</td>\n",
       "      <td>0.000000</td>\n",
       "      <td>1.000000</td>\n",
       "      <td>0.337083</td>\n",
       "      <td>0.337842</td>\n",
       "      <td>0.520000</td>\n",
       "      <td>0.134950</td>\n",
       "      <td>315.500000</td>\n",
       "      <td>2497.000000</td>\n",
       "      <td>3152.000000</td>\n",
       "    </tr>\n",
       "    <tr>\n",
       "      <th>50%</th>\n",
       "      <td>366.000000</td>\n",
       "      <td>3.000000</td>\n",
       "      <td>1.000000</td>\n",
       "      <td>7.000000</td>\n",
       "      <td>0.000000</td>\n",
       "      <td>3.000000</td>\n",
       "      <td>1.000000</td>\n",
       "      <td>1.000000</td>\n",
       "      <td>0.498333</td>\n",
       "      <td>0.486733</td>\n",
       "      <td>0.626667</td>\n",
       "      <td>0.180975</td>\n",
       "      <td>713.000000</td>\n",
       "      <td>3662.000000</td>\n",
       "      <td>4548.000000</td>\n",
       "    </tr>\n",
       "    <tr>\n",
       "      <th>75%</th>\n",
       "      <td>548.500000</td>\n",
       "      <td>3.000000</td>\n",
       "      <td>1.000000</td>\n",
       "      <td>10.000000</td>\n",
       "      <td>0.000000</td>\n",
       "      <td>5.000000</td>\n",
       "      <td>1.000000</td>\n",
       "      <td>2.000000</td>\n",
       "      <td>0.655417</td>\n",
       "      <td>0.608602</td>\n",
       "      <td>0.730209</td>\n",
       "      <td>0.233214</td>\n",
       "      <td>1096.000000</td>\n",
       "      <td>4776.500000</td>\n",
       "      <td>5956.000000</td>\n",
       "    </tr>\n",
       "    <tr>\n",
       "      <th>max</th>\n",
       "      <td>731.000000</td>\n",
       "      <td>4.000000</td>\n",
       "      <td>1.000000</td>\n",
       "      <td>12.000000</td>\n",
       "      <td>1.000000</td>\n",
       "      <td>6.000000</td>\n",
       "      <td>1.000000</td>\n",
       "      <td>3.000000</td>\n",
       "      <td>0.861667</td>\n",
       "      <td>0.840896</td>\n",
       "      <td>0.972500</td>\n",
       "      <td>0.507463</td>\n",
       "      <td>3410.000000</td>\n",
       "      <td>6946.000000</td>\n",
       "      <td>8714.000000</td>\n",
       "    </tr>\n",
       "  </tbody>\n",
       "</table>\n",
       "</div>"
      ],
      "text/plain": [
       "          instant      season          yr        mnth     holiday     weekday  \\\n",
       "count  731.000000  731.000000  731.000000  731.000000  731.000000  731.000000   \n",
       "mean   366.000000    2.496580    0.500684    6.519836    0.028728    2.997264   \n",
       "std    211.165812    1.110807    0.500342    3.451913    0.167155    2.004787   \n",
       "min      1.000000    1.000000    0.000000    1.000000    0.000000    0.000000   \n",
       "25%    183.500000    2.000000    0.000000    4.000000    0.000000    1.000000   \n",
       "50%    366.000000    3.000000    1.000000    7.000000    0.000000    3.000000   \n",
       "75%    548.500000    3.000000    1.000000   10.000000    0.000000    5.000000   \n",
       "max    731.000000    4.000000    1.000000   12.000000    1.000000    6.000000   \n",
       "\n",
       "       workingday  weathersit        temp       atemp         hum   windspeed  \\\n",
       "count  731.000000  731.000000  731.000000  731.000000  731.000000  731.000000   \n",
       "mean     0.683995    1.395349    0.495385    0.474354    0.627894    0.190486   \n",
       "std      0.465233    0.544894    0.183051    0.162961    0.142429    0.077498   \n",
       "min      0.000000    1.000000    0.059130    0.079070    0.000000    0.022392   \n",
       "25%      0.000000    1.000000    0.337083    0.337842    0.520000    0.134950   \n",
       "50%      1.000000    1.000000    0.498333    0.486733    0.626667    0.180975   \n",
       "75%      1.000000    2.000000    0.655417    0.608602    0.730209    0.233214   \n",
       "max      1.000000    3.000000    0.861667    0.840896    0.972500    0.507463   \n",
       "\n",
       "            casual   registered          cnt  \n",
       "count   731.000000   731.000000   731.000000  \n",
       "mean    848.176471  3656.172367  4504.348837  \n",
       "std     686.622488  1560.256377  1937.211452  \n",
       "min       2.000000    20.000000    22.000000  \n",
       "25%     315.500000  2497.000000  3152.000000  \n",
       "50%     713.000000  3662.000000  4548.000000  \n",
       "75%    1096.000000  4776.500000  5956.000000  \n",
       "max    3410.000000  6946.000000  8714.000000  "
      ]
     },
     "execution_count": 11,
     "metadata": {},
     "output_type": "execute_result"
    }
   ],
   "source": [
    "bike_data.describe()"
   ]
  },
  {
   "cell_type": "code",
   "execution_count": 12,
   "metadata": {},
   "outputs": [
    {
     "data": {
      "text/html": [
       "<div>\n",
       "<style scoped>\n",
       "    .dataframe tbody tr th:only-of-type {\n",
       "        vertical-align: middle;\n",
       "    }\n",
       "\n",
       "    .dataframe tbody tr th {\n",
       "        vertical-align: top;\n",
       "    }\n",
       "\n",
       "    .dataframe thead th {\n",
       "        text-align: right;\n",
       "    }\n",
       "</style>\n",
       "<table border=\"1\" class=\"dataframe\">\n",
       "  <thead>\n",
       "    <tr style=\"text-align: right;\">\n",
       "      <th></th>\n",
       "      <th>date-day</th>\n",
       "      <th>season</th>\n",
       "      <th>year</th>\n",
       "      <th>month</th>\n",
       "      <th>holiday</th>\n",
       "      <th>weekday</th>\n",
       "      <th>working day</th>\n",
       "      <th>weather situation</th>\n",
       "      <th>temperature</th>\n",
       "      <th>temperature felt</th>\n",
       "      <th>humidity</th>\n",
       "      <th>windspeed</th>\n",
       "      <th>casual user</th>\n",
       "      <th>registered user</th>\n",
       "      <th>count of bike users</th>\n",
       "    </tr>\n",
       "  </thead>\n",
       "  <tbody>\n",
       "    <tr>\n",
       "      <th>0</th>\n",
       "      <td>2011-01-01</td>\n",
       "      <td>1</td>\n",
       "      <td>0</td>\n",
       "      <td>1</td>\n",
       "      <td>0</td>\n",
       "      <td>6</td>\n",
       "      <td>0</td>\n",
       "      <td>2</td>\n",
       "      <td>0.344167</td>\n",
       "      <td>0.363625</td>\n",
       "      <td>0.805833</td>\n",
       "      <td>0.160446</td>\n",
       "      <td>331</td>\n",
       "      <td>654</td>\n",
       "      <td>985</td>\n",
       "    </tr>\n",
       "    <tr>\n",
       "      <th>1</th>\n",
       "      <td>2011-01-02</td>\n",
       "      <td>1</td>\n",
       "      <td>0</td>\n",
       "      <td>1</td>\n",
       "      <td>0</td>\n",
       "      <td>0</td>\n",
       "      <td>0</td>\n",
       "      <td>2</td>\n",
       "      <td>0.363478</td>\n",
       "      <td>0.353739</td>\n",
       "      <td>0.696087</td>\n",
       "      <td>0.248539</td>\n",
       "      <td>131</td>\n",
       "      <td>670</td>\n",
       "      <td>801</td>\n",
       "    </tr>\n",
       "    <tr>\n",
       "      <th>2</th>\n",
       "      <td>2011-01-03</td>\n",
       "      <td>1</td>\n",
       "      <td>0</td>\n",
       "      <td>1</td>\n",
       "      <td>0</td>\n",
       "      <td>1</td>\n",
       "      <td>1</td>\n",
       "      <td>1</td>\n",
       "      <td>0.196364</td>\n",
       "      <td>0.189405</td>\n",
       "      <td>0.437273</td>\n",
       "      <td>0.248309</td>\n",
       "      <td>120</td>\n",
       "      <td>1229</td>\n",
       "      <td>1349</td>\n",
       "    </tr>\n",
       "    <tr>\n",
       "      <th>3</th>\n",
       "      <td>2011-01-04</td>\n",
       "      <td>1</td>\n",
       "      <td>0</td>\n",
       "      <td>1</td>\n",
       "      <td>0</td>\n",
       "      <td>2</td>\n",
       "      <td>1</td>\n",
       "      <td>1</td>\n",
       "      <td>0.200000</td>\n",
       "      <td>0.212122</td>\n",
       "      <td>0.590435</td>\n",
       "      <td>0.160296</td>\n",
       "      <td>108</td>\n",
       "      <td>1454</td>\n",
       "      <td>1562</td>\n",
       "    </tr>\n",
       "    <tr>\n",
       "      <th>4</th>\n",
       "      <td>2011-01-05</td>\n",
       "      <td>1</td>\n",
       "      <td>0</td>\n",
       "      <td>1</td>\n",
       "      <td>0</td>\n",
       "      <td>3</td>\n",
       "      <td>1</td>\n",
       "      <td>1</td>\n",
       "      <td>0.226957</td>\n",
       "      <td>0.229270</td>\n",
       "      <td>0.436957</td>\n",
       "      <td>0.186900</td>\n",
       "      <td>82</td>\n",
       "      <td>1518</td>\n",
       "      <td>1600</td>\n",
       "    </tr>\n",
       "  </tbody>\n",
       "</table>\n",
       "</div>"
      ],
      "text/plain": [
       "     date-day  season  year  month  holiday  weekday  working day  \\\n",
       "0  2011-01-01       1     0      1        0        6            0   \n",
       "1  2011-01-02       1     0      1        0        0            0   \n",
       "2  2011-01-03       1     0      1        0        1            1   \n",
       "3  2011-01-04       1     0      1        0        2            1   \n",
       "4  2011-01-05       1     0      1        0        3            1   \n",
       "\n",
       "   weather situation  temperature  temperature felt  humidity  windspeed  \\\n",
       "0                  2     0.344167          0.363625  0.805833   0.160446   \n",
       "1                  2     0.363478          0.353739  0.696087   0.248539   \n",
       "2                  1     0.196364          0.189405  0.437273   0.248309   \n",
       "3                  1     0.200000          0.212122  0.590435   0.160296   \n",
       "4                  1     0.226957          0.229270  0.436957   0.186900   \n",
       "\n",
       "   casual user  registered user  count of bike users  \n",
       "0          331              654                  985  \n",
       "1          131              670                  801  \n",
       "2          120             1229                 1349  \n",
       "3          108             1454                 1562  \n",
       "4           82             1518                 1600  "
      ]
     },
     "execution_count": 12,
     "metadata": {},
     "output_type": "execute_result"
    }
   ],
   "source": [
    "#as we can see instant variable is just numbering nd has no use in further data analysis\n",
    "bike_data=bike_data.drop([\"instant\"],axis=1)\n",
    "#also renaming the colums for better visability.\n",
    "bike_data.rename(columns={\"dteday\":\"date-day\",\"yr\":\"year\",\"mnth\":\"month\",\"workingday\":\"working day\",\"weathersit\":\"weather situation\",\"temp\":\"temperature\",\"atemp\":\"temperature felt\",\"hum\":\"humidity\",\"casual\":\"casual user\",\"registered\":\"registered user\",\"cnt\":\"count of bike users\"},inplace=True)\n",
    "bike_data.head()"
   ]
  },
  {
   "cell_type": "code",
   "execution_count": 13,
   "metadata": {},
   "outputs": [
    {
     "data": {
      "text/plain": [
       "count     731.000000\n",
       "mean     4504.348837\n",
       "std      1937.211452\n",
       "min        22.000000\n",
       "25%      3152.000000\n",
       "50%      4548.000000\n",
       "75%      5956.000000\n",
       "max      8714.000000\n",
       "Name: count of bike users, dtype: float64"
      ]
     },
     "execution_count": 13,
     "metadata": {},
     "output_type": "execute_result"
    }
   ],
   "source": [
    "#target variable\n",
    "bike_data[\"count of bike users\"].describe()"
   ]
  },
  {
   "cell_type": "code",
   "execution_count": 14,
   "metadata": {},
   "outputs": [
    {
     "name": "stderr",
     "output_type": "stream",
     "text": [
      "C:\\Users\\hp\\Anaconda3\\lib\\site-packages\\scipy\\stats\\stats.py:1713: FutureWarning: Using a non-tuple sequence for multidimensional indexing is deprecated; use `arr[tuple(seq)]` instead of `arr[seq]`. In the future this will be interpreted as an array index, `arr[np.array(seq)]`, which will result either in an error or a different result.\n",
      "  return np.add.reduce(sorted[indexer] * weights, axis=axis) / sumval\n"
     ]
    },
    {
     "data": {
      "text/plain": [
       "<matplotlib.axes._subplots.AxesSubplot at 0x1942c2c8c88>"
      ]
     },
     "execution_count": 14,
     "metadata": {},
     "output_type": "execute_result"
    },
    {
     "data": {
      "image/png": "[encoded data removed]",
      "text/plain": [
       "<Figure size 432x288 with 1 Axes>"
      ]
     },
     "metadata": {
      "needs_background": "light"
     },
     "output_type": "display_data"
    }
   ],
   "source": [
    "#Checking whether target variable is normal or not\n",
    "sns.distplot(bike_data[\"count of bike users\"],color=\"g\")"
   ]
  },
  {
   "cell_type": "code",
   "execution_count": 15,
   "metadata": {},
   "outputs": [
    {
     "name": "stdout",
     "output_type": "stream",
     "text": [
      "Skewness: -0.047353\n",
      "Kurtosis: -0.811922\n"
     ]
    }
   ],
   "source": [
    "#Here Skewness is very less so target variable  is normal distribution\n",
    "print(\"Skewness: %f\" % bike_data['count of bike users'].skew())\n",
    "print(\"Kurtosis: %f\" % bike_data['count of bike users'].kurt())"
   ]
  },
  {
   "cell_type": "markdown",
   "metadata": {},
   "source": [
    "##univariant analysis"
   ]
  },
  {
   "cell_type": "code",
   "execution_count": 16,
   "metadata": {},
   "outputs": [
    {
     "data": {
      "text/plain": [
       "count    731.000000\n",
       "mean       0.495385\n",
       "std        0.183051\n",
       "min        0.059130\n",
       "25%        0.337083\n",
       "50%        0.498333\n",
       "75%        0.655417\n",
       "max        0.861667\n",
       "Name: temperature, dtype: float64"
      ]
     },
     "execution_count": 16,
     "metadata": {},
     "output_type": "execute_result"
    }
   ],
   "source": [
    "#starting with numerical variables\n",
    "#temperature\n",
    "bike_data[\"temperature\"].describe()"
   ]
  },
  {
   "cell_type": "code",
   "execution_count": 17,
   "metadata": {},
   "outputs": [
    {
     "data": {
      "text/plain": [
       "<matplotlib.axes._subplots.AxesSubplot at 0x1942c647400>"
      ]
     },
     "execution_count": 17,
     "metadata": {},
     "output_type": "execute_result"
    },
    {
     "data": {
      "image/png": "[encoded data removed]",
      "text/plain": [
       "<Figure size 432x288 with 1 Axes>"
      ]
     },
     "metadata": {
      "needs_background": "light"
     },
     "output_type": "display_data"
    }
   ],
   "source": [
    "sns.distplot(bike_data[\"temperature\"],color=\"g\")"
   ]
  },
  {
   "cell_type": "code",
   "execution_count": 18,
   "metadata": {},
   "outputs": [
    {
     "data": {
      "text/plain": [
       "count    731.000000\n",
       "mean       0.474354\n",
       "std        0.162961\n",
       "min        0.079070\n",
       "25%        0.337842\n",
       "50%        0.486733\n",
       "75%        0.608602\n",
       "max        0.840896\n",
       "Name: temperature felt, dtype: float64"
      ]
     },
     "execution_count": 18,
     "metadata": {},
     "output_type": "execute_result"
    }
   ],
   "source": [
    "#temperature felt\n",
    "bike_data[\"temperature felt\"].describe()"
   ]
  },
  {
   "cell_type": "code",
   "execution_count": 19,
   "metadata": {},
   "outputs": [
    {
     "data": {
      "text/plain": [
       "<matplotlib.axes._subplots.AxesSubplot at 0x1942c6e1da0>"
      ]
     },
     "execution_count": 19,
     "metadata": {},
     "output_type": "execute_result"
    },
    {
     "data": {
      "image/png": "[encoded data removed]",
      "text/plain": [
       "<Figure size 432x288 with 1 Axes>"
      ]
     },
     "metadata": {
      "needs_background": "light"
     },
     "output_type": "display_data"
    }
   ],
   "source": [
    "sns.distplot(bike_data[\"temperature felt\"],color=\"g\")"
   ]
  },
  {
   "cell_type": "code",
   "execution_count": 20,
   "metadata": {},
   "outputs": [
    {
     "data": {
      "text/plain": [
       "count    731.000000\n",
       "mean       0.627894\n",
       "std        0.142429\n",
       "min        0.000000\n",
       "25%        0.520000\n",
       "50%        0.626667\n",
       "75%        0.730209\n",
       "max        0.972500\n",
       "Name: humidity, dtype: float64"
      ]
     },
     "execution_count": 20,
     "metadata": {},
     "output_type": "execute_result"
    }
   ],
   "source": [
    "#humidity\n",
    "bike_data[\"humidity\"].describe()"
   ]
  },
  {
   "cell_type": "code",
   "execution_count": 21,
   "metadata": {},
   "outputs": [
    {
     "data": {
      "text/plain": [
       "<matplotlib.axes._subplots.AxesSubplot at 0x1942c754630>"
      ]
     },
     "execution_count": 21,
     "metadata": {},
     "output_type": "execute_result"
    },
    {
     "data": {
      "image/png": "[encoded data removed]",
      "text/plain": [
       "<Figure size 432x288 with 1 Axes>"
      ]
     },
     "metadata": {
      "needs_background": "light"
     },
     "output_type": "display_data"
    }
   ],
   "source": [
    "sns.distplot(bike_data[\"humidity\"],color=\"g\")"
   ]
  },
  {
   "cell_type": "code",
   "execution_count": 22,
   "metadata": {},
   "outputs": [
    {
     "data": {
      "text/plain": [
       "count    731.000000\n",
       "mean       0.190486\n",
       "std        0.077498\n",
       "min        0.022392\n",
       "25%        0.134950\n",
       "50%        0.180975\n",
       "75%        0.233214\n",
       "max        0.507463\n",
       "Name: windspeed, dtype: float64"
      ]
     },
     "execution_count": 22,
     "metadata": {},
     "output_type": "execute_result"
    }
   ],
   "source": [
    "#windspeed\n",
    "bike_data[\"windspeed\"].describe()"
   ]
  },
  {
   "cell_type": "code",
   "execution_count": 23,
   "metadata": {},
   "outputs": [
    {
     "data": {
      "text/plain": [
       "<matplotlib.axes._subplots.AxesSubplot at 0x1942c7dec50>"
      ]
     },
     "execution_count": 23,
     "metadata": {},
     "output_type": "execute_result"
    },
    {
     "data": {
      "image/png": "[encoded data removed]",
      "text/plain": [
       "<Figure size 432x288 with 1 Axes>"
      ]
     },
     "metadata": {
      "needs_background": "light"
     },
     "output_type": "display_data"
    }
   ],
   "source": [
    "sns.distplot(bike_data[\"windspeed\"],color=\"g\")"
   ]
  },
  {
   "cell_type": "code",
   "execution_count": 24,
   "metadata": {},
   "outputs": [
    {
     "data": {
      "text/plain": [
       "count     731.000000\n",
       "mean      848.176471\n",
       "std       686.622488\n",
       "min         2.000000\n",
       "25%       315.500000\n",
       "50%       713.000000\n",
       "75%      1096.000000\n",
       "max      3410.000000\n",
       "Name: casual user, dtype: float64"
      ]
     },
     "execution_count": 24,
     "metadata": {},
     "output_type": "execute_result"
    }
   ],
   "source": [
    "#casual user\n",
    "bike_data[\"casual user\"].describe()"
   ]
  },
  {
   "cell_type": "code",
   "execution_count": 25,
   "metadata": {},
   "outputs": [
    {
     "data": {
      "text/plain": [
       "<matplotlib.axes._subplots.AxesSubplot at 0x1942c74c4e0>"
      ]
     },
     "execution_count": 25,
     "metadata": {},
     "output_type": "execute_result"
    },
    {
     "data": {
      "image/png": "[encoded data removed]",
      "text/plain": [
       "<Figure size 432x288 with 1 Axes>"
      ]
     },
     "metadata": {
      "needs_background": "light"
     },
     "output_type": "display_data"
    }
   ],
   "source": [
    "sns.distplot(bike_data[\"casual user\"],color=\"g\")"
   ]
  },
  {
   "cell_type": "code",
   "execution_count": 26,
   "metadata": {},
   "outputs": [
    {
     "data": {
      "text/plain": [
       "count     731.000000\n",
       "mean     3656.172367\n",
       "std      1560.256377\n",
       "min        20.000000\n",
       "25%      2497.000000\n",
       "50%      3662.000000\n",
       "75%      4776.500000\n",
       "max      6946.000000\n",
       "Name: registered user, dtype: float64"
      ]
     },
     "execution_count": 26,
     "metadata": {},
     "output_type": "execute_result"
    }
   ],
   "source": [
    "#registered users\n",
    "bike_data[\"registered user\"].describe()"
   ]
  },
  {
   "cell_type": "code",
   "execution_count": 27,
   "metadata": {},
   "outputs": [
    {
     "data": {
      "text/plain": [
       "<matplotlib.axes._subplots.AxesSubplot at 0x1942c8ceeb8>"
      ]
     },
     "execution_count": 27,
     "metadata": {},
     "output_type": "execute_result"
    },
    {
     "data": {
      "image/png": "[encoded data removed]",
      "text/plain": [
       "<Figure size 432x288 with 1 Axes>"
      ]
     },
     "metadata": {
      "needs_background": "light"
     },
     "output_type": "display_data"
    }
   ],
   "source": [
    "sns.distplot(bike_data[\"registered user\"],color=\"g\")"
   ]
  },
  {
   "cell_type": "code",
   "execution_count": 28,
   "metadata": {},
   "outputs": [
    {
     "data": {
      "text/html": [
       "<div>\n",
       "<style scoped>\n",
       "    .dataframe tbody tr th:only-of-type {\n",
       "        vertical-align: middle;\n",
       "    }\n",
       "\n",
       "    .dataframe tbody tr th {\n",
       "        vertical-align: top;\n",
       "    }\n",
       "\n",
       "    .dataframe thead th {\n",
       "        text-align: right;\n",
       "    }\n",
       "</style>\n",
       "<table border=\"1\" class=\"dataframe\">\n",
       "  <thead>\n",
       "    <tr style=\"text-align: right;\">\n",
       "      <th></th>\n",
       "      <th>date-day</th>\n",
       "      <th>season</th>\n",
       "      <th>year</th>\n",
       "      <th>month</th>\n",
       "      <th>holiday</th>\n",
       "      <th>weekday</th>\n",
       "      <th>working day</th>\n",
       "      <th>weather situation</th>\n",
       "      <th>temperature</th>\n",
       "      <th>temperature felt</th>\n",
       "      <th>humidity</th>\n",
       "      <th>windspeed</th>\n",
       "      <th>casual user</th>\n",
       "      <th>registered user</th>\n",
       "      <th>count of bike users</th>\n",
       "    </tr>\n",
       "  </thead>\n",
       "  <tbody>\n",
       "    <tr>\n",
       "      <th>0</th>\n",
       "      <td>2011-01-01</td>\n",
       "      <td>1</td>\n",
       "      <td>0</td>\n",
       "      <td>1</td>\n",
       "      <td>0</td>\n",
       "      <td>6</td>\n",
       "      <td>0</td>\n",
       "      <td>2</td>\n",
       "      <td>0.344167</td>\n",
       "      <td>0.363625</td>\n",
       "      <td>0.805833</td>\n",
       "      <td>0.160446</td>\n",
       "      <td>331</td>\n",
       "      <td>654</td>\n",
       "      <td>985</td>\n",
       "    </tr>\n",
       "    <tr>\n",
       "      <th>1</th>\n",
       "      <td>2011-01-02</td>\n",
       "      <td>1</td>\n",
       "      <td>0</td>\n",
       "      <td>1</td>\n",
       "      <td>0</td>\n",
       "      <td>0</td>\n",
       "      <td>0</td>\n",
       "      <td>2</td>\n",
       "      <td>0.363478</td>\n",
       "      <td>0.353739</td>\n",
       "      <td>0.696087</td>\n",
       "      <td>0.248539</td>\n",
       "      <td>131</td>\n",
       "      <td>670</td>\n",
       "      <td>801</td>\n",
       "    </tr>\n",
       "    <tr>\n",
       "      <th>2</th>\n",
       "      <td>2011-01-03</td>\n",
       "      <td>1</td>\n",
       "      <td>0</td>\n",
       "      <td>1</td>\n",
       "      <td>0</td>\n",
       "      <td>1</td>\n",
       "      <td>1</td>\n",
       "      <td>1</td>\n",
       "      <td>0.196364</td>\n",
       "      <td>0.189405</td>\n",
       "      <td>0.437273</td>\n",
       "      <td>0.248309</td>\n",
       "      <td>120</td>\n",
       "      <td>1229</td>\n",
       "      <td>1349</td>\n",
       "    </tr>\n",
       "    <tr>\n",
       "      <th>3</th>\n",
       "      <td>2011-01-04</td>\n",
       "      <td>1</td>\n",
       "      <td>0</td>\n",
       "      <td>1</td>\n",
       "      <td>0</td>\n",
       "      <td>2</td>\n",
       "      <td>1</td>\n",
       "      <td>1</td>\n",
       "      <td>0.200000</td>\n",
       "      <td>0.212122</td>\n",
       "      <td>0.590435</td>\n",
       "      <td>0.160296</td>\n",
       "      <td>108</td>\n",
       "      <td>1454</td>\n",
       "      <td>1562</td>\n",
       "    </tr>\n",
       "    <tr>\n",
       "      <th>4</th>\n",
       "      <td>2011-01-05</td>\n",
       "      <td>1</td>\n",
       "      <td>0</td>\n",
       "      <td>1</td>\n",
       "      <td>0</td>\n",
       "      <td>3</td>\n",
       "      <td>1</td>\n",
       "      <td>1</td>\n",
       "      <td>0.226957</td>\n",
       "      <td>0.229270</td>\n",
       "      <td>0.436957</td>\n",
       "      <td>0.186900</td>\n",
       "      <td>82</td>\n",
       "      <td>1518</td>\n",
       "      <td>1600</td>\n",
       "    </tr>\n",
       "  </tbody>\n",
       "</table>\n",
       "</div>"
      ],
      "text/plain": [
       "     date-day  season  year  month  holiday  weekday  working day  \\\n",
       "0  2011-01-01       1     0      1        0        6            0   \n",
       "1  2011-01-02       1     0      1        0        0            0   \n",
       "2  2011-01-03       1     0      1        0        1            1   \n",
       "3  2011-01-04       1     0      1        0        2            1   \n",
       "4  2011-01-05       1     0      1        0        3            1   \n",
       "\n",
       "   weather situation  temperature  temperature felt  humidity  windspeed  \\\n",
       "0                  2     0.344167          0.363625  0.805833   0.160446   \n",
       "1                  2     0.363478          0.353739  0.696087   0.248539   \n",
       "2                  1     0.196364          0.189405  0.437273   0.248309   \n",
       "3                  1     0.200000          0.212122  0.590435   0.160296   \n",
       "4                  1     0.226957          0.229270  0.436957   0.186900   \n",
       "\n",
       "   casual user  registered user  count of bike users  \n",
       "0          331              654                  985  \n",
       "1          131              670                  801  \n",
       "2          120             1229                 1349  \n",
       "3          108             1454                 1562  \n",
       "4           82             1518                 1600  "
      ]
     },
     "execution_count": 28,
     "metadata": {},
     "output_type": "execute_result"
    }
   ],
   "source": [
    "bike_data.head()"
   ]
  },
  {
   "cell_type": "code",
   "execution_count": 29,
   "metadata": {},
   "outputs": [
    {
     "data": {
      "image/png": "[encoded data removed]",
      "text/plain": [
       "<Figure size 432x288 with 1 Axes>"
      ]
     },
     "metadata": {
      "needs_background": "light"
     },
     "output_type": "display_data"
    }
   ],
   "source": [
    "#Bivariate  Relationship\n",
    "#relation between Numerical Variable 'temperature' and target variable 'count of bike users'\n",
    "#Now draw scatter plot between 'temperature' and 'count of bike users' variables\n",
    "\n",
    "data = pd.concat([bike_data['temperature'], bike_data[\"count of bike users\"]], axis=1)\n",
    "data.plot.scatter(x='temperature', y='count of bike users', ylim=(0,9000),c='r');\n",
    "\n",
    "# It is showing  there is good relation between 'temperature' and 'count of bike users'"
   ]
  },
  {
   "cell_type": "code",
   "execution_count": 30,
   "metadata": {
    "scrolled": true
   },
   "outputs": [
    {
     "data": {
      "image/png": "[encoded data removed]",
      "text/plain": [
       "<Figure size 432x288 with 1 Axes>"
      ]
     },
     "metadata": {
      "needs_background": "light"
     },
     "output_type": "display_data"
    }
   ],
   "source": [
    "#Now draw scatter plot between 'temperature felt' and 'count of bike users' variables\n",
    "\n",
    "data = pd.concat([bike_data['temperature felt'], bike_data[\"count of bike users\"]], axis=1)\n",
    "data.plot.scatter(x='temperature felt', y='count of bike users', ylim=(0,9000),c='r');\n",
    "\n",
    "# It is showing  there is good relation between 'temperature felt' and 'count of bike users'"
   ]
  },
  {
   "cell_type": "code",
   "execution_count": 31,
   "metadata": {},
   "outputs": [
    {
     "data": {
      "image/png": "[encoded data removed]",
      "text/plain": [
       "<Figure size 432x288 with 1 Axes>"
      ]
     },
     "metadata": {
      "needs_background": "light"
     },
     "output_type": "display_data"
    }
   ],
   "source": [
    "#Now draw scatter plot between 'Humidity' and 'count of bike users' variables\n",
    "\n",
    "data = pd.concat([bike_data['humidity'], bike_data[\"count of bike users\"]], axis=1)\n",
    "data.plot.scatter(x='humidity', y='count of bike users', ylim=(0,9000),c='r');\n",
    "\n",
    "# It is showing  there is an average relation between 'humidity' and 'count of bike users'"
   ]
  },
  {
   "cell_type": "code",
   "execution_count": 32,
   "metadata": {},
   "outputs": [
    {
     "data": {
      "image/png": "[encoded data removed]",
      "text/plain": [
       "<Figure size 432x288 with 1 Axes>"
      ]
     },
     "metadata": {
      "needs_background": "light"
     },
     "output_type": "display_data"
    }
   ],
   "source": [
    "#Now draw scatter plot between 'windspeed' and 'count of bike users' variables\n",
    "\n",
    "data = pd.concat([bike_data['windspeed'], bike_data[\"count of bike users\"]], axis=1)\n",
    "data.plot.scatter(x='windspeed', y='count of bike users', ylim=(0,9000),c='r');\n",
    "\n",
    "# It is showing  there is an negitive relation between 'windspeed' and 'count of bike users'"
   ]
  },
  {
   "cell_type": "code",
   "execution_count": 33,
   "metadata": {},
   "outputs": [
    {
     "data": {
      "image/png": "[encoded data removed]",
      "text/plain": [
       "<Figure size 576x432 with 1 Axes>"
      ]
     },
     "metadata": {
      "needs_background": "light"
     },
     "output_type": "display_data"
    }
   ],
   "source": [
    "\n",
    "#box plot 'Weekdays' with 'CNT'\n",
    "var_weekdays = 'weekday'\n",
    "data = pd.concat([bike_data['count of bike users'], bike_data[var_weekdays]], axis=1)\n",
    "f, ax = plt.subplots(figsize=(8, 6))\n",
    "fig = sns.boxplot(x=var_weekdays, y=\"count of bike users\", data=data)\n",
    "fig.axis(ymin=0, ymax=9000);\n",
    "\n",
    "#below Boxplot is saying that for all the weekdays median in between 4000- 5000  "
   ]
  },
  {
   "cell_type": "code",
   "execution_count": 34,
   "metadata": {},
   "outputs": [
    {
     "data": {
      "image/png": "[encoded data removed]",
      "text/plain": [
       "<Figure size 576x432 with 1 Axes>"
      ]
     },
     "metadata": {
      "needs_background": "light"
     },
     "output_type": "display_data"
    }
   ],
   "source": [
    "\n",
    "#box plot 'weekends' with 'CNT'\n",
    "var_holiday = 'holiday'\n",
    "data = pd.concat([bike_data['count of bike users'], bike_data[var_holiday]], axis=1)\n",
    "f, ax = plt.subplots(figsize=(8, 6))\n",
    "fig = sns.boxplot(x=var_holiday, y=\"count of bike users\", data=data)\n",
    "fig.axis(ymin=0, ymax=9000);\n",
    "\n",
    "#below Boxplot is saying that median  high on  holidays when compare to weekdays"
   ]
  },
  {
   "cell_type": "code",
   "execution_count": 35,
   "metadata": {
    "scrolled": true
   },
   "outputs": [
    {
     "data": {
      "text/html": [
       "<div>\n",
       "<style scoped>\n",
       "    .dataframe tbody tr th:only-of-type {\n",
       "        vertical-align: middle;\n",
       "    }\n",
       "\n",
       "    .dataframe tbody tr th {\n",
       "        vertical-align: top;\n",
       "    }\n",
       "\n",
       "    .dataframe thead th {\n",
       "        text-align: right;\n",
       "    }\n",
       "</style>\n",
       "<table border=\"1\" class=\"dataframe\">\n",
       "  <thead>\n",
       "    <tr style=\"text-align: right;\">\n",
       "      <th></th>\n",
       "      <th>date-day</th>\n",
       "      <th>season</th>\n",
       "      <th>year</th>\n",
       "      <th>month</th>\n",
       "      <th>holiday</th>\n",
       "      <th>weekday</th>\n",
       "      <th>working day</th>\n",
       "      <th>weather situation</th>\n",
       "      <th>temperature</th>\n",
       "      <th>temperature felt</th>\n",
       "      <th>humidity</th>\n",
       "      <th>windspeed</th>\n",
       "      <th>casual user</th>\n",
       "      <th>registered user</th>\n",
       "      <th>count of bike users</th>\n",
       "    </tr>\n",
       "  </thead>\n",
       "  <tbody>\n",
       "    <tr>\n",
       "      <th>0</th>\n",
       "      <td>2011-01-01</td>\n",
       "      <td>1</td>\n",
       "      <td>0</td>\n",
       "      <td>1</td>\n",
       "      <td>0</td>\n",
       "      <td>6</td>\n",
       "      <td>0</td>\n",
       "      <td>2</td>\n",
       "      <td>0.344167</td>\n",
       "      <td>0.363625</td>\n",
       "      <td>0.805833</td>\n",
       "      <td>0.160446</td>\n",
       "      <td>331</td>\n",
       "      <td>654</td>\n",
       "      <td>985</td>\n",
       "    </tr>\n",
       "    <tr>\n",
       "      <th>1</th>\n",
       "      <td>2011-01-02</td>\n",
       "      <td>1</td>\n",
       "      <td>0</td>\n",
       "      <td>1</td>\n",
       "      <td>0</td>\n",
       "      <td>0</td>\n",
       "      <td>0</td>\n",
       "      <td>2</td>\n",
       "      <td>0.363478</td>\n",
       "      <td>0.353739</td>\n",
       "      <td>0.696087</td>\n",
       "      <td>0.248539</td>\n",
       "      <td>131</td>\n",
       "      <td>670</td>\n",
       "      <td>801</td>\n",
       "    </tr>\n",
       "    <tr>\n",
       "      <th>2</th>\n",
       "      <td>2011-01-03</td>\n",
       "      <td>1</td>\n",
       "      <td>0</td>\n",
       "      <td>1</td>\n",
       "      <td>0</td>\n",
       "      <td>1</td>\n",
       "      <td>1</td>\n",
       "      <td>1</td>\n",
       "      <td>0.196364</td>\n",
       "      <td>0.189405</td>\n",
       "      <td>0.437273</td>\n",
       "      <td>0.248309</td>\n",
       "      <td>120</td>\n",
       "      <td>1229</td>\n",
       "      <td>1349</td>\n",
       "    </tr>\n",
       "    <tr>\n",
       "      <th>3</th>\n",
       "      <td>2011-01-04</td>\n",
       "      <td>1</td>\n",
       "      <td>0</td>\n",
       "      <td>1</td>\n",
       "      <td>0</td>\n",
       "      <td>2</td>\n",
       "      <td>1</td>\n",
       "      <td>1</td>\n",
       "      <td>0.200000</td>\n",
       "      <td>0.212122</td>\n",
       "      <td>0.590435</td>\n",
       "      <td>0.160296</td>\n",
       "      <td>108</td>\n",
       "      <td>1454</td>\n",
       "      <td>1562</td>\n",
       "    </tr>\n",
       "    <tr>\n",
       "      <th>4</th>\n",
       "      <td>2011-01-05</td>\n",
       "      <td>1</td>\n",
       "      <td>0</td>\n",
       "      <td>1</td>\n",
       "      <td>0</td>\n",
       "      <td>3</td>\n",
       "      <td>1</td>\n",
       "      <td>1</td>\n",
       "      <td>0.226957</td>\n",
       "      <td>0.229270</td>\n",
       "      <td>0.436957</td>\n",
       "      <td>0.186900</td>\n",
       "      <td>82</td>\n",
       "      <td>1518</td>\n",
       "      <td>1600</td>\n",
       "    </tr>\n",
       "  </tbody>\n",
       "</table>\n",
       "</div>"
      ],
      "text/plain": [
       "     date-day  season  year  month  holiday  weekday  working day  \\\n",
       "0  2011-01-01       1     0      1        0        6            0   \n",
       "1  2011-01-02       1     0      1        0        0            0   \n",
       "2  2011-01-03       1     0      1        0        1            1   \n",
       "3  2011-01-04       1     0      1        0        2            1   \n",
       "4  2011-01-05       1     0      1        0        3            1   \n",
       "\n",
       "   weather situation  temperature  temperature felt  humidity  windspeed  \\\n",
       "0                  2     0.344167          0.363625  0.805833   0.160446   \n",
       "1                  2     0.363478          0.353739  0.696087   0.248539   \n",
       "2                  1     0.196364          0.189405  0.437273   0.248309   \n",
       "3                  1     0.200000          0.212122  0.590435   0.160296   \n",
       "4                  1     0.226957          0.229270  0.436957   0.186900   \n",
       "\n",
       "   casual user  registered user  count of bike users  \n",
       "0          331              654                  985  \n",
       "1          131              670                  801  \n",
       "2          120             1229                 1349  \n",
       "3          108             1454                 1562  \n",
       "4           82             1518                 1600  "
      ]
     },
     "execution_count": 35,
     "metadata": {},
     "output_type": "execute_result"
    }
   ],
   "source": [
    "bike_data.head()"
   ]
  },
  {
   "cell_type": "code",
   "execution_count": 36,
   "metadata": {},
   "outputs": [
    {
     "data": {
      "image/png": "[encoded data removed]",
      "text/plain": [
       "<Figure size 576x432 with 1 Axes>"
      ]
     },
     "metadata": {
      "needs_background": "light"
     },
     "output_type": "display_data"
    }
   ],
   "source": [
    "var_month=\"month\"\n",
    "data=pd.concat([bike_data[\"count of bike users\"],bike_data[var_month]],axis=1)\n",
    "f,ax=plt.subplots(figsize=(8,6))\n",
    "fig=sns.boxplot(x=var_month,y=\"count of bike users\",data=data)\n",
    "fig.axis(ymin=0,ymax=9000);"
   ]
  },
  {
   "cell_type": "code",
   "execution_count": 37,
   "metadata": {},
   "outputs": [
    {
     "data": {
      "image/png": "[encoded data removed]",
      "text/plain": [
       "<Figure size 576x432 with 1 Axes>"
      ]
     },
     "metadata": {
      "needs_background": "light"
     },
     "output_type": "display_data"
    }
   ],
   "source": [
    "var_month=\"weather situation\"\n",
    "data=pd.concat([bike_data[\"count of bike users\"],bike_data[var_month]],axis=1)\n",
    "f,ax=plt.subplots(figsize=(8,6))\n",
    "fig=sns.boxplot(x=var_month,y=\"count of bike users\",data=data)\n",
    "fig.axis(ymin=0,ymax=9000);"
   ]
  },
  {
   "cell_type": "code",
   "execution_count": 38,
   "metadata": {},
   "outputs": [
    {
     "data": {
      "image/png": "[encoded data removed]",
      "text/plain": [
       "<Figure size 576x432 with 1 Axes>"
      ]
     },
     "metadata": {
      "needs_background": "light"
     },
     "output_type": "display_data"
    }
   ],
   "source": [
    "var_month=\"working day\"\n",
    "data=pd.concat([bike_data[\"count of bike users\"],bike_data[var_month]],axis=1)\n",
    "f,ax=plt.subplots(figsize=(8,6))\n",
    "fig=sns.boxplot(x=var_month,y=\"count of bike users\",data=data)\n",
    "fig.axis(ymin=0,ymax=9000);"
   ]
  },
  {
   "cell_type": "code",
   "execution_count": 39,
   "metadata": {},
   "outputs": [
    {
     "data": {
      "image/png": "[encoded data removed]",
      "text/plain": [
       "<Figure size 576x432 with 1 Axes>"
      ]
     },
     "metadata": {
      "needs_background": "light"
     },
     "output_type": "display_data"
    }
   ],
   "source": [
    "var_month=\"season\"\n",
    "data=pd.concat([bike_data[\"count of bike users\"],bike_data[var_month]],axis=1)\n",
    "f,ax=plt.subplots(figsize=(8,6))\n",
    "fig=sns.boxplot(x=var_month,y=\"count of bike users\",data=data)\n",
    "fig.axis(ymin=0,ymax=9000);"
   ]
  },
  {
   "cell_type": "code",
   "execution_count": 40,
   "metadata": {},
   "outputs": [
    {
     "data": {
      "image/png": "[encoded data removed]",
      "text/plain": [
       "<Figure size 576x432 with 1 Axes>"
      ]
     },
     "metadata": {
      "needs_background": "light"
     },
     "output_type": "display_data"
    }
   ],
   "source": [
    "var_month=\"year\"\n",
    "data=pd.concat([bike_data[\"count of bike users\"],bike_data[var_month]],axis=1)\n",
    "f,ax=plt.subplots(figsize=(8,6))\n",
    "fig=sns.boxplot(x=var_month,y=\"count of bike users\",data=data)\n",
    "fig.axis(ymin=0,ymax=9000);"
   ]
  },
  {
   "cell_type": "code",
   "execution_count": 41,
   "metadata": {},
   "outputs": [
    {
     "data": {
      "text/plain": [
       "<matplotlib.axes._subplots.AxesSubplot at 0x1942ccfd780>"
      ]
     },
     "execution_count": 41,
     "metadata": {},
     "output_type": "execute_result"
    },
    {
     "data": {
      "image/png": "[encoded data removed]",
      "text/plain": [
       "<Figure size 432x288 with 1 Axes>"
      ]
     },
     "metadata": {
      "needs_background": "light"
     },
     "output_type": "display_data"
    }
   ],
   "source": [
    "bike_data.plot(x='date-day',y='count of bike users',c='g',title=\"count\")"
   ]
  },
  {
   "cell_type": "code",
   "execution_count": 42,
   "metadata": {},
   "outputs": [
    {
     "data": {
      "text/plain": [
       "<matplotlib.axes._subplots.AxesSubplot at 0x1942ce7b198>"
      ]
     },
     "execution_count": 42,
     "metadata": {},
     "output_type": "execute_result"
    },
    {
     "data": {
      "image/png": "[encoded data removed]",
      "text/plain": [
       "<Figure size 432x288 with 1 Axes>"
      ]
     },
     "metadata": {
      "needs_background": "light"
     },
     "output_type": "display_data"
    }
   ],
   "source": [
    "bike_data[:30*10].plot(x='date-day',y='count of bike users',c='g',title=\"count of 1yr\")"
   ]
  },
  {
   "cell_type": "code",
   "execution_count": 43,
   "metadata": {},
   "outputs": [
    {
     "data": {
      "text/plain": [
       "season\n",
       "1     471348\n",
       "2     918589\n",
       "3    1061129\n",
       "4     841613\n",
       "Name: count of bike users, dtype: int64"
      ]
     },
     "execution_count": 43,
     "metadata": {},
     "output_type": "execute_result"
    },
    {
     "data": {
      "image/png": "[encoded data removed]",
      "text/plain": [
       "<Figure size 432x288 with 1 Axes>"
      ]
     },
     "metadata": {
      "needs_background": "light"
     },
     "output_type": "display_data"
    }
   ],
   "source": [
    "season=bike_data.groupby('season')['count of bike users'].sum()\n",
    "season.plot(x='season',y='count of bike users',c='g',title='count per season',xticks=(0,1,2,3,4))\n",
    "season.head()"
   ]
  },
  {
   "cell_type": "code",
   "execution_count": 44,
   "metadata": {},
   "outputs": [
    {
     "data": {
      "text/plain": [
       "year\n",
       "0    1243103\n",
       "1    2049576\n",
       "Name: count of bike users, dtype: int64"
      ]
     },
     "execution_count": 44,
     "metadata": {},
     "output_type": "execute_result"
    },
    {
     "data": {
      "image/png": "[encoded data removed]",
      "text/plain": [
       "<Figure size 432x288 with 1 Axes>"
      ]
     },
     "metadata": {
      "needs_background": "light"
     },
     "output_type": "display_data"
    }
   ],
   "source": [
    "year=bike_data.groupby('year')['count of bike users'].sum()\n",
    "year.plot(x='year',y='count of bike users',c='g',title='count per year',xticks=(0,1,2))\n",
    "year.head()"
   ]
  },
  {
   "cell_type": "code",
   "execution_count": 45,
   "metadata": {},
   "outputs": [
    {
     "data": {
      "text/plain": [
       "month\n",
       "1    134933\n",
       "2    151352\n",
       "3    228920\n",
       "4    269094\n",
       "5    331686\n",
       "Name: count of bike users, dtype: int64"
      ]
     },
     "execution_count": 45,
     "metadata": {},
     "output_type": "execute_result"
    },
    {
     "data": {
      "image/png": "[encoded data removed]",
      "text/plain": [
       "<Figure size 432x288 with 1 Axes>"
      ]
     },
     "metadata": {
      "needs_background": "light"
     },
     "output_type": "display_data"
    }
   ],
   "source": [
    "month=bike_data.groupby('month')['count of bike users'].sum()\n",
    "month.plot(x='month',y='count of bike users',c='g',title='count per month',xticks=(range(0,12)))\n",
    "month.head()"
   ]
  },
  {
   "cell_type": "code",
   "execution_count": 46,
   "metadata": {},
   "outputs": [
    {
     "data": {
      "text/plain": [
       "holiday\n",
       "0    3214244\n",
       "1      78435\n",
       "Name: count of bike users, dtype: int64"
      ]
     },
     "execution_count": 46,
     "metadata": {},
     "output_type": "execute_result"
    },
    {
     "data": {
      "image/png": "[encoded data removed]",
      "text/plain": [
       "<Figure size 432x288 with 1 Axes>"
      ]
     },
     "metadata": {
      "needs_background": "light"
     },
     "output_type": "display_data"
    }
   ],
   "source": [
    "holiday=bike_data.groupby('holiday')['count of bike users'].sum()\n",
    "holiday.plot(x='holiday',y='count of bike users',c='g',title='count per holiday',xticks=(range(0,2)))\n",
    "holiday.head()"
   ]
  },
  {
   "cell_type": "code",
   "execution_count": 47,
   "metadata": {},
   "outputs": [
    {
     "data": {
      "text/plain": [
       "weekday\n",
       "0    444027\n",
       "1    455503\n",
       "2    469109\n",
       "3    473048\n",
       "4    485395\n",
       "Name: count of bike users, dtype: int64"
      ]
     },
     "execution_count": 47,
     "metadata": {},
     "output_type": "execute_result"
    },
    {
     "data": {
      "image/png": "[encoded data removed]",
      "text/plain": [
       "<Figure size 432x288 with 1 Axes>"
      ]
     },
     "metadata": {
      "needs_background": "light"
     },
     "output_type": "display_data"
    }
   ],
   "source": [
    "week=bike_data.groupby('weekday')['count of bike users'].sum()\n",
    "week.plot(x='weekday',y='count of bike users',c='g',title='count per weekday',xticks=(range(0,7)))\n",
    "week.head()"
   ]
  },
  {
   "cell_type": "code",
   "execution_count": 48,
   "metadata": {},
   "outputs": [
    {
     "data": {
      "text/plain": [
       "working day\n",
       "0    1000269\n",
       "1    2292410\n",
       "Name: count of bike users, dtype: int64"
      ]
     },
     "execution_count": 48,
     "metadata": {},
     "output_type": "execute_result"
    },
    {
     "data": {
      "image/png": "[encoded data removed]",
      "text/plain": [
       "<Figure size 432x288 with 1 Axes>"
      ]
     },
     "metadata": {
      "needs_background": "light"
     },
     "output_type": "display_data"
    }
   ],
   "source": [
    "work=bike_data.groupby('working day')['count of bike users'].sum()\n",
    "work.plot(x='working day',y='count of bike users',c='g',title='count per working day',xticks=(range(0,2)))\n",
    "work.head()"
   ]
  },
  {
   "cell_type": "code",
   "execution_count": 49,
   "metadata": {},
   "outputs": [
    {
     "data": {
      "text/plain": [
       "weather situation\n",
       "1    2257952\n",
       "2     996858\n",
       "3      37869\n",
       "Name: count of bike users, dtype: int64"
      ]
     },
     "execution_count": 49,
     "metadata": {},
     "output_type": "execute_result"
    },
    {
     "data": {
      "image/png": "[encoded data removed]",
      "text/plain": [
       "<Figure size 432x288 with 1 Axes>"
      ]
     },
     "metadata": {
      "needs_background": "light"
     },
     "output_type": "display_data"
    }
   ],
   "source": [
    "weathersit=bike_data.groupby('weather situation')['count of bike users'].sum()\n",
    "weathersit.plot(x='weather situation',y='count of bike users',c='g',title='count per weather situation',xticks=(range(0,3)))\n",
    "weathersit.head()"
   ]
  },
  {
   "cell_type": "markdown",
   "metadata": {},
   "source": [
    "# missing value analysis"
   ]
  },
  {
   "cell_type": "code",
   "execution_count": 50,
   "metadata": {},
   "outputs": [
    {
     "data": {
      "text/plain": [
       "date-day               0\n",
       "season                 0\n",
       "year                   0\n",
       "month                  0\n",
       "holiday                0\n",
       "weekday                0\n",
       "working day            0\n",
       "weather situation      0\n",
       "temperature            0\n",
       "temperature felt       0\n",
       "humidity               0\n",
       "windspeed              0\n",
       "casual user            0\n",
       "registered user        0\n",
       "count of bike users    0\n",
       "dtype: int64"
      ]
     },
     "execution_count": 50,
     "metadata": {},
     "output_type": "execute_result"
    }
   ],
   "source": [
    "bike_data.isnull().sum()\n",
    "#there are no missing values hence we move forward"
   ]
  },
  {
   "cell_type": "markdown",
   "metadata": {},
   "source": [
    "# Outlier analysis"
   ]
  },
  {
   "cell_type": "code",
   "execution_count": 51,
   "metadata": {},
   "outputs": [
    {
     "data": {
      "text/plain": [
       "{'whiskers': [<matplotlib.lines.Line2D at 0x1942ca1a4e0>,\n",
       "  <matplotlib.lines.Line2D at 0x1942c8e3898>],\n",
       " 'caps': [<matplotlib.lines.Line2D at 0x1942c9c4f28>,\n",
       "  <matplotlib.lines.Line2D at 0x1942c9c4d30>],\n",
       " 'boxes': [<matplotlib.lines.Line2D at 0x1942ca1a3c8>],\n",
       " 'medians': [<matplotlib.lines.Line2D at 0x1942c9c4978>],\n",
       " 'fliers': [<matplotlib.lines.Line2D at 0x1942c9c4a20>],\n",
       " 'means': []}"
      ]
     },
     "execution_count": 51,
     "metadata": {},
     "output_type": "execute_result"
    },
    {
     "data": {
      "image/png": "[encoded data removed]",
      "text/plain": [
       "<Figure size 432x288 with 1 Axes>"
      ]
     },
     "metadata": {
      "needs_background": "light"
     },
     "output_type": "display_data"
    }
   ],
   "source": [
    "#lets check outlyers one by one for all numerical variables\n",
    "#temperature\n",
    "plt.boxplot(bike_data['temperature'])"
   ]
  },
  {
   "cell_type": "code",
   "execution_count": 52,
   "metadata": {},
   "outputs": [
    {
     "data": {
      "text/plain": [
       "{'whiskers': [<matplotlib.lines.Line2D at 0x1942cc35b38>,\n",
       "  <matplotlib.lines.Line2D at 0x1942cc2d710>],\n",
       " 'caps': [<matplotlib.lines.Line2D at 0x1942cc2d828>,\n",
       "  <matplotlib.lines.Line2D at 0x1942cc2dbe0>],\n",
       " 'boxes': [<matplotlib.lines.Line2D at 0x1942cc35710>],\n",
       " 'medians': [<matplotlib.lines.Line2D at 0x1942cc2df60>],\n",
       " 'fliers': [<matplotlib.lines.Line2D at 0x1942cae0320>],\n",
       " 'means': []}"
      ]
     },
     "execution_count": 52,
     "metadata": {},
     "output_type": "execute_result"
    },
    {
     "data": {
      "image/png": "[encoded data removed]",
      "text/plain": [
       "<Figure size 432x288 with 1 Axes>"
      ]
     },
     "metadata": {
      "needs_background": "light"
     },
     "output_type": "display_data"
    }
   ],
   "source": [
    "#Temperature felt\n",
    "plt.boxplot(bike_data[\"temperature felt\"])"
   ]
  },
  {
   "cell_type": "code",
   "execution_count": 53,
   "metadata": {},
   "outputs": [
    {
     "data": {
      "text/plain": [
       "{'whiskers': [<matplotlib.lines.Line2D at 0x1942cbed7f0>,\n",
       "  <matplotlib.lines.Line2D at 0x1942cbedeb8>],\n",
       " 'caps': [<matplotlib.lines.Line2D at 0x1942cbed6a0>,\n",
       "  <matplotlib.lines.Line2D at 0x1942c982048>],\n",
       " 'boxes': [<matplotlib.lines.Line2D at 0x1942cbed828>],\n",
       " 'medians': [<matplotlib.lines.Line2D at 0x1942c8729e8>],\n",
       " 'fliers': [<matplotlib.lines.Line2D at 0x1942cb0c630>],\n",
       " 'means': []}"
      ]
     },
     "execution_count": 53,
     "metadata": {},
     "output_type": "execute_result"
    },
    {
     "data": {
      "image/png": "[encoded data removed]",
      "text/plain": [
       "<Figure size 432x288 with 1 Axes>"
      ]
     },
     "metadata": {
      "needs_background": "light"
     },
     "output_type": "display_data"
    }
   ],
   "source": [
    "#humidity\n",
    "plt.boxplot(bike_data[\"humidity\"])"
   ]
  },
  {
   "cell_type": "code",
   "execution_count": 54,
   "metadata": {},
   "outputs": [
    {
     "data": {
      "text/plain": [
       "{'whiskers': [<matplotlib.lines.Line2D at 0x1942cb2e160>,\n",
       "  <matplotlib.lines.Line2D at 0x1942cace128>],\n",
       " 'caps': [<matplotlib.lines.Line2D at 0x1942cace550>,\n",
       "  <matplotlib.lines.Line2D at 0x1942cace160>],\n",
       " 'boxes': [<matplotlib.lines.Line2D at 0x1942cb2e208>],\n",
       " 'medians': [<matplotlib.lines.Line2D at 0x1942cace048>],\n",
       " 'fliers': [<matplotlib.lines.Line2D at 0x1942caceef0>],\n",
       " 'means': []}"
      ]
     },
     "execution_count": 54,
     "metadata": {},
     "output_type": "execute_result"
    },
    {
     "data": {
      "image/png": "[encoded data removed]",
      "text/plain": [
       "<Figure size 432x288 with 1 Axes>"
      ]
     },
     "metadata": {
      "needs_background": "light"
     },
     "output_type": "display_data"
    }
   ],
   "source": [
    "#windspeed\n",
    "plt.boxplot(bike_data[\"windspeed\"])"
   ]
  },
  {
   "cell_type": "code",
   "execution_count": 55,
   "metadata": {},
   "outputs": [
    {
     "data": {
      "text/plain": [
       "{'whiskers': [<matplotlib.lines.Line2D at 0x1942cd553c8>,\n",
       "  <matplotlib.lines.Line2D at 0x1942cd55710>],\n",
       " 'caps': [<matplotlib.lines.Line2D at 0x1942cd55a58>,\n",
       "  <matplotlib.lines.Line2D at 0x1942cd55da0>],\n",
       " 'boxes': [<matplotlib.lines.Line2D at 0x1942ca84f98>],\n",
       " 'medians': [<matplotlib.lines.Line2D at 0x1942cd55e80>],\n",
       " 'fliers': [<matplotlib.lines.Line2D at 0x1942cd5a470>],\n",
       " 'means': []}"
      ]
     },
     "execution_count": 55,
     "metadata": {},
     "output_type": "execute_result"
    },
    {
     "data": {
      "image/png": "[encoded data removed]",
      "text/plain": [
       "<Figure size 432x288 with 1 Axes>"
      ]
     },
     "metadata": {
      "needs_background": "light"
     },
     "output_type": "display_data"
    }
   ],
   "source": [
    "#casual users\n",
    "plt.boxplot(bike_data[\"casual user\"])"
   ]
  },
  {
   "cell_type": "code",
   "execution_count": 56,
   "metadata": {
    "scrolled": false
   },
   "outputs": [
    {
     "data": {
      "text/plain": [
       "{'whiskers': [<matplotlib.lines.Line2D at 0x1942cae3518>,\n",
       "  <matplotlib.lines.Line2D at 0x1942cae3860>],\n",
       " 'caps': [<matplotlib.lines.Line2D at 0x1942cae3ba8>,\n",
       "  <matplotlib.lines.Line2D at 0x1942cae3ef0>],\n",
       " 'boxes': [<matplotlib.lines.Line2D at 0x1942cae3128>],\n",
       " 'medians': [<matplotlib.lines.Line2D at 0x1942cae3fd0>],\n",
       " 'fliers': [<matplotlib.lines.Line2D at 0x1942caef5c0>],\n",
       " 'means': []}"
      ]
     },
     "execution_count": 56,
     "metadata": {},
     "output_type": "execute_result"
    },
    {
     "data": {
      "image/png": "[encoded data removed]",
      "text/plain": [
       "<Figure size 432x288 with 1 Axes>"
      ]
     },
     "metadata": {
      "needs_background": "light"
     },
     "output_type": "display_data"
    }
   ],
   "source": [
    "#rigisterd user\n",
    "plt.boxplot(bike_data[\"registered user\"])"
   ]
  },
  {
   "cell_type": "code",
   "execution_count": 57,
   "metadata": {},
   "outputs": [
    {
     "data": {
      "text/plain": [
       "{'whiskers': [<matplotlib.lines.Line2D at 0x1942ccb3668>,\n",
       "  <matplotlib.lines.Line2D at 0x1942ccb39b0>],\n",
       " 'caps': [<matplotlib.lines.Line2D at 0x1942ccb3cf8>,\n",
       "  <matplotlib.lines.Line2D at 0x1942ccb3dd8>],\n",
       " 'boxes': [<matplotlib.lines.Line2D at 0x1942ccb3278>],\n",
       " 'medians': [<matplotlib.lines.Line2D at 0x1942cbf33c8>],\n",
       " 'fliers': [<matplotlib.lines.Line2D at 0x1942cbf3710>],\n",
       " 'means': []}"
      ]
     },
     "execution_count": 57,
     "metadata": {},
     "output_type": "execute_result"
    },
    {
     "data": {
      "image/png": "[encoded data removed]",
      "text/plain": [
       "<Figure size 432x288 with 1 Axes>"
      ]
     },
     "metadata": {
      "needs_background": "light"
     },
     "output_type": "display_data"
    }
   ],
   "source": [
    "#count of bike users\n",
    "#target variable\n",
    "plt.boxplot(bike_data[\"count of bike users\"])"
   ]
  },
  {
   "cell_type": "code",
   "execution_count": 58,
   "metadata": {},
   "outputs": [
    {
     "name": "stdout",
     "output_type": "stream",
     "text": [
      "windspeed\n",
      "-0.012446750000000034\n",
      "0.38061125\n",
      "casual user\n",
      "-886.125\n",
      "2322.875\n",
      "humidity\n",
      "0.20958300000000007\n",
      "1.049583\n"
     ]
    }
   ],
   "source": [
    "# #Detect and delete outliers from data\n",
    "onames=['windspeed','casual user','humidity']\n",
    "for i in onames:\n",
    "    print(i)\n",
    "    q75, q25 = np.percentile(bike_data.loc[:,i], [75 ,25])\n",
    "    iqr = q75 - q25\n",
    "    min = q25 - (iqr*1.5)\n",
    "    max = q75 + (iqr*1.5)\n",
    "    print(min)\n",
    "    print(max) \n",
    "    bike_data = bike_data.drop(bike_data[bike_data.loc[:,i] < min].index)\n",
    "    bike_data = bike_data.drop(bike_data[bike_data.loc[:,i] > max].index)    \n",
    "       "
   ]
  },
  {
   "cell_type": "code",
   "execution_count": 59,
   "metadata": {
    "scrolled": false
   },
   "outputs": [
    {
     "data": {
      "text/plain": [
       "{'whiskers': [<matplotlib.lines.Line2D at 0x1942ca0df60>,\n",
       "  <matplotlib.lines.Line2D at 0x1942c9ec2e8>],\n",
       " 'caps': [<matplotlib.lines.Line2D at 0x1942c9ec630>,\n",
       "  <matplotlib.lines.Line2D at 0x1942c9ec978>],\n",
       " 'boxes': [<matplotlib.lines.Line2D at 0x1942ca0db70>],\n",
       " 'medians': [<matplotlib.lines.Line2D at 0x1942c9eccc0>],\n",
       " 'fliers': [<matplotlib.lines.Line2D at 0x1942c9ecda0>],\n",
       " 'means': []}"
      ]
     },
     "execution_count": 59,
     "metadata": {},
     "output_type": "execute_result"
    },
    {
     "data": {
      "image/png": "[encoded data removed]",
      "text/plain": [
       "<Figure size 432x288 with 1 Axes>"
      ]
     },
     "metadata": {
      "needs_background": "light"
     },
     "output_type": "display_data"
    }
   ],
   "source": [
    "plt.boxplot(bike_data[\"casual user\"])"
   ]
  },
  {
   "cell_type": "code",
   "execution_count": 60,
   "metadata": {},
   "outputs": [
    {
     "data": {
      "text/plain": [
       "{'whiskers': [<matplotlib.lines.Line2D at 0x1942ca56da0>,\n",
       "  <matplotlib.lines.Line2D at 0x1942ca4a3c8>],\n",
       " 'caps': [<matplotlib.lines.Line2D at 0x1942ca4a710>,\n",
       "  <matplotlib.lines.Line2D at 0x1942ca4aa58>],\n",
       " 'boxes': [<matplotlib.lines.Line2D at 0x1942ca56c50>],\n",
       " 'medians': [<matplotlib.lines.Line2D at 0x1942ca4ada0>],\n",
       " 'fliers': [<matplotlib.lines.Line2D at 0x1942ca4ae80>],\n",
       " 'means': []}"
      ]
     },
     "execution_count": 60,
     "metadata": {},
     "output_type": "execute_result"
    },
    {
     "data": {
      "image/png": "[encoded data removed]",
      "text/plain": [
       "<Figure size 432x288 with 1 Axes>"
      ]
     },
     "metadata": {
      "needs_background": "light"
     },
     "output_type": "display_data"
    }
   ],
   "source": [
    "plt.boxplot(bike_data[\"windspeed\"])"
   ]
  },
  {
   "cell_type": "code",
   "execution_count": 61,
   "metadata": {},
   "outputs": [
    {
     "data": {
      "text/plain": [
       "{'whiskers': [<matplotlib.lines.Line2D at 0x1942cc18b00>,\n",
       "  <matplotlib.lines.Line2D at 0x1942cc18e48>],\n",
       " 'caps': [<matplotlib.lines.Line2D at 0x1942cc18f28>,\n",
       "  <matplotlib.lines.Line2D at 0x1942cc30518>],\n",
       " 'boxes': [<matplotlib.lines.Line2D at 0x1942cc18710>],\n",
       " 'medians': [<matplotlib.lines.Line2D at 0x1942cc30860>],\n",
       " 'fliers': [<matplotlib.lines.Line2D at 0x1942cc30ba8>],\n",
       " 'means': []}"
      ]
     },
     "execution_count": 61,
     "metadata": {},
     "output_type": "execute_result"
    },
    {
     "data": {
      "image/png": "[encoded data removed]",
      "text/plain": [
       "<Figure size 432x288 with 1 Axes>"
      ]
     },
     "metadata": {
      "needs_background": "light"
     },
     "output_type": "display_data"
    }
   ],
   "source": [
    "plt.boxplot(bike_data[\"humidity\"])"
   ]
  },
  {
   "cell_type": "markdown",
   "metadata": {},
   "source": [
    "# feature enginnering"
   ]
  },
  {
   "cell_type": "code",
   "execution_count": 62,
   "metadata": {},
   "outputs": [
    {
     "data": {
      "text/plain": [
       "date-day                object\n",
       "season                   int64\n",
       "year                     int64\n",
       "month                    int64\n",
       "holiday                  int64\n",
       "weekday                  int64\n",
       "working day              int64\n",
       "weather situation        int64\n",
       "temperature            float64\n",
       "temperature felt       float64\n",
       "humidity               float64\n",
       "windspeed              float64\n",
       "casual user              int64\n",
       "registered user          int64\n",
       "count of bike users      int64\n",
       "dtype: object"
      ]
     },
     "execution_count": 62,
     "metadata": {},
     "output_type": "execute_result"
    }
   ],
   "source": [
    "bike_data.dtypes"
   ]
  },
  {
   "cell_type": "code",
   "execution_count": 63,
   "metadata": {},
   "outputs": [],
   "source": [
    "#Converting redpective variables to required data format \n",
    "bike_data['date-day'] = pd.to_datetime(bike_data['date-day'],yearfirst=True)\n",
    "bike_data['season'] = bike_data['season'].astype('category')\n",
    "bike_data['year'] = bike_data['year'].astype('category')\n",
    "bike_data['month'] = bike_data['month'].astype('category')\n",
    "bike_data['holiday'] = bike_data['holiday'].astype('category')\n",
    "bike_data['weekday'] = bike_data['weekday'].astype('category')\n",
    "bike_data['working day'] = bike_data['working day'].astype('category')\n",
    "bike_data['weather situation'] = bike_data['weather situation'].astype('category')\n",
    "\n",
    "bike_data['temperature'] = bike_data['temperature'].astype('float')\n",
    "bike_data['temperature felt'] = bike_data['temperature felt'].astype('float')\n",
    "bike_data['humidity'] = bike_data['humidity'].astype('float')\n",
    "bike_data['windspeed'] = bike_data['windspeed'].astype('float')\n",
    "bike_data['casual user'] = bike_data['casual user'].astype('float')\n",
    "bike_data['registered user'] = bike_data['registered user'].astype('float')\n",
    "bike_data['count of bike users'] = bike_data['count of bike users'].astype('float')"
   ]
  },
  {
   "cell_type": "code",
   "execution_count": 64,
   "metadata": {},
   "outputs": [
    {
     "data": {
      "text/plain": [
       "date-day               datetime64[ns]\n",
       "season                       category\n",
       "year                         category\n",
       "month                        category\n",
       "holiday                      category\n",
       "weekday                      category\n",
       "working day                  category\n",
       "weather situation            category\n",
       "temperature                   float64\n",
       "temperature felt              float64\n",
       "humidity                      float64\n",
       "windspeed                     float64\n",
       "casual user                   float64\n",
       "registered user               float64\n",
       "count of bike users           float64\n",
       "dtype: object"
      ]
     },
     "execution_count": 64,
     "metadata": {},
     "output_type": "execute_result"
    }
   ],
   "source": [
    "bike_data.dtypes"
   ]
  },
  {
   "cell_type": "markdown",
   "metadata": {},
   "source": [
    "# feature selection"
   ]
  },
  {
   "cell_type": "code",
   "execution_count": 65,
   "metadata": {},
   "outputs": [
    {
     "data": {
      "text/html": [
       "<style  type=\"text/css\" >\n",
       "    #T_71de889a_819f_11e9_83ad_3c77e65484f4row0_col0 {\n",
       "            background-color:  #f7fcf0;\n",
       "        }    #T_71de889a_819f_11e9_83ad_3c77e65484f4row0_col1 {\n",
       "            background-color:  #f6fbef;\n",
       "        }    #T_71de889a_819f_11e9_83ad_3c77e65484f4row0_col2 {\n",
       "            background-color:  #084b8d;\n",
       "        }    #T_71de889a_819f_11e9_83ad_3c77e65484f4row0_col3 {\n",
       "            background-color:  #084081;\n",
       "        }    #T_71de889a_819f_11e9_83ad_3c77e65484f4row0_col4 {\n",
       "            background-color:  #8bd2bf;\n",
       "        }    #T_71de889a_819f_11e9_83ad_3c77e65484f4row0_col5 {\n",
       "            background-color:  #75c8c6;\n",
       "        }    #T_71de889a_819f_11e9_83ad_3c77e65484f4row0_col6 {\n",
       "            background-color:  #97d6bb;\n",
       "        }    #T_71de889a_819f_11e9_83ad_3c77e65484f4row1_col0 {\n",
       "            background-color:  #f6fbef;\n",
       "        }    #T_71de889a_819f_11e9_83ad_3c77e65484f4row1_col1 {\n",
       "            background-color:  #f7fcf0;\n",
       "        }    #T_71de889a_819f_11e9_83ad_3c77e65484f4row1_col2 {\n",
       "            background-color:  #085093;\n",
       "        }    #T_71de889a_819f_11e9_83ad_3c77e65484f4row1_col3 {\n",
       "            background-color:  #084a8c;\n",
       "        }    #T_71de889a_819f_11e9_83ad_3c77e65484f4row1_col4 {\n",
       "            background-color:  #8bd2bf;\n",
       "        }    #T_71de889a_819f_11e9_83ad_3c77e65484f4row1_col5 {\n",
       "            background-color:  #76c9c6;\n",
       "        }    #T_71de889a_819f_11e9_83ad_3c77e65484f4row1_col6 {\n",
       "            background-color:  #97d6bb;\n",
       "        }    #T_71de889a_819f_11e9_83ad_3c77e65484f4row2_col0 {\n",
       "            background-color:  #084081;\n",
       "        }    #T_71de889a_819f_11e9_83ad_3c77e65484f4row2_col1 {\n",
       "            background-color:  #084081;\n",
       "        }    #T_71de889a_819f_11e9_83ad_3c77e65484f4row2_col2 {\n",
       "            background-color:  #f7fcf0;\n",
       "        }    #T_71de889a_819f_11e9_83ad_3c77e65484f4row2_col3 {\n",
       "            background-color:  #08589b;\n",
       "        }    #T_71de889a_819f_11e9_83ad_3c77e65484f4row2_col4 {\n",
       "            background-color:  #084081;\n",
       "        }    #T_71de889a_819f_11e9_83ad_3c77e65484f4row2_col5 {\n",
       "            background-color:  #084081;\n",
       "        }    #T_71de889a_819f_11e9_83ad_3c77e65484f4row2_col6 {\n",
       "            background-color:  #084081;\n",
       "        }    #T_71de889a_819f_11e9_83ad_3c77e65484f4row3_col0 {\n",
       "            background-color:  #084586;\n",
       "        }    #T_71de889a_819f_11e9_83ad_3c77e65484f4row3_col1 {\n",
       "            background-color:  #084a8c;\n",
       "        }    #T_71de889a_819f_11e9_83ad_3c77e65484f4row3_col2 {\n",
       "            background-color:  #0868ac;\n",
       "        }    #T_71de889a_819f_11e9_83ad_3c77e65484f4row3_col3 {\n",
       "            background-color:  #f7fcf0;\n",
       "        }    #T_71de889a_819f_11e9_83ad_3c77e65484f4row3_col4 {\n",
       "            background-color:  #085ea1;\n",
       "        }    #T_71de889a_819f_11e9_83ad_3c77e65484f4row3_col5 {\n",
       "            background-color:  #0863a7;\n",
       "        }    #T_71de889a_819f_11e9_83ad_3c77e65484f4row3_col6 {\n",
       "            background-color:  #0868ac;\n",
       "        }    #T_71de889a_819f_11e9_83ad_3c77e65484f4row4_col0 {\n",
       "            background-color:  #86d0c0;\n",
       "        }    #T_71de889a_819f_11e9_83ad_3c77e65484f4row4_col1 {\n",
       "            background-color:  #83cfc1;\n",
       "        }    #T_71de889a_819f_11e9_83ad_3c77e65484f4row4_col2 {\n",
       "            background-color:  #084081;\n",
       "        }    #T_71de889a_819f_11e9_83ad_3c77e65484f4row4_col3 {\n",
       "            background-color:  #084e90;\n",
       "        }    #T_71de889a_819f_11e9_83ad_3c77e65484f4row4_col4 {\n",
       "            background-color:  #f7fcf0;\n",
       "        }    #T_71de889a_819f_11e9_83ad_3c77e65484f4row4_col5 {\n",
       "            background-color:  #46aace;\n",
       "        }    #T_71de889a_819f_11e9_83ad_3c77e65484f4row4_col6 {\n",
       "            background-color:  #9cd9b9;\n",
       "        }    #T_71de889a_819f_11e9_83ad_3c77e65484f4row5_col0 {\n",
       "            background-color:  #73c8c7;\n",
       "        }    #T_71de889a_819f_11e9_83ad_3c77e65484f4row5_col1 {\n",
       "            background-color:  #72c7c7;\n",
       "        }    #T_71de889a_819f_11e9_83ad_3c77e65484f4row5_col2 {\n",
       "            background-color:  #084889;\n",
       "        }    #T_71de889a_819f_11e9_83ad_3c77e65484f4row5_col3 {\n",
       "            background-color:  #085c9f;\n",
       "        }    #T_71de889a_819f_11e9_83ad_3c77e65484f4row5_col4 {\n",
       "            background-color:  #4aafd1;\n",
       "        }    #T_71de889a_819f_11e9_83ad_3c77e65484f4row5_col5 {\n",
       "            background-color:  #f7fcf0;\n",
       "        }    #T_71de889a_819f_11e9_83ad_3c77e65484f4row5_col6 {\n",
       "            background-color:  #f1f9ea;\n",
       "        }    #T_71de889a_819f_11e9_83ad_3c77e65484f4row6_col0 {\n",
       "            background-color:  #95d6bb;\n",
       "        }    #T_71de889a_819f_11e9_83ad_3c77e65484f4row6_col1 {\n",
       "            background-color:  #94d5bc;\n",
       "        }    #T_71de889a_819f_11e9_83ad_3c77e65484f4row6_col2 {\n",
       "            background-color:  #084b8d;\n",
       "        }    #T_71de889a_819f_11e9_83ad_3c77e65484f4row6_col3 {\n",
       "            background-color:  #0862a5;\n",
       "        }    #T_71de889a_819f_11e9_83ad_3c77e65484f4row6_col4 {\n",
       "            background-color:  #a0dab8;\n",
       "        }    #T_71de889a_819f_11e9_83ad_3c77e65484f4row6_col5 {\n",
       "            background-color:  #f1f9ea;\n",
       "        }    #T_71de889a_819f_11e9_83ad_3c77e65484f4row6_col6 {\n",
       "            background-color:  #f7fcf0;\n",
       "        }</style>  \n",
       "<table id=\"T_71de889a_819f_11e9_83ad_3c77e65484f4\" > \n",
       "<thead>    <tr> \n",
       "        <th class=\"blank level0\" ></th> \n",
       "        <th class=\"col_heading level0 col0\" >temperature</th> \n",
       "        <th class=\"col_heading level0 col1\" >temperature felt</th> \n",
       "        <th class=\"col_heading level0 col2\" >humidity</th> \n",
       "        <th class=\"col_heading level0 col3\" >windspeed</th> \n",
       "        <th class=\"col_heading level0 col4\" >casual user</th> \n",
       "        <th class=\"col_heading level0 col5\" >registered user</th> \n",
       "        <th class=\"col_heading level0 col6\" >count of bike users</th> \n",
       "    </tr></thead> \n",
       "<tbody>    <tr> \n",
       "        <th id=\"T_71de889a_819f_11e9_83ad_3c77e65484f4level0_row0\" class=\"row_heading level0 row0\" >temperature</th> \n",
       "        <td id=\"T_71de889a_819f_11e9_83ad_3c77e65484f4row0_col0\" class=\"data row0 col0\" >1</td> \n",
       "        <td id=\"T_71de889a_819f_11e9_83ad_3c77e65484f4row0_col1\" class=\"data row0 col1\" >0.991497</td> \n",
       "        <td id=\"T_71de889a_819f_11e9_83ad_3c77e65484f4row0_col2\" class=\"data row0 col2\" >0.122406</td> \n",
       "        <td id=\"T_71de889a_819f_11e9_83ad_3c77e65484f4row0_col3\" class=\"data row0 col3\" >0.138183</td> \n",
       "        <td id=\"T_71de889a_819f_11e9_83ad_3c77e65484f4row0_col4\" class=\"data row0 col4\" >0.585568</td> \n",
       "        <td id=\"T_71de889a_819f_11e9_83ad_3c77e65484f4row0_col5\" class=\"data row0 col5\" >0.542106</td> \n",
       "        <td id=\"T_71de889a_819f_11e9_83ad_3c77e65484f4row0_col6\" class=\"data row0 col6\" >0.625918</td> \n",
       "    </tr>    <tr> \n",
       "        <th id=\"T_71de889a_819f_11e9_83ad_3c77e65484f4level0_row1\" class=\"row_heading level0 row1\" >temperature felt</th> \n",
       "        <td id=\"T_71de889a_819f_11e9_83ad_3c77e65484f4row1_col0\" class=\"data row1 col0\" >0.991497</td> \n",
       "        <td id=\"T_71de889a_819f_11e9_83ad_3c77e65484f4row1_col1\" class=\"data row1 col1\" >1</td> \n",
       "        <td id=\"T_71de889a_819f_11e9_83ad_3c77e65484f4row1_col2\" class=\"data row1 col2\" >0.135352</td> \n",
       "        <td id=\"T_71de889a_819f_11e9_83ad_3c77e65484f4row1_col3\" class=\"data row1 col3\" >0.165645</td> \n",
       "        <td id=\"T_71de889a_819f_11e9_83ad_3c77e65484f4row1_col4\" class=\"data row1 col4\" >0.584664</td> \n",
       "        <td id=\"T_71de889a_819f_11e9_83ad_3c77e65484f4row1_col5\" class=\"data row1 col5\" >0.544994</td> \n",
       "        <td id=\"T_71de889a_819f_11e9_83ad_3c77e65484f4row1_col6\" class=\"data row1 col6\" >0.628104</td> \n",
       "    </tr>    <tr> \n",
       "        <th id=\"T_71de889a_819f_11e9_83ad_3c77e65484f4level0_row2\" class=\"row_heading level0 row2\" >humidity</th> \n",
       "        <td id=\"T_71de889a_819f_11e9_83ad_3c77e65484f4row2_col0\" class=\"data row2 col0\" >0.122406</td> \n",
       "        <td id=\"T_71de889a_819f_11e9_83ad_3c77e65484f4row2_col1\" class=\"data row2 col1\" >0.135352</td> \n",
       "        <td id=\"T_71de889a_819f_11e9_83ad_3c77e65484f4row2_col2\" class=\"data row2 col2\" >1</td> \n",
       "        <td id=\"T_71de889a_819f_11e9_83ad_3c77e65484f4row2_col3\" class=\"data row2 col3\" >0.205273</td> \n",
       "        <td id=\"T_71de889a_819f_11e9_83ad_3c77e65484f4row2_col4\" class=\"data row2 col4\" >0.0888873</td> \n",
       "        <td id=\"T_71de889a_819f_11e9_83ad_3c77e65484f4row2_col5\" class=\"data row2 col5\" >0.112971</td> \n",
       "        <td id=\"T_71de889a_819f_11e9_83ad_3c77e65484f4row2_col6\" class=\"data row2 col6\" >0.120973</td> \n",
       "    </tr>    <tr> \n",
       "        <th id=\"T_71de889a_819f_11e9_83ad_3c77e65484f4level0_row3\" class=\"row_heading level0 row3\" >windspeed</th> \n",
       "        <td id=\"T_71de889a_819f_11e9_83ad_3c77e65484f4row3_col0\" class=\"data row3 col0\" >0.138183</td> \n",
       "        <td id=\"T_71de889a_819f_11e9_83ad_3c77e65484f4row3_col1\" class=\"data row3 col1\" >0.165645</td> \n",
       "        <td id=\"T_71de889a_819f_11e9_83ad_3c77e65484f4row3_col2\" class=\"data row3 col2\" >0.205273</td> \n",
       "        <td id=\"T_71de889a_819f_11e9_83ad_3c77e65484f4row3_col3\" class=\"data row3 col3\" >1</td> \n",
       "        <td id=\"T_71de889a_819f_11e9_83ad_3c77e65484f4row3_col4\" class=\"data row3 col4\" >0.177481</td> \n",
       "        <td id=\"T_71de889a_819f_11e9_83ad_3c77e65484f4row3_col5\" class=\"data row3 col5\" >0.213087</td> \n",
       "        <td id=\"T_71de889a_819f_11e9_83ad_3c77e65484f4row3_col6\" class=\"data row3 col6\" >0.230985</td> \n",
       "    </tr>    <tr> \n",
       "        <th id=\"T_71de889a_819f_11e9_83ad_3c77e65484f4level0_row4\" class=\"row_heading level0 row4\" >casual user</th> \n",
       "        <td id=\"T_71de889a_819f_11e9_83ad_3c77e65484f4row4_col0\" class=\"data row4 col0\" >0.585568</td> \n",
       "        <td id=\"T_71de889a_819f_11e9_83ad_3c77e65484f4row4_col1\" class=\"data row4 col1\" >0.584664</td> \n",
       "        <td id=\"T_71de889a_819f_11e9_83ad_3c77e65484f4row4_col2\" class=\"data row4 col2\" >0.0888873</td> \n",
       "        <td id=\"T_71de889a_819f_11e9_83ad_3c77e65484f4row4_col3\" class=\"data row4 col3\" >0.177481</td> \n",
       "        <td id=\"T_71de889a_819f_11e9_83ad_3c77e65484f4row4_col4\" class=\"data row4 col4\" >1</td> \n",
       "        <td id=\"T_71de889a_819f_11e9_83ad_3c77e65484f4row4_col5\" class=\"data row4 col5\" >0.418987</td> \n",
       "        <td id=\"T_71de889a_819f_11e9_83ad_3c77e65484f4row4_col6\" class=\"data row4 col6\" >0.64008</td> \n",
       "    </tr>    <tr> \n",
       "        <th id=\"T_71de889a_819f_11e9_83ad_3c77e65484f4level0_row5\" class=\"row_heading level0 row5\" >registered user</th> \n",
       "        <td id=\"T_71de889a_819f_11e9_83ad_3c77e65484f4row5_col0\" class=\"data row5 col0\" >0.542106</td> \n",
       "        <td id=\"T_71de889a_819f_11e9_83ad_3c77e65484f4row5_col1\" class=\"data row5 col1\" >0.544994</td> \n",
       "        <td id=\"T_71de889a_819f_11e9_83ad_3c77e65484f4row5_col2\" class=\"data row5 col2\" >0.112971</td> \n",
       "        <td id=\"T_71de889a_819f_11e9_83ad_3c77e65484f4row5_col3\" class=\"data row5 col3\" >0.213087</td> \n",
       "        <td id=\"T_71de889a_819f_11e9_83ad_3c77e65484f4row5_col4\" class=\"data row5 col4\" >0.418987</td> \n",
       "        <td id=\"T_71de889a_819f_11e9_83ad_3c77e65484f4row5_col5\" class=\"data row5 col5\" >1</td> \n",
       "        <td id=\"T_71de889a_819f_11e9_83ad_3c77e65484f4row5_col6\" class=\"data row5 col6\" >0.965803</td> \n",
       "    </tr>    <tr> \n",
       "        <th id=\"T_71de889a_819f_11e9_83ad_3c77e65484f4level0_row6\" class=\"row_heading level0 row6\" >count of bike users</th> \n",
       "        <td id=\"T_71de889a_819f_11e9_83ad_3c77e65484f4row6_col0\" class=\"data row6 col0\" >0.625918</td> \n",
       "        <td id=\"T_71de889a_819f_11e9_83ad_3c77e65484f4row6_col1\" class=\"data row6 col1\" >0.628104</td> \n",
       "        <td id=\"T_71de889a_819f_11e9_83ad_3c77e65484f4row6_col2\" class=\"data row6 col2\" >0.120973</td> \n",
       "        <td id=\"T_71de889a_819f_11e9_83ad_3c77e65484f4row6_col3\" class=\"data row6 col3\" >0.230985</td> \n",
       "        <td id=\"T_71de889a_819f_11e9_83ad_3c77e65484f4row6_col4\" class=\"data row6 col4\" >0.64008</td> \n",
       "        <td id=\"T_71de889a_819f_11e9_83ad_3c77e65484f4row6_col5\" class=\"data row6 col5\" >0.965803</td> \n",
       "        <td id=\"T_71de889a_819f_11e9_83ad_3c77e65484f4row6_col6\" class=\"data row6 col6\" >1</td> \n",
       "    </tr></tbody> \n",
       "</table> "
      ],
      "text/plain": [
       "<pandas.io.formats.style.Styler at 0x1942e063dd8>"
      ]
     },
     "execution_count": 65,
     "metadata": {},
     "output_type": "execute_result"
    },
    {
     "data": {
      "image/png": "[encoded data removed]",
      "text/plain": [
       "<Figure size 504x360 with 2 Axes>"
      ]
     },
     "metadata": {
      "needs_background": "light"
     },
     "output_type": "display_data"
    }
   ],
   "source": [
    "#analysing numerical variables first\n",
    "#correlation analysis for numeric variables\n",
    "#extracting numerical variables\n",
    "num_names = [\"temperature\",\"temperature felt\",\"humidity\",\"windspeed\",\"casual user\",\"registered user\",\"count of bike users\"]\n",
    "cat_names = [\"season\",\"year\",\"month\",\"holiday\",\"weekday\",\"working day\",\"weather situation\"]\n",
    "bike_data_num=bike_data.loc[:,num_names]\n",
    "#Set the width and hieght of the plot\n",
    "f, ax = plt.subplots(figsize=(7, 5))\n",
    "\n",
    "#Generate correlation matrix\n",
    "corr = bike_data_num.corr()\n",
    "\n",
    "#Plot using seaborn library\n",
    "sns.heatmap(corr, mask=np.zeros_like(corr, dtype=np.bool), cmap=sns.diverging_palette(220, 10, as_cmap=True),\n",
    "            square=True, ax=ax)\n",
    "# Create correlation matrix\n",
    "corr_matrix = bike_data_num.corr().abs()\n",
    "corr_matrix.style.background_gradient(cmap='GnBu_r')"
   ]
  },
  {
   "cell_type": "code",
   "execution_count": 66,
   "metadata": {},
   "outputs": [
    {
     "data": {
      "text/plain": [
       "['temperature felt', 'count of bike users']"
      ]
     },
     "execution_count": 66,
     "metadata": {},
     "output_type": "execute_result"
    }
   ],
   "source": [
    "# Select upper triangle of correlation matrix\n",
    "upper = corr_matrix.where(np.triu(np.ones(corr_matrix.shape), k=1).astype(np.bool))\n",
    "\n",
    "# Find features with correlation greater than 0.95\n",
    "to_drop = [column for column in upper.columns if any(upper[column] > 0.95)]\n",
    "to_drop"
   ]
  },
  {
   "cell_type": "code",
   "execution_count": 67,
   "metadata": {},
   "outputs": [
    {
     "data": {
      "text/html": [
       "<div>\n",
       "<style scoped>\n",
       "    .dataframe tbody tr th:only-of-type {\n",
       "        vertical-align: middle;\n",
       "    }\n",
       "\n",
       "    .dataframe tbody tr th {\n",
       "        vertical-align: top;\n",
       "    }\n",
       "\n",
       "    .dataframe thead th {\n",
       "        text-align: right;\n",
       "    }\n",
       "</style>\n",
       "<table border=\"1\" class=\"dataframe\">\n",
       "  <thead>\n",
       "    <tr style=\"text-align: right;\">\n",
       "      <th></th>\n",
       "      <th>date-day</th>\n",
       "      <th>season</th>\n",
       "      <th>year</th>\n",
       "      <th>month</th>\n",
       "      <th>holiday</th>\n",
       "      <th>weekday</th>\n",
       "      <th>working day</th>\n",
       "      <th>weather situation</th>\n",
       "      <th>temperature</th>\n",
       "      <th>humidity</th>\n",
       "      <th>windspeed</th>\n",
       "      <th>casual user</th>\n",
       "      <th>registered user</th>\n",
       "      <th>count of bike users</th>\n",
       "    </tr>\n",
       "  </thead>\n",
       "  <tbody>\n",
       "    <tr>\n",
       "      <th>0</th>\n",
       "      <td>2011-01-01</td>\n",
       "      <td>1</td>\n",
       "      <td>0</td>\n",
       "      <td>1</td>\n",
       "      <td>0</td>\n",
       "      <td>6</td>\n",
       "      <td>0</td>\n",
       "      <td>2</td>\n",
       "      <td>0.344167</td>\n",
       "      <td>0.805833</td>\n",
       "      <td>0.160446</td>\n",
       "      <td>331.0</td>\n",
       "      <td>654.0</td>\n",
       "      <td>985.0</td>\n",
       "    </tr>\n",
       "    <tr>\n",
       "      <th>1</th>\n",
       "      <td>2011-01-02</td>\n",
       "      <td>1</td>\n",
       "      <td>0</td>\n",
       "      <td>1</td>\n",
       "      <td>0</td>\n",
       "      <td>0</td>\n",
       "      <td>0</td>\n",
       "      <td>2</td>\n",
       "      <td>0.363478</td>\n",
       "      <td>0.696087</td>\n",
       "      <td>0.248539</td>\n",
       "      <td>131.0</td>\n",
       "      <td>670.0</td>\n",
       "      <td>801.0</td>\n",
       "    </tr>\n",
       "    <tr>\n",
       "      <th>2</th>\n",
       "      <td>2011-01-03</td>\n",
       "      <td>1</td>\n",
       "      <td>0</td>\n",
       "      <td>1</td>\n",
       "      <td>0</td>\n",
       "      <td>1</td>\n",
       "      <td>1</td>\n",
       "      <td>1</td>\n",
       "      <td>0.196364</td>\n",
       "      <td>0.437273</td>\n",
       "      <td>0.248309</td>\n",
       "      <td>120.0</td>\n",
       "      <td>1229.0</td>\n",
       "      <td>1349.0</td>\n",
       "    </tr>\n",
       "    <tr>\n",
       "      <th>3</th>\n",
       "      <td>2011-01-04</td>\n",
       "      <td>1</td>\n",
       "      <td>0</td>\n",
       "      <td>1</td>\n",
       "      <td>0</td>\n",
       "      <td>2</td>\n",
       "      <td>1</td>\n",
       "      <td>1</td>\n",
       "      <td>0.200000</td>\n",
       "      <td>0.590435</td>\n",
       "      <td>0.160296</td>\n",
       "      <td>108.0</td>\n",
       "      <td>1454.0</td>\n",
       "      <td>1562.0</td>\n",
       "    </tr>\n",
       "    <tr>\n",
       "      <th>4</th>\n",
       "      <td>2011-01-05</td>\n",
       "      <td>1</td>\n",
       "      <td>0</td>\n",
       "      <td>1</td>\n",
       "      <td>0</td>\n",
       "      <td>3</td>\n",
       "      <td>1</td>\n",
       "      <td>1</td>\n",
       "      <td>0.226957</td>\n",
       "      <td>0.436957</td>\n",
       "      <td>0.186900</td>\n",
       "      <td>82.0</td>\n",
       "      <td>1518.0</td>\n",
       "      <td>1600.0</td>\n",
       "    </tr>\n",
       "  </tbody>\n",
       "</table>\n",
       "</div>"
      ],
      "text/plain": [
       "    date-day season year month holiday weekday working day weather situation  \\\n",
       "0 2011-01-01      1    0     1       0       6           0                 2   \n",
       "1 2011-01-02      1    0     1       0       0           0                 2   \n",
       "2 2011-01-03      1    0     1       0       1           1                 1   \n",
       "3 2011-01-04      1    0     1       0       2           1                 1   \n",
       "4 2011-01-05      1    0     1       0       3           1                 1   \n",
       "\n",
       "   temperature  humidity  windspeed  casual user  registered user  \\\n",
       "0     0.344167  0.805833   0.160446        331.0            654.0   \n",
       "1     0.363478  0.696087   0.248539        131.0            670.0   \n",
       "2     0.196364  0.437273   0.248309        120.0           1229.0   \n",
       "3     0.200000  0.590435   0.160296        108.0           1454.0   \n",
       "4     0.226957  0.436957   0.186900         82.0           1518.0   \n",
       "\n",
       "   count of bike users  \n",
       "0                985.0  \n",
       "1                801.0  \n",
       "2               1349.0  \n",
       "3               1562.0  \n",
       "4               1600.0  "
      ]
     },
     "execution_count": 67,
     "metadata": {},
     "output_type": "execute_result"
    }
   ],
   "source": [
    "#from correlation analysis we come to conclusion that temperature and temerature felt have high correlation\n",
    "#so we need to drop temperature felt \n",
    "bike_data=bike_data.drop([\"temperature felt\"],axis=1)\n",
    "bike_data.head()"
   ]
  },
  {
   "cell_type": "code",
   "execution_count": 68,
   "metadata": {},
   "outputs": [
    {
     "name": "stdout",
     "output_type": "stream",
     "text": [
      "season\n",
      "0.5306886312713439\n",
      "year\n",
      "0.41642366315035007\n",
      "month\n",
      "0.4756091821561145\n",
      "holiday\n",
      "0.7870836122582522\n",
      "weekday\n",
      "0.43936502670720573\n",
      "working day\n",
      "0.504633411642988\n",
      "weather situation\n",
      "0.5464467453059881\n"
     ]
    }
   ],
   "source": [
    "#for catagorical variables we will perform Chisquare test of independence\n",
    "for i in cat_names:\n",
    "    print(i)\n",
    "    chi2, p, dof, ex = chi2_contingency(pd.crosstab(bike_data['count of bike users'], bike_data[i]))\n",
    "    print(p)"
   ]
  },
  {
   "cell_type": "code",
   "execution_count": 69,
   "metadata": {},
   "outputs": [
    {
     "data": {
      "text/html": [
       "<div>\n",
       "<style scoped>\n",
       "    .dataframe tbody tr th:only-of-type {\n",
       "        vertical-align: middle;\n",
       "    }\n",
       "\n",
       "    .dataframe tbody tr th {\n",
       "        vertical-align: top;\n",
       "    }\n",
       "\n",
       "    .dataframe thead th {\n",
       "        text-align: right;\n",
       "    }\n",
       "</style>\n",
       "<table border=\"1\" class=\"dataframe\">\n",
       "  <thead>\n",
       "    <tr style=\"text-align: right;\">\n",
       "      <th></th>\n",
       "      <th>date-day</th>\n",
       "      <th>season</th>\n",
       "      <th>year</th>\n",
       "      <th>month</th>\n",
       "      <th>weekday</th>\n",
       "      <th>working day</th>\n",
       "      <th>weather situation</th>\n",
       "      <th>temperature</th>\n",
       "      <th>humidity</th>\n",
       "      <th>windspeed</th>\n",
       "      <th>casual user</th>\n",
       "      <th>registered user</th>\n",
       "      <th>count of bike users</th>\n",
       "    </tr>\n",
       "  </thead>\n",
       "  <tbody>\n",
       "    <tr>\n",
       "      <th>0</th>\n",
       "      <td>2011-01-01</td>\n",
       "      <td>1</td>\n",
       "      <td>0</td>\n",
       "      <td>1</td>\n",
       "      <td>6</td>\n",
       "      <td>0</td>\n",
       "      <td>2</td>\n",
       "      <td>0.344167</td>\n",
       "      <td>0.805833</td>\n",
       "      <td>0.160446</td>\n",
       "      <td>331.0</td>\n",
       "      <td>654.0</td>\n",
       "      <td>985.0</td>\n",
       "    </tr>\n",
       "    <tr>\n",
       "      <th>1</th>\n",
       "      <td>2011-01-02</td>\n",
       "      <td>1</td>\n",
       "      <td>0</td>\n",
       "      <td>1</td>\n",
       "      <td>0</td>\n",
       "      <td>0</td>\n",
       "      <td>2</td>\n",
       "      <td>0.363478</td>\n",
       "      <td>0.696087</td>\n",
       "      <td>0.248539</td>\n",
       "      <td>131.0</td>\n",
       "      <td>670.0</td>\n",
       "      <td>801.0</td>\n",
       "    </tr>\n",
       "    <tr>\n",
       "      <th>2</th>\n",
       "      <td>2011-01-03</td>\n",
       "      <td>1</td>\n",
       "      <td>0</td>\n",
       "      <td>1</td>\n",
       "      <td>1</td>\n",
       "      <td>1</td>\n",
       "      <td>1</td>\n",
       "      <td>0.196364</td>\n",
       "      <td>0.437273</td>\n",
       "      <td>0.248309</td>\n",
       "      <td>120.0</td>\n",
       "      <td>1229.0</td>\n",
       "      <td>1349.0</td>\n",
       "    </tr>\n",
       "    <tr>\n",
       "      <th>3</th>\n",
       "      <td>2011-01-04</td>\n",
       "      <td>1</td>\n",
       "      <td>0</td>\n",
       "      <td>1</td>\n",
       "      <td>2</td>\n",
       "      <td>1</td>\n",
       "      <td>1</td>\n",
       "      <td>0.200000</td>\n",
       "      <td>0.590435</td>\n",
       "      <td>0.160296</td>\n",
       "      <td>108.0</td>\n",
       "      <td>1454.0</td>\n",
       "      <td>1562.0</td>\n",
       "    </tr>\n",
       "    <tr>\n",
       "      <th>4</th>\n",
       "      <td>2011-01-05</td>\n",
       "      <td>1</td>\n",
       "      <td>0</td>\n",
       "      <td>1</td>\n",
       "      <td>3</td>\n",
       "      <td>1</td>\n",
       "      <td>1</td>\n",
       "      <td>0.226957</td>\n",
       "      <td>0.436957</td>\n",
       "      <td>0.186900</td>\n",
       "      <td>82.0</td>\n",
       "      <td>1518.0</td>\n",
       "      <td>1600.0</td>\n",
       "    </tr>\n",
       "  </tbody>\n",
       "</table>\n",
       "</div>"
      ],
      "text/plain": [
       "    date-day season year month weekday working day weather situation  \\\n",
       "0 2011-01-01      1    0     1       6           0                 2   \n",
       "1 2011-01-02      1    0     1       0           0                 2   \n",
       "2 2011-01-03      1    0     1       1           1                 1   \n",
       "3 2011-01-04      1    0     1       2           1                 1   \n",
       "4 2011-01-05      1    0     1       3           1                 1   \n",
       "\n",
       "   temperature  humidity  windspeed  casual user  registered user  \\\n",
       "0     0.344167  0.805833   0.160446        331.0            654.0   \n",
       "1     0.363478  0.696087   0.248539        131.0            670.0   \n",
       "2     0.196364  0.437273   0.248309        120.0           1229.0   \n",
       "3     0.200000  0.590435   0.160296        108.0           1454.0   \n",
       "4     0.226957  0.436957   0.186900         82.0           1518.0   \n",
       "\n",
       "   count of bike users  \n",
       "0                985.0  \n",
       "1                801.0  \n",
       "2               1349.0  \n",
       "3               1562.0  \n",
       "4               1600.0  "
      ]
     },
     "execution_count": 69,
     "metadata": {},
     "output_type": "execute_result"
    }
   ],
   "source": [
    "#\n",
    "#\n",
    "bike_data=bike_data.drop([\"holiday\"],axis=1)\n",
    "bike_data.head()"
   ]
  },
  {
   "cell_type": "markdown",
   "metadata": {},
   "source": [
    "# feature scalling"
   ]
  },
  {
   "cell_type": "code",
   "execution_count": 70,
   "metadata": {},
   "outputs": [
    {
     "name": "stdout",
     "output_type": "stream",
     "text": [
      "casual user\n",
      "registered user\n"
     ]
    },
    {
     "data": {
      "text/html": [
       "<div>\n",
       "<style scoped>\n",
       "    .dataframe tbody tr th:only-of-type {\n",
       "        vertical-align: middle;\n",
       "    }\n",
       "\n",
       "    .dataframe tbody tr th {\n",
       "        vertical-align: top;\n",
       "    }\n",
       "\n",
       "    .dataframe thead th {\n",
       "        text-align: right;\n",
       "    }\n",
       "</style>\n",
       "<table border=\"1\" class=\"dataframe\">\n",
       "  <thead>\n",
       "    <tr style=\"text-align: right;\">\n",
       "      <th></th>\n",
       "      <th>date-day</th>\n",
       "      <th>season</th>\n",
       "      <th>year</th>\n",
       "      <th>month</th>\n",
       "      <th>weekday</th>\n",
       "      <th>working day</th>\n",
       "      <th>weather situation</th>\n",
       "      <th>temperature</th>\n",
       "      <th>humidity</th>\n",
       "      <th>windspeed</th>\n",
       "      <th>casual user</th>\n",
       "      <th>registered user</th>\n",
       "      <th>count of bike users</th>\n",
       "    </tr>\n",
       "  </thead>\n",
       "  <tbody>\n",
       "    <tr>\n",
       "      <th>0</th>\n",
       "      <td>2011-01-01</td>\n",
       "      <td>1</td>\n",
       "      <td>0</td>\n",
       "      <td>1</td>\n",
       "      <td>6</td>\n",
       "      <td>0</td>\n",
       "      <td>2</td>\n",
       "      <td>0.344167</td>\n",
       "      <td>0.805833</td>\n",
       "      <td>0.160446</td>\n",
       "      <td>0.143106</td>\n",
       "      <td>0.091539</td>\n",
       "      <td>985.0</td>\n",
       "    </tr>\n",
       "    <tr>\n",
       "      <th>1</th>\n",
       "      <td>2011-01-02</td>\n",
       "      <td>1</td>\n",
       "      <td>0</td>\n",
       "      <td>1</td>\n",
       "      <td>0</td>\n",
       "      <td>0</td>\n",
       "      <td>2</td>\n",
       "      <td>0.363478</td>\n",
       "      <td>0.696087</td>\n",
       "      <td>0.248539</td>\n",
       "      <td>0.056111</td>\n",
       "      <td>0.093849</td>\n",
       "      <td>801.0</td>\n",
       "    </tr>\n",
       "    <tr>\n",
       "      <th>2</th>\n",
       "      <td>2011-01-03</td>\n",
       "      <td>1</td>\n",
       "      <td>0</td>\n",
       "      <td>1</td>\n",
       "      <td>1</td>\n",
       "      <td>1</td>\n",
       "      <td>1</td>\n",
       "      <td>0.196364</td>\n",
       "      <td>0.437273</td>\n",
       "      <td>0.248309</td>\n",
       "      <td>0.051327</td>\n",
       "      <td>0.174560</td>\n",
       "      <td>1349.0</td>\n",
       "    </tr>\n",
       "    <tr>\n",
       "      <th>3</th>\n",
       "      <td>2011-01-04</td>\n",
       "      <td>1</td>\n",
       "      <td>0</td>\n",
       "      <td>1</td>\n",
       "      <td>2</td>\n",
       "      <td>1</td>\n",
       "      <td>1</td>\n",
       "      <td>0.200000</td>\n",
       "      <td>0.590435</td>\n",
       "      <td>0.160296</td>\n",
       "      <td>0.046107</td>\n",
       "      <td>0.207046</td>\n",
       "      <td>1562.0</td>\n",
       "    </tr>\n",
       "    <tr>\n",
       "      <th>4</th>\n",
       "      <td>2011-01-05</td>\n",
       "      <td>1</td>\n",
       "      <td>0</td>\n",
       "      <td>1</td>\n",
       "      <td>3</td>\n",
       "      <td>1</td>\n",
       "      <td>1</td>\n",
       "      <td>0.226957</td>\n",
       "      <td>0.436957</td>\n",
       "      <td>0.186900</td>\n",
       "      <td>0.034798</td>\n",
       "      <td>0.216286</td>\n",
       "      <td>1600.0</td>\n",
       "    </tr>\n",
       "  </tbody>\n",
       "</table>\n",
       "</div>"
      ],
      "text/plain": [
       "    date-day season year month weekday working day weather situation  \\\n",
       "0 2011-01-01      1    0     1       6           0                 2   \n",
       "1 2011-01-02      1    0     1       0           0                 2   \n",
       "2 2011-01-03      1    0     1       1           1                 1   \n",
       "3 2011-01-04      1    0     1       2           1                 1   \n",
       "4 2011-01-05      1    0     1       3           1                 1   \n",
       "\n",
       "   temperature  humidity  windspeed  casual user  registered user  \\\n",
       "0     0.344167  0.805833   0.160446     0.143106         0.091539   \n",
       "1     0.363478  0.696087   0.248539     0.056111         0.093849   \n",
       "2     0.196364  0.437273   0.248309     0.051327         0.174560   \n",
       "3     0.200000  0.590435   0.160296     0.046107         0.207046   \n",
       "4     0.226957  0.436957   0.186900     0.034798         0.216286   \n",
       "\n",
       "   count of bike users  \n",
       "0                985.0  \n",
       "1                801.0  \n",
       "2               1349.0  \n",
       "3               1562.0  \n",
       "4               1600.0  "
      ]
     },
     "execution_count": 70,
     "metadata": {},
     "output_type": "execute_result"
    }
   ],
   "source": [
    "#here the  six  numerics variables are present  out of six four variables are in normalize form\n",
    "#thus scaling casual user and registerd users\n",
    "fnames = ['casual user','registered user']\n",
    "\n",
    "for i in fnames :\n",
    "    print(i)\n",
    "    bike_data[i] = (bike_data[i] - np.min(bike_data[i]))/(np.max(bike_data[i]) - np.min(bike_data[i]))\n",
    "\n",
    "bike_data.head()"
   ]
  },
  {
   "cell_type": "markdown",
   "metadata": {},
   "source": [
    "# modeling"
   ]
  },
  {
   "cell_type": "code",
   "execution_count": 71,
   "metadata": {},
   "outputs": [],
   "source": [
    "#applying discetion tree modle for regression first\n",
    "#Load libraries\n",
    "from sklearn.model_selection import train_test_split\n",
    "from sklearn.tree import DecisionTreeRegressor\n",
    "from sklearn import metrics\n"
   ]
  },
  {
   "cell_type": "code",
   "execution_count": 72,
   "metadata": {},
   "outputs": [],
   "source": [
    "#spliting data into test and train for modling\n",
    "train, test = train_test_split(bike_data, test_size=0.2)\n",
    "x_train = train.iloc[:,1:12]\n",
    "y_train = train.iloc[:,12]\n",
    "\n",
    "x_test = test.iloc[:,1:12]\n",
    "y_test = test.iloc[:,12]\n"
   ]
  },
  {
   "cell_type": "code",
   "execution_count": 73,
   "metadata": {},
   "outputs": [
    {
     "name": "stdout",
     "output_type": "stream",
     "text": [
      "     actual    pred\n",
      "109  3944.0  4736.0\n",
      "392  4023.0  4736.0\n",
      "157  4833.0  4736.0\n",
      "21    981.0  1660.0\n",
      "217  4294.0  3219.0\n",
      "MEAN ABSOLUTE ERROR:17.77118197953835%\n",
      "Accuracy: 82.23 %.\n"
     ]
    }
   ],
   "source": [
    "#Decision tree for regression\n",
    "# Train the model using the training sets\n",
    "fit_DT = DecisionTreeRegressor(max_depth=2).fit(x_train, y_train)\n",
    "# make the predictions by the model\n",
    "predictions_DT = fit_DT.predict(x_test).round(0)\n",
    "# data frame for actual and predicted values\n",
    "df_dt = pd.DataFrame({'actual': y_test, 'pred': predictions_DT})\n",
    "print(df_dt.head())\n",
    "#Calculate MAPE\n",
    "def MAPE(y_true, y_pred): \n",
    "    mape = np.mean(np.abs(( y_true - y_pred) / y_true))*100\n",
    "    return mape\n",
    "mape=MAPE(y_test, predictions_DT)\n",
    "# Calculate and display accuracy\n",
    "accuracy = 100 - np.mean(mape)\n",
    "# errors and accuracy \n",
    "print(\"MEAN ABSOLUTE ERROR:\"+str(mape)+\"%\")\n",
    "print('Accuracy:', round(accuracy, 2), '%.')"
   ]
  },
  {
   "cell_type": "code",
   "execution_count": 74,
   "metadata": {},
   "outputs": [
    {
     "name": "stdout",
     "output_type": "stream",
     "text": [
      "     actual    pred\n",
      "109  3944.0  3963.0\n",
      "392  4023.0  4066.0\n",
      "157  4833.0  4859.0\n",
      "21    981.0  1007.0\n",
      "217  4294.0  4238.0\n",
      "MEAN ABSOLUTE ERROR:1.88018275302105%\n",
      "Accuracy: 98.12 %.\n"
     ]
    }
   ],
   "source": [
    "#Random forest for regression\n",
    "#Import libraries for RF\n",
    "from sklearn.ensemble import RandomForestRegressor\n",
    "# Train the model using the training sets\n",
    "RFmodel = RandomForestRegressor(n_estimators = 200).fit(x_train, y_train)\n",
    "# make the predictions by the model\n",
    "RF_Predictions = RFmodel.predict(x_test).round(0)\n",
    "# data frame for actual and predicted values\n",
    "df_RF = pd.DataFrame({'actual': y_test, 'pred': RF_Predictions})\n",
    "print(df_RF.head())\n",
    "# Calculate and display accuracy\n",
    "mape=MAPE(y_test,RF_Predictions)\n",
    "accuracy = 100 - np.mean(mape) \n",
    "print(\"MEAN ABSOLUTE ERROR:\"+str(mape)+\"%\")\n",
    "print('Accuracy:', round(accuracy, 2), '%.')\n"
   ]
  },
  {
   "cell_type": "code",
   "execution_count": 75,
   "metadata": {},
   "outputs": [
    {
     "name": "stdout",
     "output_type": "stream",
     "text": [
      "     actual    pred\n",
      "109  3944.0  3945.0\n",
      "392  4023.0  4021.0\n",
      "157  4833.0  4832.0\n",
      "21    981.0   973.0\n",
      "217  4294.0  4297.0\n",
      "MEAN ABSOLUTE ERROR:0.09036549858089063%\n",
      "Accuracy: 99.91 %.\n"
     ]
    }
   ],
   "source": [
    "# Linear Regression\n",
    "#Import libraries for LR\n",
    "import statsmodels.api as sm\n",
    "# Train the model using the training sets\n",
    "model = sm.OLS(y_train,x_train.astype(float)).fit()\n",
    "#Summary of model\n",
    "model.summary()\n",
    "# make the predictions by the model\n",
    "predictions_LR = model.predict(x_test.astype(float)).round(0)\n",
    "# data frame for actual and predicted values\n",
    "df_LR = pd.DataFrame({'actual': y_test, 'pred': predictions_LR})\n",
    "print(df_LR.head())\n",
    "# Calculate and display accuracy\n",
    "mape=MAPE(y_test,predictions_LR)\n",
    "accuracy = 100 - np.mean(mape) \n",
    "print(\"MEAN ABSOLUTE ERROR:\"+str(mape)+\"%\")\n",
    "print('Accuracy:', round(accuracy, 2), '%.')\n"
   ]
  },
  {
   "cell_type": "markdown",
   "metadata": {},
   "source": [
    "# thus lr modle would be best fit"
   ]
  },
  {
   "cell_type": "code",
   "execution_count": 78,
   "metadata": {},
   "outputs": [],
   "source": [
    "#output\n",
    "df_LR.to_csv(\"py output.csv\", index= False)"
   ]
  },
  {
   "cell_type": "code",
   "execution_count": null,
   "metadata": {},
   "outputs": [],
   "source": []
  }
 ],
 "metadata": {
  "kernelspec": {
   "display_name": "Python 3",
   "language": "python",
   "name": "python3"
  },
  "language_info": {
   "codemirror_mode": {
    "name": "ipython",
    "version": 3
   },
   "file_extension": ".py",
   "mimetype": "text/x-python",
   "name": "python",
   "nbconvert_exporter": "python",
   "pygments_lexer": "ipython3",
   "version": "3.7.1"
  }
 },
 "nbformat": 4,
 "nbformat_minor": 2
}
