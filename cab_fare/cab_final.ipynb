{
 "cells": [
  {
   "cell_type": "markdown",
   "metadata": {},
   "source": [
    "# cab_fare_pridicton"
   ]
  },
  {
   "cell_type": "code",
   "execution_count": 819,
   "metadata": {},
   "outputs": [],
   "source": [
    "#loading important libraries\n",
    "import os\n",
    "import pandas as pd\n",
    "import numpy as np\n",
    "import matplotlib.pyplot as plt\n",
    "import seaborn as sns  "
   ]
  },
  {
   "cell_type": "code",
   "execution_count": 825,
   "metadata": {},
   "outputs": [
    {
     "data": {
      "text/plain": [
       "'D:\\\\gaggi'"
      ]
     },
     "execution_count": 825,
     "metadata": {},
     "output_type": "execute_result"
    }
   ],
   "source": [
    "#changing the directory according to need\n",
    "os.chdir(\"D:\\gaggi\")\n",
    "os.getcwd()"
   ]
  },
  {
   "cell_type": "code",
   "execution_count": 826,
   "metadata": {},
   "outputs": [],
   "source": [
    "#loading data both test and train.\n",
    "cab_data=pd.read_csv('train_cab.csv')\n",
    "cab_data_test =pd.read_csv('test.csv')"
   ]
  },
  {
   "cell_type": "code",
   "execution_count": 827,
   "metadata": {},
   "outputs": [
    {
     "data": {
      "text/plain": [
       "(16067, 7)"
      ]
     },
     "execution_count": 827,
     "metadata": {},
     "output_type": "execute_result"
    }
   ],
   "source": [
    "#starting intial analysis on data \n",
    "#number of rows and columns\n",
    "cab_data.shape"
   ]
  },
  {
   "cell_type": "code",
   "execution_count": 828,
   "metadata": {},
   "outputs": [
    {
     "data": {
      "text/plain": [
       "(9914, 6)"
      ]
     },
     "execution_count": 828,
     "metadata": {},
     "output_type": "execute_result"
    }
   ],
   "source": [
    "cab_data_test.shape"
   ]
  },
  {
   "cell_type": "code",
   "execution_count": 829,
   "metadata": {},
   "outputs": [
    {
     "data": {
      "text/html": [
       "<div>\n",
       "<style scoped>\n",
       "    .dataframe tbody tr th:only-of-type {\n",
       "        vertical-align: middle;\n",
       "    }\n",
       "\n",
       "    .dataframe tbody tr th {\n",
       "        vertical-align: top;\n",
       "    }\n",
       "\n",
       "    .dataframe thead th {\n",
       "        text-align: right;\n",
       "    }\n",
       "</style>\n",
       "<table border=\"1\" class=\"dataframe\">\n",
       "  <thead>\n",
       "    <tr style=\"text-align: right;\">\n",
       "      <th></th>\n",
       "      <th>fare_amount</th>\n",
       "      <th>pickup_datetime</th>\n",
       "      <th>pickup_longitude</th>\n",
       "      <th>pickup_latitude</th>\n",
       "      <th>dropoff_longitude</th>\n",
       "      <th>dropoff_latitude</th>\n",
       "      <th>passenger_count</th>\n",
       "    </tr>\n",
       "  </thead>\n",
       "  <tbody>\n",
       "    <tr>\n",
       "      <th>0</th>\n",
       "      <td>4.5</td>\n",
       "      <td>2009-06-15 17:26:21 UTC</td>\n",
       "      <td>-73.844311</td>\n",
       "      <td>40.721319</td>\n",
       "      <td>-73.841610</td>\n",
       "      <td>40.712278</td>\n",
       "      <td>1.0</td>\n",
       "    </tr>\n",
       "    <tr>\n",
       "      <th>1</th>\n",
       "      <td>16.9</td>\n",
       "      <td>2010-01-05 16:52:16 UTC</td>\n",
       "      <td>-74.016048</td>\n",
       "      <td>40.711303</td>\n",
       "      <td>-73.979268</td>\n",
       "      <td>40.782004</td>\n",
       "      <td>1.0</td>\n",
       "    </tr>\n",
       "    <tr>\n",
       "      <th>2</th>\n",
       "      <td>5.7</td>\n",
       "      <td>2011-08-18 00:35:00 UTC</td>\n",
       "      <td>-73.982738</td>\n",
       "      <td>40.761270</td>\n",
       "      <td>-73.991242</td>\n",
       "      <td>40.750562</td>\n",
       "      <td>2.0</td>\n",
       "    </tr>\n",
       "    <tr>\n",
       "      <th>3</th>\n",
       "      <td>7.7</td>\n",
       "      <td>2012-04-21 04:30:42 UTC</td>\n",
       "      <td>-73.987130</td>\n",
       "      <td>40.733143</td>\n",
       "      <td>-73.991567</td>\n",
       "      <td>40.758092</td>\n",
       "      <td>1.0</td>\n",
       "    </tr>\n",
       "    <tr>\n",
       "      <th>4</th>\n",
       "      <td>5.3</td>\n",
       "      <td>2010-03-09 07:51:00 UTC</td>\n",
       "      <td>-73.968095</td>\n",
       "      <td>40.768008</td>\n",
       "      <td>-73.956655</td>\n",
       "      <td>40.783762</td>\n",
       "      <td>1.0</td>\n",
       "    </tr>\n",
       "  </tbody>\n",
       "</table>\n",
       "</div>"
      ],
      "text/plain": [
       "  fare_amount          pickup_datetime  pickup_longitude  pickup_latitude  \\\n",
       "0         4.5  2009-06-15 17:26:21 UTC        -73.844311        40.721319   \n",
       "1        16.9  2010-01-05 16:52:16 UTC        -74.016048        40.711303   \n",
       "2         5.7  2011-08-18 00:35:00 UTC        -73.982738        40.761270   \n",
       "3         7.7  2012-04-21 04:30:42 UTC        -73.987130        40.733143   \n",
       "4         5.3  2010-03-09 07:51:00 UTC        -73.968095        40.768008   \n",
       "\n",
       "   dropoff_longitude  dropoff_latitude  passenger_count  \n",
       "0         -73.841610         40.712278              1.0  \n",
       "1         -73.979268         40.782004              1.0  \n",
       "2         -73.991242         40.750562              2.0  \n",
       "3         -73.991567         40.758092              1.0  \n",
       "4         -73.956655         40.783762              1.0  "
      ]
     },
     "execution_count": 829,
     "metadata": {},
     "output_type": "execute_result"
    }
   ],
   "source": [
    "#so we have 16067 records in train data and 9914 records in test data initially\n",
    "#viewing first 5 rows of the data\n",
    "cab_data.head()"
   ]
  },
  {
   "cell_type": "code",
   "execution_count": 830,
   "metadata": {},
   "outputs": [
    {
     "data": {
      "text/plain": [
       "fare_amount           object\n",
       "pickup_datetime       object\n",
       "pickup_longitude     float64\n",
       "pickup_latitude      float64\n",
       "dropoff_longitude    float64\n",
       "dropoff_latitude     float64\n",
       "passenger_count      float64\n",
       "dtype: object"
      ]
     },
     "execution_count": 830,
     "metadata": {},
     "output_type": "execute_result"
    }
   ],
   "source": [
    "#lets check dtypes for train data\n",
    "cab_data.dtypes"
   ]
  },
  {
   "cell_type": "code",
   "execution_count": 831,
   "metadata": {},
   "outputs": [],
   "source": [
    "#fare amount has to be converted to float for analysis\n",
    "#fare value \"430-\" is to be cleaned before to convert it in numerical data type\n",
    "cab_data[\"fare_amount\"]=cab_data[\"fare_amount\"].str.replace(\"430-\",\"430\")\n",
    "cab_data[\"fare_amount\"]=cab_data[\"fare_amount\"].astype(float)"
   ]
  },
  {
   "cell_type": "code",
   "execution_count": 832,
   "metadata": {},
   "outputs": [
    {
     "data": {
      "text/plain": [
       "fare_amount          float64\n",
       "pickup_datetime       object\n",
       "pickup_longitude     float64\n",
       "pickup_latitude      float64\n",
       "dropoff_longitude    float64\n",
       "dropoff_latitude     float64\n",
       "passenger_count      float64\n",
       "dtype: object"
      ]
     },
     "execution_count": 832,
     "metadata": {},
     "output_type": "execute_result"
    }
   ],
   "source": [
    "#checking again\n",
    "cab_data.dtypes"
   ]
  },
  {
   "cell_type": "code",
   "execution_count": 833,
   "metadata": {},
   "outputs": [
    {
     "data": {
      "text/html": [
       "<div>\n",
       "<style scoped>\n",
       "    .dataframe tbody tr th:only-of-type {\n",
       "        vertical-align: middle;\n",
       "    }\n",
       "\n",
       "    .dataframe tbody tr th {\n",
       "        vertical-align: top;\n",
       "    }\n",
       "\n",
       "    .dataframe thead th {\n",
       "        text-align: right;\n",
       "    }\n",
       "</style>\n",
       "<table border=\"1\" class=\"dataframe\">\n",
       "  <thead>\n",
       "    <tr style=\"text-align: right;\">\n",
       "      <th></th>\n",
       "      <th>fare_amount</th>\n",
       "      <th>pickup_longitude</th>\n",
       "      <th>pickup_latitude</th>\n",
       "      <th>dropoff_longitude</th>\n",
       "      <th>dropoff_latitude</th>\n",
       "      <th>passenger_count</th>\n",
       "    </tr>\n",
       "  </thead>\n",
       "  <tbody>\n",
       "    <tr>\n",
       "      <th>count</th>\n",
       "      <td>16043.000000</td>\n",
       "      <td>16067.000000</td>\n",
       "      <td>16067.000000</td>\n",
       "      <td>16067.000000</td>\n",
       "      <td>16067.000000</td>\n",
       "      <td>16012.000000</td>\n",
       "    </tr>\n",
       "    <tr>\n",
       "      <th>mean</th>\n",
       "      <td>15.040871</td>\n",
       "      <td>-72.462787</td>\n",
       "      <td>39.914725</td>\n",
       "      <td>-72.462328</td>\n",
       "      <td>39.897906</td>\n",
       "      <td>2.625070</td>\n",
       "    </tr>\n",
       "    <tr>\n",
       "      <th>std</th>\n",
       "      <td>430.459997</td>\n",
       "      <td>10.578384</td>\n",
       "      <td>6.826587</td>\n",
       "      <td>10.575062</td>\n",
       "      <td>6.187087</td>\n",
       "      <td>60.844122</td>\n",
       "    </tr>\n",
       "    <tr>\n",
       "      <th>min</th>\n",
       "      <td>-3.000000</td>\n",
       "      <td>-74.438233</td>\n",
       "      <td>-74.006893</td>\n",
       "      <td>-74.429332</td>\n",
       "      <td>-74.006377</td>\n",
       "      <td>0.000000</td>\n",
       "    </tr>\n",
       "    <tr>\n",
       "      <th>25%</th>\n",
       "      <td>6.000000</td>\n",
       "      <td>-73.992156</td>\n",
       "      <td>40.734927</td>\n",
       "      <td>-73.991182</td>\n",
       "      <td>40.734651</td>\n",
       "      <td>1.000000</td>\n",
       "    </tr>\n",
       "    <tr>\n",
       "      <th>50%</th>\n",
       "      <td>8.500000</td>\n",
       "      <td>-73.981698</td>\n",
       "      <td>40.752603</td>\n",
       "      <td>-73.980172</td>\n",
       "      <td>40.753567</td>\n",
       "      <td>1.000000</td>\n",
       "    </tr>\n",
       "    <tr>\n",
       "      <th>75%</th>\n",
       "      <td>12.500000</td>\n",
       "      <td>-73.966838</td>\n",
       "      <td>40.767381</td>\n",
       "      <td>-73.963643</td>\n",
       "      <td>40.768013</td>\n",
       "      <td>2.000000</td>\n",
       "    </tr>\n",
       "    <tr>\n",
       "      <th>max</th>\n",
       "      <td>54343.000000</td>\n",
       "      <td>40.766125</td>\n",
       "      <td>401.083332</td>\n",
       "      <td>40.802437</td>\n",
       "      <td>41.366138</td>\n",
       "      <td>5345.000000</td>\n",
       "    </tr>\n",
       "  </tbody>\n",
       "</table>\n",
       "</div>"
      ],
      "text/plain": [
       "        fare_amount  pickup_longitude  pickup_latitude  dropoff_longitude  \\\n",
       "count  16043.000000      16067.000000     16067.000000       16067.000000   \n",
       "mean      15.040871        -72.462787        39.914725         -72.462328   \n",
       "std      430.459997         10.578384         6.826587          10.575062   \n",
       "min       -3.000000        -74.438233       -74.006893         -74.429332   \n",
       "25%        6.000000        -73.992156        40.734927         -73.991182   \n",
       "50%        8.500000        -73.981698        40.752603         -73.980172   \n",
       "75%       12.500000        -73.966838        40.767381         -73.963643   \n",
       "max    54343.000000         40.766125       401.083332          40.802437   \n",
       "\n",
       "       dropoff_latitude  passenger_count  \n",
       "count      16067.000000     16012.000000  \n",
       "mean          39.897906         2.625070  \n",
       "std            6.187087        60.844122  \n",
       "min          -74.006377         0.000000  \n",
       "25%           40.734651         1.000000  \n",
       "50%           40.753567         1.000000  \n",
       "75%           40.768013         2.000000  \n",
       "max           41.366138      5345.000000  "
      ]
     },
     "execution_count": 833,
     "metadata": {},
     "output_type": "execute_result"
    }
   ],
   "source": [
    "cab_data.describe()"
   ]
  },
  {
   "cell_type": "code",
   "execution_count": 834,
   "metadata": {},
   "outputs": [
    {
     "data": {
      "text/plain": [
       "pickup_datetime       object\n",
       "pickup_longitude     float64\n",
       "pickup_latitude      float64\n",
       "dropoff_longitude    float64\n",
       "dropoff_latitude     float64\n",
       "passenger_count        int64\n",
       "dtype: object"
      ]
     },
     "execution_count": 834,
     "metadata": {},
     "output_type": "execute_result"
    }
   ],
   "source": [
    " #from above analysis we can draw few insights about data.\n",
    "    #there are missing values in the data\n",
    "    #max fare \"54343\" and max pessenger\"5345\" sounds absard for a cab\n",
    "#continuing further analysis for test data as well.\n",
    "cab_data_test.dtypes"
   ]
  },
  {
   "cell_type": "code",
   "execution_count": 835,
   "metadata": {},
   "outputs": [
    {
     "data": {
      "text/html": [
       "<div>\n",
       "<style scoped>\n",
       "    .dataframe tbody tr th:only-of-type {\n",
       "        vertical-align: middle;\n",
       "    }\n",
       "\n",
       "    .dataframe tbody tr th {\n",
       "        vertical-align: top;\n",
       "    }\n",
       "\n",
       "    .dataframe thead th {\n",
       "        text-align: right;\n",
       "    }\n",
       "</style>\n",
       "<table border=\"1\" class=\"dataframe\">\n",
       "  <thead>\n",
       "    <tr style=\"text-align: right;\">\n",
       "      <th></th>\n",
       "      <th>pickup_longitude</th>\n",
       "      <th>pickup_latitude</th>\n",
       "      <th>dropoff_longitude</th>\n",
       "      <th>dropoff_latitude</th>\n",
       "      <th>passenger_count</th>\n",
       "    </tr>\n",
       "  </thead>\n",
       "  <tbody>\n",
       "    <tr>\n",
       "      <th>count</th>\n",
       "      <td>9914.000000</td>\n",
       "      <td>9914.000000</td>\n",
       "      <td>9914.000000</td>\n",
       "      <td>9914.000000</td>\n",
       "      <td>9914.000000</td>\n",
       "    </tr>\n",
       "    <tr>\n",
       "      <th>mean</th>\n",
       "      <td>-73.974722</td>\n",
       "      <td>40.751041</td>\n",
       "      <td>-73.973657</td>\n",
       "      <td>40.751743</td>\n",
       "      <td>1.671273</td>\n",
       "    </tr>\n",
       "    <tr>\n",
       "      <th>std</th>\n",
       "      <td>0.042774</td>\n",
       "      <td>0.033541</td>\n",
       "      <td>0.039072</td>\n",
       "      <td>0.035435</td>\n",
       "      <td>1.278747</td>\n",
       "    </tr>\n",
       "    <tr>\n",
       "      <th>min</th>\n",
       "      <td>-74.252193</td>\n",
       "      <td>40.573143</td>\n",
       "      <td>-74.263242</td>\n",
       "      <td>40.568973</td>\n",
       "      <td>1.000000</td>\n",
       "    </tr>\n",
       "    <tr>\n",
       "      <th>25%</th>\n",
       "      <td>-73.992501</td>\n",
       "      <td>40.736125</td>\n",
       "      <td>-73.991247</td>\n",
       "      <td>40.735254</td>\n",
       "      <td>1.000000</td>\n",
       "    </tr>\n",
       "    <tr>\n",
       "      <th>50%</th>\n",
       "      <td>-73.982326</td>\n",
       "      <td>40.753051</td>\n",
       "      <td>-73.980015</td>\n",
       "      <td>40.754065</td>\n",
       "      <td>1.000000</td>\n",
       "    </tr>\n",
       "    <tr>\n",
       "      <th>75%</th>\n",
       "      <td>-73.968013</td>\n",
       "      <td>40.767113</td>\n",
       "      <td>-73.964059</td>\n",
       "      <td>40.768757</td>\n",
       "      <td>2.000000</td>\n",
       "    </tr>\n",
       "    <tr>\n",
       "      <th>max</th>\n",
       "      <td>-72.986532</td>\n",
       "      <td>41.709555</td>\n",
       "      <td>-72.990963</td>\n",
       "      <td>41.696683</td>\n",
       "      <td>6.000000</td>\n",
       "    </tr>\n",
       "  </tbody>\n",
       "</table>\n",
       "</div>"
      ],
      "text/plain": [
       "       pickup_longitude  pickup_latitude  dropoff_longitude  dropoff_latitude  \\\n",
       "count       9914.000000      9914.000000        9914.000000       9914.000000   \n",
       "mean         -73.974722        40.751041         -73.973657         40.751743   \n",
       "std            0.042774         0.033541           0.039072          0.035435   \n",
       "min          -74.252193        40.573143         -74.263242         40.568973   \n",
       "25%          -73.992501        40.736125         -73.991247         40.735254   \n",
       "50%          -73.982326        40.753051         -73.980015         40.754065   \n",
       "75%          -73.968013        40.767113         -73.964059         40.768757   \n",
       "max          -72.986532        41.709555         -72.990963         41.696683   \n",
       "\n",
       "       passenger_count  \n",
       "count      9914.000000  \n",
       "mean          1.671273  \n",
       "std           1.278747  \n",
       "min           1.000000  \n",
       "25%           1.000000  \n",
       "50%           1.000000  \n",
       "75%           2.000000  \n",
       "max           6.000000  "
      ]
     },
     "execution_count": 835,
     "metadata": {},
     "output_type": "execute_result"
    }
   ],
   "source": [
    "#data types for test daya seems apt\n",
    "#test data looks okay at 1st glance no missing values no visable outliers as of now\n",
    "cab_data_test.describe()"
   ]
  },
  {
   "cell_type": "markdown",
   "metadata": {},
   "source": [
    "UNIVARIAT analysis"
   ]
  },
  {
   "cell_type": "code",
   "execution_count": 836,
   "metadata": {},
   "outputs": [
    {
     "data": {
      "text/plain": [
       "20"
      ]
     },
     "execution_count": 836,
     "metadata": {},
     "output_type": "execute_result"
    }
   ],
   "source": [
    "#lets start with passenger_count as observed it consists of outliers.\n",
    "# from common understanding a cab cannot have max passanger count more than 6.\n",
    "#we should consider max passanger count as 6\n",
    "#also 0 passanger also sounds absard.\n",
    "#pessenger should always be an whole number so all with desimal pessenger are also outliers.\n",
    "cab_data[\"passenger_count\"][cab_data[\"passenger_count\"]>6].count()"
   ]
  },
  {
   "cell_type": "code",
   "execution_count": 837,
   "metadata": {},
   "outputs": [
    {
     "data": {
      "text/plain": [
       "58"
      ]
     },
     "execution_count": 837,
     "metadata": {},
     "output_type": "execute_result"
    }
   ],
   "source": [
    "cab_data[\"passenger_count\"][cab_data[\"passenger_count\"]<1].count()"
   ]
  },
  {
   "cell_type": "code",
   "execution_count": 838,
   "metadata": {},
   "outputs": [
    {
     "data": {
      "text/plain": [
       "55"
      ]
     },
     "execution_count": 838,
     "metadata": {},
     "output_type": "execute_result"
    }
   ],
   "source": [
    "#there ares some odd 78 outliers in passenger_count column .\n",
    "#we could treat the outliers in 2 posible ways 11 droping them completly along with whole row \n",
    "#second we can convert them into NA values and treat them as missing values. that is populating them baised on data left\n",
    "#we are using second way as it results in less loss of data\n",
    "#there are already missing values present int passenger_count column thus we will be deaaling with all missing values at once.\n",
    "cab_data[\"passenger_count\"].isnull().sum()"
   ]
  },
  {
   "cell_type": "code",
   "execution_count": 839,
   "metadata": {},
   "outputs": [
    {
     "name": "stderr",
     "output_type": "stream",
     "text": [
      "C:\\Users\\hp\\Anaconda3\\lib\\site-packages\\pandas\\core\\indexing.py:189: SettingWithCopyWarning: \n",
      "A value is trying to be set on a copy of a slice from a DataFrame\n",
      "\n",
      "See the caveats in the documentation: http://pandas.pydata.org/pandas-docs/stable/indexing.html#indexing-view-versus-copy\n",
      "  self._setitem_with_indexer(indexer, value)\n"
     ]
    }
   ],
   "source": [
    "#coverting into NA\n",
    "cab_data[\"passenger_count\"].loc[cab_data[\"passenger_count\"]>6]=np.nan\n",
    "cab_data[\"passenger_count\"].loc[cab_data[\"passenger_count\"]<1]=np.nan"
   ]
  },
  {
   "cell_type": "code",
   "execution_count": 840,
   "metadata": {},
   "outputs": [
    {
     "data": {
      "text/plain": [
       "count    15934.000000\n",
       "mean         1.649636\n",
       "std          1.265896\n",
       "min          1.000000\n",
       "25%          1.000000\n",
       "50%          1.000000\n",
       "75%          2.000000\n",
       "max          6.000000\n",
       "Name: passenger_count, dtype: float64"
      ]
     },
     "execution_count": 840,
     "metadata": {},
     "output_type": "execute_result"
    }
   ],
   "source": [
    "cab_data[\"passenger_count\"].describe()"
   ]
  },
  {
   "cell_type": "code",
   "execution_count": 841,
   "metadata": {},
   "outputs": [
    {
     "data": {
      "text/plain": [
       "count    16043.000000\n",
       "mean        15.040871\n",
       "std        430.459997\n",
       "min         -3.000000\n",
       "25%          6.000000\n",
       "50%          8.500000\n",
       "75%         12.500000\n",
       "max      54343.000000\n",
       "Name: fare_amount, dtype: float64"
      ]
     },
     "execution_count": 841,
     "metadata": {},
     "output_type": "execute_result"
    }
   ],
   "source": [
    "#Fare_ammount\n",
    "cab_data[\"fare_amount\"].describe()"
   ]
  },
  {
   "cell_type": "code",
   "execution_count": 842,
   "metadata": {},
   "outputs": [
    {
     "data": {
      "text/plain": [
       "6"
      ]
     },
     "execution_count": 842,
     "metadata": {},
     "output_type": "execute_result"
    }
   ],
   "source": [
    "#initial analysis tells us that even fare ammount variable consists of missing values\n",
    "#there are absard outliers also like fare cannot be negative\n",
    "#also 54343$ for a cab fare is absard\n",
    "# again we would convert the outliers into missing values to avaoid any data loss or atleast minimize it\n",
    "# doing some research we are considering the max fare as $300 and min fare to be $2.5\n",
    "cab_data[\"fare_amount\"][cab_data[\"fare_amount\"]<2.5].count()"
   ]
  },
  {
   "cell_type": "code",
   "execution_count": 843,
   "metadata": {},
   "outputs": [
    {
     "data": {
      "text/plain": [
       "5"
      ]
     },
     "execution_count": 843,
     "metadata": {},
     "output_type": "execute_result"
    }
   ],
   "source": [
    "cab_data[\"fare_amount\"][cab_data[\"fare_amount\"]>300].count()"
   ]
  },
  {
   "cell_type": "code",
   "execution_count": 844,
   "metadata": {},
   "outputs": [],
   "source": [
    "#there are around 11 odd outliers lets convert them to NA\n",
    "cab_data[\"fare_amount\"].loc[cab_data[\"fare_amount\"]<2.5]=np.nan\n",
    "cab_data[\"fare_amount\"].loc[cab_data[\"fare_amount\"]>300]=np.nan"
   ]
  },
  {
   "cell_type": "code",
   "execution_count": 845,
   "metadata": {},
   "outputs": [
    {
     "data": {
      "text/plain": [
       "35"
      ]
     },
     "execution_count": 845,
     "metadata": {},
     "output_type": "execute_result"
    }
   ],
   "source": [
    "cab_data[\"fare_amount\"].isnull().sum()"
   ]
  },
  {
   "cell_type": "code",
   "execution_count": 846,
   "metadata": {},
   "outputs": [
    {
     "data": {
      "text/plain": [
       "count    16032.000000\n",
       "mean        11.308941\n",
       "std          9.649141\n",
       "min          2.500000\n",
       "25%          6.000000\n",
       "50%          8.500000\n",
       "75%         12.500000\n",
       "max        180.000000\n",
       "Name: fare_amount, dtype: float64"
      ]
     },
     "execution_count": 846,
     "metadata": {},
     "output_type": "execute_result"
    }
   ],
   "source": [
    "#we have 35 missing values in fare ammount\n",
    "cab_data[\"fare_amount\"].describe()"
   ]
  },
  {
   "cell_type": "code",
   "execution_count": 847,
   "metadata": {},
   "outputs": [
    {
     "data": {
      "text/html": [
       "<div>\n",
       "<style scoped>\n",
       "    .dataframe tbody tr th:only-of-type {\n",
       "        vertical-align: middle;\n",
       "    }\n",
       "\n",
       "    .dataframe tbody tr th {\n",
       "        vertical-align: top;\n",
       "    }\n",
       "\n",
       "    .dataframe thead th {\n",
       "        text-align: right;\n",
       "    }\n",
       "</style>\n",
       "<table border=\"1\" class=\"dataframe\">\n",
       "  <thead>\n",
       "    <tr style=\"text-align: right;\">\n",
       "      <th></th>\n",
       "      <th>fare_amount</th>\n",
       "      <th>pickup_longitude</th>\n",
       "      <th>pickup_latitude</th>\n",
       "      <th>dropoff_longitude</th>\n",
       "      <th>dropoff_latitude</th>\n",
       "      <th>passenger_count</th>\n",
       "    </tr>\n",
       "  </thead>\n",
       "  <tbody>\n",
       "    <tr>\n",
       "      <th>count</th>\n",
       "      <td>16032.000000</td>\n",
       "      <td>16067.000000</td>\n",
       "      <td>16067.000000</td>\n",
       "      <td>16067.000000</td>\n",
       "      <td>16067.000000</td>\n",
       "      <td>15934.000000</td>\n",
       "    </tr>\n",
       "    <tr>\n",
       "      <th>mean</th>\n",
       "      <td>11.308941</td>\n",
       "      <td>-72.462787</td>\n",
       "      <td>39.914725</td>\n",
       "      <td>-72.462328</td>\n",
       "      <td>39.897906</td>\n",
       "      <td>1.649636</td>\n",
       "    </tr>\n",
       "    <tr>\n",
       "      <th>std</th>\n",
       "      <td>9.649141</td>\n",
       "      <td>10.578384</td>\n",
       "      <td>6.826587</td>\n",
       "      <td>10.575062</td>\n",
       "      <td>6.187087</td>\n",
       "      <td>1.265896</td>\n",
       "    </tr>\n",
       "    <tr>\n",
       "      <th>min</th>\n",
       "      <td>2.500000</td>\n",
       "      <td>-74.438233</td>\n",
       "      <td>-74.006893</td>\n",
       "      <td>-74.429332</td>\n",
       "      <td>-74.006377</td>\n",
       "      <td>1.000000</td>\n",
       "    </tr>\n",
       "    <tr>\n",
       "      <th>25%</th>\n",
       "      <td>6.000000</td>\n",
       "      <td>-73.992156</td>\n",
       "      <td>40.734927</td>\n",
       "      <td>-73.991182</td>\n",
       "      <td>40.734651</td>\n",
       "      <td>1.000000</td>\n",
       "    </tr>\n",
       "    <tr>\n",
       "      <th>50%</th>\n",
       "      <td>8.500000</td>\n",
       "      <td>-73.981698</td>\n",
       "      <td>40.752603</td>\n",
       "      <td>-73.980172</td>\n",
       "      <td>40.753567</td>\n",
       "      <td>1.000000</td>\n",
       "    </tr>\n",
       "    <tr>\n",
       "      <th>75%</th>\n",
       "      <td>12.500000</td>\n",
       "      <td>-73.966838</td>\n",
       "      <td>40.767381</td>\n",
       "      <td>-73.963643</td>\n",
       "      <td>40.768013</td>\n",
       "      <td>2.000000</td>\n",
       "    </tr>\n",
       "    <tr>\n",
       "      <th>max</th>\n",
       "      <td>180.000000</td>\n",
       "      <td>40.766125</td>\n",
       "      <td>401.083332</td>\n",
       "      <td>40.802437</td>\n",
       "      <td>41.366138</td>\n",
       "      <td>6.000000</td>\n",
       "    </tr>\n",
       "  </tbody>\n",
       "</table>\n",
       "</div>"
      ],
      "text/plain": [
       "        fare_amount  pickup_longitude  pickup_latitude  dropoff_longitude  \\\n",
       "count  16032.000000      16067.000000     16067.000000       16067.000000   \n",
       "mean      11.308941        -72.462787        39.914725         -72.462328   \n",
       "std        9.649141         10.578384         6.826587          10.575062   \n",
       "min        2.500000        -74.438233       -74.006893         -74.429332   \n",
       "25%        6.000000        -73.992156        40.734927         -73.991182   \n",
       "50%        8.500000        -73.981698        40.752603         -73.980172   \n",
       "75%       12.500000        -73.966838        40.767381         -73.963643   \n",
       "max      180.000000         40.766125       401.083332          40.802437   \n",
       "\n",
       "       dropoff_latitude  passenger_count  \n",
       "count      16067.000000     15934.000000  \n",
       "mean          39.897906         1.649636  \n",
       "std            6.187087         1.265896  \n",
       "min          -74.006377         1.000000  \n",
       "25%           40.734651         1.000000  \n",
       "50%           40.753567         1.000000  \n",
       "75%           40.768013         2.000000  \n",
       "max           41.366138         6.000000  "
      ]
     },
     "execution_count": 847,
     "metadata": {},
     "output_type": "execute_result"
    }
   ],
   "source": [
    "#continuing with distance data i.e longitude and longitude\n",
    "#intial analysis gives (00)latitude longitude on googling seems absard as it is somewher in the otion thats not fissable for cab to pickup and dropof \n",
    "#0 value lat long would be outliers wich have to be treated\n",
    "#also we need to consider gernal otliers regarding min and max lat longitude\n",
    "#ther might be an posibility of inversion of latitude and longitude in the data\n",
    "cab_data.describe()"
   ]
  },
  {
   "cell_type": "code",
   "execution_count": 848,
   "metadata": {},
   "outputs": [
    {
     "name": "stdout",
     "output_type": "stream",
     "text": [
      "-74.263242 , -72.986532\n"
     ]
    }
   ],
   "source": [
    "#lets find the the min max rnge for latitude and longitude from test data as it is almost free from any outliers\n",
    "#max and min longitude from test data\n",
    "lon_min=min(cab_data_test.pickup_longitude.min(),cab_data_test.dropoff_longitude.min())\n",
    "lon_max=max(cab_data_test.pickup_longitude.max(),cab_data_test.dropoff_longitude.max())\n",
    "print(lon_min,',',lon_max)"
   ]
  },
  {
   "cell_type": "code",
   "execution_count": 849,
   "metadata": {},
   "outputs": [
    {
     "name": "stdout",
     "output_type": "stream",
     "text": [
      "40.568973 , 41.709555\n"
     ]
    }
   ],
   "source": [
    "#max and min longitude from test data\n",
    "lat_min=min(cab_data_test.pickup_latitude.min(),cab_data_test.dropoff_latitude.min())\n",
    "lat_max=max(cab_data_test.pickup_latitude.max(),cab_data_test.dropoff_latitude.max())\n",
    "print(lat_min,',',lat_max)"
   ]
  },
  {
   "cell_type": "code",
   "execution_count": 850,
   "metadata": {},
   "outputs": [],
   "source": [
    "#let us find outliers on bases of this range\n",
    "def select_outside_boundingbox(df, BB):\n",
    "    filter_df = df.loc[(df['pickup_longitude'] < BB[0]) | (df['pickup_longitude'] > BB[1]) | \\\n",
    "           (df['pickup_latitude'] < BB[2]) | (df['pickup_latitude'] > BB[3]) | \\\n",
    "           (df['dropoff_longitude'] < BB[0]) | (df['dropoff_longitude'] > BB[1]) | \\\n",
    "           (df['dropoff_latitude'] < BB[2]) | (df['dropoff_latitude'] > BB[3])]\n",
    "    \n",
    "    return filter_df\n",
    "\n",
    "\n",
    "BB = (-74.5, -72.8, 40.5, 41.8)"
   ]
  },
  {
   "cell_type": "code",
   "execution_count": 851,
   "metadata": {},
   "outputs": [
    {
     "data": {
      "text/html": [
       "<div>\n",
       "<style scoped>\n",
       "    .dataframe tbody tr th:only-of-type {\n",
       "        vertical-align: middle;\n",
       "    }\n",
       "\n",
       "    .dataframe tbody tr th {\n",
       "        vertical-align: top;\n",
       "    }\n",
       "\n",
       "    .dataframe thead th {\n",
       "        text-align: right;\n",
       "    }\n",
       "</style>\n",
       "<table border=\"1\" class=\"dataframe\">\n",
       "  <thead>\n",
       "    <tr style=\"text-align: right;\">\n",
       "      <th></th>\n",
       "      <th>fare_amount</th>\n",
       "      <th>pickup_datetime</th>\n",
       "      <th>pickup_longitude</th>\n",
       "      <th>pickup_latitude</th>\n",
       "      <th>dropoff_longitude</th>\n",
       "      <th>dropoff_latitude</th>\n",
       "      <th>passenger_count</th>\n",
       "    </tr>\n",
       "  </thead>\n",
       "  <tbody>\n",
       "    <tr>\n",
       "      <th>11</th>\n",
       "      <td>5.5</td>\n",
       "      <td>2012-12-24 11:24:00 UTC</td>\n",
       "      <td>0.0</td>\n",
       "      <td>0.0</td>\n",
       "      <td>0.0</td>\n",
       "      <td>0.0</td>\n",
       "      <td>3.0</td>\n",
       "    </tr>\n",
       "    <tr>\n",
       "      <th>15</th>\n",
       "      <td>5.0</td>\n",
       "      <td>2013-11-23 12:57:00 UTC</td>\n",
       "      <td>0.0</td>\n",
       "      <td>0.0</td>\n",
       "      <td>0.0</td>\n",
       "      <td>0.0</td>\n",
       "      <td>1.0</td>\n",
       "    </tr>\n",
       "    <tr>\n",
       "      <th>26</th>\n",
       "      <td>NaN</td>\n",
       "      <td>2011-02-07 20:01:00 UTC</td>\n",
       "      <td>0.0</td>\n",
       "      <td>0.0</td>\n",
       "      <td>0.0</td>\n",
       "      <td>0.0</td>\n",
       "      <td>1.0</td>\n",
       "    </tr>\n",
       "    <tr>\n",
       "      <th>124</th>\n",
       "      <td>8.0</td>\n",
       "      <td>2013-01-17 17:22:00 UTC</td>\n",
       "      <td>0.0</td>\n",
       "      <td>0.0</td>\n",
       "      <td>0.0</td>\n",
       "      <td>0.0</td>\n",
       "      <td>2.0</td>\n",
       "    </tr>\n",
       "    <tr>\n",
       "      <th>192</th>\n",
       "      <td>3.7</td>\n",
       "      <td>2010-09-05 17:08:00 UTC</td>\n",
       "      <td>0.0</td>\n",
       "      <td>0.0</td>\n",
       "      <td>0.0</td>\n",
       "      <td>0.0</td>\n",
       "      <td>5.0</td>\n",
       "    </tr>\n",
       "  </tbody>\n",
       "</table>\n",
       "</div>"
      ],
      "text/plain": [
       "     fare_amount          pickup_datetime  pickup_longitude  pickup_latitude  \\\n",
       "11           5.5  2012-12-24 11:24:00 UTC               0.0              0.0   \n",
       "15           5.0  2013-11-23 12:57:00 UTC               0.0              0.0   \n",
       "26           NaN  2011-02-07 20:01:00 UTC               0.0              0.0   \n",
       "124          8.0  2013-01-17 17:22:00 UTC               0.0              0.0   \n",
       "192          3.7  2010-09-05 17:08:00 UTC               0.0              0.0   \n",
       "\n",
       "     dropoff_longitude  dropoff_latitude  passenger_count  \n",
       "11                 0.0               0.0              3.0  \n",
       "15                 0.0               0.0              1.0  \n",
       "26                 0.0               0.0              1.0  \n",
       "124                0.0               0.0              2.0  \n",
       "192                0.0               0.0              5.0  "
      ]
     },
     "execution_count": 851,
     "metadata": {},
     "output_type": "execute_result"
    }
   ],
   "source": [
    "latlon_outliers = select_outside_boundingbox(cab_data, BB)\n",
    "latlon_outliers.head()"
   ]
  },
  {
   "cell_type": "code",
   "execution_count": 852,
   "metadata": {},
   "outputs": [
    {
     "data": {
      "text/plain": [
       "(348, 7)"
      ]
     },
     "execution_count": 852,
     "metadata": {},
     "output_type": "execute_result"
    }
   ],
   "source": [
    "latlon_outliers.shape"
   ]
  },
  {
   "cell_type": "code",
   "execution_count": 853,
   "metadata": {},
   "outputs": [
    {
     "data": {
      "text/html": [
       "<div>\n",
       "<style scoped>\n",
       "    .dataframe tbody tr th:only-of-type {\n",
       "        vertical-align: middle;\n",
       "    }\n",
       "\n",
       "    .dataframe tbody tr th {\n",
       "        vertical-align: top;\n",
       "    }\n",
       "\n",
       "    .dataframe thead th {\n",
       "        text-align: right;\n",
       "    }\n",
       "</style>\n",
       "<table border=\"1\" class=\"dataframe\">\n",
       "  <thead>\n",
       "    <tr style=\"text-align: right;\">\n",
       "      <th></th>\n",
       "      <th>fare_amount</th>\n",
       "      <th>pickup_longitude</th>\n",
       "      <th>pickup_latitude</th>\n",
       "      <th>dropoff_longitude</th>\n",
       "      <th>dropoff_latitude</th>\n",
       "      <th>passenger_count</th>\n",
       "    </tr>\n",
       "  </thead>\n",
       "  <tbody>\n",
       "    <tr>\n",
       "      <th>count</th>\n",
       "      <td>346.000000</td>\n",
       "      <td>348.000000</td>\n",
       "      <td>348.000000</td>\n",
       "      <td>348.000000</td>\n",
       "      <td>348.000000</td>\n",
       "      <td>344.000000</td>\n",
       "    </tr>\n",
       "    <tr>\n",
       "      <th>mean</th>\n",
       "      <td>11.697514</td>\n",
       "      <td>-4.164561</td>\n",
       "      <td>2.125611</td>\n",
       "      <td>-4.188082</td>\n",
       "      <td>1.326309</td>\n",
       "      <td>1.613372</td>\n",
       "    </tr>\n",
       "    <tr>\n",
       "      <th>std</th>\n",
       "      <td>11.702505</td>\n",
       "      <td>19.982603</td>\n",
       "      <td>26.339887</td>\n",
       "      <td>19.985379</td>\n",
       "      <td>15.723119</td>\n",
       "      <td>1.265808</td>\n",
       "    </tr>\n",
       "    <tr>\n",
       "      <th>min</th>\n",
       "      <td>2.500000</td>\n",
       "      <td>-74.129877</td>\n",
       "      <td>-74.006893</td>\n",
       "      <td>-74.136677</td>\n",
       "      <td>-74.006377</td>\n",
       "      <td>1.000000</td>\n",
       "    </tr>\n",
       "    <tr>\n",
       "      <th>25%</th>\n",
       "      <td>5.700000</td>\n",
       "      <td>0.000000</td>\n",
       "      <td>0.000000</td>\n",
       "      <td>0.000000</td>\n",
       "      <td>0.000000</td>\n",
       "      <td>1.000000</td>\n",
       "    </tr>\n",
       "    <tr>\n",
       "      <th>50%</th>\n",
       "      <td>8.100000</td>\n",
       "      <td>0.000000</td>\n",
       "      <td>0.000000</td>\n",
       "      <td>0.000000</td>\n",
       "      <td>0.000000</td>\n",
       "      <td>1.000000</td>\n",
       "    </tr>\n",
       "    <tr>\n",
       "      <th>75%</th>\n",
       "      <td>13.000000</td>\n",
       "      <td>0.000000</td>\n",
       "      <td>0.000000</td>\n",
       "      <td>0.000000</td>\n",
       "      <td>0.000000</td>\n",
       "      <td>2.000000</td>\n",
       "    </tr>\n",
       "    <tr>\n",
       "      <th>max</th>\n",
       "      <td>128.830000</td>\n",
       "      <td>40.766125</td>\n",
       "      <td>401.083332</td>\n",
       "      <td>40.802437</td>\n",
       "      <td>40.796543</td>\n",
       "      <td>6.000000</td>\n",
       "    </tr>\n",
       "  </tbody>\n",
       "</table>\n",
       "</div>"
      ],
      "text/plain": [
       "       fare_amount  pickup_longitude  pickup_latitude  dropoff_longitude  \\\n",
       "count   346.000000        348.000000       348.000000         348.000000   \n",
       "mean     11.697514         -4.164561         2.125611          -4.188082   \n",
       "std      11.702505         19.982603        26.339887          19.985379   \n",
       "min       2.500000        -74.129877       -74.006893         -74.136677   \n",
       "25%       5.700000          0.000000         0.000000           0.000000   \n",
       "50%       8.100000          0.000000         0.000000           0.000000   \n",
       "75%      13.000000          0.000000         0.000000           0.000000   \n",
       "max     128.830000         40.766125       401.083332          40.802437   \n",
       "\n",
       "       dropoff_latitude  passenger_count  \n",
       "count        348.000000       344.000000  \n",
       "mean           1.326309         1.613372  \n",
       "std           15.723119         1.265808  \n",
       "min          -74.006377         1.000000  \n",
       "25%            0.000000         1.000000  \n",
       "50%            0.000000         1.000000  \n",
       "75%            0.000000         2.000000  \n",
       "max           40.796543         6.000000  "
      ]
     },
     "execution_count": 853,
     "metadata": {},
     "output_type": "execute_result"
    }
   ],
   "source": [
    "#aroound 348 outliers exist in lat long\n",
    "#lets further our analysis\n",
    "latlon_outliers.describe()"
   ]
  },
  {
   "cell_type": "code",
   "execution_count": 854,
   "metadata": {},
   "outputs": [
    {
     "name": "stdout",
     "output_type": "stream",
     "text": [
      "Dropping all rows with 0s:\n",
      "Old size: 348\n",
      "New size: 22\n",
      "Dropped 326 records, or 93.68%\n"
     ]
    },
    {
     "data": {
      "text/html": [
       "<div>\n",
       "<style scoped>\n",
       "    .dataframe tbody tr th:only-of-type {\n",
       "        vertical-align: middle;\n",
       "    }\n",
       "\n",
       "    .dataframe tbody tr th {\n",
       "        vertical-align: top;\n",
       "    }\n",
       "\n",
       "    .dataframe thead th {\n",
       "        text-align: right;\n",
       "    }\n",
       "</style>\n",
       "<table border=\"1\" class=\"dataframe\">\n",
       "  <thead>\n",
       "    <tr style=\"text-align: right;\">\n",
       "      <th></th>\n",
       "      <th>fare_amount</th>\n",
       "      <th>pickup_longitude</th>\n",
       "      <th>pickup_latitude</th>\n",
       "      <th>dropoff_longitude</th>\n",
       "      <th>dropoff_latitude</th>\n",
       "      <th>passenger_count</th>\n",
       "    </tr>\n",
       "  </thead>\n",
       "  <tbody>\n",
       "    <tr>\n",
       "      <th>count</th>\n",
       "      <td>22.000000</td>\n",
       "      <td>22.000000</td>\n",
       "      <td>22.000000</td>\n",
       "      <td>22.000000</td>\n",
       "      <td>22.000000</td>\n",
       "      <td>22.000000</td>\n",
       "    </tr>\n",
       "    <tr>\n",
       "      <th>mean</th>\n",
       "      <td>11.331818</td>\n",
       "      <td>-28.896314</td>\n",
       "      <td>13.244061</td>\n",
       "      <td>-25.896616</td>\n",
       "      <td>-4.954036</td>\n",
       "      <td>1.681818</td>\n",
       "    </tr>\n",
       "    <tr>\n",
       "      <th>std</th>\n",
       "      <td>10.611960</td>\n",
       "      <td>56.084572</td>\n",
       "      <td>102.396210</td>\n",
       "      <td>55.323937</td>\n",
       "      <td>54.600214</td>\n",
       "      <td>1.358794</td>\n",
       "    </tr>\n",
       "    <tr>\n",
       "      <th>min</th>\n",
       "      <td>2.900000</td>\n",
       "      <td>-74.129877</td>\n",
       "      <td>-74.006893</td>\n",
       "      <td>-74.136677</td>\n",
       "      <td>-74.006377</td>\n",
       "      <td>1.000000</td>\n",
       "    </tr>\n",
       "    <tr>\n",
       "      <th>25%</th>\n",
       "      <td>4.625000</td>\n",
       "      <td>-73.978454</td>\n",
       "      <td>-73.986047</td>\n",
       "      <td>-73.976393</td>\n",
       "      <td>-73.958845</td>\n",
       "      <td>1.000000</td>\n",
       "    </tr>\n",
       "    <tr>\n",
       "      <th>50%</th>\n",
       "      <td>9.300000</td>\n",
       "      <td>-73.946170</td>\n",
       "      <td>39.610120</td>\n",
       "      <td>-73.935664</td>\n",
       "      <td>39.604998</td>\n",
       "      <td>1.000000</td>\n",
       "    </tr>\n",
       "    <tr>\n",
       "      <th>75%</th>\n",
       "      <td>13.000000</td>\n",
       "      <td>40.734938</td>\n",
       "      <td>40.614940</td>\n",
       "      <td>40.739497</td>\n",
       "      <td>40.278346</td>\n",
       "      <td>2.000000</td>\n",
       "    </tr>\n",
       "    <tr>\n",
       "      <th>max</th>\n",
       "      <td>52.000000</td>\n",
       "      <td>40.766125</td>\n",
       "      <td>401.083332</td>\n",
       "      <td>40.802437</td>\n",
       "      <td>40.778927</td>\n",
       "      <td>6.000000</td>\n",
       "    </tr>\n",
       "  </tbody>\n",
       "</table>\n",
       "</div>"
      ],
      "text/plain": [
       "       fare_amount  pickup_longitude  pickup_latitude  dropoff_longitude  \\\n",
       "count    22.000000         22.000000        22.000000          22.000000   \n",
       "mean     11.331818        -28.896314        13.244061         -25.896616   \n",
       "std      10.611960         56.084572       102.396210          55.323937   \n",
       "min       2.900000        -74.129877       -74.006893         -74.136677   \n",
       "25%       4.625000        -73.978454       -73.986047         -73.976393   \n",
       "50%       9.300000        -73.946170        39.610120         -73.935664   \n",
       "75%      13.000000         40.734938        40.614940          40.739497   \n",
       "max      52.000000         40.766125       401.083332          40.802437   \n",
       "\n",
       "       dropoff_latitude  passenger_count  \n",
       "count         22.000000        22.000000  \n",
       "mean          -4.954036         1.681818  \n",
       "std           54.600214         1.358794  \n",
       "min          -74.006377         1.000000  \n",
       "25%          -73.958845         1.000000  \n",
       "50%           39.604998         1.000000  \n",
       "75%           40.278346         2.000000  \n",
       "max           40.778927         6.000000  "
      ]
     },
     "execution_count": 854,
     "metadata": {},
     "output_type": "execute_result"
    }
   ],
   "source": [
    "#lets first deal with zeros in lat and long data\n",
    "#we are deleting all zero as the zero cordinate lies in ocean thats absard in tiself for a cab to travel\n",
    "def drop_0s(df, verbose=False):\n",
    "    if verbose:\n",
    "        print(\"Dropping all rows with 0s:\")\n",
    "        old_size = len(df)\n",
    "        print(\"Old size: {}\".format(old_size))\n",
    "\n",
    "    df = df.loc[~(df == 0).any(axis=1)]\n",
    "    \n",
    "\n",
    "    if verbose:\n",
    "        new_size = len(df)\n",
    "        print(\"New size: {}\".format(new_size))\n",
    "        difference = old_size - new_size\n",
    "        percent = (difference / old_size) * 100\n",
    "        print(\"Dropped {} records, or {:.2f}%\".format(difference, percent))\n",
    "    \n",
    "    return df\n",
    "\n",
    "latlon_outliers = drop_0s(latlon_outliers, True)\n",
    "\n",
    "latlon_outliers.describe()"
   ]
  },
  {
   "cell_type": "code",
   "execution_count": 855,
   "metadata": {},
   "outputs": [
    {
     "data": {
      "text/html": [
       "<div>\n",
       "<style scoped>\n",
       "    .dataframe tbody tr th:only-of-type {\n",
       "        vertical-align: middle;\n",
       "    }\n",
       "\n",
       "    .dataframe tbody tr th {\n",
       "        vertical-align: top;\n",
       "    }\n",
       "\n",
       "    .dataframe thead th {\n",
       "        text-align: right;\n",
       "    }\n",
       "</style>\n",
       "<table border=\"1\" class=\"dataframe\">\n",
       "  <thead>\n",
       "    <tr style=\"text-align: right;\">\n",
       "      <th></th>\n",
       "      <th>fare_amount</th>\n",
       "      <th>pickup_longitude</th>\n",
       "      <th>pickup_latitude</th>\n",
       "      <th>dropoff_longitude</th>\n",
       "      <th>dropoff_latitude</th>\n",
       "      <th>passenger_count</th>\n",
       "    </tr>\n",
       "  </thead>\n",
       "  <tbody>\n",
       "    <tr>\n",
       "      <th>count</th>\n",
       "      <td>8.000000</td>\n",
       "      <td>8.000000</td>\n",
       "      <td>8.000000</td>\n",
       "      <td>8.000000</td>\n",
       "      <td>8.000000</td>\n",
       "      <td>8.000000</td>\n",
       "    </tr>\n",
       "    <tr>\n",
       "      <th>mean</th>\n",
       "      <td>16.375000</td>\n",
       "      <td>40.747089</td>\n",
       "      <td>-73.991207</td>\n",
       "      <td>40.752877</td>\n",
       "      <td>-73.973476</td>\n",
       "      <td>1.875000</td>\n",
       "    </tr>\n",
       "    <tr>\n",
       "      <th>std</th>\n",
       "      <td>14.882276</td>\n",
       "      <td>0.017046</td>\n",
       "      <td>0.011292</td>\n",
       "      <td>0.024100</td>\n",
       "      <td>0.022082</td>\n",
       "      <td>1.726888</td>\n",
       "    </tr>\n",
       "    <tr>\n",
       "      <th>min</th>\n",
       "      <td>5.000000</td>\n",
       "      <td>40.719830</td>\n",
       "      <td>-74.006893</td>\n",
       "      <td>40.723305</td>\n",
       "      <td>-74.006377</td>\n",
       "      <td>1.000000</td>\n",
       "    </tr>\n",
       "    <tr>\n",
       "      <th>25%</th>\n",
       "      <td>9.875000</td>\n",
       "      <td>40.734938</td>\n",
       "      <td>-73.996263</td>\n",
       "      <td>40.739497</td>\n",
       "      <td>-73.982855</td>\n",
       "      <td>1.000000</td>\n",
       "    </tr>\n",
       "    <tr>\n",
       "      <th>50%</th>\n",
       "      <td>13.000000</td>\n",
       "      <td>40.749922</td>\n",
       "      <td>-73.990153</td>\n",
       "      <td>40.748894</td>\n",
       "      <td>-73.978158</td>\n",
       "      <td>1.000000</td>\n",
       "    </tr>\n",
       "    <tr>\n",
       "      <th>75%</th>\n",
       "      <td>15.125000</td>\n",
       "      <td>40.761476</td>\n",
       "      <td>-73.986047</td>\n",
       "      <td>40.759992</td>\n",
       "      <td>-73.958845</td>\n",
       "      <td>2.000000</td>\n",
       "    </tr>\n",
       "    <tr>\n",
       "      <th>max</th>\n",
       "      <td>52.000000</td>\n",
       "      <td>40.766125</td>\n",
       "      <td>-73.973047</td>\n",
       "      <td>40.802437</td>\n",
       "      <td>-73.939430</td>\n",
       "      <td>6.000000</td>\n",
       "    </tr>\n",
       "  </tbody>\n",
       "</table>\n",
       "</div>"
      ],
      "text/plain": [
       "       fare_amount  pickup_longitude  pickup_latitude  dropoff_longitude  \\\n",
       "count     8.000000          8.000000         8.000000           8.000000   \n",
       "mean     16.375000         40.747089       -73.991207          40.752877   \n",
       "std      14.882276          0.017046         0.011292           0.024100   \n",
       "min       5.000000         40.719830       -74.006893          40.723305   \n",
       "25%       9.875000         40.734938       -73.996263          40.739497   \n",
       "50%      13.000000         40.749922       -73.990153          40.748894   \n",
       "75%      15.125000         40.761476       -73.986047          40.759992   \n",
       "max      52.000000         40.766125       -73.973047          40.802437   \n",
       "\n",
       "       dropoff_latitude  passenger_count  \n",
       "count          8.000000         8.000000  \n",
       "mean         -73.973476         1.875000  \n",
       "std            0.022082         1.726888  \n",
       "min          -74.006377         1.000000  \n",
       "25%          -73.982855         1.000000  \n",
       "50%          -73.978158         1.000000  \n",
       "75%          -73.958845         2.000000  \n",
       "max          -73.939430         6.000000  "
      ]
     },
     "execution_count": 855,
     "metadata": {},
     "output_type": "execute_result"
    }
   ],
   "source": [
    "#as we can see many rows have values inverted  for latitude and longitude thesr data rows can be usefull if we could fix this\n",
    "def select_within_boundingbox(df, BB):\n",
    "    filter_df = df.loc[(df['pickup_longitude'] >= BB[0]) & (df['pickup_longitude'] <= BB[1]) & \\\n",
    "           (df['pickup_latitude'] >= BB[2]) & (df['pickup_latitude'] <= BB[3]) & \\\n",
    "           (df['dropoff_longitude'] >= BB[0]) & (df['dropoff_longitude'] <= BB[1]) & \\\n",
    "           (df['dropoff_latitude'] >= BB[2]) & (df['dropoff_latitude'] <= BB[3])]\n",
    "    \n",
    "    \n",
    "    return filter_df\n",
    "\n",
    "inverted_BB = (40.5, 41.8, -74.5, -72.8)\n",
    "\n",
    "inverted_outliers = select_within_boundingbox(latlon_outliers, inverted_BB)\n",
    "\n",
    "inverted_outliers.describe()"
   ]
  },
  {
   "cell_type": "code",
   "execution_count": 856,
   "metadata": {},
   "outputs": [
    {
     "data": {
      "text/html": [
       "<div>\n",
       "<style scoped>\n",
       "    .dataframe tbody tr th:only-of-type {\n",
       "        vertical-align: middle;\n",
       "    }\n",
       "\n",
       "    .dataframe tbody tr th {\n",
       "        vertical-align: top;\n",
       "    }\n",
       "\n",
       "    .dataframe thead th {\n",
       "        text-align: right;\n",
       "    }\n",
       "</style>\n",
       "<table border=\"1\" class=\"dataframe\">\n",
       "  <thead>\n",
       "    <tr style=\"text-align: right;\">\n",
       "      <th></th>\n",
       "      <th>fare_amount</th>\n",
       "      <th>pickup_latitude</th>\n",
       "      <th>dropoff_latitude</th>\n",
       "      <th>pickup_longitude</th>\n",
       "      <th>passenger_count</th>\n",
       "      <th>dropoff_longitude</th>\n",
       "    </tr>\n",
       "  </thead>\n",
       "  <tbody>\n",
       "    <tr>\n",
       "      <th>count</th>\n",
       "      <td>8.000000</td>\n",
       "      <td>8.000000</td>\n",
       "      <td>8.000000</td>\n",
       "      <td>8.000000</td>\n",
       "      <td>8.000000</td>\n",
       "      <td>8.000000</td>\n",
       "    </tr>\n",
       "    <tr>\n",
       "      <th>mean</th>\n",
       "      <td>16.375000</td>\n",
       "      <td>40.747089</td>\n",
       "      <td>40.752877</td>\n",
       "      <td>-73.991207</td>\n",
       "      <td>1.875000</td>\n",
       "      <td>-73.973476</td>\n",
       "    </tr>\n",
       "    <tr>\n",
       "      <th>std</th>\n",
       "      <td>14.882276</td>\n",
       "      <td>0.017046</td>\n",
       "      <td>0.024100</td>\n",
       "      <td>0.011292</td>\n",
       "      <td>1.726888</td>\n",
       "      <td>0.022082</td>\n",
       "    </tr>\n",
       "    <tr>\n",
       "      <th>min</th>\n",
       "      <td>5.000000</td>\n",
       "      <td>40.719830</td>\n",
       "      <td>40.723305</td>\n",
       "      <td>-74.006893</td>\n",
       "      <td>1.000000</td>\n",
       "      <td>-74.006377</td>\n",
       "    </tr>\n",
       "    <tr>\n",
       "      <th>25%</th>\n",
       "      <td>9.875000</td>\n",
       "      <td>40.734938</td>\n",
       "      <td>40.739497</td>\n",
       "      <td>-73.996263</td>\n",
       "      <td>1.000000</td>\n",
       "      <td>-73.982855</td>\n",
       "    </tr>\n",
       "    <tr>\n",
       "      <th>50%</th>\n",
       "      <td>13.000000</td>\n",
       "      <td>40.749922</td>\n",
       "      <td>40.748894</td>\n",
       "      <td>-73.990153</td>\n",
       "      <td>1.000000</td>\n",
       "      <td>-73.978158</td>\n",
       "    </tr>\n",
       "    <tr>\n",
       "      <th>75%</th>\n",
       "      <td>15.125000</td>\n",
       "      <td>40.761476</td>\n",
       "      <td>40.759992</td>\n",
       "      <td>-73.986047</td>\n",
       "      <td>2.000000</td>\n",
       "      <td>-73.958845</td>\n",
       "    </tr>\n",
       "    <tr>\n",
       "      <th>max</th>\n",
       "      <td>52.000000</td>\n",
       "      <td>40.766125</td>\n",
       "      <td>40.802437</td>\n",
       "      <td>-73.973047</td>\n",
       "      <td>6.000000</td>\n",
       "      <td>-73.939430</td>\n",
       "    </tr>\n",
       "  </tbody>\n",
       "</table>\n",
       "</div>"
      ],
      "text/plain": [
       "       fare_amount  pickup_latitude  dropoff_latitude  pickup_longitude  \\\n",
       "count     8.000000         8.000000          8.000000          8.000000   \n",
       "mean     16.375000        40.747089         40.752877        -73.991207   \n",
       "std      14.882276         0.017046          0.024100          0.011292   \n",
       "min       5.000000        40.719830         40.723305        -74.006893   \n",
       "25%       9.875000        40.734938         40.739497        -73.996263   \n",
       "50%      13.000000        40.749922         40.748894        -73.990153   \n",
       "75%      15.125000        40.761476         40.759992        -73.986047   \n",
       "max      52.000000        40.766125         40.802437        -73.973047   \n",
       "\n",
       "       passenger_count  dropoff_longitude  \n",
       "count         8.000000           8.000000  \n",
       "mean          1.875000         -73.973476  \n",
       "std           1.726888           0.022082  \n",
       "min           1.000000         -74.006377  \n",
       "25%           1.000000         -73.982855  \n",
       "50%           1.000000         -73.978158  \n",
       "75%           2.000000         -73.958845  \n",
       "max           6.000000         -73.939430  "
      ]
     },
     "execution_count": 856,
     "metadata": {},
     "output_type": "execute_result"
    }
   ],
   "source": [
    "def swap_inverted(df):\n",
    "    fixed_df = df.rename(columns={'pickup_longitude' : 'pickup_latitude', 'pickup_latitude' : 'pickup_longitude',\n",
    "                                                       'dropoff_longitude' : 'dropoff_latitude', 'dropoff_latitude' : 'dropoff_longitude'})\n",
    "    col_list = fixed_df.columns.tolist()\n",
    "    \n",
    "    col_list[3], col_list[4], col_list[5], col_list[6] = col_list[4], col_list[3], col_list[6], col_list[5]\n",
    "    \n",
    "    fixed_df = fixed_df[col_list]\n",
    "    \n",
    "    return fixed_df\n",
    "\n",
    "fixed_outliers = swap_inverted(inverted_outliers)\n",
    "\n",
    "fixed_outliers.describe()"
   ]
  },
  {
   "cell_type": "code",
   "execution_count": 858,
   "metadata": {},
   "outputs": [
    {
     "name": "stdout",
     "output_type": "stream",
     "text": [
      "Old size: 16067\n",
      "New size: 15719\n"
     ]
    },
    {
     "data": {
      "text/html": [
       "<div>\n",
       "<style scoped>\n",
       "    .dataframe tbody tr th:only-of-type {\n",
       "        vertical-align: middle;\n",
       "    }\n",
       "\n",
       "    .dataframe tbody tr th {\n",
       "        vertical-align: top;\n",
       "    }\n",
       "\n",
       "    .dataframe thead th {\n",
       "        text-align: right;\n",
       "    }\n",
       "</style>\n",
       "<table border=\"1\" class=\"dataframe\">\n",
       "  <thead>\n",
       "    <tr style=\"text-align: right;\">\n",
       "      <th></th>\n",
       "      <th>fare_amount</th>\n",
       "      <th>pickup_longitude</th>\n",
       "      <th>pickup_latitude</th>\n",
       "      <th>dropoff_longitude</th>\n",
       "      <th>dropoff_latitude</th>\n",
       "      <th>passenger_count</th>\n",
       "    </tr>\n",
       "  </thead>\n",
       "  <tbody>\n",
       "    <tr>\n",
       "      <th>count</th>\n",
       "      <td>15686.000000</td>\n",
       "      <td>15719.000000</td>\n",
       "      <td>15719.000000</td>\n",
       "      <td>15719.000000</td>\n",
       "      <td>15719.000000</td>\n",
       "      <td>15590.000000</td>\n",
       "    </tr>\n",
       "    <tr>\n",
       "      <th>mean</th>\n",
       "      <td>11.300370</td>\n",
       "      <td>-73.974829</td>\n",
       "      <td>40.751332</td>\n",
       "      <td>-73.973838</td>\n",
       "      <td>40.751835</td>\n",
       "      <td>1.650436</td>\n",
       "    </tr>\n",
       "    <tr>\n",
       "      <th>std</th>\n",
       "      <td>9.599172</td>\n",
       "      <td>0.041491</td>\n",
       "      <td>0.031504</td>\n",
       "      <td>0.039362</td>\n",
       "      <td>0.033457</td>\n",
       "      <td>1.265927</td>\n",
       "    </tr>\n",
       "    <tr>\n",
       "      <th>min</th>\n",
       "      <td>2.500000</td>\n",
       "      <td>-74.438233</td>\n",
       "      <td>40.500046</td>\n",
       "      <td>-74.429332</td>\n",
       "      <td>40.500046</td>\n",
       "      <td>1.000000</td>\n",
       "    </tr>\n",
       "    <tr>\n",
       "      <th>25%</th>\n",
       "      <td>6.000000</td>\n",
       "      <td>-73.992401</td>\n",
       "      <td>40.736604</td>\n",
       "      <td>-73.991377</td>\n",
       "      <td>40.736325</td>\n",
       "      <td>1.000000</td>\n",
       "    </tr>\n",
       "    <tr>\n",
       "      <th>50%</th>\n",
       "      <td>8.500000</td>\n",
       "      <td>-73.982060</td>\n",
       "      <td>40.753340</td>\n",
       "      <td>-73.980577</td>\n",
       "      <td>40.754255</td>\n",
       "      <td>1.000000</td>\n",
       "    </tr>\n",
       "    <tr>\n",
       "      <th>75%</th>\n",
       "      <td>12.500000</td>\n",
       "      <td>-73.968128</td>\n",
       "      <td>40.767805</td>\n",
       "      <td>-73.965399</td>\n",
       "      <td>40.768331</td>\n",
       "      <td>2.000000</td>\n",
       "    </tr>\n",
       "    <tr>\n",
       "      <th>max</th>\n",
       "      <td>180.000000</td>\n",
       "      <td>-73.137393</td>\n",
       "      <td>41.366138</td>\n",
       "      <td>-73.137393</td>\n",
       "      <td>41.366138</td>\n",
       "      <td>6.000000</td>\n",
       "    </tr>\n",
       "  </tbody>\n",
       "</table>\n",
       "</div>"
      ],
      "text/plain": [
       "        fare_amount  pickup_longitude  pickup_latitude  dropoff_longitude  \\\n",
       "count  15686.000000      15719.000000     15719.000000       15719.000000   \n",
       "mean      11.300370        -73.974829        40.751332         -73.973838   \n",
       "std        9.599172          0.041491         0.031504           0.039362   \n",
       "min        2.500000        -74.438233        40.500046         -74.429332   \n",
       "25%        6.000000        -73.992401        40.736604         -73.991377   \n",
       "50%        8.500000        -73.982060        40.753340         -73.980577   \n",
       "75%       12.500000        -73.968128        40.767805         -73.965399   \n",
       "max      180.000000        -73.137393        41.366138         -73.137393   \n",
       "\n",
       "       dropoff_latitude  passenger_count  \n",
       "count      15719.000000     15590.000000  \n",
       "mean          40.751835         1.650436  \n",
       "std            0.033457         1.265927  \n",
       "min           40.500046         1.000000  \n",
       "25%           40.736325         1.000000  \n",
       "50%           40.754255         1.000000  \n",
       "75%           40.768331         2.000000  \n",
       "max           41.366138         6.000000  "
      ]
     },
     "execution_count": 858,
     "metadata": {},
     "output_type": "execute_result"
    }
   ],
   "source": [
    "## Now we'll remove all rows with a datapoint that doesn't fall within the bounding box for NYC coordinates\n",
    "\n",
    "print(\"Old size: {}\".format(len(cab_data)))\n",
    "\n",
    "cab_data =cab_data.loc[(cab_data['pickup_longitude'] >= BB[0]) & (cab_data['pickup_longitude'] <= BB[1]) & \\\n",
    "           (cab_data['pickup_latitude'] >= BB[2]) & (cab_data['pickup_latitude'] <= BB[3]) & \\\n",
    "           (cab_data['dropoff_longitude'] >= BB[0]) & (cab_data['dropoff_longitude'] <= BB[1]) & \\\n",
    "           (cab_data['dropoff_latitude'] >= BB[2]) & (cab_data['dropoff_latitude'] <= BB[3])]\n",
    "    \n",
    "\n",
    "print(\"New size: {}\".format(len(cab_data)))\n",
    "\n",
    "cab_data.describe()"
   ]
  },
  {
   "cell_type": "code",
   "execution_count": 733,
   "metadata": {},
   "outputs": [
    {
     "data": {
      "text/html": [
       "<div>\n",
       "<style scoped>\n",
       "    .dataframe tbody tr th:only-of-type {\n",
       "        vertical-align: middle;\n",
       "    }\n",
       "\n",
       "    .dataframe tbody tr th {\n",
       "        vertical-align: top;\n",
       "    }\n",
       "\n",
       "    .dataframe thead th {\n",
       "        text-align: right;\n",
       "    }\n",
       "</style>\n",
       "<table border=\"1\" class=\"dataframe\">\n",
       "  <thead>\n",
       "    <tr style=\"text-align: right;\">\n",
       "      <th></th>\n",
       "      <th>dropoff_latitude</th>\n",
       "      <th>dropoff_longitude</th>\n",
       "      <th>fare_amount</th>\n",
       "      <th>passenger_count</th>\n",
       "      <th>pickup_latitude</th>\n",
       "      <th>pickup_longitude</th>\n",
       "    </tr>\n",
       "  </thead>\n",
       "  <tbody>\n",
       "    <tr>\n",
       "      <th>count</th>\n",
       "      <td>15727.000000</td>\n",
       "      <td>15727.000000</td>\n",
       "      <td>15694.000000</td>\n",
       "      <td>15598.000000</td>\n",
       "      <td>15727.000000</td>\n",
       "      <td>15727.000000</td>\n",
       "    </tr>\n",
       "    <tr>\n",
       "      <th>mean</th>\n",
       "      <td>40.751836</td>\n",
       "      <td>-73.973838</td>\n",
       "      <td>11.302957</td>\n",
       "      <td>1.650551</td>\n",
       "      <td>40.751329</td>\n",
       "      <td>-73.974837</td>\n",
       "    </tr>\n",
       "    <tr>\n",
       "      <th>std</th>\n",
       "      <td>0.033453</td>\n",
       "      <td>0.039354</td>\n",
       "      <td>9.602555</td>\n",
       "      <td>1.266141</td>\n",
       "      <td>0.031499</td>\n",
       "      <td>0.041483</td>\n",
       "    </tr>\n",
       "    <tr>\n",
       "      <th>min</th>\n",
       "      <td>40.500046</td>\n",
       "      <td>-74.429332</td>\n",
       "      <td>2.500000</td>\n",
       "      <td>1.000000</td>\n",
       "      <td>40.500046</td>\n",
       "      <td>-74.438233</td>\n",
       "    </tr>\n",
       "    <tr>\n",
       "      <th>25%</th>\n",
       "      <td>40.736333</td>\n",
       "      <td>-73.991377</td>\n",
       "      <td>6.000000</td>\n",
       "      <td>1.000000</td>\n",
       "      <td>40.736604</td>\n",
       "      <td>-73.992402</td>\n",
       "    </tr>\n",
       "    <tr>\n",
       "      <th>50%</th>\n",
       "      <td>40.754255</td>\n",
       "      <td>-73.980572</td>\n",
       "      <td>8.500000</td>\n",
       "      <td>1.000000</td>\n",
       "      <td>40.753326</td>\n",
       "      <td>-73.982076</td>\n",
       "    </tr>\n",
       "    <tr>\n",
       "      <th>75%</th>\n",
       "      <td>40.768322</td>\n",
       "      <td>-73.965396</td>\n",
       "      <td>12.500000</td>\n",
       "      <td>2.000000</td>\n",
       "      <td>40.767803</td>\n",
       "      <td>-73.968134</td>\n",
       "    </tr>\n",
       "    <tr>\n",
       "      <th>max</th>\n",
       "      <td>41.366138</td>\n",
       "      <td>-73.137393</td>\n",
       "      <td>180.000000</td>\n",
       "      <td>6.000000</td>\n",
       "      <td>41.366138</td>\n",
       "      <td>-73.137393</td>\n",
       "    </tr>\n",
       "  </tbody>\n",
       "</table>\n",
       "</div>"
      ],
      "text/plain": [
       "       dropoff_latitude  dropoff_longitude   fare_amount  passenger_count  \\\n",
       "count      15727.000000       15727.000000  15694.000000     15598.000000   \n",
       "mean          40.751836         -73.973838     11.302957         1.650551   \n",
       "std            0.033453           0.039354      9.602555         1.266141   \n",
       "min           40.500046         -74.429332      2.500000         1.000000   \n",
       "25%           40.736333         -73.991377      6.000000         1.000000   \n",
       "50%           40.754255         -73.980572      8.500000         1.000000   \n",
       "75%           40.768322         -73.965396     12.500000         2.000000   \n",
       "max           41.366138         -73.137393    180.000000         6.000000   \n",
       "\n",
       "       pickup_latitude  pickup_longitude  \n",
       "count     15727.000000      15727.000000  \n",
       "mean         40.751329        -73.974837  \n",
       "std           0.031499          0.041483  \n",
       "min          40.500046        -74.438233  \n",
       "25%          40.736604        -73.992402  \n",
       "50%          40.753326        -73.982076  \n",
       "75%          40.767803        -73.968134  \n",
       "max          41.366138        -73.137393  "
      ]
     },
     "execution_count": 733,
     "metadata": {},
     "output_type": "execute_result"
    }
   ],
   "source": [
    "#concatinating the filtered otliers with the data\n",
    "cab_data_copy = cab_data # Created a copy so as to avoid the possibility of adding the fixed outliers multiple times\n",
    "\n",
    "cab_data = pd.concat([cab_data_copy, fixed_outliers],ignore_index=True,sort=True)\n",
    "\n",
    "cab_data_copy = None  # Doing this to try to be a bit more memory efficient\n",
    "\n",
    "cab_data.describe()"
   ]
  },
  {
   "cell_type": "code",
   "execution_count": 734,
   "metadata": {},
   "outputs": [
    {
     "data": {
      "text/html": [
       "<div>\n",
       "<style scoped>\n",
       "    .dataframe tbody tr th:only-of-type {\n",
       "        vertical-align: middle;\n",
       "    }\n",
       "\n",
       "    .dataframe tbody tr th {\n",
       "        vertical-align: top;\n",
       "    }\n",
       "\n",
       "    .dataframe thead th {\n",
       "        text-align: right;\n",
       "    }\n",
       "</style>\n",
       "<table border=\"1\" class=\"dataframe\">\n",
       "  <thead>\n",
       "    <tr style=\"text-align: right;\">\n",
       "      <th></th>\n",
       "      <th>dropoff_latitude</th>\n",
       "      <th>dropoff_longitude</th>\n",
       "      <th>fare_amount</th>\n",
       "      <th>passenger_count</th>\n",
       "      <th>pickup_latitude</th>\n",
       "      <th>pickup_longitude</th>\n",
       "    </tr>\n",
       "  </thead>\n",
       "  <tbody>\n",
       "    <tr>\n",
       "      <th>count</th>\n",
       "      <td>15727.000000</td>\n",
       "      <td>15727.000000</td>\n",
       "      <td>15694.000000</td>\n",
       "      <td>15598.000000</td>\n",
       "      <td>15727.000000</td>\n",
       "      <td>15727.000000</td>\n",
       "    </tr>\n",
       "    <tr>\n",
       "      <th>mean</th>\n",
       "      <td>40.751836</td>\n",
       "      <td>-73.973838</td>\n",
       "      <td>11.302957</td>\n",
       "      <td>1.650551</td>\n",
       "      <td>40.751329</td>\n",
       "      <td>-73.974837</td>\n",
       "    </tr>\n",
       "    <tr>\n",
       "      <th>std</th>\n",
       "      <td>0.033453</td>\n",
       "      <td>0.039354</td>\n",
       "      <td>9.602555</td>\n",
       "      <td>1.266141</td>\n",
       "      <td>0.031499</td>\n",
       "      <td>0.041483</td>\n",
       "    </tr>\n",
       "    <tr>\n",
       "      <th>min</th>\n",
       "      <td>40.500046</td>\n",
       "      <td>-74.429332</td>\n",
       "      <td>2.500000</td>\n",
       "      <td>1.000000</td>\n",
       "      <td>40.500046</td>\n",
       "      <td>-74.438233</td>\n",
       "    </tr>\n",
       "    <tr>\n",
       "      <th>25%</th>\n",
       "      <td>40.736333</td>\n",
       "      <td>-73.991377</td>\n",
       "      <td>6.000000</td>\n",
       "      <td>1.000000</td>\n",
       "      <td>40.736604</td>\n",
       "      <td>-73.992402</td>\n",
       "    </tr>\n",
       "    <tr>\n",
       "      <th>50%</th>\n",
       "      <td>40.754255</td>\n",
       "      <td>-73.980572</td>\n",
       "      <td>8.500000</td>\n",
       "      <td>1.000000</td>\n",
       "      <td>40.753326</td>\n",
       "      <td>-73.982076</td>\n",
       "    </tr>\n",
       "    <tr>\n",
       "      <th>75%</th>\n",
       "      <td>40.768322</td>\n",
       "      <td>-73.965396</td>\n",
       "      <td>12.500000</td>\n",
       "      <td>2.000000</td>\n",
       "      <td>40.767803</td>\n",
       "      <td>-73.968134</td>\n",
       "    </tr>\n",
       "    <tr>\n",
       "      <th>max</th>\n",
       "      <td>41.366138</td>\n",
       "      <td>-73.137393</td>\n",
       "      <td>180.000000</td>\n",
       "      <td>6.000000</td>\n",
       "      <td>41.366138</td>\n",
       "      <td>-73.137393</td>\n",
       "    </tr>\n",
       "  </tbody>\n",
       "</table>\n",
       "</div>"
      ],
      "text/plain": [
       "       dropoff_latitude  dropoff_longitude   fare_amount  passenger_count  \\\n",
       "count      15727.000000       15727.000000  15694.000000     15598.000000   \n",
       "mean          40.751836         -73.973838     11.302957         1.650551   \n",
       "std            0.033453           0.039354      9.602555         1.266141   \n",
       "min           40.500046         -74.429332      2.500000         1.000000   \n",
       "25%           40.736333         -73.991377      6.000000         1.000000   \n",
       "50%           40.754255         -73.980572      8.500000         1.000000   \n",
       "75%           40.768322         -73.965396     12.500000         2.000000   \n",
       "max           41.366138         -73.137393    180.000000         6.000000   \n",
       "\n",
       "       pickup_latitude  pickup_longitude  \n",
       "count     15727.000000      15727.000000  \n",
       "mean         40.751329        -73.974837  \n",
       "std           0.031499          0.041483  \n",
       "min          40.500046        -74.438233  \n",
       "25%          40.736604        -73.992402  \n",
       "50%          40.753326        -73.982076  \n",
       "75%          40.767803        -73.968134  \n",
       "max          41.366138        -73.137393  "
      ]
     },
     "execution_count": 734,
     "metadata": {},
     "output_type": "execute_result"
    }
   ],
   "source": [
    "cab_data.describe()"
   ]
  },
  {
   "cell_type": "code",
   "execution_count": 735,
   "metadata": {},
   "outputs": [
    {
     "data": {
      "text/plain": [
       "dropoff_latitude       0\n",
       "dropoff_longitude      0\n",
       "fare_amount           33\n",
       "passenger_count      129\n",
       "pickup_datetime        0\n",
       "pickup_latitude        0\n",
       "pickup_longitude       0\n",
       "dtype: int64"
      ]
     },
     "execution_count": 735,
     "metadata": {},
     "output_type": "execute_result"
    }
   ],
   "source": [
    "#after dealing with latitude longitude data lts first trat missing values in the pessanger and fare variables\n",
    "cab_data.isnull().sum()"
   ]
  },
  {
   "cell_type": "code",
   "execution_count": 736,
   "metadata": {},
   "outputs": [],
   "source": [
    "#creating adata frame missing\n",
    "missing_val= pd.DataFrame(cab_data.isnull().sum())"
   ]
  },
  {
   "cell_type": "code",
   "execution_count": 737,
   "metadata": {},
   "outputs": [
    {
     "data": {
      "text/html": [
       "<div>\n",
       "<style scoped>\n",
       "    .dataframe tbody tr th:only-of-type {\n",
       "        vertical-align: middle;\n",
       "    }\n",
       "\n",
       "    .dataframe tbody tr th {\n",
       "        vertical-align: top;\n",
       "    }\n",
       "\n",
       "    .dataframe thead th {\n",
       "        text-align: right;\n",
       "    }\n",
       "</style>\n",
       "<table border=\"1\" class=\"dataframe\">\n",
       "  <thead>\n",
       "    <tr style=\"text-align: right;\">\n",
       "      <th></th>\n",
       "      <th>Variables</th>\n",
       "      <th>Missing_percentage</th>\n",
       "    </tr>\n",
       "  </thead>\n",
       "  <tbody>\n",
       "    <tr>\n",
       "      <th>0</th>\n",
       "      <td>dropoff_latitude</td>\n",
       "      <td>0.000000</td>\n",
       "    </tr>\n",
       "    <tr>\n",
       "      <th>1</th>\n",
       "      <td>dropoff_longitude</td>\n",
       "      <td>0.000000</td>\n",
       "    </tr>\n",
       "    <tr>\n",
       "      <th>2</th>\n",
       "      <td>fare_amount</td>\n",
       "      <td>0.209830</td>\n",
       "    </tr>\n",
       "    <tr>\n",
       "      <th>3</th>\n",
       "      <td>passenger_count</td>\n",
       "      <td>0.820245</td>\n",
       "    </tr>\n",
       "    <tr>\n",
       "      <th>4</th>\n",
       "      <td>pickup_datetime</td>\n",
       "      <td>0.000000</td>\n",
       "    </tr>\n",
       "    <tr>\n",
       "      <th>5</th>\n",
       "      <td>pickup_latitude</td>\n",
       "      <td>0.000000</td>\n",
       "    </tr>\n",
       "    <tr>\n",
       "      <th>6</th>\n",
       "      <td>pickup_longitude</td>\n",
       "      <td>0.000000</td>\n",
       "    </tr>\n",
       "  </tbody>\n",
       "</table>\n",
       "</div>"
      ],
      "text/plain": [
       "           Variables  Missing_percentage\n",
       "0   dropoff_latitude            0.000000\n",
       "1  dropoff_longitude            0.000000\n",
       "2        fare_amount            0.209830\n",
       "3    passenger_count            0.820245\n",
       "4    pickup_datetime            0.000000\n",
       "5    pickup_latitude            0.000000\n",
       "6   pickup_longitude            0.000000"
      ]
     },
     "execution_count": 737,
     "metadata": {},
     "output_type": "execute_result"
    }
   ],
   "source": [
    "#reseting the index\n",
    "missing_val = missing_val.reset_index()\n",
    "#Rename variable\n",
    "missing_val = missing_val.rename(columns = {'index': 'Variables', 0: 'Missing_percentage'})\n",
    "\n",
    "#Calculate percentage\n",
    "missing_val['Missing_percentage'] = (missing_val['Missing_percentage']/len(cab_data))*100\n",
    "missing_val"
   ]
  },
  {
   "cell_type": "code",
   "execution_count": 738,
   "metadata": {},
   "outputs": [],
   "source": [
    "#there are 0.2 percent and 0.8 percent missing values in fare and passenger respectively\n",
    "#creating copy of cab data for imputation purpose\n",
    "df1= cab_data.copy()\n",
    "df2= cab_data.copy()\n",
    "df3= cab_data.copy()"
   ]
  },
  {
   "cell_type": "code",
   "execution_count": 739,
   "metadata": {},
   "outputs": [
    {
     "data": {
      "text/plain": [
       "7.5"
      ]
     },
     "execution_count": 739,
     "metadata": {},
     "output_type": "execute_result"
    }
   ],
   "source": [
    "df1.iloc[6,2]"
   ]
  },
  {
   "cell_type": "code",
   "execution_count": 740,
   "metadata": {},
   "outputs": [],
   "source": [
    "df1.iloc[6,2]=np.nan\n",
    "df2.iloc[6,2]=np.nan\n",
    "df3.iloc[6,2]=np.nan"
   ]
  },
  {
   "cell_type": "code",
   "execution_count": 741,
   "metadata": {},
   "outputs": [
    {
     "data": {
      "text/plain": [
       "nan"
      ]
     },
     "execution_count": 741,
     "metadata": {},
     "output_type": "execute_result"
    }
   ],
   "source": [
    "df1.iloc[6,2]"
   ]
  },
  {
   "cell_type": "code",
   "execution_count": 742,
   "metadata": {},
   "outputs": [
    {
     "data": {
      "text/plain": [
       "11.303199515707629"
      ]
     },
     "execution_count": 742,
     "metadata": {},
     "output_type": "execute_result"
    }
   ],
   "source": [
    "#using mean method \n",
    "df1['fare_amount'] = df1['fare_amount'].fillna(df1['fare_amount'].mean())\n",
    "df1.iloc[6,2]"
   ]
  },
  {
   "cell_type": "code",
   "execution_count": 743,
   "metadata": {},
   "outputs": [
    {
     "data": {
      "text/plain": [
       "8.5"
      ]
     },
     "execution_count": 743,
     "metadata": {},
     "output_type": "execute_result"
    }
   ],
   "source": [
    "#using median method\n",
    "df2['fare_amount'] = df2['fare_amount'].fillna(df2['fare_amount'].median())\n",
    "df2.iloc[6,2]"
   ]
  },
  {
   "cell_type": "code",
   "execution_count": 744,
   "metadata": {},
   "outputs": [
    {
     "data": {
      "text/plain": [
       "12.1"
      ]
     },
     "execution_count": 744,
     "metadata": {},
     "output_type": "execute_result"
    }
   ],
   "source": [
    "#using interpolat\n",
    "df3['fare_amount'] = df3['fare_amount'].interpolate(method = 'nearest', limit_direction = 'both')\n",
    "df3.iloc[6,2]"
   ]
  },
  {
   "cell_type": "code",
   "execution_count": 745,
   "metadata": {},
   "outputs": [],
   "source": [
    "#usinng median methord for imputation of passenger variable and fare variable\n",
    "cab_data.fillna(cab_data.median(), inplace = True)"
   ]
  },
  {
   "cell_type": "code",
   "execution_count": 746,
   "metadata": {},
   "outputs": [
    {
     "data": {
      "text/plain": [
       "dropoff_latitude     0\n",
       "dropoff_longitude    0\n",
       "fare_amount          0\n",
       "passenger_count      0\n",
       "pickup_datetime      0\n",
       "pickup_latitude      0\n",
       "pickup_longitude     0\n",
       "dtype: int64"
      ]
     },
     "execution_count": 746,
     "metadata": {},
     "output_type": "execute_result"
    }
   ],
   "source": [
    "#checking missing values again\n",
    "cab_data.isnull().sum()"
   ]
  },
  {
   "cell_type": "code",
   "execution_count": 747,
   "metadata": {},
   "outputs": [
    {
     "data": {
      "text/html": [
       "<div>\n",
       "<style scoped>\n",
       "    .dataframe tbody tr th:only-of-type {\n",
       "        vertical-align: middle;\n",
       "    }\n",
       "\n",
       "    .dataframe tbody tr th {\n",
       "        vertical-align: top;\n",
       "    }\n",
       "\n",
       "    .dataframe thead th {\n",
       "        text-align: right;\n",
       "    }\n",
       "</style>\n",
       "<table border=\"1\" class=\"dataframe\">\n",
       "  <thead>\n",
       "    <tr style=\"text-align: right;\">\n",
       "      <th></th>\n",
       "      <th>dropoff_latitude</th>\n",
       "      <th>dropoff_longitude</th>\n",
       "      <th>fare_amount</th>\n",
       "      <th>passenger_count</th>\n",
       "      <th>pickup_latitude</th>\n",
       "      <th>pickup_longitude</th>\n",
       "    </tr>\n",
       "  </thead>\n",
       "  <tbody>\n",
       "    <tr>\n",
       "      <th>count</th>\n",
       "      <td>15727.000000</td>\n",
       "      <td>15727.000000</td>\n",
       "      <td>15727.000000</td>\n",
       "      <td>15727.000000</td>\n",
       "      <td>15727.000000</td>\n",
       "      <td>15727.000000</td>\n",
       "    </tr>\n",
       "    <tr>\n",
       "      <th>mean</th>\n",
       "      <td>40.751836</td>\n",
       "      <td>-73.973838</td>\n",
       "      <td>11.297076</td>\n",
       "      <td>1.645215</td>\n",
       "      <td>40.751329</td>\n",
       "      <td>-73.974837</td>\n",
       "    </tr>\n",
       "    <tr>\n",
       "      <th>std</th>\n",
       "      <td>0.033453</td>\n",
       "      <td>0.039354</td>\n",
       "      <td>9.593332</td>\n",
       "      <td>1.262302</td>\n",
       "      <td>0.031499</td>\n",
       "      <td>0.041483</td>\n",
       "    </tr>\n",
       "    <tr>\n",
       "      <th>min</th>\n",
       "      <td>40.500046</td>\n",
       "      <td>-74.429332</td>\n",
       "      <td>2.500000</td>\n",
       "      <td>1.000000</td>\n",
       "      <td>40.500046</td>\n",
       "      <td>-74.438233</td>\n",
       "    </tr>\n",
       "    <tr>\n",
       "      <th>25%</th>\n",
       "      <td>40.736333</td>\n",
       "      <td>-73.991377</td>\n",
       "      <td>6.000000</td>\n",
       "      <td>1.000000</td>\n",
       "      <td>40.736604</td>\n",
       "      <td>-73.992402</td>\n",
       "    </tr>\n",
       "    <tr>\n",
       "      <th>50%</th>\n",
       "      <td>40.754255</td>\n",
       "      <td>-73.980572</td>\n",
       "      <td>8.500000</td>\n",
       "      <td>1.000000</td>\n",
       "      <td>40.753326</td>\n",
       "      <td>-73.982076</td>\n",
       "    </tr>\n",
       "    <tr>\n",
       "      <th>75%</th>\n",
       "      <td>40.768322</td>\n",
       "      <td>-73.965396</td>\n",
       "      <td>12.500000</td>\n",
       "      <td>2.000000</td>\n",
       "      <td>40.767803</td>\n",
       "      <td>-73.968134</td>\n",
       "    </tr>\n",
       "    <tr>\n",
       "      <th>max</th>\n",
       "      <td>41.366138</td>\n",
       "      <td>-73.137393</td>\n",
       "      <td>180.000000</td>\n",
       "      <td>6.000000</td>\n",
       "      <td>41.366138</td>\n",
       "      <td>-73.137393</td>\n",
       "    </tr>\n",
       "  </tbody>\n",
       "</table>\n",
       "</div>"
      ],
      "text/plain": [
       "       dropoff_latitude  dropoff_longitude   fare_amount  passenger_count  \\\n",
       "count      15727.000000       15727.000000  15727.000000     15727.000000   \n",
       "mean          40.751836         -73.973838     11.297076         1.645215   \n",
       "std            0.033453           0.039354      9.593332         1.262302   \n",
       "min           40.500046         -74.429332      2.500000         1.000000   \n",
       "25%           40.736333         -73.991377      6.000000         1.000000   \n",
       "50%           40.754255         -73.980572      8.500000         1.000000   \n",
       "75%           40.768322         -73.965396     12.500000         2.000000   \n",
       "max           41.366138         -73.137393    180.000000         6.000000   \n",
       "\n",
       "       pickup_latitude  pickup_longitude  \n",
       "count     15727.000000      15727.000000  \n",
       "mean         40.751329        -73.974837  \n",
       "std           0.031499          0.041483  \n",
       "min          40.500046        -74.438233  \n",
       "25%          40.736604        -73.992402  \n",
       "50%          40.753326        -73.982076  \n",
       "75%          40.767803        -73.968134  \n",
       "max          41.366138        -73.137393  "
      ]
     },
     "execution_count": 747,
     "metadata": {},
     "output_type": "execute_result"
    }
   ],
   "source": [
    "#this concludes 1st phase of data cleaning\n",
    "#lets start ourEDA for the data\n",
    "#lets stars by converting pickup date timestamp to different other usefull columns\n",
    "#also lets apply feature enginnering to check and convert variables to right data format\n",
    "cab_data.describe()"
   ]
  },
  {
   "cell_type": "code",
   "execution_count": 748,
   "metadata": {},
   "outputs": [
    {
     "data": {
      "text/plain": [
       "dropoff_latitude     float64\n",
       "dropoff_longitude    float64\n",
       "fare_amount          float64\n",
       "passenger_count      float64\n",
       "pickup_datetime       object\n",
       "pickup_latitude      float64\n",
       "pickup_longitude     float64\n",
       "dtype: object"
      ]
     },
     "execution_count": 748,
     "metadata": {},
     "output_type": "execute_result"
    }
   ],
   "source": [
    " cab_data.dtypes"
   ]
  },
  {
   "cell_type": "code",
   "execution_count": 749,
   "metadata": {},
   "outputs": [
    {
     "data": {
      "text/plain": [
       "pickup_datetime       object\n",
       "pickup_longitude     float64\n",
       "pickup_latitude      float64\n",
       "dropoff_longitude    float64\n",
       "dropoff_latitude     float64\n",
       "passenger_count        int64\n",
       "dtype: object"
      ]
     },
     "execution_count": 749,
     "metadata": {},
     "output_type": "execute_result"
    }
   ],
   "source": [
    "#lets check for test data also\n",
    "cab_data[\"pickup_datetime\"]=cab_data[\"pickup_datetime\"].str.replace(\"UTC\",\"\")\n",
    "cab_data_test[\"pickup_datetime\"]=cab_data_test[\"pickup_datetime\"].str.replace(\"UTC\",\"\")\n",
    "cab_data_test.dtypes"
   ]
  },
  {
   "cell_type": "code",
   "execution_count": 750,
   "metadata": {},
   "outputs": [],
   "source": [
    "cab_data[\"passenger_count\"]=cab_data[\"passenger_count\"].astype(int)\n",
    "cab_data['pickup_datetime']  = pd.to_datetime(cab_data['pickup_datetime'],format='%Y-%m-%d %H:%M:%S', errors='coerce')\n",
    "cab_data_test['pickup_datetime']  = pd.to_datetime(cab_data_test['pickup_datetime'],format='%Y-%m-%d %H:%M:%S', errors='coerce')"
   ]
  },
  {
   "cell_type": "code",
   "execution_count": 751,
   "metadata": {},
   "outputs": [
    {
     "data": {
      "text/plain": [
       "dropoff_latitude            float64\n",
       "dropoff_longitude           float64\n",
       "fare_amount                 float64\n",
       "passenger_count               int32\n",
       "pickup_datetime      datetime64[ns]\n",
       "pickup_latitude             float64\n",
       "pickup_longitude            float64\n",
       "dtype: object"
      ]
     },
     "execution_count": 751,
     "metadata": {},
     "output_type": "execute_result"
    }
   ],
   "source": [
    "cab_data.dtypes"
   ]
  },
  {
   "cell_type": "code",
   "execution_count": 752,
   "metadata": {},
   "outputs": [
    {
     "data": {
      "text/plain": [
       "pickup_datetime      datetime64[ns]\n",
       "pickup_longitude            float64\n",
       "pickup_latitude             float64\n",
       "dropoff_longitude           float64\n",
       "dropoff_latitude            float64\n",
       "passenger_count               int64\n",
       "dtype: object"
      ]
     },
     "execution_count": 752,
     "metadata": {},
     "output_type": "execute_result"
    }
   ],
   "source": [
    "cab_data_test.dtypes"
   ]
  },
  {
   "cell_type": "code",
   "execution_count": 753,
   "metadata": {},
   "outputs": [
    {
     "data": {
      "text/plain": [
       "dropoff_latitude     0\n",
       "dropoff_longitude    0\n",
       "fare_amount          0\n",
       "passenger_count      0\n",
       "pickup_datetime      1\n",
       "pickup_latitude      0\n",
       "pickup_longitude     0\n",
       "dtype: int64"
      ]
     },
     "execution_count": 753,
     "metadata": {},
     "output_type": "execute_result"
    }
   ],
   "source": [
    "cab_data.isnull().sum()"
   ]
  },
  {
   "cell_type": "code",
   "execution_count": 754,
   "metadata": {},
   "outputs": [],
   "source": [
    "#drop the missing values\n",
    "cab_data = cab_data.drop(cab_data[cab_data.isnull().any(1)].index, axis = 0)"
   ]
  },
  {
   "cell_type": "code",
   "execution_count": null,
   "metadata": {},
   "outputs": [],
   "source": []
  },
  {
   "cell_type": "markdown",
   "metadata": {},
   "source": [
    " Now, for EDA. The following are my considerations -\n",
    "\n",
    "Does the number of passengers affect the fare?\n",
    "Does the date and time of pickup affect the fare?\n",
    "Does the day of the week affect the fare?\n",
    "Does the distance travelled affect the fare?\n",
    "First, let's split the datetime field 'pickup_datetime' to the following -\n",
    "\n",
    "year\n",
    "month\n",
    "date\n",
    "hour\n",
    "day of week\n",
    "Using these we shall calculate the day of the week and come to our conclusions about how pickup_location affects the fare. Also, create a new field 'distance' to fetch the distance between the pickup and the drop.\n",
    "We can calulate the distance in a sphere when latitudes and longitudes are given by [Haversine formula](https://en.wikipedia.org/wiki/Haversine_formula)\n",
    "\n",
    "**haversine(θ) = sin²(θ/2)**\n",
    "\n",
    "Eventually, the formual boils down to the following where φ is latitude, λ is longitude, R is earth’s radius (mean radius = 6,371km) to include latitude and longitude coordinates (A and B in this case).\n",
    "\n",
    "**a = sin²((φB - φA)/2) + cos φA . cos φB . sin²((λB - λA)/2)**\n",
    "\n",
    "**c = 2 * atan2( √a, √(1−a) )**\n",
    "\n",
    "**d = R ⋅ c**\n",
    "\n",
    "**d = Haversine distance**\n",
    "\n",
    "*Refer [this](https://community.esri.com/groups/coordinate-reference-systems/blog/2017/10/05/haversine-formula) page for more info and examples on Haversine formula*"
   ]
  },
  {
   "cell_type": "code",
   "execution_count": 755,
   "metadata": {},
   "outputs": [],
   "source": [
    "def prepare_time_features(df, drop=False):\n",
    "    df[\"hour\"] = df.pickup_datetime.dt.hour\n",
    "    df[\"day_of_week\"] = df.pickup_datetime.dt.weekday\n",
    "    df[\"day_of_month\"] = df.pickup_datetime.dt.day\n",
    "    df[\"week\"] = df.pickup_datetime.dt.week\n",
    "    df[\"month\"] = df.pickup_datetime.dt.month\n",
    "    df[\"year\"] = df.pickup_datetime.dt.year - 2000  # Reducing to 2 digits for less memory usage\n",
    "\n",
    "    if drop:\n",
    "        df.drop(columns=['pickup_datetime'], inplace=True)\n",
    "    \n",
    "\n",
    "        \n",
    "    return df\n",
    "\n",
    "cab_data= prepare_time_features(cab_data, True)\n",
    "\n",
    "cab_data_test = prepare_time_features(cab_data_test, True)"
   ]
  },
  {
   "cell_type": "code",
   "execution_count": 756,
   "metadata": {},
   "outputs": [
    {
     "data": {
      "text/html": [
       "<div>\n",
       "<style scoped>\n",
       "    .dataframe tbody tr th:only-of-type {\n",
       "        vertical-align: middle;\n",
       "    }\n",
       "\n",
       "    .dataframe tbody tr th {\n",
       "        vertical-align: top;\n",
       "    }\n",
       "\n",
       "    .dataframe thead th {\n",
       "        text-align: right;\n",
       "    }\n",
       "</style>\n",
       "<table border=\"1\" class=\"dataframe\">\n",
       "  <thead>\n",
       "    <tr style=\"text-align: right;\">\n",
       "      <th></th>\n",
       "      <th>dropoff_latitude</th>\n",
       "      <th>dropoff_longitude</th>\n",
       "      <th>fare_amount</th>\n",
       "      <th>passenger_count</th>\n",
       "      <th>pickup_latitude</th>\n",
       "      <th>pickup_longitude</th>\n",
       "      <th>hour</th>\n",
       "      <th>day_of_week</th>\n",
       "      <th>day_of_month</th>\n",
       "      <th>week</th>\n",
       "      <th>month</th>\n",
       "      <th>year</th>\n",
       "    </tr>\n",
       "  </thead>\n",
       "  <tbody>\n",
       "    <tr>\n",
       "      <th>count</th>\n",
       "      <td>15726.000000</td>\n",
       "      <td>15726.000000</td>\n",
       "      <td>15726.000000</td>\n",
       "      <td>15726.000000</td>\n",
       "      <td>15726.000000</td>\n",
       "      <td>15726.000000</td>\n",
       "      <td>15726.000000</td>\n",
       "      <td>15726.000000</td>\n",
       "      <td>15726.000000</td>\n",
       "      <td>15726.000000</td>\n",
       "      <td>15726.000000</td>\n",
       "      <td>15726.000000</td>\n",
       "    </tr>\n",
       "    <tr>\n",
       "      <th>mean</th>\n",
       "      <td>40.751835</td>\n",
       "      <td>-73.973837</td>\n",
       "      <td>11.297063</td>\n",
       "      <td>1.645237</td>\n",
       "      <td>40.751331</td>\n",
       "      <td>-73.974837</td>\n",
       "      <td>13.503179</td>\n",
       "      <td>3.032049</td>\n",
       "      <td>15.669337</td>\n",
       "      <td>25.453580</td>\n",
       "      <td>6.265230</td>\n",
       "      <td>11.735216</td>\n",
       "    </tr>\n",
       "    <tr>\n",
       "      <th>std</th>\n",
       "      <td>0.033454</td>\n",
       "      <td>0.039355</td>\n",
       "      <td>9.593636</td>\n",
       "      <td>1.262339</td>\n",
       "      <td>0.031499</td>\n",
       "      <td>0.041485</td>\n",
       "      <td>6.506660</td>\n",
       "      <td>1.969914</td>\n",
       "      <td>8.682774</td>\n",
       "      <td>14.998628</td>\n",
       "      <td>3.447639</td>\n",
       "      <td>1.866983</td>\n",
       "    </tr>\n",
       "    <tr>\n",
       "      <th>min</th>\n",
       "      <td>40.500046</td>\n",
       "      <td>-74.429332</td>\n",
       "      <td>2.500000</td>\n",
       "      <td>1.000000</td>\n",
       "      <td>40.500046</td>\n",
       "      <td>-74.438233</td>\n",
       "      <td>0.000000</td>\n",
       "      <td>0.000000</td>\n",
       "      <td>1.000000</td>\n",
       "      <td>1.000000</td>\n",
       "      <td>1.000000</td>\n",
       "      <td>9.000000</td>\n",
       "    </tr>\n",
       "    <tr>\n",
       "      <th>25%</th>\n",
       "      <td>40.736332</td>\n",
       "      <td>-73.991377</td>\n",
       "      <td>6.000000</td>\n",
       "      <td>1.000000</td>\n",
       "      <td>40.736615</td>\n",
       "      <td>-73.992403</td>\n",
       "      <td>9.000000</td>\n",
       "      <td>1.000000</td>\n",
       "      <td>8.000000</td>\n",
       "      <td>13.000000</td>\n",
       "      <td>3.000000</td>\n",
       "      <td>10.000000</td>\n",
       "    </tr>\n",
       "    <tr>\n",
       "      <th>50%</th>\n",
       "      <td>40.754254</td>\n",
       "      <td>-73.980571</td>\n",
       "      <td>8.500000</td>\n",
       "      <td>1.000000</td>\n",
       "      <td>40.753333</td>\n",
       "      <td>-73.982077</td>\n",
       "      <td>14.000000</td>\n",
       "      <td>3.000000</td>\n",
       "      <td>16.000000</td>\n",
       "      <td>24.000000</td>\n",
       "      <td>6.000000</td>\n",
       "      <td>12.000000</td>\n",
       "    </tr>\n",
       "    <tr>\n",
       "      <th>75%</th>\n",
       "      <td>40.768326</td>\n",
       "      <td>-73.965396</td>\n",
       "      <td>12.500000</td>\n",
       "      <td>2.000000</td>\n",
       "      <td>40.767803</td>\n",
       "      <td>-73.968132</td>\n",
       "      <td>19.000000</td>\n",
       "      <td>5.000000</td>\n",
       "      <td>23.000000</td>\n",
       "      <td>39.000000</td>\n",
       "      <td>9.000000</td>\n",
       "      <td>13.000000</td>\n",
       "    </tr>\n",
       "    <tr>\n",
       "      <th>max</th>\n",
       "      <td>41.366138</td>\n",
       "      <td>-73.137393</td>\n",
       "      <td>180.000000</td>\n",
       "      <td>6.000000</td>\n",
       "      <td>41.366138</td>\n",
       "      <td>-73.137393</td>\n",
       "      <td>23.000000</td>\n",
       "      <td>6.000000</td>\n",
       "      <td>31.000000</td>\n",
       "      <td>53.000000</td>\n",
       "      <td>12.000000</td>\n",
       "      <td>15.000000</td>\n",
       "    </tr>\n",
       "  </tbody>\n",
       "</table>\n",
       "</div>"
      ],
      "text/plain": [
       "       dropoff_latitude  dropoff_longitude   fare_amount  passenger_count  \\\n",
       "count      15726.000000       15726.000000  15726.000000     15726.000000   \n",
       "mean          40.751835         -73.973837     11.297063         1.645237   \n",
       "std            0.033454           0.039355      9.593636         1.262339   \n",
       "min           40.500046         -74.429332      2.500000         1.000000   \n",
       "25%           40.736332         -73.991377      6.000000         1.000000   \n",
       "50%           40.754254         -73.980571      8.500000         1.000000   \n",
       "75%           40.768326         -73.965396     12.500000         2.000000   \n",
       "max           41.366138         -73.137393    180.000000         6.000000   \n",
       "\n",
       "       pickup_latitude  pickup_longitude          hour   day_of_week  \\\n",
       "count     15726.000000      15726.000000  15726.000000  15726.000000   \n",
       "mean         40.751331        -73.974837     13.503179      3.032049   \n",
       "std           0.031499          0.041485      6.506660      1.969914   \n",
       "min          40.500046        -74.438233      0.000000      0.000000   \n",
       "25%          40.736615        -73.992403      9.000000      1.000000   \n",
       "50%          40.753333        -73.982077     14.000000      3.000000   \n",
       "75%          40.767803        -73.968132     19.000000      5.000000   \n",
       "max          41.366138        -73.137393     23.000000      6.000000   \n",
       "\n",
       "       day_of_month          week         month          year  \n",
       "count  15726.000000  15726.000000  15726.000000  15726.000000  \n",
       "mean      15.669337     25.453580      6.265230     11.735216  \n",
       "std        8.682774     14.998628      3.447639      1.866983  \n",
       "min        1.000000      1.000000      1.000000      9.000000  \n",
       "25%        8.000000     13.000000      3.000000     10.000000  \n",
       "50%       16.000000     24.000000      6.000000     12.000000  \n",
       "75%       23.000000     39.000000      9.000000     13.000000  \n",
       "max       31.000000     53.000000     12.000000     15.000000  "
      ]
     },
     "execution_count": 756,
     "metadata": {},
     "output_type": "execute_result"
    }
   ],
   "source": [
    "cab_data.describe()"
   ]
  },
  {
   "cell_type": "code",
   "execution_count": 757,
   "metadata": {},
   "outputs": [],
   "source": [
    "def haversine_distance(lat1, long1, lat2, long2):\n",
    "    data = [cab_data, cab_data_test]\n",
    "    for i in data:\n",
    "        R = 6371  #radius of earth in kilometers\n",
    "        #R = 3959 #radius of earth in miles\n",
    "        phi1 = np.radians(i[lat1])\n",
    "        phi2 = np.radians(i[lat2])\n",
    "    \n",
    "        delta_phi = np.radians(i[lat2]-i[lat1])\n",
    "        delta_lambda = np.radians(i[long2]-i[long1])\n",
    "    \n",
    "        #a = sin²((φB - φA)/2) + cos φA . cos φB . sin²((λB - λA)/2)\n",
    "        a = np.sin(delta_phi / 2.0) ** 2 + np.cos(phi1) * np.cos(phi2) * np.sin(delta_lambda / 2.0) ** 2\n",
    "    \n",
    "        #c = 2 * atan2( √a, √(1−a) )\n",
    "        c = 2 * np.arctan2(np.sqrt(a), np.sqrt(1-a))\n",
    "    \n",
    "        #d = R*c\n",
    "        d = (R * c) #in kilometers\n",
    "        i['H_Distance'] = d\n",
    "    return d"
   ]
  },
  {
   "cell_type": "code",
   "execution_count": 758,
   "metadata": {},
   "outputs": [
    {
     "data": {
      "text/plain": [
       "0        2.323259\n",
       "1        2.425353\n",
       "2        0.618628\n",
       "3        1.961033\n",
       "4        5.387301\n",
       "5        3.222549\n",
       "6        0.929601\n",
       "7       21.540102\n",
       "8        3.873962\n",
       "9        1.099794\n",
       "10       2.317685\n",
       "11       4.819179\n",
       "12       0.722670\n",
       "13       1.675503\n",
       "14       2.504032\n",
       "15       5.115375\n",
       "16       0.298838\n",
       "17       2.531147\n",
       "18       0.780444\n",
       "19       0.427282\n",
       "20       1.651946\n",
       "21       1.969211\n",
       "22       1.305441\n",
       "23       1.901295\n",
       "24       5.779720\n",
       "25       1.121687\n",
       "26      14.306540\n",
       "27       9.427870\n",
       "28       1.144529\n",
       "29       4.696371\n",
       "          ...    \n",
       "9884    15.119293\n",
       "9885     5.006239\n",
       "9886     7.376754\n",
       "9887     1.680721\n",
       "9888     0.000000\n",
       "9889     2.377723\n",
       "9890     2.944581\n",
       "9891     5.952839\n",
       "9892     2.950361\n",
       "9893     4.735375\n",
       "9894     3.101361\n",
       "9895     9.000325\n",
       "9896     2.398161\n",
       "9897     5.081664\n",
       "9898     0.555287\n",
       "9899     5.610505\n",
       "9900     1.890608\n",
       "9901     1.530118\n",
       "9902     3.891526\n",
       "9903     2.299316\n",
       "9904    15.091262\n",
       "9905     9.613798\n",
       "9906     0.369506\n",
       "9907     9.923998\n",
       "9908     1.636402\n",
       "9909     2.124874\n",
       "9910     3.270969\n",
       "9911    19.183942\n",
       "9912     8.343486\n",
       "9913     1.180825\n",
       "Length: 9914, dtype: float64"
      ]
     },
     "execution_count": 758,
     "metadata": {},
     "output_type": "execute_result"
    }
   ],
   "source": [
    "haversine_distance('pickup_latitude', 'pickup_longitude', 'dropoff_latitude', 'dropoff_longitude')"
   ]
  },
  {
   "cell_type": "code",
   "execution_count": 759,
   "metadata": {},
   "outputs": [
    {
     "data": {
      "text/html": [
       "<div>\n",
       "<style scoped>\n",
       "    .dataframe tbody tr th:only-of-type {\n",
       "        vertical-align: middle;\n",
       "    }\n",
       "\n",
       "    .dataframe tbody tr th {\n",
       "        vertical-align: top;\n",
       "    }\n",
       "\n",
       "    .dataframe thead th {\n",
       "        text-align: right;\n",
       "    }\n",
       "</style>\n",
       "<table border=\"1\" class=\"dataframe\">\n",
       "  <thead>\n",
       "    <tr style=\"text-align: right;\">\n",
       "      <th></th>\n",
       "      <th>dropoff_latitude</th>\n",
       "      <th>dropoff_longitude</th>\n",
       "      <th>fare_amount</th>\n",
       "      <th>passenger_count</th>\n",
       "      <th>pickup_latitude</th>\n",
       "      <th>pickup_longitude</th>\n",
       "      <th>hour</th>\n",
       "      <th>day_of_week</th>\n",
       "      <th>day_of_month</th>\n",
       "      <th>week</th>\n",
       "      <th>month</th>\n",
       "      <th>year</th>\n",
       "      <th>H_Distance</th>\n",
       "    </tr>\n",
       "  </thead>\n",
       "  <tbody>\n",
       "    <tr>\n",
       "      <th>count</th>\n",
       "      <td>15726.000000</td>\n",
       "      <td>15726.000000</td>\n",
       "      <td>15726.000000</td>\n",
       "      <td>15726.000000</td>\n",
       "      <td>15726.000000</td>\n",
       "      <td>15726.000000</td>\n",
       "      <td>15726.000000</td>\n",
       "      <td>15726.000000</td>\n",
       "      <td>15726.000000</td>\n",
       "      <td>15726.000000</td>\n",
       "      <td>15726.000000</td>\n",
       "      <td>15726.000000</td>\n",
       "      <td>15726.000000</td>\n",
       "    </tr>\n",
       "    <tr>\n",
       "      <th>mean</th>\n",
       "      <td>40.751835</td>\n",
       "      <td>-73.973837</td>\n",
       "      <td>11.297063</td>\n",
       "      <td>1.645237</td>\n",
       "      <td>40.751331</td>\n",
       "      <td>-73.974837</td>\n",
       "      <td>13.503179</td>\n",
       "      <td>3.032049</td>\n",
       "      <td>15.669337</td>\n",
       "      <td>25.453580</td>\n",
       "      <td>6.265230</td>\n",
       "      <td>11.735216</td>\n",
       "      <td>3.370802</td>\n",
       "    </tr>\n",
       "    <tr>\n",
       "      <th>std</th>\n",
       "      <td>0.033454</td>\n",
       "      <td>0.039355</td>\n",
       "      <td>9.593636</td>\n",
       "      <td>1.262339</td>\n",
       "      <td>0.031499</td>\n",
       "      <td>0.041485</td>\n",
       "      <td>6.506660</td>\n",
       "      <td>1.969914</td>\n",
       "      <td>8.682774</td>\n",
       "      <td>14.998628</td>\n",
       "      <td>3.447639</td>\n",
       "      <td>1.866983</td>\n",
       "      <td>4.120224</td>\n",
       "    </tr>\n",
       "    <tr>\n",
       "      <th>min</th>\n",
       "      <td>40.500046</td>\n",
       "      <td>-74.429332</td>\n",
       "      <td>2.500000</td>\n",
       "      <td>1.000000</td>\n",
       "      <td>40.500046</td>\n",
       "      <td>-74.438233</td>\n",
       "      <td>0.000000</td>\n",
       "      <td>0.000000</td>\n",
       "      <td>1.000000</td>\n",
       "      <td>1.000000</td>\n",
       "      <td>1.000000</td>\n",
       "      <td>9.000000</td>\n",
       "      <td>0.000000</td>\n",
       "    </tr>\n",
       "    <tr>\n",
       "      <th>25%</th>\n",
       "      <td>40.736332</td>\n",
       "      <td>-73.991377</td>\n",
       "      <td>6.000000</td>\n",
       "      <td>1.000000</td>\n",
       "      <td>40.736615</td>\n",
       "      <td>-73.992403</td>\n",
       "      <td>9.000000</td>\n",
       "      <td>1.000000</td>\n",
       "      <td>8.000000</td>\n",
       "      <td>13.000000</td>\n",
       "      <td>3.000000</td>\n",
       "      <td>10.000000</td>\n",
       "      <td>1.256924</td>\n",
       "    </tr>\n",
       "    <tr>\n",
       "      <th>50%</th>\n",
       "      <td>40.754254</td>\n",
       "      <td>-73.980571</td>\n",
       "      <td>8.500000</td>\n",
       "      <td>1.000000</td>\n",
       "      <td>40.753333</td>\n",
       "      <td>-73.982077</td>\n",
       "      <td>14.000000</td>\n",
       "      <td>3.000000</td>\n",
       "      <td>16.000000</td>\n",
       "      <td>24.000000</td>\n",
       "      <td>6.000000</td>\n",
       "      <td>12.000000</td>\n",
       "      <td>2.170010</td>\n",
       "    </tr>\n",
       "    <tr>\n",
       "      <th>75%</th>\n",
       "      <td>40.768326</td>\n",
       "      <td>-73.965396</td>\n",
       "      <td>12.500000</td>\n",
       "      <td>2.000000</td>\n",
       "      <td>40.767803</td>\n",
       "      <td>-73.968132</td>\n",
       "      <td>19.000000</td>\n",
       "      <td>5.000000</td>\n",
       "      <td>23.000000</td>\n",
       "      <td>39.000000</td>\n",
       "      <td>9.000000</td>\n",
       "      <td>13.000000</td>\n",
       "      <td>3.894625</td>\n",
       "    </tr>\n",
       "    <tr>\n",
       "      <th>max</th>\n",
       "      <td>41.366138</td>\n",
       "      <td>-73.137393</td>\n",
       "      <td>180.000000</td>\n",
       "      <td>6.000000</td>\n",
       "      <td>41.366138</td>\n",
       "      <td>-73.137393</td>\n",
       "      <td>23.000000</td>\n",
       "      <td>6.000000</td>\n",
       "      <td>31.000000</td>\n",
       "      <td>53.000000</td>\n",
       "      <td>12.000000</td>\n",
       "      <td>15.000000</td>\n",
       "      <td>101.094619</td>\n",
       "    </tr>\n",
       "  </tbody>\n",
       "</table>\n",
       "</div>"
      ],
      "text/plain": [
       "       dropoff_latitude  dropoff_longitude   fare_amount  passenger_count  \\\n",
       "count      15726.000000       15726.000000  15726.000000     15726.000000   \n",
       "mean          40.751835         -73.973837     11.297063         1.645237   \n",
       "std            0.033454           0.039355      9.593636         1.262339   \n",
       "min           40.500046         -74.429332      2.500000         1.000000   \n",
       "25%           40.736332         -73.991377      6.000000         1.000000   \n",
       "50%           40.754254         -73.980571      8.500000         1.000000   \n",
       "75%           40.768326         -73.965396     12.500000         2.000000   \n",
       "max           41.366138         -73.137393    180.000000         6.000000   \n",
       "\n",
       "       pickup_latitude  pickup_longitude          hour   day_of_week  \\\n",
       "count     15726.000000      15726.000000  15726.000000  15726.000000   \n",
       "mean         40.751331        -73.974837     13.503179      3.032049   \n",
       "std           0.031499          0.041485      6.506660      1.969914   \n",
       "min          40.500046        -74.438233      0.000000      0.000000   \n",
       "25%          40.736615        -73.992403      9.000000      1.000000   \n",
       "50%          40.753333        -73.982077     14.000000      3.000000   \n",
       "75%          40.767803        -73.968132     19.000000      5.000000   \n",
       "max          41.366138        -73.137393     23.000000      6.000000   \n",
       "\n",
       "       day_of_month          week         month          year    H_Distance  \n",
       "count  15726.000000  15726.000000  15726.000000  15726.000000  15726.000000  \n",
       "mean      15.669337     25.453580      6.265230     11.735216      3.370802  \n",
       "std        8.682774     14.998628      3.447639      1.866983      4.120224  \n",
       "min        1.000000      1.000000      1.000000      9.000000      0.000000  \n",
       "25%        8.000000     13.000000      3.000000     10.000000      1.256924  \n",
       "50%       16.000000     24.000000      6.000000     12.000000      2.170010  \n",
       "75%       23.000000     39.000000      9.000000     13.000000      3.894625  \n",
       "max       31.000000     53.000000     12.000000     15.000000    101.094619  "
      ]
     },
     "execution_count": 759,
     "metadata": {},
     "output_type": "execute_result"
    }
   ],
   "source": [
    "cab_data.describe()"
   ]
  },
  {
   "cell_type": "code",
   "execution_count": 760,
   "metadata": {
    "scrolled": true
   },
   "outputs": [
    {
     "data": {
      "text/html": [
       "<div>\n",
       "<style scoped>\n",
       "    .dataframe tbody tr th:only-of-type {\n",
       "        vertical-align: middle;\n",
       "    }\n",
       "\n",
       "    .dataframe tbody tr th {\n",
       "        vertical-align: top;\n",
       "    }\n",
       "\n",
       "    .dataframe thead th {\n",
       "        text-align: right;\n",
       "    }\n",
       "</style>\n",
       "<table border=\"1\" class=\"dataframe\">\n",
       "  <thead>\n",
       "    <tr style=\"text-align: right;\">\n",
       "      <th></th>\n",
       "      <th>pickup_longitude</th>\n",
       "      <th>pickup_latitude</th>\n",
       "      <th>dropoff_longitude</th>\n",
       "      <th>dropoff_latitude</th>\n",
       "      <th>passenger_count</th>\n",
       "      <th>hour</th>\n",
       "      <th>day_of_week</th>\n",
       "      <th>day_of_month</th>\n",
       "      <th>week</th>\n",
       "      <th>month</th>\n",
       "      <th>year</th>\n",
       "      <th>H_Distance</th>\n",
       "    </tr>\n",
       "  </thead>\n",
       "  <tbody>\n",
       "    <tr>\n",
       "      <th>count</th>\n",
       "      <td>9914.000000</td>\n",
       "      <td>9914.000000</td>\n",
       "      <td>9914.000000</td>\n",
       "      <td>9914.000000</td>\n",
       "      <td>9914.000000</td>\n",
       "      <td>9914.000000</td>\n",
       "      <td>9914.000000</td>\n",
       "      <td>9914.000000</td>\n",
       "      <td>9914.000000</td>\n",
       "      <td>9914.000000</td>\n",
       "      <td>9914.000000</td>\n",
       "      <td>9914.000000</td>\n",
       "    </tr>\n",
       "    <tr>\n",
       "      <th>mean</th>\n",
       "      <td>-73.974722</td>\n",
       "      <td>40.751041</td>\n",
       "      <td>-73.973657</td>\n",
       "      <td>40.751743</td>\n",
       "      <td>1.671273</td>\n",
       "      <td>13.467420</td>\n",
       "      <td>2.852834</td>\n",
       "      <td>16.194170</td>\n",
       "      <td>28.161892</td>\n",
       "      <td>6.857979</td>\n",
       "      <td>11.815816</td>\n",
       "      <td>3.435371</td>\n",
       "    </tr>\n",
       "    <tr>\n",
       "      <th>std</th>\n",
       "      <td>0.042774</td>\n",
       "      <td>0.033541</td>\n",
       "      <td>0.039072</td>\n",
       "      <td>0.035435</td>\n",
       "      <td>1.278747</td>\n",
       "      <td>6.868584</td>\n",
       "      <td>1.994451</td>\n",
       "      <td>8.838482</td>\n",
       "      <td>14.523575</td>\n",
       "      <td>3.353272</td>\n",
       "      <td>1.803347</td>\n",
       "      <td>3.972374</td>\n",
       "    </tr>\n",
       "    <tr>\n",
       "      <th>min</th>\n",
       "      <td>-74.252193</td>\n",
       "      <td>40.573143</td>\n",
       "      <td>-74.263242</td>\n",
       "      <td>40.568973</td>\n",
       "      <td>1.000000</td>\n",
       "      <td>0.000000</td>\n",
       "      <td>0.000000</td>\n",
       "      <td>1.000000</td>\n",
       "      <td>1.000000</td>\n",
       "      <td>1.000000</td>\n",
       "      <td>9.000000</td>\n",
       "      <td>0.000000</td>\n",
       "    </tr>\n",
       "    <tr>\n",
       "      <th>25%</th>\n",
       "      <td>-73.992501</td>\n",
       "      <td>40.736125</td>\n",
       "      <td>-73.991247</td>\n",
       "      <td>40.735254</td>\n",
       "      <td>1.000000</td>\n",
       "      <td>8.000000</td>\n",
       "      <td>1.000000</td>\n",
       "      <td>9.000000</td>\n",
       "      <td>17.000000</td>\n",
       "      <td>4.000000</td>\n",
       "      <td>10.000000</td>\n",
       "      <td>1.298277</td>\n",
       "    </tr>\n",
       "    <tr>\n",
       "      <th>50%</th>\n",
       "      <td>-73.982326</td>\n",
       "      <td>40.753051</td>\n",
       "      <td>-73.980015</td>\n",
       "      <td>40.754065</td>\n",
       "      <td>1.000000</td>\n",
       "      <td>15.000000</td>\n",
       "      <td>3.000000</td>\n",
       "      <td>16.000000</td>\n",
       "      <td>29.000000</td>\n",
       "      <td>7.000000</td>\n",
       "      <td>12.000000</td>\n",
       "      <td>2.217412</td>\n",
       "    </tr>\n",
       "    <tr>\n",
       "      <th>75%</th>\n",
       "      <td>-73.968013</td>\n",
       "      <td>40.767113</td>\n",
       "      <td>-73.964059</td>\n",
       "      <td>40.768757</td>\n",
       "      <td>2.000000</td>\n",
       "      <td>19.000000</td>\n",
       "      <td>5.000000</td>\n",
       "      <td>25.000000</td>\n",
       "      <td>40.000000</td>\n",
       "      <td>10.000000</td>\n",
       "      <td>14.000000</td>\n",
       "      <td>4.045302</td>\n",
       "    </tr>\n",
       "    <tr>\n",
       "      <th>max</th>\n",
       "      <td>-72.986532</td>\n",
       "      <td>41.709555</td>\n",
       "      <td>-72.990963</td>\n",
       "      <td>41.696683</td>\n",
       "      <td>6.000000</td>\n",
       "      <td>23.000000</td>\n",
       "      <td>6.000000</td>\n",
       "      <td>31.000000</td>\n",
       "      <td>53.000000</td>\n",
       "      <td>12.000000</td>\n",
       "      <td>15.000000</td>\n",
       "      <td>99.996040</td>\n",
       "    </tr>\n",
       "  </tbody>\n",
       "</table>\n",
       "</div>"
      ],
      "text/plain": [
       "       pickup_longitude  pickup_latitude  dropoff_longitude  dropoff_latitude  \\\n",
       "count       9914.000000      9914.000000        9914.000000       9914.000000   \n",
       "mean         -73.974722        40.751041         -73.973657         40.751743   \n",
       "std            0.042774         0.033541           0.039072          0.035435   \n",
       "min          -74.252193        40.573143         -74.263242         40.568973   \n",
       "25%          -73.992501        40.736125         -73.991247         40.735254   \n",
       "50%          -73.982326        40.753051         -73.980015         40.754065   \n",
       "75%          -73.968013        40.767113         -73.964059         40.768757   \n",
       "max          -72.986532        41.709555         -72.990963         41.696683   \n",
       "\n",
       "       passenger_count         hour  day_of_week  day_of_month         week  \\\n",
       "count      9914.000000  9914.000000  9914.000000   9914.000000  9914.000000   \n",
       "mean          1.671273    13.467420     2.852834     16.194170    28.161892   \n",
       "std           1.278747     6.868584     1.994451      8.838482    14.523575   \n",
       "min           1.000000     0.000000     0.000000      1.000000     1.000000   \n",
       "25%           1.000000     8.000000     1.000000      9.000000    17.000000   \n",
       "50%           1.000000    15.000000     3.000000     16.000000    29.000000   \n",
       "75%           2.000000    19.000000     5.000000     25.000000    40.000000   \n",
       "max           6.000000    23.000000     6.000000     31.000000    53.000000   \n",
       "\n",
       "             month         year   H_Distance  \n",
       "count  9914.000000  9914.000000  9914.000000  \n",
       "mean      6.857979    11.815816     3.435371  \n",
       "std       3.353272     1.803347     3.972374  \n",
       "min       1.000000     9.000000     0.000000  \n",
       "25%       4.000000    10.000000     1.298277  \n",
       "50%       7.000000    12.000000     2.217412  \n",
       "75%      10.000000    14.000000     4.045302  \n",
       "max      12.000000    15.000000    99.996040  "
      ]
     },
     "execution_count": 760,
     "metadata": {},
     "output_type": "execute_result"
    }
   ],
   "source": [
    "cab_data_test.describe()"
   ]
  },
  {
   "cell_type": "code",
   "execution_count": 761,
   "metadata": {},
   "outputs": [
    {
     "data": {
      "text/plain": [
       "156"
      ]
     },
     "execution_count": 761,
     "metadata": {},
     "output_type": "execute_result"
    }
   ],
   "source": [
    "#as we can see there are some observations with zero distance\n",
    "#we need to treat them as zero distance is abstract for an costumer to pay fare for\n",
    "#depending on no of zero observations we would drop them or impute them with help of missing value analysis.\n",
    "cab_data[\"H_Distance\"][cab_data[\"H_Distance\"]==0].count()"
   ]
  },
  {
   "cell_type": "code",
   "execution_count": 762,
   "metadata": {},
   "outputs": [
    {
     "data": {
      "text/plain": [
       "85"
      ]
     },
     "execution_count": 762,
     "metadata": {},
     "output_type": "execute_result"
    }
   ],
   "source": [
    "cab_data_test[\"H_Distance\"][cab_data_test[\"H_Distance\"]==0].count()"
   ]
  },
  {
   "cell_type": "code",
   "execution_count": 763,
   "metadata": {},
   "outputs": [],
   "source": [
    "#0.9 and 0.8 percent of the data set is having Hdistance as zero this value can be droped\n",
    "cab_data=cab_data[cab_data[\"H_Distance\"]>0]\n",
    "cab_data_test=cab_data_test[cab_data_test[\"H_Distance\"]>0]"
   ]
  },
  {
   "cell_type": "code",
   "execution_count": 764,
   "metadata": {},
   "outputs": [
    {
     "data": {
      "text/plain": [
       "Text(0, 0.5, 'Frequency')"
      ]
     },
     "execution_count": 764,
     "metadata": {},
     "output_type": "execute_result"
    },
    {
     "data": {
      "image/png": "[encoded data removed]",
      "text/plain": [
       "<Figure size 1080x504 with 1 Axes>"
      ]
     },
     "metadata": {
      "needs_background": "light"
     },
     "output_type": "display_data"
    }
   ],
   "source": [
    "#let us start aalysis between the variables\n",
    "#Does the number of passengers affect the fare?\n",
    "plt.figure(figsize=(15,7))\n",
    "plt.hist(cab_data['passenger_count'], bins=15)\n",
    "plt.xlabel('No. of Passengers')\n",
    "plt.ylabel('Frequency')"
   ]
  },
  {
   "cell_type": "code",
   "execution_count": 765,
   "metadata": {},
   "outputs": [
    {
     "data": {
      "text/plain": [
       "Text(0, 0.5, 'Fare')"
      ]
     },
     "execution_count": 765,
     "metadata": {},
     "output_type": "execute_result"
    },
    {
     "data": {
      "image/png": "[encoded data removed]",
      "text/plain": [
       "<Figure size 1080x504 with 1 Axes>"
      ]
     },
     "metadata": {
      "needs_background": "light"
     },
     "output_type": "display_data"
    }
   ],
   "source": [
    "plt.figure(figsize=(15,7))\n",
    "plt.scatter(x=cab_data['passenger_count'], y=cab_data['fare_amount'], s=1.5)\n",
    "plt.xlabel('No. of Passengers')\n",
    "plt.ylabel('Fare')"
   ]
  },
  {
   "cell_type": "markdown",
   "metadata": {},
   "source": [
    "#From the above 2 graphs we can see that single passengers are the most frequent travellers, and the highest fare also seems to come from cabs which carry just 1 passenger."
   ]
  },
  {
   "cell_type": "code",
   "execution_count": 766,
   "metadata": {},
   "outputs": [
    {
     "data": {
      "text/plain": [
       "Text(0, 0.5, 'Fare')"
      ]
     },
     "execution_count": 766,
     "metadata": {},
     "output_type": "execute_result"
    },
    {
     "data": {
      "image/png": "[encoded data removed]",
      "text/plain": [
       "<Figure size 1080x504 with 1 Axes>"
      ]
     },
     "metadata": {
      "needs_background": "light"
     },
     "output_type": "display_data"
    }
   ],
   "source": [
    "#Does the date and time of pickup affect the fare?\n",
    "plt.figure(figsize=(15,7))\n",
    "plt.scatter(x=cab_data['day_of_month'], y=cab_data['fare_amount'], s=1.5)\n",
    "plt.xlabel('day_of_month')\n",
    "plt.ylabel('Fare')"
   ]
  },
  {
   "cell_type": "code",
   "execution_count": 767,
   "metadata": {},
   "outputs": [
    {
     "data": {
      "text/plain": [
       "Text(0, 0.5, 'Frequency')"
      ]
     },
     "execution_count": 767,
     "metadata": {},
     "output_type": "execute_result"
    },
    {
     "data": {
      "image/png": "[encoded data removed]",
      "text/plain": [
       "<Figure size 1080x504 with 1 Axes>"
      ]
     },
     "metadata": {
      "needs_background": "light"
     },
     "output_type": "display_data"
    }
   ],
   "source": [
    "#The fares throught the month mostly seem uniform, with the maximum fare received on the 16th\n",
    "plt.figure(figsize=(15,7))\n",
    "plt.hist(cab_data['hour'], bins=100)\n",
    "plt.xlabel('Hour')\n",
    "plt.ylabel('Frequency')\n"
   ]
  },
  {
   "cell_type": "code",
   "execution_count": 768,
   "metadata": {},
   "outputs": [
    {
     "data": {
      "text/plain": [
       "Text(0, 0.5, 'Fare')"
      ]
     },
     "execution_count": 768,
     "metadata": {},
     "output_type": "execute_result"
    },
    {
     "data": {
      "image/png": "[encoded data removed]",
      "text/plain": [
       "<Figure size 1080x504 with 1 Axes>"
      ]
     },
     "metadata": {
      "needs_background": "light"
     },
     "output_type": "display_data"
    }
   ],
   "source": [
    "plt.figure(figsize=(15,7))\n",
    "plt.scatter(x=cab_data['hour'], y=cab_data['fare_amount'], s=1.5)\n",
    "plt.xlabel('Hour')\n",
    "plt.ylabel('Fare')"
   ]
  },
  {
   "cell_type": "markdown",
   "metadata": {},
   "source": [
    "\n",
    "Interesting! The time of day definitely plays an important role. The frequency of cab rides seem to be the lowest at 5AM and the highest at 7PM\n",
    "The fares, however, seem to be high betweeb 5AM and 10AM, and 2PM to 4PM. Maybe people who live far away prefer to leave earlier to avoid rush hour traffic?"
   ]
  },
  {
   "cell_type": "code",
   "execution_count": 769,
   "metadata": {},
   "outputs": [
    {
     "data": {
      "text/plain": [
       "Text(0, 0.5, 'Frequency')"
      ]
     },
     "execution_count": 769,
     "metadata": {},
     "output_type": "execute_result"
    },
    {
     "data": {
      "image/png": "[encoded data removed]",
      "text/plain": [
       "<Figure size 1080x504 with 1 Axes>"
      ]
     },
     "metadata": {
      "needs_background": "light"
     },
     "output_type": "display_data"
    }
   ],
   "source": [
    "#Does the day of the week affect the fare?\n",
    "plt.figure(figsize=(15,7))\n",
    "plt.hist(cab_data['day_of_week'], bins=100)\n",
    "plt.xlabel('Day of Week')\n",
    "plt.ylabel('Frequency')"
   ]
  },
  {
   "cell_type": "code",
   "execution_count": 770,
   "metadata": {},
   "outputs": [
    {
     "data": {
      "text/plain": [
       "Text(0, 0.5, 'Fare')"
      ]
     },
     "execution_count": 770,
     "metadata": {},
     "output_type": "execute_result"
    },
    {
     "data": {
      "image/png": "[encoded data removed]",
      "text/plain": [
       "<Figure size 1080x504 with 1 Axes>"
      ]
     },
     "metadata": {
      "needs_background": "light"
     },
     "output_type": "display_data"
    }
   ],
   "source": [
    "#day of the week doesn't seem to have that much of an influence on the number of cab rides\n",
    "plt.figure(figsize=(15,7))\n",
    "plt.scatter(x=cab_data['day_of_week'], y=cab_data['fare_amount'], s=1.5)\n",
    "plt.xlabel('Day of Week')\n",
    "plt.ylabel('Fare')"
   ]
  },
  {
   "cell_type": "markdown",
   "metadata": {},
   "source": [
    "#The highest fares seem to be high weekdays  on  and the lowest on  and sunday almost an uniform distibution\n",
    "4. Does the distance affect the fare?\n",
    "\n",
    "This is a no-brainer. I am confident that the distance would affect the fare a great deal. But I will visualise it."
   ]
  },
  {
   "cell_type": "code",
   "execution_count": 771,
   "metadata": {},
   "outputs": [
    {
     "data": {
      "text/plain": [
       "Text(0, 0.5, 'Fare')"
      ]
     },
     "execution_count": 771,
     "metadata": {},
     "output_type": "execute_result"
    },
    {
     "data": {
      "image/png": "[encoded data removed]",
      "text/plain": [
       "<Figure size 720x504 with 1 Axes>"
      ]
     },
     "metadata": {
      "needs_background": "light"
     },
     "output_type": "display_data"
    }
   ],
   "source": [
    "#day of the week doesn't seem to have that much of an influence on the number of cab rides\n",
    "plt.figure(figsize=(10,7))\n",
    "plt.scatter(x=cab_data['H_Distance'], y=cab_data['fare_amount'], s=1.5)\n",
    "plt.xlabel('distance')\n",
    "plt.ylabel('Fare')"
   ]
  },
  {
   "cell_type": "code",
   "execution_count": 772,
   "metadata": {},
   "outputs": [
    {
     "data": {
      "text/plain": [
       "Text(0, 0.5, 'Frequency')"
      ]
     },
     "execution_count": 772,
     "metadata": {},
     "output_type": "execute_result"
    },
    {
     "data": {
      "image/png": "[encoded data removed]",
      "text/plain": [
       "<Figure size 1080x504 with 1 Axes>"
      ]
     },
     "metadata": {
      "needs_background": "light"
     },
     "output_type": "display_data"
    }
   ],
   "source": [
    "#Does the day of the week affect the fare?\n",
    "plt.figure(figsize=(15,7))\n",
    "plt.hist(cab_data['H_Distance'])\n",
    "plt.xlabel('distance')\n",
    "plt.ylabel('Frequency')"
   ]
  },
  {
   "cell_type": "markdown",
   "metadata": {},
   "source": [
    "#fare is directly proportional to the distance with few outliers that cannot be removed because we can think of possible situation like in case of late night and unavalability irrespective of low distance cab charged high fare\n",
    "#most of the data lie in the bracket of fare between o to 20"
   ]
  },
  {
   "cell_type": "markdown",
   "metadata": {},
   "source": [
    "# Feature selection"
   ]
  },
  {
   "cell_type": "code",
   "execution_count": 773,
   "metadata": {},
   "outputs": [
    {
     "data": {
      "text/html": [
       "<style  type=\"text/css\" >\n",
       "    #T_c79e92a4_a264_11e9_9ba8_3c77e65484f4row0_col0 {\n",
       "            background-color:  #f7fcf0;\n",
       "        }    #T_c79e92a4_a264_11e9_9ba8_3c77e65484f4row0_col1 {\n",
       "            background-color:  #1e7fb7;\n",
       "        }    #T_c79e92a4_a264_11e9_9ba8_3c77e65484f4row0_col2 {\n",
       "            background-color:  #0d6dae;\n",
       "        }    #T_c79e92a4_a264_11e9_9ba8_3c77e65484f4row0_col3 {\n",
       "            background-color:  #084081;\n",
       "        }    #T_c79e92a4_a264_11e9_9ba8_3c77e65484f4row0_col4 {\n",
       "            background-color:  #4db2d3;\n",
       "        }    #T_c79e92a4_a264_11e9_9ba8_3c77e65484f4row0_col5 {\n",
       "            background-color:  #085497;\n",
       "        }    #T_c79e92a4_a264_11e9_9ba8_3c77e65484f4row0_col6 {\n",
       "            background-color:  #084586;\n",
       "        }    #T_c79e92a4_a264_11e9_9ba8_3c77e65484f4row0_col7 {\n",
       "            background-color:  #084485;\n",
       "        }    #T_c79e92a4_a264_11e9_9ba8_3c77e65484f4row0_col8 {\n",
       "            background-color:  #084081;\n",
       "        }    #T_c79e92a4_a264_11e9_9ba8_3c77e65484f4row0_col9 {\n",
       "            background-color:  #084081;\n",
       "        }    #T_c79e92a4_a264_11e9_9ba8_3c77e65484f4row0_col10 {\n",
       "            background-color:  #084081;\n",
       "        }    #T_c79e92a4_a264_11e9_9ba8_3c77e65484f4row0_col11 {\n",
       "            background-color:  #084081;\n",
       "        }    #T_c79e92a4_a264_11e9_9ba8_3c77e65484f4row0_col12 {\n",
       "            background-color:  #085294;\n",
       "        }    #T_c79e92a4_a264_11e9_9ba8_3c77e65484f4row1_col0 {\n",
       "            background-color:  #1e7fb7;\n",
       "        }    #T_c79e92a4_a264_11e9_9ba8_3c77e65484f4row1_col1 {\n",
       "            background-color:  #f7fcf0;\n",
       "        }    #T_c79e92a4_a264_11e9_9ba8_3c77e65484f4row1_col2 {\n",
       "            background-color:  #42a6cc;\n",
       "        }    #T_c79e92a4_a264_11e9_9ba8_3c77e65484f4row1_col3 {\n",
       "            background-color:  #084182;\n",
       "        }    #T_c79e92a4_a264_11e9_9ba8_3c77e65484f4row1_col4 {\n",
       "            background-color:  #085294;\n",
       "        }    #T_c79e92a4_a264_11e9_9ba8_3c77e65484f4row1_col5 {\n",
       "            background-color:  #2d8fbf;\n",
       "        }    #T_c79e92a4_a264_11e9_9ba8_3c77e65484f4row1_col6 {\n",
       "            background-color:  #084f91;\n",
       "        }    #T_c79e92a4_a264_11e9_9ba8_3c77e65484f4row1_col7 {\n",
       "            background-color:  #084081;\n",
       "        }    #T_c79e92a4_a264_11e9_9ba8_3c77e65484f4row1_col8 {\n",
       "            background-color:  #084182;\n",
       "        }    #T_c79e92a4_a264_11e9_9ba8_3c77e65484f4row1_col9 {\n",
       "            background-color:  #084485;\n",
       "        }    #T_c79e92a4_a264_11e9_9ba8_3c77e65484f4row1_col10 {\n",
       "            background-color:  #084485;\n",
       "        }    #T_c79e92a4_a264_11e9_9ba8_3c77e65484f4row1_col11 {\n",
       "            background-color:  #084081;\n",
       "        }    #T_c79e92a4_a264_11e9_9ba8_3c77e65484f4row1_col12 {\n",
       "            background-color:  #54b6d1;\n",
       "        }    #T_c79e92a4_a264_11e9_9ba8_3c77e65484f4row2_col0 {\n",
       "            background-color:  #0d6dae;\n",
       "        }    #T_c79e92a4_a264_11e9_9ba8_3c77e65484f4row2_col1 {\n",
       "            background-color:  #42a6cc;\n",
       "        }    #T_c79e92a4_a264_11e9_9ba8_3c77e65484f4row2_col2 {\n",
       "            background-color:  #f7fcf0;\n",
       "        }    #T_c79e92a4_a264_11e9_9ba8_3c77e65484f4row2_col3 {\n",
       "            background-color:  #084384;\n",
       "        }    #T_c79e92a4_a264_11e9_9ba8_3c77e65484f4row2_col4 {\n",
       "            background-color:  #1979b5;\n",
       "        }    #T_c79e92a4_a264_11e9_9ba8_3c77e65484f4row2_col5 {\n",
       "            background-color:  #54b6d1;\n",
       "        }    #T_c79e92a4_a264_11e9_9ba8_3c77e65484f4row2_col6 {\n",
       "            background-color:  #08498a;\n",
       "        }    #T_c79e92a4_a264_11e9_9ba8_3c77e65484f4row2_col7 {\n",
       "            background-color:  #084081;\n",
       "        }    #T_c79e92a4_a264_11e9_9ba8_3c77e65484f4row2_col8 {\n",
       "            background-color:  #084182;\n",
       "        }    #T_c79e92a4_a264_11e9_9ba8_3c77e65484f4row2_col9 {\n",
       "            background-color:  #084b8d;\n",
       "        }    #T_c79e92a4_a264_11e9_9ba8_3c77e65484f4row2_col10 {\n",
       "            background-color:  #084b8d;\n",
       "        }    #T_c79e92a4_a264_11e9_9ba8_3c77e65484f4row2_col11 {\n",
       "            background-color:  #0864a8;\n",
       "        }    #T_c79e92a4_a264_11e9_9ba8_3c77e65484f4row2_col12 {\n",
       "            background-color:  #cfecc8;\n",
       "        }    #T_c79e92a4_a264_11e9_9ba8_3c77e65484f4row3_col0 {\n",
       "            background-color:  #084081;\n",
       "        }    #T_c79e92a4_a264_11e9_9ba8_3c77e65484f4row3_col1 {\n",
       "            background-color:  #084081;\n",
       "        }    #T_c79e92a4_a264_11e9_9ba8_3c77e65484f4row3_col2 {\n",
       "            background-color:  #084182;\n",
       "        }    #T_c79e92a4_a264_11e9_9ba8_3c77e65484f4row3_col3 {\n",
       "            background-color:  #f7fcf0;\n",
       "        }    #T_c79e92a4_a264_11e9_9ba8_3c77e65484f4row3_col4 {\n",
       "            background-color:  #084081;\n",
       "        }    #T_c79e92a4_a264_11e9_9ba8_3c77e65484f4row3_col5 {\n",
       "            background-color:  #084081;\n",
       "        }    #T_c79e92a4_a264_11e9_9ba8_3c77e65484f4row3_col6 {\n",
       "            background-color:  #084586;\n",
       "        }    #T_c79e92a4_a264_11e9_9ba8_3c77e65484f4row3_col7 {\n",
       "            background-color:  #084d8e;\n",
       "        }    #T_c79e92a4_a264_11e9_9ba8_3c77e65484f4row3_col8 {\n",
       "            background-color:  #084081;\n",
       "        }    #T_c79e92a4_a264_11e9_9ba8_3c77e65484f4row3_col9 {\n",
       "            background-color:  #084384;\n",
       "        }    #T_c79e92a4_a264_11e9_9ba8_3c77e65484f4row3_col10 {\n",
       "            background-color:  #084182;\n",
       "        }    #T_c79e92a4_a264_11e9_9ba8_3c77e65484f4row3_col11 {\n",
       "            background-color:  #084081;\n",
       "        }    #T_c79e92a4_a264_11e9_9ba8_3c77e65484f4row3_col12 {\n",
       "            background-color:  #084081;\n",
       "        }    #T_c79e92a4_a264_11e9_9ba8_3c77e65484f4row4_col0 {\n",
       "            background-color:  #4db2d3;\n",
       "        }    #T_c79e92a4_a264_11e9_9ba8_3c77e65484f4row4_col1 {\n",
       "            background-color:  #085395;\n",
       "        }    #T_c79e92a4_a264_11e9_9ba8_3c77e65484f4row4_col2 {\n",
       "            background-color:  #1979b5;\n",
       "        }    #T_c79e92a4_a264_11e9_9ba8_3c77e65484f4row4_col3 {\n",
       "            background-color:  #084182;\n",
       "        }    #T_c79e92a4_a264_11e9_9ba8_3c77e65484f4row4_col4 {\n",
       "            background-color:  #f7fcf0;\n",
       "        }    #T_c79e92a4_a264_11e9_9ba8_3c77e65484f4row4_col5 {\n",
       "            background-color:  #0867ab;\n",
       "        }    #T_c79e92a4_a264_11e9_9ba8_3c77e65484f4row4_col6 {\n",
       "            background-color:  #084b8d;\n",
       "        }    #T_c79e92a4_a264_11e9_9ba8_3c77e65484f4row4_col7 {\n",
       "            background-color:  #084f91;\n",
       "        }    #T_c79e92a4_a264_11e9_9ba8_3c77e65484f4row4_col8 {\n",
       "            background-color:  #084182;\n",
       "        }    #T_c79e92a4_a264_11e9_9ba8_3c77e65484f4row4_col9 {\n",
       "            background-color:  #084081;\n",
       "        }    #T_c79e92a4_a264_11e9_9ba8_3c77e65484f4row4_col10 {\n",
       "            background-color:  #084081;\n",
       "        }    #T_c79e92a4_a264_11e9_9ba8_3c77e65484f4row4_col11 {\n",
       "            background-color:  #084586;\n",
       "        }    #T_c79e92a4_a264_11e9_9ba8_3c77e65484f4row4_col12 {\n",
       "            background-color:  #084e90;\n",
       "        }    #T_c79e92a4_a264_11e9_9ba8_3c77e65484f4row5_col0 {\n",
       "            background-color:  #085497;\n",
       "        }    #T_c79e92a4_a264_11e9_9ba8_3c77e65484f4row5_col1 {\n",
       "            background-color:  #2f90c0;\n",
       "        }    #T_c79e92a4_a264_11e9_9ba8_3c77e65484f4row5_col2 {\n",
       "            background-color:  #54b6d1;\n",
       "        }    #T_c79e92a4_a264_11e9_9ba8_3c77e65484f4row5_col3 {\n",
       "            background-color:  #084081;\n",
       "        }    #T_c79e92a4_a264_11e9_9ba8_3c77e65484f4row5_col4 {\n",
       "            background-color:  #0867ab;\n",
       "        }    #T_c79e92a4_a264_11e9_9ba8_3c77e65484f4row5_col5 {\n",
       "            background-color:  #f7fcf0;\n",
       "        }    #T_c79e92a4_a264_11e9_9ba8_3c77e65484f4row5_col6 {\n",
       "            background-color:  #084688;\n",
       "        }    #T_c79e92a4_a264_11e9_9ba8_3c77e65484f4row5_col7 {\n",
       "            background-color:  #084b8d;\n",
       "        }    #T_c79e92a4_a264_11e9_9ba8_3c77e65484f4row5_col8 {\n",
       "            background-color:  #084081;\n",
       "        }    #T_c79e92a4_a264_11e9_9ba8_3c77e65484f4row5_col9 {\n",
       "            background-color:  #084081;\n",
       "        }    #T_c79e92a4_a264_11e9_9ba8_3c77e65484f4row5_col10 {\n",
       "            background-color:  #084081;\n",
       "        }    #T_c79e92a4_a264_11e9_9ba8_3c77e65484f4row5_col11 {\n",
       "            background-color:  #084182;\n",
       "        }    #T_c79e92a4_a264_11e9_9ba8_3c77e65484f4row5_col12 {\n",
       "            background-color:  #81cec2;\n",
       "        }    #T_c79e92a4_a264_11e9_9ba8_3c77e65484f4row6_col0 {\n",
       "            background-color:  #084586;\n",
       "        }    #T_c79e92a4_a264_11e9_9ba8_3c77e65484f4row6_col1 {\n",
       "            background-color:  #084f91;\n",
       "        }    #T_c79e92a4_a264_11e9_9ba8_3c77e65484f4row6_col2 {\n",
       "            background-color:  #084889;\n",
       "        }    #T_c79e92a4_a264_11e9_9ba8_3c77e65484f4row6_col3 {\n",
       "            background-color:  #084586;\n",
       "        }    #T_c79e92a4_a264_11e9_9ba8_3c77e65484f4row6_col4 {\n",
       "            background-color:  #084a8c;\n",
       "        }    #T_c79e92a4_a264_11e9_9ba8_3c77e65484f4row6_col5 {\n",
       "            background-color:  #084688;\n",
       "        }    #T_c79e92a4_a264_11e9_9ba8_3c77e65484f4row6_col6 {\n",
       "            background-color:  #f7fcf0;\n",
       "        }    #T_c79e92a4_a264_11e9_9ba8_3c77e65484f4row6_col7 {\n",
       "            background-color:  #085c9f;\n",
       "        }    #T_c79e92a4_a264_11e9_9ba8_3c77e65484f4row6_col8 {\n",
       "            background-color:  #084081;\n",
       "        }    #T_c79e92a4_a264_11e9_9ba8_3c77e65484f4row6_col9 {\n",
       "            background-color:  #084081;\n",
       "        }    #T_c79e92a4_a264_11e9_9ba8_3c77e65484f4row6_col10 {\n",
       "            background-color:  #084081;\n",
       "        }    #T_c79e92a4_a264_11e9_9ba8_3c77e65484f4row6_col11 {\n",
       "            background-color:  #084081;\n",
       "        }    #T_c79e92a4_a264_11e9_9ba8_3c77e65484f4row6_col12 {\n",
       "            background-color:  #084d8e;\n",
       "        }    #T_c79e92a4_a264_11e9_9ba8_3c77e65484f4row7_col0 {\n",
       "            background-color:  #084485;\n",
       "        }    #T_c79e92a4_a264_11e9_9ba8_3c77e65484f4row7_col1 {\n",
       "            background-color:  #084081;\n",
       "        }    #T_c79e92a4_a264_11e9_9ba8_3c77e65484f4row7_col2 {\n",
       "            background-color:  #084081;\n",
       "        }    #T_c79e92a4_a264_11e9_9ba8_3c77e65484f4row7_col3 {\n",
       "            background-color:  #084d8e;\n",
       "        }    #T_c79e92a4_a264_11e9_9ba8_3c77e65484f4row7_col4 {\n",
       "            background-color:  #084e90;\n",
       "        }    #T_c79e92a4_a264_11e9_9ba8_3c77e65484f4row7_col5 {\n",
       "            background-color:  #084b8d;\n",
       "        }    #T_c79e92a4_a264_11e9_9ba8_3c77e65484f4row7_col6 {\n",
       "            background-color:  #085c9f;\n",
       "        }    #T_c79e92a4_a264_11e9_9ba8_3c77e65484f4row7_col7 {\n",
       "            background-color:  #f7fcf0;\n",
       "        }    #T_c79e92a4_a264_11e9_9ba8_3c77e65484f4row7_col8 {\n",
       "            background-color:  #084485;\n",
       "        }    #T_c79e92a4_a264_11e9_9ba8_3c77e65484f4row7_col9 {\n",
       "            background-color:  #084485;\n",
       "        }    #T_c79e92a4_a264_11e9_9ba8_3c77e65484f4row7_col10 {\n",
       "            background-color:  #084485;\n",
       "        }    #T_c79e92a4_a264_11e9_9ba8_3c77e65484f4row7_col11 {\n",
       "            background-color:  #084081;\n",
       "        }    #T_c79e92a4_a264_11e9_9ba8_3c77e65484f4row7_col12 {\n",
       "            background-color:  #084485;\n",
       "        }    #T_c79e92a4_a264_11e9_9ba8_3c77e65484f4row8_col0 {\n",
       "            background-color:  #084081;\n",
       "        }    #T_c79e92a4_a264_11e9_9ba8_3c77e65484f4row8_col1 {\n",
       "            background-color:  #084182;\n",
       "        }    #T_c79e92a4_a264_11e9_9ba8_3c77e65484f4row8_col2 {\n",
       "            background-color:  #084182;\n",
       "        }    #T_c79e92a4_a264_11e9_9ba8_3c77e65484f4row8_col3 {\n",
       "            background-color:  #084081;\n",
       "        }    #T_c79e92a4_a264_11e9_9ba8_3c77e65484f4row8_col4 {\n",
       "            background-color:  #084081;\n",
       "        }    #T_c79e92a4_a264_11e9_9ba8_3c77e65484f4row8_col5 {\n",
       "            background-color:  #084081;\n",
       "        }    #T_c79e92a4_a264_11e9_9ba8_3c77e65484f4row8_col6 {\n",
       "            background-color:  #084081;\n",
       "        }    #T_c79e92a4_a264_11e9_9ba8_3c77e65484f4row8_col7 {\n",
       "            background-color:  #084485;\n",
       "        }    #T_c79e92a4_a264_11e9_9ba8_3c77e65484f4row8_col8 {\n",
       "            background-color:  #f7fcf0;\n",
       "        }    #T_c79e92a4_a264_11e9_9ba8_3c77e65484f4row8_col9 {\n",
       "            background-color:  #084b8d;\n",
       "        }    #T_c79e92a4_a264_11e9_9ba8_3c77e65484f4row8_col10 {\n",
       "            background-color:  #084485;\n",
       "        }    #T_c79e92a4_a264_11e9_9ba8_3c77e65484f4row8_col11 {\n",
       "            background-color:  #084889;\n",
       "        }    #T_c79e92a4_a264_11e9_9ba8_3c77e65484f4row8_col12 {\n",
       "            background-color:  #084182;\n",
       "        }    #T_c79e92a4_a264_11e9_9ba8_3c77e65484f4row9_col0 {\n",
       "            background-color:  #084182;\n",
       "        }    #T_c79e92a4_a264_11e9_9ba8_3c77e65484f4row9_col1 {\n",
       "            background-color:  #084485;\n",
       "        }    #T_c79e92a4_a264_11e9_9ba8_3c77e65484f4row9_col2 {\n",
       "            background-color:  #084b8d;\n",
       "        }    #T_c79e92a4_a264_11e9_9ba8_3c77e65484f4row9_col3 {\n",
       "            background-color:  #084384;\n",
       "        }    #T_c79e92a4_a264_11e9_9ba8_3c77e65484f4row9_col4 {\n",
       "            background-color:  #084081;\n",
       "        }    #T_c79e92a4_a264_11e9_9ba8_3c77e65484f4row9_col5 {\n",
       "            background-color:  #084081;\n",
       "        }    #T_c79e92a4_a264_11e9_9ba8_3c77e65484f4row9_col6 {\n",
       "            background-color:  #084081;\n",
       "        }    #T_c79e92a4_a264_11e9_9ba8_3c77e65484f4row9_col7 {\n",
       "            background-color:  #084586;\n",
       "        }    #T_c79e92a4_a264_11e9_9ba8_3c77e65484f4row9_col8 {\n",
       "            background-color:  #084d8e;\n",
       "        }    #T_c79e92a4_a264_11e9_9ba8_3c77e65484f4row9_col9 {\n",
       "            background-color:  #f7fcf0;\n",
       "        }    #T_c79e92a4_a264_11e9_9ba8_3c77e65484f4row9_col10 {\n",
       "            background-color:  #f3faec;\n",
       "        }    #T_c79e92a4_a264_11e9_9ba8_3c77e65484f4row9_col11 {\n",
       "            background-color:  #0867ab;\n",
       "        }    #T_c79e92a4_a264_11e9_9ba8_3c77e65484f4row9_col12 {\n",
       "            background-color:  #084586;\n",
       "        }    #T_c79e92a4_a264_11e9_9ba8_3c77e65484f4row10_col0 {\n",
       "            background-color:  #084182;\n",
       "        }    #T_c79e92a4_a264_11e9_9ba8_3c77e65484f4row10_col1 {\n",
       "            background-color:  #084586;\n",
       "        }    #T_c79e92a4_a264_11e9_9ba8_3c77e65484f4row10_col2 {\n",
       "            background-color:  #084b8d;\n",
       "        }    #T_c79e92a4_a264_11e9_9ba8_3c77e65484f4row10_col3 {\n",
       "            background-color:  #084384;\n",
       "        }    #T_c79e92a4_a264_11e9_9ba8_3c77e65484f4row10_col4 {\n",
       "            background-color:  #084081;\n",
       "        }    #T_c79e92a4_a264_11e9_9ba8_3c77e65484f4row10_col5 {\n",
       "            background-color:  #084081;\n",
       "        }    #T_c79e92a4_a264_11e9_9ba8_3c77e65484f4row10_col6 {\n",
       "            background-color:  #084081;\n",
       "        }    #T_c79e92a4_a264_11e9_9ba8_3c77e65484f4row10_col7 {\n",
       "            background-color:  #084485;\n",
       "        }    #T_c79e92a4_a264_11e9_9ba8_3c77e65484f4row10_col8 {\n",
       "            background-color:  #084586;\n",
       "        }    #T_c79e92a4_a264_11e9_9ba8_3c77e65484f4row10_col9 {\n",
       "            background-color:  #f3faec;\n",
       "        }    #T_c79e92a4_a264_11e9_9ba8_3c77e65484f4row10_col10 {\n",
       "            background-color:  #f7fcf0;\n",
       "        }    #T_c79e92a4_a264_11e9_9ba8_3c77e65484f4row10_col11 {\n",
       "            background-color:  #0864a8;\n",
       "        }    #T_c79e92a4_a264_11e9_9ba8_3c77e65484f4row10_col12 {\n",
       "            background-color:  #084688;\n",
       "        }    #T_c79e92a4_a264_11e9_9ba8_3c77e65484f4row11_col0 {\n",
       "            background-color:  #084081;\n",
       "        }    #T_c79e92a4_a264_11e9_9ba8_3c77e65484f4row11_col1 {\n",
       "            background-color:  #084182;\n",
       "        }    #T_c79e92a4_a264_11e9_9ba8_3c77e65484f4row11_col2 {\n",
       "            background-color:  #0863a7;\n",
       "        }    #T_c79e92a4_a264_11e9_9ba8_3c77e65484f4row11_col3 {\n",
       "            background-color:  #084081;\n",
       "        }    #T_c79e92a4_a264_11e9_9ba8_3c77e65484f4row11_col4 {\n",
       "            background-color:  #084586;\n",
       "        }    #T_c79e92a4_a264_11e9_9ba8_3c77e65484f4row11_col5 {\n",
       "            background-color:  #084182;\n",
       "        }    #T_c79e92a4_a264_11e9_9ba8_3c77e65484f4row11_col6 {\n",
       "            background-color:  #084182;\n",
       "        }    #T_c79e92a4_a264_11e9_9ba8_3c77e65484f4row11_col7 {\n",
       "            background-color:  #084182;\n",
       "        }    #T_c79e92a4_a264_11e9_9ba8_3c77e65484f4row11_col8 {\n",
       "            background-color:  #084889;\n",
       "        }    #T_c79e92a4_a264_11e9_9ba8_3c77e65484f4row11_col9 {\n",
       "            background-color:  #0867ab;\n",
       "        }    #T_c79e92a4_a264_11e9_9ba8_3c77e65484f4row11_col10 {\n",
       "            background-color:  #0864a8;\n",
       "        }    #T_c79e92a4_a264_11e9_9ba8_3c77e65484f4row11_col11 {\n",
       "            background-color:  #f7fcf0;\n",
       "        }    #T_c79e92a4_a264_11e9_9ba8_3c77e65484f4row11_col12 {\n",
       "            background-color:  #084182;\n",
       "        }    #T_c79e92a4_a264_11e9_9ba8_3c77e65484f4row12_col0 {\n",
       "            background-color:  #085294;\n",
       "        }    #T_c79e92a4_a264_11e9_9ba8_3c77e65484f4row12_col1 {\n",
       "            background-color:  #54b6d1;\n",
       "        }    #T_c79e92a4_a264_11e9_9ba8_3c77e65484f4row12_col2 {\n",
       "            background-color:  #cfecc8;\n",
       "        }    #T_c79e92a4_a264_11e9_9ba8_3c77e65484f4row12_col3 {\n",
       "            background-color:  #084081;\n",
       "        }    #T_c79e92a4_a264_11e9_9ba8_3c77e65484f4row12_col4 {\n",
       "            background-color:  #084e90;\n",
       "        }    #T_c79e92a4_a264_11e9_9ba8_3c77e65484f4row12_col5 {\n",
       "            background-color:  #81cec2;\n",
       "        }    #T_c79e92a4_a264_11e9_9ba8_3c77e65484f4row12_col6 {\n",
       "            background-color:  #084b8d;\n",
       "        }    #T_c79e92a4_a264_11e9_9ba8_3c77e65484f4row12_col7 {\n",
       "            background-color:  #084485;\n",
       "        }    #T_c79e92a4_a264_11e9_9ba8_3c77e65484f4row12_col8 {\n",
       "            background-color:  #084182;\n",
       "        }    #T_c79e92a4_a264_11e9_9ba8_3c77e65484f4row12_col9 {\n",
       "            background-color:  #084586;\n",
       "        }    #T_c79e92a4_a264_11e9_9ba8_3c77e65484f4row12_col10 {\n",
       "            background-color:  #084586;\n",
       "        }    #T_c79e92a4_a264_11e9_9ba8_3c77e65484f4row12_col11 {\n",
       "            background-color:  #084081;\n",
       "        }    #T_c79e92a4_a264_11e9_9ba8_3c77e65484f4row12_col12 {\n",
       "            background-color:  #f7fcf0;\n",
       "        }</style>  \n",
       "<table id=\"T_c79e92a4_a264_11e9_9ba8_3c77e65484f4\" > \n",
       "<thead>    <tr> \n",
       "        <th class=\"blank level0\" ></th> \n",
       "        <th class=\"col_heading level0 col0\" >dropoff_latitude</th> \n",
       "        <th class=\"col_heading level0 col1\" >dropoff_longitude</th> \n",
       "        <th class=\"col_heading level0 col2\" >fare_amount</th> \n",
       "        <th class=\"col_heading level0 col3\" >passenger_count</th> \n",
       "        <th class=\"col_heading level0 col4\" >pickup_latitude</th> \n",
       "        <th class=\"col_heading level0 col5\" >pickup_longitude</th> \n",
       "        <th class=\"col_heading level0 col6\" >hour</th> \n",
       "        <th class=\"col_heading level0 col7\" >day_of_week</th> \n",
       "        <th class=\"col_heading level0 col8\" >day_of_month</th> \n",
       "        <th class=\"col_heading level0 col9\" >week</th> \n",
       "        <th class=\"col_heading level0 col10\" >month</th> \n",
       "        <th class=\"col_heading level0 col11\" >year</th> \n",
       "        <th class=\"col_heading level0 col12\" >H_Distance</th> \n",
       "    </tr></thead> \n",
       "<tbody>    <tr> \n",
       "        <th id=\"T_c79e92a4_a264_11e9_9ba8_3c77e65484f4level0_row0\" class=\"row_heading level0 row0\" >dropoff_latitude</th> \n",
       "        <td id=\"T_c79e92a4_a264_11e9_9ba8_3c77e65484f4row0_col0\" class=\"data row0 col0\" >1</td> \n",
       "        <td id=\"T_c79e92a4_a264_11e9_9ba8_3c77e65484f4row0_col1\" class=\"data row0 col1\" >0.207031</td> \n",
       "        <td id=\"T_c79e92a4_a264_11e9_9ba8_3c77e65484f4row0_col2\" class=\"data row0 col2\" >0.144519</td> \n",
       "        <td id=\"T_c79e92a4_a264_11e9_9ba8_3c77e65484f4row0_col3\" class=\"data row0 col3\" >0.00377614</td> \n",
       "        <td id=\"T_c79e92a4_a264_11e9_9ba8_3c77e65484f4row0_col4\" class=\"data row0 col4\" >0.374562</td> \n",
       "        <td id=\"T_c79e92a4_a264_11e9_9ba8_3c77e65484f4row0_col5\" class=\"data row0 col5\" >0.0654771</td> \n",
       "        <td id=\"T_c79e92a4_a264_11e9_9ba8_3c77e65484f4row0_col6\" class=\"data row0 col6\" >0.0192099</td> \n",
       "        <td id=\"T_c79e92a4_a264_11e9_9ba8_3c77e65484f4row0_col7\" class=\"data row0 col7\" >0.0151573</td> \n",
       "        <td id=\"T_c79e92a4_a264_11e9_9ba8_3c77e65484f4row0_col8\" class=\"data row0 col8\" >0.000600593</td> \n",
       "        <td id=\"T_c79e92a4_a264_11e9_9ba8_3c77e65484f4row0_col9\" class=\"data row0 col9\" >0.00607006</td> \n",
       "        <td id=\"T_c79e92a4_a264_11e9_9ba8_3c77e65484f4row0_col10\" class=\"data row0 col10\" >0.00516605</td> \n",
       "        <td id=\"T_c79e92a4_a264_11e9_9ba8_3c77e65484f4row0_col11\" class=\"data row0 col11\" >0.00211637</td> \n",
       "        <td id=\"T_c79e92a4_a264_11e9_9ba8_3c77e65484f4row0_col12\" class=\"data row0 col12\" >0.057987</td> \n",
       "    </tr>    <tr> \n",
       "        <th id=\"T_c79e92a4_a264_11e9_9ba8_3c77e65484f4level0_row1\" class=\"row_heading level0 row1\" >dropoff_longitude</th> \n",
       "        <td id=\"T_c79e92a4_a264_11e9_9ba8_3c77e65484f4row1_col0\" class=\"data row1 col0\" >0.207031</td> \n",
       "        <td id=\"T_c79e92a4_a264_11e9_9ba8_3c77e65484f4row1_col1\" class=\"data row1 col1\" >1</td> \n",
       "        <td id=\"T_c79e92a4_a264_11e9_9ba8_3c77e65484f4row1_col2\" class=\"data row1 col2\" >0.33487</td> \n",
       "        <td id=\"T_c79e92a4_a264_11e9_9ba8_3c77e65484f4row1_col3\" class=\"data row1 col3\" >0.00426327</td> \n",
       "        <td id=\"T_c79e92a4_a264_11e9_9ba8_3c77e65484f4row1_col4\" class=\"data row1 col4\" >0.05999</td> \n",
       "        <td id=\"T_c79e92a4_a264_11e9_9ba8_3c77e65484f4row1_col5\" class=\"data row1 col5\" >0.262401</td> \n",
       "        <td id=\"T_c79e92a4_a264_11e9_9ba8_3c77e65484f4row1_col6\" class=\"data row1 col6\" >0.0505424</td> \n",
       "        <td id=\"T_c79e92a4_a264_11e9_9ba8_3c77e65484f4row1_col7\" class=\"data row1 col7\" >0.00067268</td> \n",
       "        <td id=\"T_c79e92a4_a264_11e9_9ba8_3c77e65484f4row1_col8\" class=\"data row1 col8\" >0.00629073</td> \n",
       "        <td id=\"T_c79e92a4_a264_11e9_9ba8_3c77e65484f4row1_col9\" class=\"data row1 col9\" >0.0162644</td> \n",
       "        <td id=\"T_c79e92a4_a264_11e9_9ba8_3c77e65484f4row1_col10\" class=\"data row1 col10\" >0.017147</td> \n",
       "        <td id=\"T_c79e92a4_a264_11e9_9ba8_3c77e65484f4row1_col11\" class=\"data row1 col11\" >0.00556064</td> \n",
       "        <td id=\"T_c79e92a4_a264_11e9_9ba8_3c77e65484f4row1_col12\" class=\"data row1 col12\" >0.394567</td> \n",
       "    </tr>    <tr> \n",
       "        <th id=\"T_c79e92a4_a264_11e9_9ba8_3c77e65484f4level0_row2\" class=\"row_heading level0 row2\" >fare_amount</th> \n",
       "        <td id=\"T_c79e92a4_a264_11e9_9ba8_3c77e65484f4row2_col0\" class=\"data row2 col0\" >0.144519</td> \n",
       "        <td id=\"T_c79e92a4_a264_11e9_9ba8_3c77e65484f4row2_col1\" class=\"data row2 col1\" >0.33487</td> \n",
       "        <td id=\"T_c79e92a4_a264_11e9_9ba8_3c77e65484f4row2_col2\" class=\"data row2 col2\" >1</td> \n",
       "        <td id=\"T_c79e92a4_a264_11e9_9ba8_3c77e65484f4row2_col3\" class=\"data row2 col3\" >0.00870483</td> \n",
       "        <td id=\"T_c79e92a4_a264_11e9_9ba8_3c77e65484f4row2_col4\" class=\"data row2 col4\" >0.188378</td> \n",
       "        <td id=\"T_c79e92a4_a264_11e9_9ba8_3c77e65484f4row2_col5\" class=\"data row2 col5\" >0.394142</td> \n",
       "        <td id=\"T_c79e92a4_a264_11e9_9ba8_3c77e65484f4row2_col6\" class=\"data row2 col6\" >0.0293913</td> \n",
       "        <td id=\"T_c79e92a4_a264_11e9_9ba8_3c77e65484f4row2_col7\" class=\"data row2 col7\" >0.00278293</td> \n",
       "        <td id=\"T_c79e92a4_a264_11e9_9ba8_3c77e65484f4row2_col8\" class=\"data row2 col8\" >0.00763756</td> \n",
       "        <td id=\"T_c79e92a4_a264_11e9_9ba8_3c77e65484f4row2_col9\" class=\"data row2 col9\" >0.0396973</td> \n",
       "        <td id=\"T_c79e92a4_a264_11e9_9ba8_3c77e65484f4row2_col10\" class=\"data row2 col10\" >0.041358</td> \n",
       "        <td id=\"T_c79e92a4_a264_11e9_9ba8_3c77e65484f4row2_col11\" class=\"data row2 col11\" >0.115673</td> \n",
       "        <td id=\"T_c79e92a4_a264_11e9_9ba8_3c77e65484f4row2_col12\" class=\"data row2 col12\" >0.767307</td> \n",
       "    </tr>    <tr> \n",
       "        <th id=\"T_c79e92a4_a264_11e9_9ba8_3c77e65484f4level0_row3\" class=\"row_heading level0 row3\" >passenger_count</th> \n",
       "        <td id=\"T_c79e92a4_a264_11e9_9ba8_3c77e65484f4row3_col0\" class=\"data row3 col0\" >0.00377614</td> \n",
       "        <td id=\"T_c79e92a4_a264_11e9_9ba8_3c77e65484f4row3_col1\" class=\"data row3 col1\" >0.00426327</td> \n",
       "        <td id=\"T_c79e92a4_a264_11e9_9ba8_3c77e65484f4row3_col2\" class=\"data row3 col2\" >0.00870483</td> \n",
       "        <td id=\"T_c79e92a4_a264_11e9_9ba8_3c77e65484f4row3_col3\" class=\"data row3 col3\" >1</td> \n",
       "        <td id=\"T_c79e92a4_a264_11e9_9ba8_3c77e65484f4row3_col4\" class=\"data row3 col4\" >0.00573307</td> \n",
       "        <td id=\"T_c79e92a4_a264_11e9_9ba8_3c77e65484f4row3_col5\" class=\"data row3 col5\" >0.00150718</td> \n",
       "        <td id=\"T_c79e92a4_a264_11e9_9ba8_3c77e65484f4row3_col6\" class=\"data row3 col6\" >0.0176572</td> \n",
       "        <td id=\"T_c79e92a4_a264_11e9_9ba8_3c77e65484f4row3_col7\" class=\"data row3 col7\" >0.0421869</td> \n",
       "        <td id=\"T_c79e92a4_a264_11e9_9ba8_3c77e65484f4row3_col8\" class=\"data row3 col8\" >0.00176315</td> \n",
       "        <td id=\"T_c79e92a4_a264_11e9_9ba8_3c77e65484f4row3_col9\" class=\"data row3 col9\" >0.0111648</td> \n",
       "        <td id=\"T_c79e92a4_a264_11e9_9ba8_3c77e65484f4row3_col10\" class=\"data row3 col10\" >0.0094056</td> \n",
       "        <td id=\"T_c79e92a4_a264_11e9_9ba8_3c77e65484f4row3_col11\" class=\"data row3 col11\" >0.00255079</td> \n",
       "        <td id=\"T_c79e92a4_a264_11e9_9ba8_3c77e65484f4row3_col12\" class=\"data row3 col12\" >0.000233448</td> \n",
       "    </tr>    <tr> \n",
       "        <th id=\"T_c79e92a4_a264_11e9_9ba8_3c77e65484f4level0_row4\" class=\"row_heading level0 row4\" >pickup_latitude</th> \n",
       "        <td id=\"T_c79e92a4_a264_11e9_9ba8_3c77e65484f4row4_col0\" class=\"data row4 col0\" >0.374562</td> \n",
       "        <td id=\"T_c79e92a4_a264_11e9_9ba8_3c77e65484f4row4_col1\" class=\"data row4 col1\" >0.05999</td> \n",
       "        <td id=\"T_c79e92a4_a264_11e9_9ba8_3c77e65484f4row4_col2\" class=\"data row4 col2\" >0.188378</td> \n",
       "        <td id=\"T_c79e92a4_a264_11e9_9ba8_3c77e65484f4row4_col3\" class=\"data row4 col3\" >0.00573307</td> \n",
       "        <td id=\"T_c79e92a4_a264_11e9_9ba8_3c77e65484f4row4_col4\" class=\"data row4 col4\" >1</td> \n",
       "        <td id=\"T_c79e92a4_a264_11e9_9ba8_3c77e65484f4row4_col5\" class=\"data row4 col5\" >0.125249</td> \n",
       "        <td id=\"T_c79e92a4_a264_11e9_9ba8_3c77e65484f4row4_col6\" class=\"data row4 col6\" >0.0361773</td> \n",
       "        <td id=\"T_c79e92a4_a264_11e9_9ba8_3c77e65484f4row4_col7\" class=\"data row4 col7\" >0.049207</td> \n",
       "        <td id=\"T_c79e92a4_a264_11e9_9ba8_3c77e65484f4row4_col8\" class=\"data row4 col8\" >0.00551491</td> \n",
       "        <td id=\"T_c79e92a4_a264_11e9_9ba8_3c77e65484f4row4_col9\" class=\"data row4 col9\" >0.00263375</td> \n",
       "        <td id=\"T_c79e92a4_a264_11e9_9ba8_3c77e65484f4row4_col10\" class=\"data row4 col10\" >0.00271425</td> \n",
       "        <td id=\"T_c79e92a4_a264_11e9_9ba8_3c77e65484f4row4_col11\" class=\"data row4 col11\" >0.0191803</td> \n",
       "        <td id=\"T_c79e92a4_a264_11e9_9ba8_3c77e65484f4row4_col12\" class=\"data row4 col12\" >0.0455561</td> \n",
       "    </tr>    <tr> \n",
       "        <th id=\"T_c79e92a4_a264_11e9_9ba8_3c77e65484f4level0_row5\" class=\"row_heading level0 row5\" >pickup_longitude</th> \n",
       "        <td id=\"T_c79e92a4_a264_11e9_9ba8_3c77e65484f4row5_col0\" class=\"data row5 col0\" >0.0654771</td> \n",
       "        <td id=\"T_c79e92a4_a264_11e9_9ba8_3c77e65484f4row5_col1\" class=\"data row5 col1\" >0.262401</td> \n",
       "        <td id=\"T_c79e92a4_a264_11e9_9ba8_3c77e65484f4row5_col2\" class=\"data row5 col2\" >0.394142</td> \n",
       "        <td id=\"T_c79e92a4_a264_11e9_9ba8_3c77e65484f4row5_col3\" class=\"data row5 col3\" >0.00150718</td> \n",
       "        <td id=\"T_c79e92a4_a264_11e9_9ba8_3c77e65484f4row5_col4\" class=\"data row5 col4\" >0.125249</td> \n",
       "        <td id=\"T_c79e92a4_a264_11e9_9ba8_3c77e65484f4row5_col5\" class=\"data row5 col5\" >1</td> \n",
       "        <td id=\"T_c79e92a4_a264_11e9_9ba8_3c77e65484f4row5_col6\" class=\"data row5 col6\" >0.0210253</td> \n",
       "        <td id=\"T_c79e92a4_a264_11e9_9ba8_3c77e65484f4row5_col7\" class=\"data row5 col7\" >0.0380527</td> \n",
       "        <td id=\"T_c79e92a4_a264_11e9_9ba8_3c77e65484f4row5_col8\" class=\"data row5 col8\" >0.00275952</td> \n",
       "        <td id=\"T_c79e92a4_a264_11e9_9ba8_3c77e65484f4row5_col9\" class=\"data row5 col9\" >0.00369939</td> \n",
       "        <td id=\"T_c79e92a4_a264_11e9_9ba8_3c77e65484f4row5_col10\" class=\"data row5 col10\" >0.00495907</td> \n",
       "        <td id=\"T_c79e92a4_a264_11e9_9ba8_3c77e65484f4row5_col11\" class=\"data row5 col11\" >0.00677318</td> \n",
       "        <td id=\"T_c79e92a4_a264_11e9_9ba8_3c77e65484f4row5_col12\" class=\"data row5 col12\" >0.5195</td> \n",
       "    </tr>    <tr> \n",
       "        <th id=\"T_c79e92a4_a264_11e9_9ba8_3c77e65484f4level0_row6\" class=\"row_heading level0 row6\" >hour</th> \n",
       "        <td id=\"T_c79e92a4_a264_11e9_9ba8_3c77e65484f4row6_col0\" class=\"data row6 col0\" >0.0192099</td> \n",
       "        <td id=\"T_c79e92a4_a264_11e9_9ba8_3c77e65484f4row6_col1\" class=\"data row6 col1\" >0.0505424</td> \n",
       "        <td id=\"T_c79e92a4_a264_11e9_9ba8_3c77e65484f4row6_col2\" class=\"data row6 col2\" >0.0293913</td> \n",
       "        <td id=\"T_c79e92a4_a264_11e9_9ba8_3c77e65484f4row6_col3\" class=\"data row6 col3\" >0.0176572</td> \n",
       "        <td id=\"T_c79e92a4_a264_11e9_9ba8_3c77e65484f4row6_col4\" class=\"data row6 col4\" >0.0361773</td> \n",
       "        <td id=\"T_c79e92a4_a264_11e9_9ba8_3c77e65484f4row6_col5\" class=\"data row6 col5\" >0.0210253</td> \n",
       "        <td id=\"T_c79e92a4_a264_11e9_9ba8_3c77e65484f4row6_col6\" class=\"data row6 col6\" >1</td> \n",
       "        <td id=\"T_c79e92a4_a264_11e9_9ba8_3c77e65484f4row6_col7\" class=\"data row6 col7\" >0.0883851</td> \n",
       "        <td id=\"T_c79e92a4_a264_11e9_9ba8_3c77e65484f4row6_col8\" class=\"data row6 col8\" >0.000714279</td> \n",
       "        <td id=\"T_c79e92a4_a264_11e9_9ba8_3c77e65484f4row6_col9\" class=\"data row6 col9\" >0.00432403</td> \n",
       "        <td id=\"T_c79e92a4_a264_11e9_9ba8_3c77e65484f4row6_col10\" class=\"data row6 col10\" >0.00420904</td> \n",
       "        <td id=\"T_c79e92a4_a264_11e9_9ba8_3c77e65484f4row6_col11\" class=\"data row6 col11\" >0.00526942</td> \n",
       "        <td id=\"T_c79e92a4_a264_11e9_9ba8_3c77e65484f4row6_col12\" class=\"data row6 col12\" >0.0393075</td> \n",
       "    </tr>    <tr> \n",
       "        <th id=\"T_c79e92a4_a264_11e9_9ba8_3c77e65484f4level0_row7\" class=\"row_heading level0 row7\" >day_of_week</th> \n",
       "        <td id=\"T_c79e92a4_a264_11e9_9ba8_3c77e65484f4row7_col0\" class=\"data row7 col0\" >0.0151573</td> \n",
       "        <td id=\"T_c79e92a4_a264_11e9_9ba8_3c77e65484f4row7_col1\" class=\"data row7 col1\" >0.00067268</td> \n",
       "        <td id=\"T_c79e92a4_a264_11e9_9ba8_3c77e65484f4row7_col2\" class=\"data row7 col2\" >0.00278293</td> \n",
       "        <td id=\"T_c79e92a4_a264_11e9_9ba8_3c77e65484f4row7_col3\" class=\"data row7 col3\" >0.0421869</td> \n",
       "        <td id=\"T_c79e92a4_a264_11e9_9ba8_3c77e65484f4row7_col4\" class=\"data row7 col4\" >0.049207</td> \n",
       "        <td id=\"T_c79e92a4_a264_11e9_9ba8_3c77e65484f4row7_col5\" class=\"data row7 col5\" >0.0380527</td> \n",
       "        <td id=\"T_c79e92a4_a264_11e9_9ba8_3c77e65484f4row7_col6\" class=\"data row7 col6\" >0.0883851</td> \n",
       "        <td id=\"T_c79e92a4_a264_11e9_9ba8_3c77e65484f4row7_col7\" class=\"data row7 col7\" >1</td> \n",
       "        <td id=\"T_c79e92a4_a264_11e9_9ba8_3c77e65484f4row7_col8\" class=\"data row7 col8\" >0.0140327</td> \n",
       "        <td id=\"T_c79e92a4_a264_11e9_9ba8_3c77e65484f4row7_col9\" class=\"data row7 col9\" >0.0175755</td> \n",
       "        <td id=\"T_c79e92a4_a264_11e9_9ba8_3c77e65484f4row7_col10\" class=\"data row7 col10\" >0.0161068</td> \n",
       "        <td id=\"T_c79e92a4_a264_11e9_9ba8_3c77e65484f4row7_col11\" class=\"data row7 col11\" >0.00477613</td> \n",
       "        <td id=\"T_c79e92a4_a264_11e9_9ba8_3c77e65484f4row7_col12\" class=\"data row7 col12\" >0.0129446</td> \n",
       "    </tr>    <tr> \n",
       "        <th id=\"T_c79e92a4_a264_11e9_9ba8_3c77e65484f4level0_row8\" class=\"row_heading level0 row8\" >day_of_month</th> \n",
       "        <td id=\"T_c79e92a4_a264_11e9_9ba8_3c77e65484f4row8_col0\" class=\"data row8 col0\" >0.000600593</td> \n",
       "        <td id=\"T_c79e92a4_a264_11e9_9ba8_3c77e65484f4row8_col1\" class=\"data row8 col1\" >0.00629073</td> \n",
       "        <td id=\"T_c79e92a4_a264_11e9_9ba8_3c77e65484f4row8_col2\" class=\"data row8 col2\" >0.00763756</td> \n",
       "        <td id=\"T_c79e92a4_a264_11e9_9ba8_3c77e65484f4row8_col3\" class=\"data row8 col3\" >0.00176315</td> \n",
       "        <td id=\"T_c79e92a4_a264_11e9_9ba8_3c77e65484f4row8_col4\" class=\"data row8 col4\" >0.00551491</td> \n",
       "        <td id=\"T_c79e92a4_a264_11e9_9ba8_3c77e65484f4row8_col5\" class=\"data row8 col5\" >0.00275952</td> \n",
       "        <td id=\"T_c79e92a4_a264_11e9_9ba8_3c77e65484f4row8_col6\" class=\"data row8 col6\" >0.000714279</td> \n",
       "        <td id=\"T_c79e92a4_a264_11e9_9ba8_3c77e65484f4row8_col7\" class=\"data row8 col7\" >0.0140327</td> \n",
       "        <td id=\"T_c79e92a4_a264_11e9_9ba8_3c77e65484f4row8_col8\" class=\"data row8 col8\" >1</td> \n",
       "        <td id=\"T_c79e92a4_a264_11e9_9ba8_3c77e65484f4row8_col9\" class=\"data row8 col9\" >0.0408084</td> \n",
       "        <td id=\"T_c79e92a4_a264_11e9_9ba8_3c77e65484f4row8_col10\" class=\"data row8 col10\" >0.0175288</td> \n",
       "        <td id=\"T_c79e92a4_a264_11e9_9ba8_3c77e65484f4row8_col11\" class=\"data row8 col11\" >0.0259138</td> \n",
       "        <td id=\"T_c79e92a4_a264_11e9_9ba8_3c77e65484f4row8_col12\" class=\"data row8 col12\" >0.0058199</td> \n",
       "    </tr>    <tr> \n",
       "        <th id=\"T_c79e92a4_a264_11e9_9ba8_3c77e65484f4level0_row9\" class=\"row_heading level0 row9\" >week</th> \n",
       "        <td id=\"T_c79e92a4_a264_11e9_9ba8_3c77e65484f4row9_col0\" class=\"data row9 col0\" >0.00607006</td> \n",
       "        <td id=\"T_c79e92a4_a264_11e9_9ba8_3c77e65484f4row9_col1\" class=\"data row9 col1\" >0.0162644</td> \n",
       "        <td id=\"T_c79e92a4_a264_11e9_9ba8_3c77e65484f4row9_col2\" class=\"data row9 col2\" >0.0396973</td> \n",
       "        <td id=\"T_c79e92a4_a264_11e9_9ba8_3c77e65484f4row9_col3\" class=\"data row9 col3\" >0.0111648</td> \n",
       "        <td id=\"T_c79e92a4_a264_11e9_9ba8_3c77e65484f4row9_col4\" class=\"data row9 col4\" >0.00263375</td> \n",
       "        <td id=\"T_c79e92a4_a264_11e9_9ba8_3c77e65484f4row9_col5\" class=\"data row9 col5\" >0.00369939</td> \n",
       "        <td id=\"T_c79e92a4_a264_11e9_9ba8_3c77e65484f4row9_col6\" class=\"data row9 col6\" >0.00432403</td> \n",
       "        <td id=\"T_c79e92a4_a264_11e9_9ba8_3c77e65484f4row9_col7\" class=\"data row9 col7\" >0.0175755</td> \n",
       "        <td id=\"T_c79e92a4_a264_11e9_9ba8_3c77e65484f4row9_col8\" class=\"data row9 col8\" >0.0408084</td> \n",
       "        <td id=\"T_c79e92a4_a264_11e9_9ba8_3c77e65484f4row9_col9\" class=\"data row9 col9\" >1</td> \n",
       "        <td id=\"T_c79e92a4_a264_11e9_9ba8_3c77e65484f4row9_col10\" class=\"data row9 col10\" >0.973625</td> \n",
       "        <td id=\"T_c79e92a4_a264_11e9_9ba8_3c77e65484f4row9_col11\" class=\"data row9 col11\" >0.124371</td> \n",
       "        <td id=\"T_c79e92a4_a264_11e9_9ba8_3c77e65484f4row9_col12\" class=\"data row9 col12\" >0.0185135</td> \n",
       "    </tr>    <tr> \n",
       "        <th id=\"T_c79e92a4_a264_11e9_9ba8_3c77e65484f4level0_row10\" class=\"row_heading level0 row10\" >month</th> \n",
       "        <td id=\"T_c79e92a4_a264_11e9_9ba8_3c77e65484f4row10_col0\" class=\"data row10 col0\" >0.00516605</td> \n",
       "        <td id=\"T_c79e92a4_a264_11e9_9ba8_3c77e65484f4row10_col1\" class=\"data row10 col1\" >0.017147</td> \n",
       "        <td id=\"T_c79e92a4_a264_11e9_9ba8_3c77e65484f4row10_col2\" class=\"data row10 col2\" >0.041358</td> \n",
       "        <td id=\"T_c79e92a4_a264_11e9_9ba8_3c77e65484f4row10_col3\" class=\"data row10 col3\" >0.0094056</td> \n",
       "        <td id=\"T_c79e92a4_a264_11e9_9ba8_3c77e65484f4row10_col4\" class=\"data row10 col4\" >0.00271425</td> \n",
       "        <td id=\"T_c79e92a4_a264_11e9_9ba8_3c77e65484f4row10_col5\" class=\"data row10 col5\" >0.00495907</td> \n",
       "        <td id=\"T_c79e92a4_a264_11e9_9ba8_3c77e65484f4row10_col6\" class=\"data row10 col6\" >0.00420904</td> \n",
       "        <td id=\"T_c79e92a4_a264_11e9_9ba8_3c77e65484f4row10_col7\" class=\"data row10 col7\" >0.0161068</td> \n",
       "        <td id=\"T_c79e92a4_a264_11e9_9ba8_3c77e65484f4row10_col8\" class=\"data row10 col8\" >0.0175288</td> \n",
       "        <td id=\"T_c79e92a4_a264_11e9_9ba8_3c77e65484f4row10_col9\" class=\"data row10 col9\" >0.973625</td> \n",
       "        <td id=\"T_c79e92a4_a264_11e9_9ba8_3c77e65484f4row10_col10\" class=\"data row10 col10\" >1</td> \n",
       "        <td id=\"T_c79e92a4_a264_11e9_9ba8_3c77e65484f4row10_col11\" class=\"data row10 col11\" >0.116454</td> \n",
       "        <td id=\"T_c79e92a4_a264_11e9_9ba8_3c77e65484f4row10_col12\" class=\"data row10 col12\" >0.0201458</td> \n",
       "    </tr>    <tr> \n",
       "        <th id=\"T_c79e92a4_a264_11e9_9ba8_3c77e65484f4level0_row11\" class=\"row_heading level0 row11\" >year</th> \n",
       "        <td id=\"T_c79e92a4_a264_11e9_9ba8_3c77e65484f4row11_col0\" class=\"data row11 col0\" >0.00211637</td> \n",
       "        <td id=\"T_c79e92a4_a264_11e9_9ba8_3c77e65484f4row11_col1\" class=\"data row11 col1\" >0.00556064</td> \n",
       "        <td id=\"T_c79e92a4_a264_11e9_9ba8_3c77e65484f4row11_col2\" class=\"data row11 col2\" >0.115673</td> \n",
       "        <td id=\"T_c79e92a4_a264_11e9_9ba8_3c77e65484f4row11_col3\" class=\"data row11 col3\" >0.00255079</td> \n",
       "        <td id=\"T_c79e92a4_a264_11e9_9ba8_3c77e65484f4row11_col4\" class=\"data row11 col4\" >0.0191803</td> \n",
       "        <td id=\"T_c79e92a4_a264_11e9_9ba8_3c77e65484f4row11_col5\" class=\"data row11 col5\" >0.00677318</td> \n",
       "        <td id=\"T_c79e92a4_a264_11e9_9ba8_3c77e65484f4row11_col6\" class=\"data row11 col6\" >0.00526942</td> \n",
       "        <td id=\"T_c79e92a4_a264_11e9_9ba8_3c77e65484f4row11_col7\" class=\"data row11 col7\" >0.00477613</td> \n",
       "        <td id=\"T_c79e92a4_a264_11e9_9ba8_3c77e65484f4row11_col8\" class=\"data row11 col8\" >0.0259138</td> \n",
       "        <td id=\"T_c79e92a4_a264_11e9_9ba8_3c77e65484f4row11_col9\" class=\"data row11 col9\" >0.124371</td> \n",
       "        <td id=\"T_c79e92a4_a264_11e9_9ba8_3c77e65484f4row11_col10\" class=\"data row11 col10\" >0.116454</td> \n",
       "        <td id=\"T_c79e92a4_a264_11e9_9ba8_3c77e65484f4row11_col11\" class=\"data row11 col11\" >1</td> \n",
       "        <td id=\"T_c79e92a4_a264_11e9_9ba8_3c77e65484f4row11_col12\" class=\"data row11 col12\" >0.00461734</td> \n",
       "    </tr>    <tr> \n",
       "        <th id=\"T_c79e92a4_a264_11e9_9ba8_3c77e65484f4level0_row12\" class=\"row_heading level0 row12\" >H_Distance</th> \n",
       "        <td id=\"T_c79e92a4_a264_11e9_9ba8_3c77e65484f4row12_col0\" class=\"data row12 col0\" >0.057987</td> \n",
       "        <td id=\"T_c79e92a4_a264_11e9_9ba8_3c77e65484f4row12_col1\" class=\"data row12 col1\" >0.394567</td> \n",
       "        <td id=\"T_c79e92a4_a264_11e9_9ba8_3c77e65484f4row12_col2\" class=\"data row12 col2\" >0.767307</td> \n",
       "        <td id=\"T_c79e92a4_a264_11e9_9ba8_3c77e65484f4row12_col3\" class=\"data row12 col3\" >0.000233448</td> \n",
       "        <td id=\"T_c79e92a4_a264_11e9_9ba8_3c77e65484f4row12_col4\" class=\"data row12 col4\" >0.0455561</td> \n",
       "        <td id=\"T_c79e92a4_a264_11e9_9ba8_3c77e65484f4row12_col5\" class=\"data row12 col5\" >0.5195</td> \n",
       "        <td id=\"T_c79e92a4_a264_11e9_9ba8_3c77e65484f4row12_col6\" class=\"data row12 col6\" >0.0393075</td> \n",
       "        <td id=\"T_c79e92a4_a264_11e9_9ba8_3c77e65484f4row12_col7\" class=\"data row12 col7\" >0.0129446</td> \n",
       "        <td id=\"T_c79e92a4_a264_11e9_9ba8_3c77e65484f4row12_col8\" class=\"data row12 col8\" >0.0058199</td> \n",
       "        <td id=\"T_c79e92a4_a264_11e9_9ba8_3c77e65484f4row12_col9\" class=\"data row12 col9\" >0.0185135</td> \n",
       "        <td id=\"T_c79e92a4_a264_11e9_9ba8_3c77e65484f4row12_col10\" class=\"data row12 col10\" >0.0201458</td> \n",
       "        <td id=\"T_c79e92a4_a264_11e9_9ba8_3c77e65484f4row12_col11\" class=\"data row12 col11\" >0.00461734</td> \n",
       "        <td id=\"T_c79e92a4_a264_11e9_9ba8_3c77e65484f4row12_col12\" class=\"data row12 col12\" >1</td> \n",
       "    </tr></tbody> \n",
       "</table> "
      ],
      "text/plain": [
       "<pandas.io.formats.style.Styler at 0x1e52a838fd0>"
      ]
     },
     "execution_count": 773,
     "metadata": {},
     "output_type": "execute_result"
    },
    {
     "data": {
      "image/png": "[encoded data removed]",
      "text/plain": [
       "<Figure size 504x360 with 2 Axes>"
      ]
     },
     "metadata": {
      "needs_background": "light"
     },
     "output_type": "display_data"
    }
   ],
   "source": [
    "#correlation analysis for numeric variables\n",
    "#Set the width and hieght of the plot\n",
    "f, ax = plt.subplots(figsize=(7, 5))\n",
    "\n",
    "#Generate correlation matrix\n",
    "corr = cab_data.corr()\n",
    "\n",
    "#Plot using seaborn library\n",
    "sns.heatmap(corr, mask=np.zeros_like(corr, dtype=np.bool), cmap=sns.diverging_palette(220, 10, as_cmap=True),\n",
    "            square=True, ax=ax)\n",
    "# Create correlation matrix\n",
    "corr_matrix = cab_data.corr().abs()\n",
    "corr_matrix.style.background_gradient(cmap='GnBu_r')"
   ]
  },
  {
   "cell_type": "markdown",
   "metadata": {},
   "source": [
    "#from correlation analysis we can drop of day of week and day of month variables as they hav very low  correlation with target variable fare ammount\n",
    "#also as during above analysis we have already droped pickup date while extracting other variables from it\n"
   ]
  },
  {
   "cell_type": "code",
   "execution_count": 774,
   "metadata": {},
   "outputs": [
    {
     "data": {
      "text/html": [
       "<style  type=\"text/css\" >\n",
       "    #T_c82736ae_a264_11e9_9ce1_3c77e65484f4row0_col0 {\n",
       "            background-color:  #f7fcf0;\n",
       "        }    #T_c82736ae_a264_11e9_9ce1_3c77e65484f4row0_col1 {\n",
       "            background-color:  #0f6faf;\n",
       "        }    #T_c82736ae_a264_11e9_9ce1_3c77e65484f4row0_col2 {\n",
       "            background-color:  #3b9dc7;\n",
       "        }    #T_c82736ae_a264_11e9_9ce1_3c77e65484f4row0_col3 {\n",
       "            background-color:  #0969ad;\n",
       "        }    #T_c82736ae_a264_11e9_9ce1_3c77e65484f4row0_col4 {\n",
       "            background-color:  #084182;\n",
       "        }    #T_c82736ae_a264_11e9_9ce1_3c77e65484f4row0_col5 {\n",
       "            background-color:  #084182;\n",
       "        }    #T_c82736ae_a264_11e9_9ce1_3c77e65484f4row0_col6 {\n",
       "            background-color:  #084889;\n",
       "        }    #T_c82736ae_a264_11e9_9ce1_3c77e65484f4row0_col7 {\n",
       "            background-color:  #084182;\n",
       "        }    #T_c82736ae_a264_11e9_9ce1_3c77e65484f4row0_col8 {\n",
       "            background-color:  #084485;\n",
       "        }    #T_c82736ae_a264_11e9_9ce1_3c77e65484f4row0_col9 {\n",
       "            background-color:  #084081;\n",
       "        }    #T_c82736ae_a264_11e9_9ce1_3c77e65484f4row0_col10 {\n",
       "            background-color:  #084081;\n",
       "        }    #T_c82736ae_a264_11e9_9ce1_3c77e65484f4row0_col11 {\n",
       "            background-color:  #86d0c0;\n",
       "        }    #T_c82736ae_a264_11e9_9ce1_3c77e65484f4row1_col0 {\n",
       "            background-color:  #1272b1;\n",
       "        }    #T_c82736ae_a264_11e9_9ce1_3c77e65484f4row1_col1 {\n",
       "            background-color:  #f7fcf0;\n",
       "        }    #T_c82736ae_a264_11e9_9ce1_3c77e65484f4row1_col2 {\n",
       "            background-color:  #0a6aad;\n",
       "        }    #T_c82736ae_a264_11e9_9ce1_3c77e65484f4row1_col3 {\n",
       "            background-color:  #67c1cb;\n",
       "        }    #T_c82736ae_a264_11e9_9ce1_3c77e65484f4row1_col4 {\n",
       "            background-color:  #084586;\n",
       "        }    #T_c82736ae_a264_11e9_9ce1_3c77e65484f4row1_col5 {\n",
       "            background-color:  #084384;\n",
       "        }    #T_c82736ae_a264_11e9_9ce1_3c77e65484f4row1_col6 {\n",
       "            background-color:  #08498a;\n",
       "        }    #T_c82736ae_a264_11e9_9ce1_3c77e65484f4row1_col7 {\n",
       "            background-color:  #084688;\n",
       "        }    #T_c82736ae_a264_11e9_9ce1_3c77e65484f4row1_col8 {\n",
       "            background-color:  #084586;\n",
       "        }    #T_c82736ae_a264_11e9_9ce1_3c77e65484f4row1_col9 {\n",
       "            background-color:  #084182;\n",
       "        }    #T_c82736ae_a264_11e9_9ce1_3c77e65484f4row1_col10 {\n",
       "            background-color:  #08498a;\n",
       "        }    #T_c82736ae_a264_11e9_9ce1_3c77e65484f4row1_col11 {\n",
       "            background-color:  #085799;\n",
       "        }    #T_c82736ae_a264_11e9_9ce1_3c77e65484f4row2_col0 {\n",
       "            background-color:  #3c9fc8;\n",
       "        }    #T_c82736ae_a264_11e9_9ce1_3c77e65484f4row2_col1 {\n",
       "            background-color:  #0867ab;\n",
       "        }    #T_c82736ae_a264_11e9_9ce1_3c77e65484f4row2_col2 {\n",
       "            background-color:  #f7fcf0;\n",
       "        }    #T_c82736ae_a264_11e9_9ce1_3c77e65484f4row2_col3 {\n",
       "            background-color:  #2788bc;\n",
       "        }    #T_c82736ae_a264_11e9_9ce1_3c77e65484f4row2_col4 {\n",
       "            background-color:  #084384;\n",
       "        }    #T_c82736ae_a264_11e9_9ce1_3c77e65484f4row2_col5 {\n",
       "            background-color:  #084f91;\n",
       "        }    #T_c82736ae_a264_11e9_9ce1_3c77e65484f4row2_col6 {\n",
       "            background-color:  #084889;\n",
       "        }    #T_c82736ae_a264_11e9_9ce1_3c77e65484f4row2_col7 {\n",
       "            background-color:  #084384;\n",
       "        }    #T_c82736ae_a264_11e9_9ce1_3c77e65484f4row2_col8 {\n",
       "            background-color:  #084586;\n",
       "        }    #T_c82736ae_a264_11e9_9ce1_3c77e65484f4row2_col9 {\n",
       "            background-color:  #084081;\n",
       "        }    #T_c82736ae_a264_11e9_9ce1_3c77e65484f4row2_col10 {\n",
       "            background-color:  #084182;\n",
       "        }    #T_c82736ae_a264_11e9_9ce1_3c77e65484f4row2_col11 {\n",
       "            background-color:  #3c9fc8;\n",
       "        }    #T_c82736ae_a264_11e9_9ce1_3c77e65484f4row3_col0 {\n",
       "            background-color:  #0868ac;\n",
       "        }    #T_c82736ae_a264_11e9_9ce1_3c77e65484f4row3_col1 {\n",
       "            background-color:  #62becc;\n",
       "        }    #T_c82736ae_a264_11e9_9ce1_3c77e65484f4row3_col2 {\n",
       "            background-color:  #2586bb;\n",
       "        }    #T_c82736ae_a264_11e9_9ce1_3c77e65484f4row3_col3 {\n",
       "            background-color:  #f7fcf0;\n",
       "        }    #T_c82736ae_a264_11e9_9ce1_3c77e65484f4row3_col4 {\n",
       "            background-color:  #084081;\n",
       "        }    #T_c82736ae_a264_11e9_9ce1_3c77e65484f4row3_col5 {\n",
       "            background-color:  #084384;\n",
       "        }    #T_c82736ae_a264_11e9_9ce1_3c77e65484f4row3_col6 {\n",
       "            background-color:  #084889;\n",
       "        }    #T_c82736ae_a264_11e9_9ce1_3c77e65484f4row3_col7 {\n",
       "            background-color:  #084081;\n",
       "        }    #T_c82736ae_a264_11e9_9ce1_3c77e65484f4row3_col8 {\n",
       "            background-color:  #084586;\n",
       "        }    #T_c82736ae_a264_11e9_9ce1_3c77e65484f4row3_col9 {\n",
       "            background-color:  #084081;\n",
       "        }    #T_c82736ae_a264_11e9_9ce1_3c77e65484f4row3_col10 {\n",
       "            background-color:  #084889;\n",
       "        }    #T_c82736ae_a264_11e9_9ce1_3c77e65484f4row3_col11 {\n",
       "            background-color:  #0866a9;\n",
       "        }    #T_c82736ae_a264_11e9_9ce1_3c77e65484f4row4_col0 {\n",
       "            background-color:  #084182;\n",
       "        }    #T_c82736ae_a264_11e9_9ce1_3c77e65484f4row4_col1 {\n",
       "            background-color:  #084081;\n",
       "        }    #T_c82736ae_a264_11e9_9ce1_3c77e65484f4row4_col2 {\n",
       "            background-color:  #084182;\n",
       "        }    #T_c82736ae_a264_11e9_9ce1_3c77e65484f4row4_col3 {\n",
       "            background-color:  #084384;\n",
       "        }    #T_c82736ae_a264_11e9_9ce1_3c77e65484f4row4_col4 {\n",
       "            background-color:  #f7fcf0;\n",
       "        }    #T_c82736ae_a264_11e9_9ce1_3c77e65484f4row4_col5 {\n",
       "            background-color:  #084688;\n",
       "        }    #T_c82736ae_a264_11e9_9ce1_3c77e65484f4row4_col6 {\n",
       "            background-color:  #084182;\n",
       "        }    #T_c82736ae_a264_11e9_9ce1_3c77e65484f4row4_col7 {\n",
       "            background-color:  #084a8c;\n",
       "        }    #T_c82736ae_a264_11e9_9ce1_3c77e65484f4row4_col8 {\n",
       "            background-color:  #085294;\n",
       "        }    #T_c82736ae_a264_11e9_9ce1_3c77e65484f4row4_col9 {\n",
       "            background-color:  #084e90;\n",
       "        }    #T_c82736ae_a264_11e9_9ce1_3c77e65484f4row4_col10 {\n",
       "            background-color:  #084182;\n",
       "        }    #T_c82736ae_a264_11e9_9ce1_3c77e65484f4row4_col11 {\n",
       "            background-color:  #08498a;\n",
       "        }    #T_c82736ae_a264_11e9_9ce1_3c77e65484f4row5_col0 {\n",
       "            background-color:  #084485;\n",
       "        }    #T_c82736ae_a264_11e9_9ce1_3c77e65484f4row5_col1 {\n",
       "            background-color:  #084081;\n",
       "        }    #T_c82736ae_a264_11e9_9ce1_3c77e65484f4row5_col2 {\n",
       "            background-color:  #085093;\n",
       "        }    #T_c82736ae_a264_11e9_9ce1_3c77e65484f4row5_col3 {\n",
       "            background-color:  #084688;\n",
       "        }    #T_c82736ae_a264_11e9_9ce1_3c77e65484f4row5_col4 {\n",
       "            background-color:  #084889;\n",
       "        }    #T_c82736ae_a264_11e9_9ce1_3c77e65484f4row5_col5 {\n",
       "            background-color:  #f7fcf0;\n",
       "        }    #T_c82736ae_a264_11e9_9ce1_3c77e65484f4row5_col6 {\n",
       "            background-color:  #0868ac;\n",
       "        }    #T_c82736ae_a264_11e9_9ce1_3c77e65484f4row5_col7 {\n",
       "            background-color:  #084f91;\n",
       "        }    #T_c82736ae_a264_11e9_9ce1_3c77e65484f4row5_col8 {\n",
       "            background-color:  #1272b1;\n",
       "        }    #T_c82736ae_a264_11e9_9ce1_3c77e65484f4row5_col9 {\n",
       "            background-color:  #0e6eaf;\n",
       "        }    #T_c82736ae_a264_11e9_9ce1_3c77e65484f4row5_col10 {\n",
       "            background-color:  #084182;\n",
       "        }    #T_c82736ae_a264_11e9_9ce1_3c77e65484f4row5_col11 {\n",
       "            background-color:  #084586;\n",
       "        }    #T_c82736ae_a264_11e9_9ce1_3c77e65484f4row6_col0 {\n",
       "            background-color:  #084688;\n",
       "        }    #T_c82736ae_a264_11e9_9ce1_3c77e65484f4row6_col1 {\n",
       "            background-color:  #084384;\n",
       "        }    #T_c82736ae_a264_11e9_9ce1_3c77e65484f4row6_col2 {\n",
       "            background-color:  #084485;\n",
       "        }    #T_c82736ae_a264_11e9_9ce1_3c77e65484f4row6_col3 {\n",
       "            background-color:  #084889;\n",
       "        }    #T_c82736ae_a264_11e9_9ce1_3c77e65484f4row6_col4 {\n",
       "            background-color:  #084081;\n",
       "        }    #T_c82736ae_a264_11e9_9ce1_3c77e65484f4row6_col5 {\n",
       "            background-color:  #0866a9;\n",
       "        }    #T_c82736ae_a264_11e9_9ce1_3c77e65484f4row6_col6 {\n",
       "            background-color:  #f7fcf0;\n",
       "        }    #T_c82736ae_a264_11e9_9ce1_3c77e65484f4row6_col7 {\n",
       "            background-color:  #085598;\n",
       "        }    #T_c82736ae_a264_11e9_9ce1_3c77e65484f4row6_col8 {\n",
       "            background-color:  #1677b3;\n",
       "        }    #T_c82736ae_a264_11e9_9ce1_3c77e65484f4row6_col9 {\n",
       "            background-color:  #0f6faf;\n",
       "        }    #T_c82736ae_a264_11e9_9ce1_3c77e65484f4row6_col10 {\n",
       "            background-color:  #084384;\n",
       "        }    #T_c82736ae_a264_11e9_9ce1_3c77e65484f4row6_col11 {\n",
       "            background-color:  #084081;\n",
       "        }    #T_c82736ae_a264_11e9_9ce1_3c77e65484f4row7_col0 {\n",
       "            background-color:  #084081;\n",
       "        }    #T_c82736ae_a264_11e9_9ce1_3c77e65484f4row7_col1 {\n",
       "            background-color:  #084081;\n",
       "        }    #T_c82736ae_a264_11e9_9ce1_3c77e65484f4row7_col2 {\n",
       "            background-color:  #084081;\n",
       "        }    #T_c82736ae_a264_11e9_9ce1_3c77e65484f4row7_col3 {\n",
       "            background-color:  #084081;\n",
       "        }    #T_c82736ae_a264_11e9_9ce1_3c77e65484f4row7_col4 {\n",
       "            background-color:  #08498a;\n",
       "        }    #T_c82736ae_a264_11e9_9ce1_3c77e65484f4row7_col5 {\n",
       "            background-color:  #084b8d;\n",
       "        }    #T_c82736ae_a264_11e9_9ce1_3c77e65484f4row7_col6 {\n",
       "            background-color:  #085598;\n",
       "        }    #T_c82736ae_a264_11e9_9ce1_3c77e65484f4row7_col7 {\n",
       "            background-color:  #f7fcf0;\n",
       "        }    #T_c82736ae_a264_11e9_9ce1_3c77e65484f4row7_col8 {\n",
       "            background-color:  #084081;\n",
       "        }    #T_c82736ae_a264_11e9_9ce1_3c77e65484f4row7_col9 {\n",
       "            background-color:  #085395;\n",
       "        }    #T_c82736ae_a264_11e9_9ce1_3c77e65484f4row7_col10 {\n",
       "            background-color:  #0862a5;\n",
       "        }    #T_c82736ae_a264_11e9_9ce1_3c77e65484f4row7_col11 {\n",
       "            background-color:  #084384;\n",
       "        }    #T_c82736ae_a264_11e9_9ce1_3c77e65484f4row8_col0 {\n",
       "            background-color:  #084485;\n",
       "        }    #T_c82736ae_a264_11e9_9ce1_3c77e65484f4row8_col1 {\n",
       "            background-color:  #084081;\n",
       "        }    #T_c82736ae_a264_11e9_9ce1_3c77e65484f4row8_col2 {\n",
       "            background-color:  #084384;\n",
       "        }    #T_c82736ae_a264_11e9_9ce1_3c77e65484f4row8_col3 {\n",
       "            background-color:  #084586;\n",
       "        }    #T_c82736ae_a264_11e9_9ce1_3c77e65484f4row8_col4 {\n",
       "            background-color:  #085294;\n",
       "        }    #T_c82736ae_a264_11e9_9ce1_3c77e65484f4row8_col5 {\n",
       "            background-color:  #1070b0;\n",
       "        }    #T_c82736ae_a264_11e9_9ce1_3c77e65484f4row8_col6 {\n",
       "            background-color:  #1677b3;\n",
       "        }    #T_c82736ae_a264_11e9_9ce1_3c77e65484f4row8_col7 {\n",
       "            background-color:  #084081;\n",
       "        }    #T_c82736ae_a264_11e9_9ce1_3c77e65484f4row8_col8 {\n",
       "            background-color:  #f7fcf0;\n",
       "        }    #T_c82736ae_a264_11e9_9ce1_3c77e65484f4row8_col9 {\n",
       "            background-color:  #f3fbed;\n",
       "        }    #T_c82736ae_a264_11e9_9ce1_3c77e65484f4row8_col10 {\n",
       "            background-color:  #1979b5;\n",
       "        }    #T_c82736ae_a264_11e9_9ce1_3c77e65484f4row8_col11 {\n",
       "            background-color:  #084889;\n",
       "        }    #T_c82736ae_a264_11e9_9ce1_3c77e65484f4row9_col0 {\n",
       "            background-color:  #084384;\n",
       "        }    #T_c82736ae_a264_11e9_9ce1_3c77e65484f4row9_col1 {\n",
       "            background-color:  #084081;\n",
       "        }    #T_c82736ae_a264_11e9_9ce1_3c77e65484f4row9_col2 {\n",
       "            background-color:  #084182;\n",
       "        }    #T_c82736ae_a264_11e9_9ce1_3c77e65484f4row9_col3 {\n",
       "            background-color:  #084586;\n",
       "        }    #T_c82736ae_a264_11e9_9ce1_3c77e65484f4row9_col4 {\n",
       "            background-color:  #085294;\n",
       "        }    #T_c82736ae_a264_11e9_9ce1_3c77e65484f4row9_col5 {\n",
       "            background-color:  #0f6faf;\n",
       "        }    #T_c82736ae_a264_11e9_9ce1_3c77e65484f4row9_col6 {\n",
       "            background-color:  #1373b2;\n",
       "        }    #T_c82736ae_a264_11e9_9ce1_3c77e65484f4row9_col7 {\n",
       "            background-color:  #08589b;\n",
       "        }    #T_c82736ae_a264_11e9_9ce1_3c77e65484f4row9_col8 {\n",
       "            background-color:  #f3fbed;\n",
       "        }    #T_c82736ae_a264_11e9_9ce1_3c77e65484f4row9_col9 {\n",
       "            background-color:  #f7fcf0;\n",
       "        }    #T_c82736ae_a264_11e9_9ce1_3c77e65484f4row9_col10 {\n",
       "            background-color:  #1d7eb7;\n",
       "        }    #T_c82736ae_a264_11e9_9ce1_3c77e65484f4row9_col11 {\n",
       "            background-color:  #084688;\n",
       "        }    #T_c82736ae_a264_11e9_9ce1_3c77e65484f4row10_col0 {\n",
       "            background-color:  #084081;\n",
       "        }    #T_c82736ae_a264_11e9_9ce1_3c77e65484f4row10_col1 {\n",
       "            background-color:  #084485;\n",
       "        }    #T_c82736ae_a264_11e9_9ce1_3c77e65484f4row10_col2 {\n",
       "            background-color:  #084081;\n",
       "        }    #T_c82736ae_a264_11e9_9ce1_3c77e65484f4row10_col3 {\n",
       "            background-color:  #08498a;\n",
       "        }    #T_c82736ae_a264_11e9_9ce1_3c77e65484f4row10_col4 {\n",
       "            background-color:  #084182;\n",
       "        }    #T_c82736ae_a264_11e9_9ce1_3c77e65484f4row10_col5 {\n",
       "            background-color:  #084081;\n",
       "        }    #T_c82736ae_a264_11e9_9ce1_3c77e65484f4row10_col6 {\n",
       "            background-color:  #084485;\n",
       "        }    #T_c82736ae_a264_11e9_9ce1_3c77e65484f4row10_col7 {\n",
       "            background-color:  #0864a8;\n",
       "        }    #T_c82736ae_a264_11e9_9ce1_3c77e65484f4row10_col8 {\n",
       "            background-color:  #1a7ab5;\n",
       "        }    #T_c82736ae_a264_11e9_9ce1_3c77e65484f4row10_col9 {\n",
       "            background-color:  #1a7ab5;\n",
       "        }    #T_c82736ae_a264_11e9_9ce1_3c77e65484f4row10_col10 {\n",
       "            background-color:  #f7fcf0;\n",
       "        }    #T_c82736ae_a264_11e9_9ce1_3c77e65484f4row10_col11 {\n",
       "            background-color:  #084384;\n",
       "        }    #T_c82736ae_a264_11e9_9ce1_3c77e65484f4row11_col0 {\n",
       "            background-color:  #84cfc1;\n",
       "        }    #T_c82736ae_a264_11e9_9ce1_3c77e65484f4row11_col1 {\n",
       "            background-color:  #085093;\n",
       "        }    #T_c82736ae_a264_11e9_9ce1_3c77e65484f4row11_col2 {\n",
       "            background-color:  #3a9cc7;\n",
       "        }    #T_c82736ae_a264_11e9_9ce1_3c77e65484f4row11_col3 {\n",
       "            background-color:  #0866a9;\n",
       "        }    #T_c82736ae_a264_11e9_9ce1_3c77e65484f4row11_col4 {\n",
       "            background-color:  #084688;\n",
       "        }    #T_c82736ae_a264_11e9_9ce1_3c77e65484f4row11_col5 {\n",
       "            background-color:  #084182;\n",
       "        }    #T_c82736ae_a264_11e9_9ce1_3c77e65484f4row11_col6 {\n",
       "            background-color:  #084081;\n",
       "        }    #T_c82736ae_a264_11e9_9ce1_3c77e65484f4row11_col7 {\n",
       "            background-color:  #084384;\n",
       "        }    #T_c82736ae_a264_11e9_9ce1_3c77e65484f4row11_col8 {\n",
       "            background-color:  #084688;\n",
       "        }    #T_c82736ae_a264_11e9_9ce1_3c77e65484f4row11_col9 {\n",
       "            background-color:  #084182;\n",
       "        }    #T_c82736ae_a264_11e9_9ce1_3c77e65484f4row11_col10 {\n",
       "            background-color:  #084081;\n",
       "        }    #T_c82736ae_a264_11e9_9ce1_3c77e65484f4row11_col11 {\n",
       "            background-color:  #f7fcf0;\n",
       "        }</style>  \n",
       "<table id=\"T_c82736ae_a264_11e9_9ce1_3c77e65484f4\" > \n",
       "<thead>    <tr> \n",
       "        <th class=\"blank level0\" ></th> \n",
       "        <th class=\"col_heading level0 col0\" >pickup_longitude</th> \n",
       "        <th class=\"col_heading level0 col1\" >pickup_latitude</th> \n",
       "        <th class=\"col_heading level0 col2\" >dropoff_longitude</th> \n",
       "        <th class=\"col_heading level0 col3\" >dropoff_latitude</th> \n",
       "        <th class=\"col_heading level0 col4\" >passenger_count</th> \n",
       "        <th class=\"col_heading level0 col5\" >hour</th> \n",
       "        <th class=\"col_heading level0 col6\" >day_of_week</th> \n",
       "        <th class=\"col_heading level0 col7\" >day_of_month</th> \n",
       "        <th class=\"col_heading level0 col8\" >week</th> \n",
       "        <th class=\"col_heading level0 col9\" >month</th> \n",
       "        <th class=\"col_heading level0 col10\" >year</th> \n",
       "        <th class=\"col_heading level0 col11\" >H_Distance</th> \n",
       "    </tr></thead> \n",
       "<tbody>    <tr> \n",
       "        <th id=\"T_c82736ae_a264_11e9_9ce1_3c77e65484f4level0_row0\" class=\"row_heading level0 row0\" >pickup_longitude</th> \n",
       "        <td id=\"T_c82736ae_a264_11e9_9ce1_3c77e65484f4row0_col0\" class=\"data row0 col0\" >1</td> \n",
       "        <td id=\"T_c82736ae_a264_11e9_9ce1_3c77e65484f4row0_col1\" class=\"data row0 col1\" >0.167505</td> \n",
       "        <td id=\"T_c82736ae_a264_11e9_9ce1_3c77e65484f4row0_col2\" class=\"data row0 col2\" >0.31371</td> \n",
       "        <td id=\"T_c82736ae_a264_11e9_9ce1_3c77e65484f4row0_col3\" class=\"data row0 col3\" >0.130764</td> \n",
       "        <td id=\"T_c82736ae_a264_11e9_9ce1_3c77e65484f4row0_col4\" class=\"data row0 col4\" >0.0105762</td> \n",
       "        <td id=\"T_c82736ae_a264_11e9_9ce1_3c77e65484f4row0_col5\" class=\"data row0 col5\" >0.0189693</td> \n",
       "        <td id=\"T_c82736ae_a264_11e9_9ce1_3c77e65484f4row0_col6\" class=\"data row0 col6\" >0.0268096</td> \n",
       "        <td id=\"T_c82736ae_a264_11e9_9ce1_3c77e65484f4row0_col7\" class=\"data row0 col7\" >0.00625769</td> \n",
       "        <td id=\"T_c82736ae_a264_11e9_9ce1_3c77e65484f4row0_col8\" class=\"data row0 col8\" >0.0176209</td> \n",
       "        <td id=\"T_c82736ae_a264_11e9_9ce1_3c77e65484f4row0_col9\" class=\"data row0 col9\" >0.0169242</td> \n",
       "        <td id=\"T_c82736ae_a264_11e9_9ce1_3c77e65484f4row0_col10\" class=\"data row0 col10\" >0.00571657</td> \n",
       "        <td id=\"T_c82736ae_a264_11e9_9ce1_3c77e65484f4row0_col11\" class=\"data row0 col11\" >0.528954</td> \n",
       "    </tr>    <tr> \n",
       "        <th id=\"T_c82736ae_a264_11e9_9ce1_3c77e65484f4level0_row1\" class=\"row_heading level0 row1\" >pickup_latitude</th> \n",
       "        <td id=\"T_c82736ae_a264_11e9_9ce1_3c77e65484f4row1_col0\" class=\"data row1 col0\" >0.167505</td> \n",
       "        <td id=\"T_c82736ae_a264_11e9_9ce1_3c77e65484f4row1_col1\" class=\"data row1 col1\" >1</td> \n",
       "        <td id=\"T_c82736ae_a264_11e9_9ce1_3c77e65484f4row1_col2\" class=\"data row1 col2\" >0.1427</td> \n",
       "        <td id=\"T_c82736ae_a264_11e9_9ce1_3c77e65484f4row1_col3\" class=\"data row1 col3\" >0.444648</td> \n",
       "        <td id=\"T_c82736ae_a264_11e9_9ce1_3c77e65484f4row1_col4\" class=\"data row1 col4\" >0.0235318</td> \n",
       "        <td id=\"T_c82736ae_a264_11e9_9ce1_3c77e65484f4row1_col5\" class=\"data row1 col5\" >0.0241912</td> \n",
       "        <td id=\"T_c82736ae_a264_11e9_9ce1_3c77e65484f4row1_col6\" class=\"data row1 col6\" >0.0306391</td> \n",
       "        <td id=\"T_c82736ae_a264_11e9_9ce1_3c77e65484f4row1_col7\" class=\"data row1 col7\" >0.0212845</td> \n",
       "        <td id=\"T_c82736ae_a264_11e9_9ce1_3c77e65484f4row1_col8\" class=\"data row1 col8\" >0.0223248</td> \n",
       "        <td id=\"T_c82736ae_a264_11e9_9ce1_3c77e65484f4row1_col9\" class=\"data row1 col9\" >0.0210635</td> \n",
       "        <td id=\"T_c82736ae_a264_11e9_9ce1_3c77e65484f4row1_col10\" class=\"data row1 col10\" >0.0333778</td> \n",
       "        <td id=\"T_c82736ae_a264_11e9_9ce1_3c77e65484f4row1_col11\" class=\"data row1 col11\" >0.0714421</td> \n",
       "    </tr>    <tr> \n",
       "        <th id=\"T_c82736ae_a264_11e9_9ce1_3c77e65484f4level0_row2\" class=\"row_heading level0 row2\" >dropoff_longitude</th> \n",
       "        <td id=\"T_c82736ae_a264_11e9_9ce1_3c77e65484f4row2_col0\" class=\"data row2 col0\" >0.31371</td> \n",
       "        <td id=\"T_c82736ae_a264_11e9_9ce1_3c77e65484f4row2_col1\" class=\"data row2 col1\" >0.1427</td> \n",
       "        <td id=\"T_c82736ae_a264_11e9_9ce1_3c77e65484f4row2_col2\" class=\"data row2 col2\" >1</td> \n",
       "        <td id=\"T_c82736ae_a264_11e9_9ce1_3c77e65484f4row2_col3\" class=\"data row2 col3\" >0.235937</td> \n",
       "        <td id=\"T_c82736ae_a264_11e9_9ce1_3c77e65484f4row2_col4\" class=\"data row2 col4\" >0.0178654</td> \n",
       "        <td id=\"T_c82736ae_a264_11e9_9ce1_3c77e65484f4row2_col5\" class=\"data row2 col5\" >0.0623241</td> \n",
       "        <td id=\"T_c82736ae_a264_11e9_9ce1_3c77e65484f4row2_col6\" class=\"data row2 col6\" >0.0249899</td> \n",
       "        <td id=\"T_c82736ae_a264_11e9_9ce1_3c77e65484f4row2_col7\" class=\"data row2 col7\" >0.0109758</td> \n",
       "        <td id=\"T_c82736ae_a264_11e9_9ce1_3c77e65484f4row2_col8\" class=\"data row2 col8\" >0.0204272</td> \n",
       "        <td id=\"T_c82736ae_a264_11e9_9ce1_3c77e65484f4row2_col9\" class=\"data row2 col9\" >0.0182791</td> \n",
       "        <td id=\"T_c82736ae_a264_11e9_9ce1_3c77e65484f4row2_col10\" class=\"data row2 col10\" >0.0132798</td> \n",
       "        <td id=\"T_c82736ae_a264_11e9_9ce1_3c77e65484f4row2_col11\" class=\"data row2 col11\" >0.309356</td> \n",
       "    </tr>    <tr> \n",
       "        <th id=\"T_c82736ae_a264_11e9_9ce1_3c77e65484f4level0_row3\" class=\"row_heading level0 row3\" >dropoff_latitude</th> \n",
       "        <td id=\"T_c82736ae_a264_11e9_9ce1_3c77e65484f4row3_col0\" class=\"data row3 col0\" >0.130764</td> \n",
       "        <td id=\"T_c82736ae_a264_11e9_9ce1_3c77e65484f4row3_col1\" class=\"data row3 col1\" >0.444648</td> \n",
       "        <td id=\"T_c82736ae_a264_11e9_9ce1_3c77e65484f4row3_col2\" class=\"data row3 col2\" >0.235937</td> \n",
       "        <td id=\"T_c82736ae_a264_11e9_9ce1_3c77e65484f4row3_col3\" class=\"data row3 col3\" >1</td> \n",
       "        <td id=\"T_c82736ae_a264_11e9_9ce1_3c77e65484f4row3_col4\" class=\"data row3 col4\" >0.00955993</td> \n",
       "        <td id=\"T_c82736ae_a264_11e9_9ce1_3c77e65484f4row3_col5\" class=\"data row3 col5\" >0.0223828</td> \n",
       "        <td id=\"T_c82736ae_a264_11e9_9ce1_3c77e65484f4row3_col6\" class=\"data row3 col6\" >0.0253852</td> \n",
       "        <td id=\"T_c82736ae_a264_11e9_9ce1_3c77e65484f4row3_col7\" class=\"data row3 col7\" >0.00106414</td> \n",
       "        <td id=\"T_c82736ae_a264_11e9_9ce1_3c77e65484f4row3_col8\" class=\"data row3 col8\" >0.0199351</td> \n",
       "        <td id=\"T_c82736ae_a264_11e9_9ce1_3c77e65484f4row3_col9\" class=\"data row3 col9\" >0.0193404</td> \n",
       "        <td id=\"T_c82736ae_a264_11e9_9ce1_3c77e65484f4row3_col10\" class=\"data row3 col10\" >0.029105</td> \n",
       "        <td id=\"T_c82736ae_a264_11e9_9ce1_3c77e65484f4row3_col11\" class=\"data row3 col11\" >0.119786</td> \n",
       "    </tr>    <tr> \n",
       "        <th id=\"T_c82736ae_a264_11e9_9ce1_3c77e65484f4level0_row4\" class=\"row_heading level0 row4\" >passenger_count</th> \n",
       "        <td id=\"T_c82736ae_a264_11e9_9ce1_3c77e65484f4row4_col0\" class=\"data row4 col0\" >0.0105762</td> \n",
       "        <td id=\"T_c82736ae_a264_11e9_9ce1_3c77e65484f4row4_col1\" class=\"data row4 col1\" >0.0235318</td> \n",
       "        <td id=\"T_c82736ae_a264_11e9_9ce1_3c77e65484f4row4_col2\" class=\"data row4 col2\" >0.0178654</td> \n",
       "        <td id=\"T_c82736ae_a264_11e9_9ce1_3c77e65484f4row4_col3\" class=\"data row4 col3\" >0.00955993</td> \n",
       "        <td id=\"T_c82736ae_a264_11e9_9ce1_3c77e65484f4row4_col4\" class=\"data row4 col4\" >1</td> \n",
       "        <td id=\"T_c82736ae_a264_11e9_9ce1_3c77e65484f4row4_col5\" class=\"data row4 col5\" >0.0332818</td> \n",
       "        <td id=\"T_c82736ae_a264_11e9_9ce1_3c77e65484f4row4_col6\" class=\"data row4 col6\" >0.00635001</td> \n",
       "        <td id=\"T_c82736ae_a264_11e9_9ce1_3c77e65484f4row4_col7\" class=\"data row4 col7\" >0.0355267</td> \n",
       "        <td id=\"T_c82736ae_a264_11e9_9ce1_3c77e65484f4row4_col8\" class=\"data row4 col8\" >0.0612535</td> \n",
       "        <td id=\"T_c82736ae_a264_11e9_9ce1_3c77e65484f4row4_col9\" class=\"data row4 col9\" >0.0607393</td> \n",
       "        <td id=\"T_c82736ae_a264_11e9_9ce1_3c77e65484f4row4_col10\" class=\"data row4 col10\" >0.0129831</td> \n",
       "        <td id=\"T_c82736ae_a264_11e9_9ce1_3c77e65484f4row4_col11\" class=\"data row4 col11\" >0.0279968</td> \n",
       "    </tr>    <tr> \n",
       "        <th id=\"T_c82736ae_a264_11e9_9ce1_3c77e65484f4level0_row5\" class=\"row_heading level0 row5\" >hour</th> \n",
       "        <td id=\"T_c82736ae_a264_11e9_9ce1_3c77e65484f4row5_col0\" class=\"data row5 col0\" >0.0189693</td> \n",
       "        <td id=\"T_c82736ae_a264_11e9_9ce1_3c77e65484f4row5_col1\" class=\"data row5 col1\" >0.0241912</td> \n",
       "        <td id=\"T_c82736ae_a264_11e9_9ce1_3c77e65484f4row5_col2\" class=\"data row5 col2\" >0.0623241</td> \n",
       "        <td id=\"T_c82736ae_a264_11e9_9ce1_3c77e65484f4row5_col3\" class=\"data row5 col3\" >0.0223828</td> \n",
       "        <td id=\"T_c82736ae_a264_11e9_9ce1_3c77e65484f4row5_col4\" class=\"data row5 col4\" >0.0332818</td> \n",
       "        <td id=\"T_c82736ae_a264_11e9_9ce1_3c77e65484f4row5_col5\" class=\"data row5 col5\" >1</td> \n",
       "        <td id=\"T_c82736ae_a264_11e9_9ce1_3c77e65484f4row5_col6\" class=\"data row5 col6\" >0.129198</td> \n",
       "        <td id=\"T_c82736ae_a264_11e9_9ce1_3c77e65484f4row5_col7\" class=\"data row5 col7\" >0.0483618</td> \n",
       "        <td id=\"T_c82736ae_a264_11e9_9ce1_3c77e65484f4row5_col8\" class=\"data row5 col8\" >0.166698</td> \n",
       "        <td id=\"T_c82736ae_a264_11e9_9ce1_3c77e65484f4row5_col9\" class=\"data row5 col9\" >0.161429</td> \n",
       "        <td id=\"T_c82736ae_a264_11e9_9ce1_3c77e65484f4row5_col10\" class=\"data row5 col10\" >0.0126432</td> \n",
       "        <td id=\"T_c82736ae_a264_11e9_9ce1_3c77e65484f4row5_col11\" class=\"data row5 col11\" >0.0197777</td> \n",
       "    </tr>    <tr> \n",
       "        <th id=\"T_c82736ae_a264_11e9_9ce1_3c77e65484f4level0_row6\" class=\"row_heading level0 row6\" >day_of_week</th> \n",
       "        <td id=\"T_c82736ae_a264_11e9_9ce1_3c77e65484f4row6_col0\" class=\"data row6 col0\" >0.0268096</td> \n",
       "        <td id=\"T_c82736ae_a264_11e9_9ce1_3c77e65484f4row6_col1\" class=\"data row6 col1\" >0.0306391</td> \n",
       "        <td id=\"T_c82736ae_a264_11e9_9ce1_3c77e65484f4row6_col2\" class=\"data row6 col2\" >0.0249899</td> \n",
       "        <td id=\"T_c82736ae_a264_11e9_9ce1_3c77e65484f4row6_col3\" class=\"data row6 col3\" >0.0253852</td> \n",
       "        <td id=\"T_c82736ae_a264_11e9_9ce1_3c77e65484f4row6_col4\" class=\"data row6 col4\" >0.00635001</td> \n",
       "        <td id=\"T_c82736ae_a264_11e9_9ce1_3c77e65484f4row6_col5\" class=\"data row6 col5\" >0.129198</td> \n",
       "        <td id=\"T_c82736ae_a264_11e9_9ce1_3c77e65484f4row6_col6\" class=\"data row6 col6\" >1</td> \n",
       "        <td id=\"T_c82736ae_a264_11e9_9ce1_3c77e65484f4row6_col7\" class=\"data row6 col7\" >0.0705047</td> \n",
       "        <td id=\"T_c82736ae_a264_11e9_9ce1_3c77e65484f4row6_col8\" class=\"data row6 col8\" >0.18006</td> \n",
       "        <td id=\"T_c82736ae_a264_11e9_9ce1_3c77e65484f4row6_col9\" class=\"data row6 col9\" >0.165385</td> \n",
       "        <td id=\"T_c82736ae_a264_11e9_9ce1_3c77e65484f4row6_col10\" class=\"data row6 col10\" >0.0147182</td> \n",
       "        <td id=\"T_c82736ae_a264_11e9_9ce1_3c77e65484f4row6_col11\" class=\"data row6 col11\" >0.000615338</td> \n",
       "    </tr>    <tr> \n",
       "        <th id=\"T_c82736ae_a264_11e9_9ce1_3c77e65484f4level0_row7\" class=\"row_heading level0 row7\" >day_of_month</th> \n",
       "        <td id=\"T_c82736ae_a264_11e9_9ce1_3c77e65484f4row7_col0\" class=\"data row7 col0\" >0.00625769</td> \n",
       "        <td id=\"T_c82736ae_a264_11e9_9ce1_3c77e65484f4row7_col1\" class=\"data row7 col1\" >0.0212845</td> \n",
       "        <td id=\"T_c82736ae_a264_11e9_9ce1_3c77e65484f4row7_col2\" class=\"data row7 col2\" >0.0109758</td> \n",
       "        <td id=\"T_c82736ae_a264_11e9_9ce1_3c77e65484f4row7_col3\" class=\"data row7 col3\" >0.00106414</td> \n",
       "        <td id=\"T_c82736ae_a264_11e9_9ce1_3c77e65484f4row7_col4\" class=\"data row7 col4\" >0.0355267</td> \n",
       "        <td id=\"T_c82736ae_a264_11e9_9ce1_3c77e65484f4row7_col5\" class=\"data row7 col5\" >0.0483618</td> \n",
       "        <td id=\"T_c82736ae_a264_11e9_9ce1_3c77e65484f4row7_col6\" class=\"data row7 col6\" >0.0705047</td> \n",
       "        <td id=\"T_c82736ae_a264_11e9_9ce1_3c77e65484f4row7_col7\" class=\"data row7 col7\" >1</td> \n",
       "        <td id=\"T_c82736ae_a264_11e9_9ce1_3c77e65484f4row7_col8\" class=\"data row7 col8\" >0.00337627</td> \n",
       "        <td id=\"T_c82736ae_a264_11e9_9ce1_3c77e65484f4row7_col9\" class=\"data row7 col9\" >0.0776814</td> \n",
       "        <td id=\"T_c82736ae_a264_11e9_9ce1_3c77e65484f4row7_col10\" class=\"data row7 col10\" >0.114427</td> \n",
       "        <td id=\"T_c82736ae_a264_11e9_9ce1_3c77e65484f4row7_col11\" class=\"data row7 col11\" >0.00910044</td> \n",
       "    </tr>    <tr> \n",
       "        <th id=\"T_c82736ae_a264_11e9_9ce1_3c77e65484f4level0_row8\" class=\"row_heading level0 row8\" >week</th> \n",
       "        <td id=\"T_c82736ae_a264_11e9_9ce1_3c77e65484f4row8_col0\" class=\"data row8 col0\" >0.0176209</td> \n",
       "        <td id=\"T_c82736ae_a264_11e9_9ce1_3c77e65484f4row8_col1\" class=\"data row8 col1\" >0.0223248</td> \n",
       "        <td id=\"T_c82736ae_a264_11e9_9ce1_3c77e65484f4row8_col2\" class=\"data row8 col2\" >0.0204272</td> \n",
       "        <td id=\"T_c82736ae_a264_11e9_9ce1_3c77e65484f4row8_col3\" class=\"data row8 col3\" >0.0199351</td> \n",
       "        <td id=\"T_c82736ae_a264_11e9_9ce1_3c77e65484f4row8_col4\" class=\"data row8 col4\" >0.0612535</td> \n",
       "        <td id=\"T_c82736ae_a264_11e9_9ce1_3c77e65484f4row8_col5\" class=\"data row8 col5\" >0.166698</td> \n",
       "        <td id=\"T_c82736ae_a264_11e9_9ce1_3c77e65484f4row8_col6\" class=\"data row8 col6\" >0.18006</td> \n",
       "        <td id=\"T_c82736ae_a264_11e9_9ce1_3c77e65484f4row8_col7\" class=\"data row8 col7\" >0.00337627</td> \n",
       "        <td id=\"T_c82736ae_a264_11e9_9ce1_3c77e65484f4row8_col8\" class=\"data row8 col8\" >1</td> \n",
       "        <td id=\"T_c82736ae_a264_11e9_9ce1_3c77e65484f4row8_col9\" class=\"data row8 col9\" >0.979438</td> \n",
       "        <td id=\"T_c82736ae_a264_11e9_9ce1_3c77e65484f4row8_col10\" class=\"data row8 col10\" >0.191375</td> \n",
       "        <td id=\"T_c82736ae_a264_11e9_9ce1_3c77e65484f4row8_col11\" class=\"data row8 col11\" >0.0256275</td> \n",
       "    </tr>    <tr> \n",
       "        <th id=\"T_c82736ae_a264_11e9_9ce1_3c77e65484f4level0_row9\" class=\"row_heading level0 row9\" >month</th> \n",
       "        <td id=\"T_c82736ae_a264_11e9_9ce1_3c77e65484f4row9_col0\" class=\"data row9 col0\" >0.0169242</td> \n",
       "        <td id=\"T_c82736ae_a264_11e9_9ce1_3c77e65484f4row9_col1\" class=\"data row9 col1\" >0.0210635</td> \n",
       "        <td id=\"T_c82736ae_a264_11e9_9ce1_3c77e65484f4row9_col2\" class=\"data row9 col2\" >0.0182791</td> \n",
       "        <td id=\"T_c82736ae_a264_11e9_9ce1_3c77e65484f4row9_col3\" class=\"data row9 col3\" >0.0193404</td> \n",
       "        <td id=\"T_c82736ae_a264_11e9_9ce1_3c77e65484f4row9_col4\" class=\"data row9 col4\" >0.0607393</td> \n",
       "        <td id=\"T_c82736ae_a264_11e9_9ce1_3c77e65484f4row9_col5\" class=\"data row9 col5\" >0.161429</td> \n",
       "        <td id=\"T_c82736ae_a264_11e9_9ce1_3c77e65484f4row9_col6\" class=\"data row9 col6\" >0.165385</td> \n",
       "        <td id=\"T_c82736ae_a264_11e9_9ce1_3c77e65484f4row9_col7\" class=\"data row9 col7\" >0.0776814</td> \n",
       "        <td id=\"T_c82736ae_a264_11e9_9ce1_3c77e65484f4row9_col8\" class=\"data row9 col8\" >0.979438</td> \n",
       "        <td id=\"T_c82736ae_a264_11e9_9ce1_3c77e65484f4row9_col9\" class=\"data row9 col9\" >1</td> \n",
       "        <td id=\"T_c82736ae_a264_11e9_9ce1_3c77e65484f4row9_col10\" class=\"data row9 col10\" >0.204099</td> \n",
       "        <td id=\"T_c82736ae_a264_11e9_9ce1_3c77e65484f4row9_col11\" class=\"data row9 col11\" >0.0234611</td> \n",
       "    </tr>    <tr> \n",
       "        <th id=\"T_c82736ae_a264_11e9_9ce1_3c77e65484f4level0_row10\" class=\"row_heading level0 row10\" >year</th> \n",
       "        <td id=\"T_c82736ae_a264_11e9_9ce1_3c77e65484f4row10_col0\" class=\"data row10 col0\" >0.00571657</td> \n",
       "        <td id=\"T_c82736ae_a264_11e9_9ce1_3c77e65484f4row10_col1\" class=\"data row10 col1\" >0.0333778</td> \n",
       "        <td id=\"T_c82736ae_a264_11e9_9ce1_3c77e65484f4row10_col2\" class=\"data row10 col2\" >0.0132798</td> \n",
       "        <td id=\"T_c82736ae_a264_11e9_9ce1_3c77e65484f4row10_col3\" class=\"data row10 col3\" >0.029105</td> \n",
       "        <td id=\"T_c82736ae_a264_11e9_9ce1_3c77e65484f4row10_col4\" class=\"data row10 col4\" >0.0129831</td> \n",
       "        <td id=\"T_c82736ae_a264_11e9_9ce1_3c77e65484f4row10_col5\" class=\"data row10 col5\" >0.0126432</td> \n",
       "        <td id=\"T_c82736ae_a264_11e9_9ce1_3c77e65484f4row10_col6\" class=\"data row10 col6\" >0.0147182</td> \n",
       "        <td id=\"T_c82736ae_a264_11e9_9ce1_3c77e65484f4row10_col7\" class=\"data row10 col7\" >0.114427</td> \n",
       "        <td id=\"T_c82736ae_a264_11e9_9ce1_3c77e65484f4row10_col8\" class=\"data row10 col8\" >0.191375</td> \n",
       "        <td id=\"T_c82736ae_a264_11e9_9ce1_3c77e65484f4row10_col9\" class=\"data row10 col9\" >0.204099</td> \n",
       "        <td id=\"T_c82736ae_a264_11e9_9ce1_3c77e65484f4row10_col10\" class=\"data row10 col10\" >1</td> \n",
       "        <td id=\"T_c82736ae_a264_11e9_9ce1_3c77e65484f4row10_col11\" class=\"data row10 col11\" >0.0087997</td> \n",
       "    </tr>    <tr> \n",
       "        <th id=\"T_c82736ae_a264_11e9_9ce1_3c77e65484f4level0_row11\" class=\"row_heading level0 row11\" >H_Distance</th> \n",
       "        <td id=\"T_c82736ae_a264_11e9_9ce1_3c77e65484f4row11_col0\" class=\"data row11 col0\" >0.528954</td> \n",
       "        <td id=\"T_c82736ae_a264_11e9_9ce1_3c77e65484f4row11_col1\" class=\"data row11 col1\" >0.0714421</td> \n",
       "        <td id=\"T_c82736ae_a264_11e9_9ce1_3c77e65484f4row11_col2\" class=\"data row11 col2\" >0.309356</td> \n",
       "        <td id=\"T_c82736ae_a264_11e9_9ce1_3c77e65484f4row11_col3\" class=\"data row11 col3\" >0.119786</td> \n",
       "        <td id=\"T_c82736ae_a264_11e9_9ce1_3c77e65484f4row11_col4\" class=\"data row11 col4\" >0.0279968</td> \n",
       "        <td id=\"T_c82736ae_a264_11e9_9ce1_3c77e65484f4row11_col5\" class=\"data row11 col5\" >0.0197777</td> \n",
       "        <td id=\"T_c82736ae_a264_11e9_9ce1_3c77e65484f4row11_col6\" class=\"data row11 col6\" >0.000615338</td> \n",
       "        <td id=\"T_c82736ae_a264_11e9_9ce1_3c77e65484f4row11_col7\" class=\"data row11 col7\" >0.00910044</td> \n",
       "        <td id=\"T_c82736ae_a264_11e9_9ce1_3c77e65484f4row11_col8\" class=\"data row11 col8\" >0.0256275</td> \n",
       "        <td id=\"T_c82736ae_a264_11e9_9ce1_3c77e65484f4row11_col9\" class=\"data row11 col9\" >0.0234611</td> \n",
       "        <td id=\"T_c82736ae_a264_11e9_9ce1_3c77e65484f4row11_col10\" class=\"data row11 col10\" >0.0087997</td> \n",
       "        <td id=\"T_c82736ae_a264_11e9_9ce1_3c77e65484f4row11_col11\" class=\"data row11 col11\" >1</td> \n",
       "    </tr></tbody> \n",
       "</table> "
      ],
      "text/plain": [
       "<pandas.io.formats.style.Styler at 0x1e52abcba20>"
      ]
     },
     "execution_count": 774,
     "metadata": {},
     "output_type": "execute_result"
    },
    {
     "data": {
      "image/png": "[encoded data removed]",
      "text/plain": [
       "<Figure size 504x360 with 2 Axes>"
      ]
     },
     "metadata": {
      "needs_background": "light"
     },
     "output_type": "display_data"
    }
   ],
   "source": [
    "#correlation analysis for numeric variables\n",
    "#let us do the same analysis for test data\n",
    "f, ax = plt.subplots(figsize=(7, 5))\n",
    "\n",
    "#Generate correlation matrix\n",
    "corr = cab_data_test.corr()\n",
    "\n",
    "#Plot using seaborn library\n",
    "sns.heatmap(corr, mask=np.zeros_like(corr, dtype=np.bool), cmap=sns.diverging_palette(220, 10, as_cmap=True),\n",
    "            square=True, ax=ax)\n",
    "# Create correlation matrix\n",
    "corr_matrix = cab_data_test.corr().abs()\n",
    "corr_matrix.style.background_gradient(cmap='GnBu_r')"
   ]
  },
  {
   "cell_type": "code",
   "execution_count": 775,
   "metadata": {},
   "outputs": [
    {
     "name": "stdout",
     "output_type": "stream",
     "text": [
      "(15570, 11)\n",
      "(9829, 10)\n"
     ]
    }
   ],
   "source": [
    "# same conclutions can be drawn for test data thus applying same opperations on test data as well\n",
    "cab_data=cab_data.drop([\"day_of_month\",\"day_of_week\"],axis=1)\n",
    "cab_data_test=cab_data_test.drop([\"day_of_month\",\"day_of_week\"],axis=1)\n",
    "print(cab_data.shape)\n",
    "print(cab_data_test.shape)"
   ]
  },
  {
   "cell_type": "code",
   "execution_count": 776,
   "metadata": {},
   "outputs": [],
   "source": [
    "#rearranging the colums for test data\n",
    "cab_data = cab_data.reindex(columns=[\"pickup_longitude\",\"pickup_latitude\",\"dropoff_longitude\",\"dropoff_latitude\",\"passenger_count\",\"hour\",\"week\",\"month\",\"year\",\"H_Distance\",\"fare_amount\"])"
   ]
  },
  {
   "cell_type": "markdown",
   "metadata": {},
   "source": [
    "# Modelling"
   ]
  },
  {
   "cell_type": "code",
   "execution_count": 777,
   "metadata": {},
   "outputs": [
    {
     "name": "stdout",
     "output_type": "stream",
     "text": [
      "(15570, 10)\n",
      "(15570,)\n"
     ]
    }
   ],
   "source": [
    "#for modling lets first crat test and train split out of train data given to us for acuracy\n",
    "X=cab_data.iloc[:,:10]\n",
    "Y=cab_data.iloc[:,10].values\n",
    "print(X.shape)\n",
    "print(Y.shape)"
   ]
  },
  {
   "cell_type": "code",
   "execution_count": 803,
   "metadata": {},
   "outputs": [],
   "source": [
    " from sklearn.model_selection import train_test_split\n",
    "train_X, val_X, train_y, val_y =train_test_split(X,Y,test_size=0.1,random_state=0)"
   ]
  },
  {
   "cell_type": "code",
   "execution_count": 804,
   "metadata": {},
   "outputs": [
    {
     "name": "stdout",
     "output_type": "stream",
     "text": [
      "   actual  pred\n",
      "0     5.0   7.0\n",
      "1     8.0   7.0\n",
      "2     6.5   7.0\n",
      "3     3.7   7.0\n",
      "4     5.5   7.0\n",
      "MEAN ABSOLUTE ERROR:28.902476909886172%\n",
      "Accuracy: 71.1 %.\n"
     ]
    }
   ],
   "source": [
    "#applying discetion tree modle for regression first\n",
    "#Load libraries\n",
    "from sklearn.model_selection import train_test_split\n",
    "from sklearn.tree import DecisionTreeRegressor\n",
    "from sklearn import metrics\n",
    "#Decision tree for regression\n",
    "# Train the model using the training sets\n",
    "fit_DT = DecisionTreeRegressor(max_depth=2).fit(train_X, train_y)\n",
    "# make the predictions by the model\n",
    "predictions_DT = fit_DT.predict(val_X).round(0)\n",
    "# data frame for actual and predicted values\n",
    "df_dt = pd.DataFrame({'actual': val_y, 'pred': predictions_DT})\n",
    "print(df_dt.head())\n",
    "#Calculate MAPE\n",
    "def MAPE(y_true, y_pred): \n",
    "    mape = np.mean(np.abs(( y_true - y_pred) / y_true))*100\n",
    "    return mape\n",
    "mape=MAPE(val_y, predictions_DT)\n",
    "# Calculate and display accuracy\n",
    "accuracy = 100 - np.mean(mape)\n",
    "# errors and accuracy \n",
    "print(\"MEAN ABSOLUTE ERROR:\"+str(mape)+\"%\")\n",
    "print('Accuracy:', round(accuracy, 2), '%.')"
   ]
  },
  {
   "cell_type": "code",
   "execution_count": 815,
   "metadata": {},
   "outputs": [],
   "source": [
    "#MEAN ABSOLUTE ERROR:28.902476909886172%\n",
    "#Accuracy: 71.1 %"
   ]
  },
  {
   "cell_type": "code",
   "execution_count": 805,
   "metadata": {},
   "outputs": [
    {
     "name": "stderr",
     "output_type": "stream",
     "text": [
      "C:\\Users\\hp\\Anaconda3\\lib\\site-packages\\scipy\\stats\\stats.py:1713: FutureWarning: Using a non-tuple sequence for multidimensional indexing is deprecated; use `arr[tuple(seq)]` instead of `arr[seq]`. In the future this will be interpreted as an array index, `arr[np.array(seq)]`, which will result either in an error or a different result.\n",
      "  return np.add.reduce(sorted[indexer] * weights, axis=axis) / sumval\n"
     ]
    },
    {
     "data": {
      "text/plain": [
       "<seaborn.axisgrid.FacetGrid at 0x1e52abda128>"
      ]
     },
     "execution_count": 805,
     "metadata": {},
     "output_type": "execute_result"
    },
    {
     "data": {
      "image/png": "[encoded data removed]",
      "text/plain": [
       "<Figure size 360x360 with 1 Axes>"
      ]
     },
     "metadata": {
      "needs_background": "light"
     },
     "output_type": "display_data"
    }
   ],
   "source": [
    "sns.lmplot(x='actual', y='pred', data = df_dt ,fit_reg = True)"
   ]
  },
  {
   "cell_type": "code",
   "execution_count": 806,
   "metadata": {},
   "outputs": [
    {
     "name": "stdout",
     "output_type": "stream",
     "text": [
      "MEAN ABSOLUTE ERROR:28.29157149054831%\n",
      "Accuracy: 71.71 %.\n"
     ]
    }
   ],
   "source": [
    "# linear \n",
    "from sklearn.linear_model import LinearRegression\n",
    "lr_model = LinearRegression().fit(train_X, train_y)\n",
    "#predict\n",
    "lr_prediction = lr_model.predict(val_X)\n",
    "df_lr = pd.DataFrame({'actual':val_y, 'prediction':lr_prediction})\n",
    "# Calculate and display accuracy\n",
    "mape=MAPE(val_y, lr_prediction)\n",
    "# Calculate and display accuracy\n",
    "accuracy = 100 - np.mean(mape)\n",
    "# errors and accuracy \n",
    "print(\"MEAN ABSOLUTE ERROR:\"+str(mape)+\"%\")\n",
    "print('Accuracy:', round(accuracy, 2), '%.')\n"
   ]
  },
  {
   "cell_type": "code",
   "execution_count": 816,
   "metadata": {},
   "outputs": [],
   "source": [
    "#MEAN ABSOLUTE ERROR:28.29157149054831%\n",
    "#Accuracy: 71.71 %"
   ]
  },
  {
   "cell_type": "code",
   "execution_count": 807,
   "metadata": {},
   "outputs": [],
   "source": [
    "# Linear Regression OLS\n",
    "#Import libraries for LR\n",
    "import statsmodels.api as sm\n",
    "# Train the model using the training sets\n",
    "model = sm.OLS(train_y,train_X.astype(float)).fit()"
   ]
  },
  {
   "cell_type": "code",
   "execution_count": 808,
   "metadata": {},
   "outputs": [
    {
     "data": {
      "text/html": [
       "<table class=\"simpletable\">\n",
       "<caption>OLS Regression Results</caption>\n",
       "<tr>\n",
       "  <th>Dep. Variable:</th>            <td>y</td>        <th>  R-squared:         </th> <td>   0.837</td> \n",
       "</tr>\n",
       "<tr>\n",
       "  <th>Model:</th>                   <td>OLS</td>       <th>  Adj. R-squared:    </th> <td>   0.837</td> \n",
       "</tr>\n",
       "<tr>\n",
       "  <th>Method:</th>             <td>Least Squares</td>  <th>  F-statistic:       </th> <td>   7174.</td> \n",
       "</tr>\n",
       "<tr>\n",
       "  <th>Date:</th>             <td>Wed, 10 Jul 2019</td> <th>  Prob (F-statistic):</th>  <td>  0.00</td>  \n",
       "</tr>\n",
       "<tr>\n",
       "  <th>Time:</th>                 <td>01:28:36</td>     <th>  Log-Likelihood:    </th> <td> -44797.</td> \n",
       "</tr>\n",
       "<tr>\n",
       "  <th>No. Observations:</th>      <td> 14013</td>      <th>  AIC:               </th> <td>8.961e+04</td>\n",
       "</tr>\n",
       "<tr>\n",
       "  <th>Df Residuals:</th>          <td> 14003</td>      <th>  BIC:               </th> <td>8.969e+04</td>\n",
       "</tr>\n",
       "<tr>\n",
       "  <th>Df Model:</th>              <td>    10</td>      <th>                     </th>     <td> </td>    \n",
       "</tr>\n",
       "<tr>\n",
       "  <th>Covariance Type:</th>      <td>nonrobust</td>    <th>                     </th>     <td> </td>    \n",
       "</tr>\n",
       "</table>\n",
       "<table class=\"simpletable\">\n",
       "<tr>\n",
       "          <td></td>             <th>coef</th>     <th>std err</th>      <th>t</th>      <th>P>|t|</th>  <th>[0.025</th>    <th>0.975]</th>  \n",
       "</tr>\n",
       "<tr>\n",
       "  <th>pickup_longitude</th>  <td>  -16.1390</td> <td>    1.235</td> <td>  -13.065</td> <td> 0.000</td> <td>  -18.560</td> <td>  -13.718</td>\n",
       "</tr>\n",
       "<tr>\n",
       "  <th>pickup_latitude</th>   <td>  -31.6878</td> <td>    1.754</td> <td>  -18.071</td> <td> 0.000</td> <td>  -35.125</td> <td>  -28.251</td>\n",
       "</tr>\n",
       "<tr>\n",
       "  <th>dropoff_longitude</th> <td>   -4.4253</td> <td>    1.223</td> <td>   -3.618</td> <td> 0.000</td> <td>   -6.823</td> <td>   -2.028</td>\n",
       "</tr>\n",
       "<tr>\n",
       "  <th>dropoff_latitude</th>  <td>   -5.7024</td> <td>    1.639</td> <td>   -3.478</td> <td> 0.001</td> <td>   -8.916</td> <td>   -2.489</td>\n",
       "</tr>\n",
       "<tr>\n",
       "  <th>passenger_count</th>   <td>    0.0428</td> <td>    0.039</td> <td>    1.086</td> <td> 0.278</td> <td>   -0.034</td> <td>    0.120</td>\n",
       "</tr>\n",
       "<tr>\n",
       "  <th>hour</th>              <td>    0.0063</td> <td>    0.008</td> <td>    0.822</td> <td> 0.411</td> <td>   -0.009</td> <td>    0.021</td>\n",
       "</tr>\n",
       "<tr>\n",
       "  <th>week</th>              <td>    0.0171</td> <td>    0.015</td> <td>    1.169</td> <td> 0.242</td> <td>   -0.012</td> <td>    0.046</td>\n",
       "</tr>\n",
       "<tr>\n",
       "  <th>month</th>             <td>    0.0328</td> <td>    0.063</td> <td>    0.518</td> <td> 0.605</td> <td>   -0.091</td> <td>    0.157</td>\n",
       "</tr>\n",
       "<tr>\n",
       "  <th>year</th>              <td>    0.5833</td> <td>    0.027</td> <td>   21.625</td> <td> 0.000</td> <td>    0.530</td> <td>    0.636</td>\n",
       "</tr>\n",
       "<tr>\n",
       "  <th>H_Distance</th>        <td>    1.7899</td> <td>    0.013</td> <td>  141.356</td> <td> 0.000</td> <td>    1.765</td> <td>    1.815</td>\n",
       "</tr>\n",
       "</table>\n",
       "<table class=\"simpletable\">\n",
       "<tr>\n",
       "  <th>Omnibus:</th>       <td>12183.980</td> <th>  Durbin-Watson:     </th>   <td>   1.988</td>  \n",
       "</tr>\n",
       "<tr>\n",
       "  <th>Prob(Omnibus):</th>  <td> 0.000</td>   <th>  Jarque-Bera (JB):  </th> <td>34449751.245</td>\n",
       "</tr>\n",
       "<tr>\n",
       "  <th>Skew:</th>           <td>-2.752</td>   <th>  Prob(JB):          </th>   <td>    0.00</td>  \n",
       "</tr>\n",
       "<tr>\n",
       "  <th>Kurtosis:</th>       <td>245.841</td>  <th>  Cond. No.          </th>   <td>5.35e+03</td>  \n",
       "</tr>\n",
       "</table><br/><br/>Warnings:<br/>[1] Standard Errors assume that the covariance matrix of the errors is correctly specified.<br/>[2] The condition number is large, 5.35e+03. This might indicate that there are<br/>strong multicollinearity or other numerical problems."
      ],
      "text/plain": [
       "<class 'statsmodels.iolib.summary.Summary'>\n",
       "\"\"\"\n",
       "                            OLS Regression Results                            \n",
       "==============================================================================\n",
       "Dep. Variable:                      y   R-squared:                       0.837\n",
       "Model:                            OLS   Adj. R-squared:                  0.837\n",
       "Method:                 Least Squares   F-statistic:                     7174.\n",
       "Date:                Wed, 10 Jul 2019   Prob (F-statistic):               0.00\n",
       "Time:                        01:28:36   Log-Likelihood:                -44797.\n",
       "No. Observations:               14013   AIC:                         8.961e+04\n",
       "Df Residuals:                   14003   BIC:                         8.969e+04\n",
       "Df Model:                          10                                         \n",
       "Covariance Type:            nonrobust                                         \n",
       "=====================================================================================\n",
       "                        coef    std err          t      P>|t|      [0.025      0.975]\n",
       "-------------------------------------------------------------------------------------\n",
       "pickup_longitude    -16.1390      1.235    -13.065      0.000     -18.560     -13.718\n",
       "pickup_latitude     -31.6878      1.754    -18.071      0.000     -35.125     -28.251\n",
       "dropoff_longitude    -4.4253      1.223     -3.618      0.000      -6.823      -2.028\n",
       "dropoff_latitude     -5.7024      1.639     -3.478      0.001      -8.916      -2.489\n",
       "passenger_count       0.0428      0.039      1.086      0.278      -0.034       0.120\n",
       "hour                  0.0063      0.008      0.822      0.411      -0.009       0.021\n",
       "week                  0.0171      0.015      1.169      0.242      -0.012       0.046\n",
       "month                 0.0328      0.063      0.518      0.605      -0.091       0.157\n",
       "year                  0.5833      0.027     21.625      0.000       0.530       0.636\n",
       "H_Distance            1.7899      0.013    141.356      0.000       1.765       1.815\n",
       "==============================================================================\n",
       "Omnibus:                    12183.980   Durbin-Watson:                   1.988\n",
       "Prob(Omnibus):                  0.000   Jarque-Bera (JB):         34449751.245\n",
       "Skew:                          -2.752   Prob(JB):                         0.00\n",
       "Kurtosis:                     245.841   Cond. No.                     5.35e+03\n",
       "==============================================================================\n",
       "\n",
       "Warnings:\n",
       "[1] Standard Errors assume that the covariance matrix of the errors is correctly specified.\n",
       "[2] The condition number is large, 5.35e+03. This might indicate that there are\n",
       "strong multicollinearity or other numerical problems.\n",
       "\"\"\""
      ]
     },
     "execution_count": 808,
     "metadata": {},
     "output_type": "execute_result"
    }
   ],
   "source": [
    "#Summary of model\n",
    "model.summary()\n"
   ]
  },
  {
   "cell_type": "code",
   "execution_count": 809,
   "metadata": {},
   "outputs": [
    {
     "name": "stdout",
     "output_type": "stream",
     "text": [
      "      actual      pred\n",
      "9133     5.0  6.201580\n",
      "9697     8.0  9.540742\n",
      "6831     6.5  4.492493\n",
      "1114     3.7  6.066121\n",
      "2854     5.5  9.176965\n",
      "MEAN ABSOLUTE ERROR:27.346006302880166%\n",
      "Accuracy: 72.65 %.\n"
     ]
    }
   ],
   "source": [
    "# make the predictions by the model\n",
    "predictions_LR = model.predict(val_X)\n",
    "# data frame for actual and predicted values\n",
    "df_LR = pd.DataFrame({'actual': val_y, 'pred': predictions_LR})\n",
    "print(df_LR.head())\n",
    "# Calculate and display accuracy\n",
    "mape=MAPE(val_y,predictions_LR)\n",
    "accuracy = 100 - np.mean(mape) \n",
    "print(\"MEAN ABSOLUTE ERROR:\"+str(mape)+\"%\")\n",
    "print('Accuracy:', round(accuracy, 2), '%.')"
   ]
  },
  {
   "cell_type": "code",
   "execution_count": 817,
   "metadata": {},
   "outputs": [],
   "source": [
    "#MEAN ABSOLUTE ERROR:27.346006302880166%\n",
    "#Accuracy: 72.65 %."
   ]
  },
  {
   "cell_type": "code",
   "execution_count": 810,
   "metadata": {},
   "outputs": [
    {
     "name": "stderr",
     "output_type": "stream",
     "text": [
      "C:\\Users\\hp\\Anaconda3\\lib\\site-packages\\scipy\\stats\\stats.py:1713: FutureWarning: Using a non-tuple sequence for multidimensional indexing is deprecated; use `arr[tuple(seq)]` instead of `arr[seq]`. In the future this will be interpreted as an array index, `arr[np.array(seq)]`, which will result either in an error or a different result.\n",
      "  return np.add.reduce(sorted[indexer] * weights, axis=axis) / sumval\n"
     ]
    },
    {
     "data": {
      "text/plain": [
       "<seaborn.axisgrid.FacetGrid at 0x1e52b0efa58>"
      ]
     },
     "execution_count": 810,
     "metadata": {},
     "output_type": "execute_result"
    },
    {
     "data": {
      "image/png": "[encoded data removed]",
      "text/plain": [
       "<Figure size 360x360 with 1 Axes>"
      ]
     },
     "metadata": {
      "needs_background": "light"
     },
     "output_type": "display_data"
    }
   ],
   "source": [
    "sns.lmplot(x='actual', y='pred', data = df_LR ,fit_reg = True)"
   ]
  },
  {
   "cell_type": "code",
   "execution_count": 811,
   "metadata": {},
   "outputs": [
    {
     "name": "stdout",
     "output_type": "stream",
     "text": [
      "   actual      pred\n",
      "0     5.0  6.426116\n",
      "1     8.0  9.677449\n",
      "2     6.5  4.902457\n",
      "3     3.7  4.123403\n",
      "4     5.5  7.329475\n",
      "MEAN ABSOLUTE ERROR:18.65273337278679%\n",
      "Accuracy: 81.35 %.\n"
     ]
    }
   ],
   "source": [
    "#Random forest for regression\n",
    "#Import libraries for RF\n",
    "from sklearn.ensemble import RandomForestRegressor\n",
    "# Train the model using the training sets\n",
    "RFmodel = RandomForestRegressor(n_estimators=200,min_samples_leaf=5,random_state=0).fit(train_X, train_y)\n",
    "# make the predictions by the model\n",
    "RF_Predictions = RFmodel.predict(val_X)\n",
    "# data frame for actual and predicted values\n",
    "df_RF = pd.DataFrame({'actual': val_y, 'pred': RF_Predictions})\n",
    "print(df_RF.head())\n",
    "# Calculate and display accuracy\n",
    "def MAPE(y_true, y_pred): \n",
    "    mape = np.mean(np.abs(( y_true - y_pred) / y_true))*100\n",
    "    return mape\n",
    "\n",
    "mape=MAPE(val_y,RF_Predictions)\n",
    "accuracy = 100 - np.mean(mape) \n",
    "print(\"MEAN ABSOLUTE ERROR:\"+str(mape)+\"%\")\n",
    "print('Accuracy:', round(accuracy, 2), '%.')\n"
   ]
  },
  {
   "cell_type": "code",
   "execution_count": 818,
   "metadata": {},
   "outputs": [],
   "source": [
    "#MEAN ABSOLUTE ERROR:18.65273337278679%\n",
    "#Accuracy: 81.35 %"
   ]
  },
  {
   "cell_type": "code",
   "execution_count": 813,
   "metadata": {},
   "outputs": [
    {
     "data": {
      "text/plain": [
       "<seaborn.axisgrid.FacetGrid at 0x1e52b195160>"
      ]
     },
     "execution_count": 813,
     "metadata": {},
     "output_type": "execute_result"
    },
    {
     "data": {
      "image/png": "[encoded data removed]",
      "text/plain": [
       "<Figure size 360x360 with 1 Axes>"
      ]
     },
     "metadata": {
      "needs_background": "light"
     },
     "output_type": "display_data"
    }
   ],
   "source": [
    "# df_RF.plot.scatter(x='actual', y='pred') \n",
    "sns.lmplot(x='actual', y='pred', data = df_RF ,fit_reg = True)\n"
   ]
  },
  {
   "cell_type": "code",
   "execution_count": 814,
   "metadata": {},
   "outputs": [
    {
     "name": "stdout",
     "output_type": "stream",
     "text": [
      "Index(['pickup_longitude', 'pickup_latitude', 'dropoff_longitude',\n",
      "       'dropoff_latitude', 'passenger_count', 'hour', 'week', 'month', 'year',\n",
      "       'H_Distance', 'predicted_fare'],\n",
      "      dtype='object')\n",
      "(9829, 11)\n",
      "pickup_longitude     float64\n",
      "pickup_latitude      float64\n",
      "dropoff_longitude    float64\n",
      "dropoff_latitude     float64\n",
      "passenger_count        int64\n",
      "hour                   int64\n",
      "week                   int64\n",
      "month                  int64\n",
      "year                   int64\n",
      "H_Distance           float64\n",
      "predicted_fare       float64\n",
      "dtype: object\n"
     ]
    }
   ],
   "source": [
    "#random forrest will be best fit\n",
    "#for test data lets predict fare\n",
    "X_test=cab_data_test\n",
    "print(X_test.columns)\n",
    "print(X_test.shape)\n",
    "print(X_test.dtypes)"
   ]
  },
  {
   "cell_type": "code",
   "execution_count": 802,
   "metadata": {},
   "outputs": [
    {
     "ename": "ValueError",
     "evalue": "Number of features of the model must match the input. Model n_features is 10 and input n_features is 11 ",
     "output_type": "error",
     "traceback": [
      "\u001b[1;31m---------------------------------------------------------------------------\u001b[0m",
      "\u001b[1;31mValueError\u001b[0m                                Traceback (most recent call last)",
      "\u001b[1;32m<ipython-input-802-0ac4644151e7>\u001b[0m in \u001b[0;36m<module>\u001b[1;34m\u001b[0m\n\u001b[0;32m      2\u001b[0m \u001b[0mRegression\u001b[0m\u001b[1;33m.\u001b[0m\u001b[0mfit\u001b[0m\u001b[1;33m(\u001b[0m\u001b[0mX\u001b[0m\u001b[1;33m,\u001b[0m\u001b[0mY\u001b[0m\u001b[1;33m)\u001b[0m\u001b[1;33m\u001b[0m\u001b[1;33m\u001b[0m\u001b[0m\n\u001b[0;32m      3\u001b[0m \u001b[1;31m# make the predictions by the model\u001b[0m\u001b[1;33m\u001b[0m\u001b[1;33m\u001b[0m\u001b[1;33m\u001b[0m\u001b[0m\n\u001b[1;32m----> 4\u001b[1;33m \u001b[0my_test_pred\u001b[0m\u001b[1;33m=\u001b[0m\u001b[0mRegression\u001b[0m\u001b[1;33m.\u001b[0m\u001b[0mpredict\u001b[0m\u001b[1;33m(\u001b[0m\u001b[0mX_test\u001b[0m\u001b[1;33m)\u001b[0m\u001b[1;33m\u001b[0m\u001b[1;33m\u001b[0m\u001b[0m\n\u001b[0m\u001b[0;32m      5\u001b[0m \u001b[0mprint\u001b[0m\u001b[1;33m(\u001b[0m\u001b[0my_test_pred\u001b[0m\u001b[1;33m)\u001b[0m\u001b[1;33m\u001b[0m\u001b[1;33m\u001b[0m\u001b[0m\n\u001b[0;32m      6\u001b[0m \u001b[1;31m# data frame for predicted values\u001b[0m\u001b[1;33m\u001b[0m\u001b[1;33m\u001b[0m\u001b[1;33m\u001b[0m\u001b[0m\n",
      "\u001b[1;32m~\\Anaconda3\\lib\\site-packages\\sklearn\\ensemble\\forest.py\u001b[0m in \u001b[0;36mpredict\u001b[1;34m(self, X)\u001b[0m\n\u001b[0;32m    691\u001b[0m         \u001b[0mcheck_is_fitted\u001b[0m\u001b[1;33m(\u001b[0m\u001b[0mself\u001b[0m\u001b[1;33m,\u001b[0m \u001b[1;34m'estimators_'\u001b[0m\u001b[1;33m)\u001b[0m\u001b[1;33m\u001b[0m\u001b[1;33m\u001b[0m\u001b[0m\n\u001b[0;32m    692\u001b[0m         \u001b[1;31m# Check data\u001b[0m\u001b[1;33m\u001b[0m\u001b[1;33m\u001b[0m\u001b[1;33m\u001b[0m\u001b[0m\n\u001b[1;32m--> 693\u001b[1;33m         \u001b[0mX\u001b[0m \u001b[1;33m=\u001b[0m \u001b[0mself\u001b[0m\u001b[1;33m.\u001b[0m\u001b[0m_validate_X_predict\u001b[0m\u001b[1;33m(\u001b[0m\u001b[0mX\u001b[0m\u001b[1;33m)\u001b[0m\u001b[1;33m\u001b[0m\u001b[1;33m\u001b[0m\u001b[0m\n\u001b[0m\u001b[0;32m    694\u001b[0m \u001b[1;33m\u001b[0m\u001b[0m\n\u001b[0;32m    695\u001b[0m         \u001b[1;31m# Assign chunk of trees to jobs\u001b[0m\u001b[1;33m\u001b[0m\u001b[1;33m\u001b[0m\u001b[1;33m\u001b[0m\u001b[0m\n",
      "\u001b[1;32m~\\Anaconda3\\lib\\site-packages\\sklearn\\ensemble\\forest.py\u001b[0m in \u001b[0;36m_validate_X_predict\u001b[1;34m(self, X)\u001b[0m\n\u001b[0;32m    357\u001b[0m                                  \"call `fit` before exploiting the model.\")\n\u001b[0;32m    358\u001b[0m \u001b[1;33m\u001b[0m\u001b[0m\n\u001b[1;32m--> 359\u001b[1;33m         \u001b[1;32mreturn\u001b[0m \u001b[0mself\u001b[0m\u001b[1;33m.\u001b[0m\u001b[0mestimators_\u001b[0m\u001b[1;33m[\u001b[0m\u001b[1;36m0\u001b[0m\u001b[1;33m]\u001b[0m\u001b[1;33m.\u001b[0m\u001b[0m_validate_X_predict\u001b[0m\u001b[1;33m(\u001b[0m\u001b[0mX\u001b[0m\u001b[1;33m,\u001b[0m \u001b[0mcheck_input\u001b[0m\u001b[1;33m=\u001b[0m\u001b[1;32mTrue\u001b[0m\u001b[1;33m)\u001b[0m\u001b[1;33m\u001b[0m\u001b[1;33m\u001b[0m\u001b[0m\n\u001b[0m\u001b[0;32m    360\u001b[0m \u001b[1;33m\u001b[0m\u001b[0m\n\u001b[0;32m    361\u001b[0m     \u001b[1;33m@\u001b[0m\u001b[0mproperty\u001b[0m\u001b[1;33m\u001b[0m\u001b[1;33m\u001b[0m\u001b[0m\n",
      "\u001b[1;32m~\\Anaconda3\\lib\\site-packages\\sklearn\\tree\\tree.py\u001b[0m in \u001b[0;36m_validate_X_predict\u001b[1;34m(self, X, check_input)\u001b[0m\n\u001b[0;32m    400\u001b[0m                              \u001b[1;34m\"match the input. Model n_features is %s and \"\u001b[0m\u001b[1;33m\u001b[0m\u001b[1;33m\u001b[0m\u001b[0m\n\u001b[0;32m    401\u001b[0m                              \u001b[1;34m\"input n_features is %s \"\u001b[0m\u001b[1;33m\u001b[0m\u001b[1;33m\u001b[0m\u001b[0m\n\u001b[1;32m--> 402\u001b[1;33m                              % (self.n_features_, n_features))\n\u001b[0m\u001b[0;32m    403\u001b[0m \u001b[1;33m\u001b[0m\u001b[0m\n\u001b[0;32m    404\u001b[0m         \u001b[1;32mreturn\u001b[0m \u001b[0mX\u001b[0m\u001b[1;33m\u001b[0m\u001b[1;33m\u001b[0m\u001b[0m\n",
      "\u001b[1;31mValueError\u001b[0m: Number of features of the model must match the input. Model n_features is 10 and input n_features is 11 "
     ]
    }
   ],
   "source": [
    "Regression =RandomForestRegressor(n_estimators=70,min_samples_leaf=5,random_state=0)\n",
    "Regression.fit(X,Y)\n",
    "# make the predictions by the model\n",
    "y_test_pred=Regression.predict(X_test)\n",
    "print(y_test_pred)\n",
    "# data frame for predicted values\n",
    "cab_data_test[\"predicted_fare\"]=y_test_pred\n",
    "cab_data_test.head()"
   ]
  },
  {
   "cell_type": "code",
   "execution_count": 790,
   "metadata": {},
   "outputs": [],
   "source": [
    "#output\n",
    "cab_data_test.to_csv(\"py_output.csv\", index= False)"
   ]
  },
  {
   "cell_type": "code",
   "execution_count": null,
   "metadata": {},
   "outputs": [],
   "source": []
  }
 ],
 "metadata": {
  "kernelspec": {
   "display_name": "Python 3",
   "language": "python",
   "name": "python3"
  },
  "language_info": {
   "codemirror_mode": {
    "name": "ipython",
    "version": 3
   },
   "file_extension": ".py",
   "mimetype": "text/x-python",
   "name": "python",
   "nbconvert_exporter": "python",
   "pygments_lexer": "ipython3",
   "version": "3.7.1"
  }
 },
 "nbformat": 4,
 "nbformat_minor": 2
}
